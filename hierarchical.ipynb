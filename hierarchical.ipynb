{
 "cells": [
  {
   "cell_type": "code",
   "execution_count": 7,
   "metadata": {},
   "outputs": [],
   "source": [
    "import pandas as pd\n",
    "from sklearn.preprocessing import StandardScaler\n",
    "from sklearn.decomposition import PCA\n",
    "from sklearn.cluster import AgglomerativeClustering\n",
    "import hvplot.pandas\n",
    "from sklearn.cluster import KMeans\n",
    "import plotly.express as px\n",
    "import plotly.figure_factory as ff"
   ]
  },
  {
   "cell_type": "code",
   "execution_count": 2,
   "metadata": {},
   "outputs": [
    {
     "data": {
      "text/html": [
       "<div>\n",
       "<style scoped>\n",
       "    .dataframe tbody tr th:only-of-type {\n",
       "        vertical-align: middle;\n",
       "    }\n",
       "\n",
       "    .dataframe tbody tr th {\n",
       "        vertical-align: top;\n",
       "    }\n",
       "\n",
       "    .dataframe thead th {\n",
       "        text-align: right;\n",
       "    }\n",
       "</style>\n",
       "<table border=\"1\" class=\"dataframe\">\n",
       "  <thead>\n",
       "    <tr style=\"text-align: right;\">\n",
       "      <th></th>\n",
       "      <th>Unnamed: 0</th>\n",
       "      <th>points</th>\n",
       "      <th>price</th>\n",
       "      <th>tokens</th>\n",
       "      <th>filtered_tokens</th>\n",
       "      <th>1</th>\n",
       "      <th>2</th>\n",
       "      <th>3</th>\n",
       "      <th>4</th>\n",
       "      <th>5</th>\n",
       "      <th>6</th>\n",
       "      <th>7</th>\n",
       "      <th>8</th>\n",
       "      <th>9</th>\n",
       "      <th>10</th>\n",
       "    </tr>\n",
       "  </thead>\n",
       "  <tbody>\n",
       "    <tr>\n",
       "      <th>0</th>\n",
       "      <td>0</td>\n",
       "      <td>96.0</td>\n",
       "      <td>235.0</td>\n",
       "      <td>60</td>\n",
       "      <td>36</td>\n",
       "      <td>27.01</td>\n",
       "      <td>160.04</td>\n",
       "      <td>232.36</td>\n",
       "      <td>284.01</td>\n",
       "      <td>330.79</td>\n",
       "      <td>390.68</td>\n",
       "      <td>453.30</td>\n",
       "      <td>465.82</td>\n",
       "      <td>634.20</td>\n",
       "      <td>666.69</td>\n",
       "    </tr>\n",
       "    <tr>\n",
       "      <th>1</th>\n",
       "      <td>1</td>\n",
       "      <td>96.0</td>\n",
       "      <td>110.0</td>\n",
       "      <td>51</td>\n",
       "      <td>31</td>\n",
       "      <td>114.81</td>\n",
       "      <td>331.40</td>\n",
       "      <td>416.43</td>\n",
       "      <td>467.58</td>\n",
       "      <td>557.09</td>\n",
       "      <td>594.55</td>\n",
       "      <td>696.50</td>\n",
       "      <td>796.53</td>\n",
       "      <td>1046.62</td>\n",
       "      <td>1064.32</td>\n",
       "    </tr>\n",
       "    <tr>\n",
       "      <th>2</th>\n",
       "      <td>2</td>\n",
       "      <td>96.0</td>\n",
       "      <td>90.0</td>\n",
       "      <td>47</td>\n",
       "      <td>30</td>\n",
       "      <td>100.77</td>\n",
       "      <td>264.68</td>\n",
       "      <td>321.51</td>\n",
       "      <td>494.02</td>\n",
       "      <td>611.57</td>\n",
       "      <td>642.89</td>\n",
       "      <td>762.72</td>\n",
       "      <td>883.98</td>\n",
       "      <td>997.49</td>\n",
       "      <td>1197.75</td>\n",
       "    </tr>\n",
       "    <tr>\n",
       "      <th>3</th>\n",
       "      <td>3</td>\n",
       "      <td>96.0</td>\n",
       "      <td>65.0</td>\n",
       "      <td>62</td>\n",
       "      <td>43</td>\n",
       "      <td>15.46</td>\n",
       "      <td>42.38</td>\n",
       "      <td>131.71</td>\n",
       "      <td>153.24</td>\n",
       "      <td>163.56</td>\n",
       "      <td>253.81</td>\n",
       "      <td>331.40</td>\n",
       "      <td>467.58</td>\n",
       "      <td>562.57</td>\n",
       "      <td>671.44</td>\n",
       "    </tr>\n",
       "    <tr>\n",
       "      <th>4</th>\n",
       "      <td>4</td>\n",
       "      <td>95.0</td>\n",
       "      <td>66.0</td>\n",
       "      <td>66</td>\n",
       "      <td>37</td>\n",
       "      <td>15.46</td>\n",
       "      <td>171.61</td>\n",
       "      <td>181.76</td>\n",
       "      <td>315.36</td>\n",
       "      <td>331.40</td>\n",
       "      <td>484.79</td>\n",
       "      <td>495.26</td>\n",
       "      <td>658.48</td>\n",
       "      <td>883.78</td>\n",
       "      <td>903.92</td>\n",
       "    </tr>\n",
       "  </tbody>\n",
       "</table>\n",
       "</div>"
      ],
      "text/plain": [
       "   Unnamed: 0  points  price  tokens  filtered_tokens       1       2       3  \\\n",
       "0           0    96.0  235.0      60               36   27.01  160.04  232.36   \n",
       "1           1    96.0  110.0      51               31  114.81  331.40  416.43   \n",
       "2           2    96.0   90.0      47               30  100.77  264.68  321.51   \n",
       "3           3    96.0   65.0      62               43   15.46   42.38  131.71   \n",
       "4           4    95.0   66.0      66               37   15.46  171.61  181.76   \n",
       "\n",
       "        4       5       6       7       8        9       10  \n",
       "0  284.01  330.79  390.68  453.30  465.82   634.20   666.69  \n",
       "1  467.58  557.09  594.55  696.50  796.53  1046.62  1064.32  \n",
       "2  494.02  611.57  642.89  762.72  883.98   997.49  1197.75  \n",
       "3  153.24  163.56  253.81  331.40  467.58   562.57   671.44  \n",
       "4  315.36  331.40  484.79  495.26  658.48   883.78   903.92  "
      ]
     },
     "execution_count": 2,
     "metadata": {},
     "output_type": "execute_result"
    }
   ],
   "source": [
    "#load data\n",
    "file ='Resources/winemag-data_cleaned_ML.csv'\n",
    "df_winemag = pd.read_csv(file)\n",
    "df_winemag.head()"
   ]
  },
  {
   "cell_type": "code",
   "execution_count": 3,
   "metadata": {},
   "outputs": [
    {
     "name": "stdout",
     "output_type": "stream",
     "text": [
      "[[-1.73184607  2.54963494  5.5567966   1.64210227  1.57223423 -0.75178487\n",
      "  -0.42046162 -0.55222824 -0.74140081 -0.89618799 -0.97346965 -1.02736135\n",
      "  -1.21877969 -0.96471562 -1.08247689]\n",
      " [-1.73182083  2.54963494  2.11590749  0.87934583  0.86504836 -0.0206304\n",
      "   0.57661473  0.32771015  0.02615464 -0.05375412 -0.28777017 -0.2762091\n",
      "  -0.26892422  0.14884296 -0.06765353]\n",
      " [-1.73179558  2.54963494  1.56536524  0.54034296  0.72361119 -0.1375485\n",
      "   0.18839733 -0.12605066  0.13670738  0.14905542 -0.12518267 -0.07168072\n",
      "  -0.01775292  0.01618903  0.27288386]\n",
      " [-1.73177033  2.54963494  0.87718742  1.81160371  2.56229445 -0.84796749\n",
      "  -1.10507883 -1.03338106 -1.28818528 -1.51872541 -1.43382031 -1.40386406\n",
      "  -1.21372467 -1.15812089 -1.07035403]\n",
      " [-1.73174509  2.23911315  0.90471453  2.15060657  1.71367141 -0.84796749\n",
      "  -0.35314035 -0.79411928 -0.61031804 -0.89391718 -0.65693864 -0.89776288\n",
      "  -0.66542734 -0.29083475 -0.47702321]]\n"
     ]
    }
   ],
   "source": [
    "# Standardize data with standardscaler\n",
    "winemag_scaled = StandardScaler().fit_transform(df_winemag)\n",
    "print(winemag_scaled[0:5])"
   ]
  },
  {
   "cell_type": "code",
   "execution_count": 4,
   "metadata": {},
   "outputs": [],
   "source": [
    "# Initialize PCA model\n",
    "pca = PCA(n_components=2)"
   ]
  },
  {
   "cell_type": "code",
   "execution_count": 5,
   "metadata": {},
   "outputs": [],
   "source": [
    "# Get two principal components for the iris data.\n",
    "winemag_pca = pca.fit_transform(winemag_scaled)"
   ]
  },
  {
   "cell_type": "code",
   "execution_count": 6,
   "metadata": {},
   "outputs": [
    {
     "data": {
      "text/html": [
       "<div>\n",
       "<style scoped>\n",
       "    .dataframe tbody tr th:only-of-type {\n",
       "        vertical-align: middle;\n",
       "    }\n",
       "\n",
       "    .dataframe tbody tr th {\n",
       "        vertical-align: top;\n",
       "    }\n",
       "\n",
       "    .dataframe thead th {\n",
       "        text-align: right;\n",
       "    }\n",
       "</style>\n",
       "<table border=\"1\" class=\"dataframe\">\n",
       "  <thead>\n",
       "    <tr style=\"text-align: right;\">\n",
       "      <th></th>\n",
       "      <th>principal component 1</th>\n",
       "      <th>principal component 2</th>\n",
       "    </tr>\n",
       "  </thead>\n",
       "  <tbody>\n",
       "    <tr>\n",
       "      <th>0</th>\n",
       "      <td>-4.148745</td>\n",
       "      <td>3.818628</td>\n",
       "    </tr>\n",
       "    <tr>\n",
       "      <th>1</th>\n",
       "      <td>-1.023128</td>\n",
       "      <td>2.857306</td>\n",
       "    </tr>\n",
       "    <tr>\n",
       "      <th>2</th>\n",
       "      <td>-0.764040</td>\n",
       "      <td>2.192565</td>\n",
       "    </tr>\n",
       "    <tr>\n",
       "      <th>3</th>\n",
       "      <td>-5.126196</td>\n",
       "      <td>1.828859</td>\n",
       "    </tr>\n",
       "    <tr>\n",
       "      <th>4</th>\n",
       "      <td>-3.277387</td>\n",
       "      <td>1.939953</td>\n",
       "    </tr>\n",
       "  </tbody>\n",
       "</table>\n",
       "</div>"
      ],
      "text/plain": [
       "   principal component 1  principal component 2\n",
       "0              -4.148745               3.818628\n",
       "1              -1.023128               2.857306\n",
       "2              -0.764040               2.192565\n",
       "3              -5.126196               1.828859\n",
       "4              -3.277387               1.939953"
      ]
     },
     "execution_count": 6,
     "metadata": {},
     "output_type": "execute_result"
    }
   ],
   "source": [
    "# Transform PCA data to a DataFrame\n",
    "df_winemag_pca = pd.DataFrame(data=winemag_pca, columns=[\"principal component 1\", \"principal component 2\"])\n",
    "df_winemag_pca.head()"
   ]
  },
  {
   "cell_type": "code",
   "execution_count": 9,
   "metadata": {},
   "outputs": [
    {
     "data": {
      "text/plain": [
       "principal component 1    float64\n",
       "principal component 2    float64\n",
       "dtype: object"
      ]
     },
     "execution_count": 9,
     "metadata": {},
     "output_type": "execute_result"
    }
   ],
   "source": [
    "# list dataframe data types\n",
    "df_winemag_pca.dtypes"
   ]
  },
  {
   "cell_type": "code",
   "execution_count": 11,
   "metadata": {},
   "outputs": [
    {
     "ename": "MemoryError",
     "evalue": "Unable to allocate array with shape (9408010206,) and data type float64",
     "output_type": "error",
     "traceback": [
      "\u001b[1;31m---------------------------------------------------------------------------\u001b[0m",
      "\u001b[1;31mMemoryError\u001b[0m                               Traceback (most recent call last)",
      "\u001b[1;32m<ipython-input-11-20046a887317>\u001b[0m in \u001b[0;36m<module>\u001b[1;34m\u001b[0m\n\u001b[0;32m      1\u001b[0m \u001b[1;31m# Create the dendrogram\u001b[0m\u001b[1;33m\u001b[0m\u001b[1;33m\u001b[0m\u001b[1;33m\u001b[0m\u001b[0m\n\u001b[1;32m----> 2\u001b[1;33m \u001b[0mfig\u001b[0m \u001b[1;33m=\u001b[0m \u001b[0mff\u001b[0m\u001b[1;33m.\u001b[0m\u001b[0mcreate_dendrogram\u001b[0m\u001b[1;33m(\u001b[0m\u001b[0mdf_winemag_pca\u001b[0m\u001b[1;33m,\u001b[0m \u001b[0mcolor_threshold\u001b[0m\u001b[1;33m=\u001b[0m\u001b[1;36m0\u001b[0m\u001b[1;33m)\u001b[0m\u001b[1;33m\u001b[0m\u001b[1;33m\u001b[0m\u001b[0m\n\u001b[0m\u001b[0;32m      3\u001b[0m \u001b[0mfig\u001b[0m\u001b[1;33m.\u001b[0m\u001b[0mupdate_layout\u001b[0m\u001b[1;33m(\u001b[0m\u001b[0mwidth\u001b[0m\u001b[1;33m=\u001b[0m\u001b[1;36m8000\u001b[0m\u001b[1;33m,\u001b[0m \u001b[0mheight\u001b[0m\u001b[1;33m=\u001b[0m\u001b[1;36m5000\u001b[0m\u001b[1;33m)\u001b[0m\u001b[1;33m\u001b[0m\u001b[1;33m\u001b[0m\u001b[0m\n\u001b[0;32m      4\u001b[0m \u001b[0mfig\u001b[0m\u001b[1;33m.\u001b[0m\u001b[0mshow\u001b[0m\u001b[1;33m(\u001b[0m\u001b[1;33m)\u001b[0m\u001b[1;33m\u001b[0m\u001b[1;33m\u001b[0m\u001b[0m\n",
      "\u001b[1;32m~\\anaconda3\\envs\\mlenv\\lib\\site-packages\\plotly\\figure_factory\\_dendrogram.py\u001b[0m in \u001b[0;36mcreate_dendrogram\u001b[1;34m(X, orientation, labels, colorscale, distfun, linkagefun, hovertext, color_threshold)\u001b[0m\n\u001b[0;32m    104\u001b[0m         \u001b[0mlinkagefun\u001b[0m\u001b[1;33m=\u001b[0m\u001b[0mlinkagefun\u001b[0m\u001b[1;33m,\u001b[0m\u001b[1;33m\u001b[0m\u001b[1;33m\u001b[0m\u001b[0m\n\u001b[0;32m    105\u001b[0m         \u001b[0mhovertext\u001b[0m\u001b[1;33m=\u001b[0m\u001b[0mhovertext\u001b[0m\u001b[1;33m,\u001b[0m\u001b[1;33m\u001b[0m\u001b[1;33m\u001b[0m\u001b[0m\n\u001b[1;32m--> 106\u001b[1;33m         \u001b[0mcolor_threshold\u001b[0m\u001b[1;33m=\u001b[0m\u001b[0mcolor_threshold\u001b[0m\u001b[1;33m,\u001b[0m\u001b[1;33m\u001b[0m\u001b[1;33m\u001b[0m\u001b[0m\n\u001b[0m\u001b[0;32m    107\u001b[0m     )\n\u001b[0;32m    108\u001b[0m \u001b[1;33m\u001b[0m\u001b[0m\n",
      "\u001b[1;32m~\\anaconda3\\envs\\mlenv\\lib\\site-packages\\plotly\\figure_factory\\_dendrogram.py\u001b[0m in \u001b[0;36m__init__\u001b[1;34m(self, X, orientation, labels, colorscale, width, height, xaxis, yaxis, distfun, linkagefun, hovertext, color_threshold)\u001b[0m\n\u001b[0;32m    151\u001b[0m \u001b[1;33m\u001b[0m\u001b[0m\n\u001b[0;32m    152\u001b[0m         (dd_traces, xvals, yvals, ordered_labels, leaves) = self.get_dendrogram_traces(\n\u001b[1;32m--> 153\u001b[1;33m             \u001b[0mX\u001b[0m\u001b[1;33m,\u001b[0m \u001b[0mcolorscale\u001b[0m\u001b[1;33m,\u001b[0m \u001b[0mdistfun\u001b[0m\u001b[1;33m,\u001b[0m \u001b[0mlinkagefun\u001b[0m\u001b[1;33m,\u001b[0m \u001b[0mhovertext\u001b[0m\u001b[1;33m,\u001b[0m \u001b[0mcolor_threshold\u001b[0m\u001b[1;33m\u001b[0m\u001b[1;33m\u001b[0m\u001b[0m\n\u001b[0m\u001b[0;32m    154\u001b[0m         )\n\u001b[0;32m    155\u001b[0m \u001b[1;33m\u001b[0m\u001b[0m\n",
      "\u001b[1;32m~\\anaconda3\\envs\\mlenv\\lib\\site-packages\\plotly\\figure_factory\\_dendrogram.py\u001b[0m in \u001b[0;36mget_dendrogram_traces\u001b[1;34m(self, X, colorscale, distfun, linkagefun, hovertext, color_threshold)\u001b[0m\n\u001b[0;32m    338\u001b[0m \u001b[1;33m\u001b[0m\u001b[0m\n\u001b[0;32m    339\u001b[0m         \"\"\"\n\u001b[1;32m--> 340\u001b[1;33m         \u001b[0md\u001b[0m \u001b[1;33m=\u001b[0m \u001b[0mdistfun\u001b[0m\u001b[1;33m(\u001b[0m\u001b[0mX\u001b[0m\u001b[1;33m)\u001b[0m\u001b[1;33m\u001b[0m\u001b[1;33m\u001b[0m\u001b[0m\n\u001b[0m\u001b[0;32m    341\u001b[0m         \u001b[0mZ\u001b[0m \u001b[1;33m=\u001b[0m \u001b[0mlinkagefun\u001b[0m\u001b[1;33m(\u001b[0m\u001b[0md\u001b[0m\u001b[1;33m)\u001b[0m\u001b[1;33m\u001b[0m\u001b[1;33m\u001b[0m\u001b[0m\n\u001b[0;32m    342\u001b[0m         P = sch.dendrogram(\n",
      "\u001b[1;32m~\\anaconda3\\envs\\mlenv\\lib\\site-packages\\scipy\\spatial\\distance.py\u001b[0m in \u001b[0;36mpdist\u001b[1;34m(X, metric, *args, **kwargs)\u001b[0m\n\u001b[0;32m   1993\u001b[0m     \u001b[0mout\u001b[0m \u001b[1;33m=\u001b[0m \u001b[0mkwargs\u001b[0m\u001b[1;33m.\u001b[0m\u001b[0mpop\u001b[0m\u001b[1;33m(\u001b[0m\u001b[1;34m\"out\"\u001b[0m\u001b[1;33m,\u001b[0m \u001b[1;32mNone\u001b[0m\u001b[1;33m)\u001b[0m\u001b[1;33m\u001b[0m\u001b[1;33m\u001b[0m\u001b[0m\n\u001b[0;32m   1994\u001b[0m     \u001b[1;32mif\u001b[0m \u001b[0mout\u001b[0m \u001b[1;32mis\u001b[0m \u001b[1;32mNone\u001b[0m\u001b[1;33m:\u001b[0m\u001b[1;33m\u001b[0m\u001b[1;33m\u001b[0m\u001b[0m\n\u001b[1;32m-> 1995\u001b[1;33m         \u001b[0mdm\u001b[0m \u001b[1;33m=\u001b[0m \u001b[0mnp\u001b[0m\u001b[1;33m.\u001b[0m\u001b[0mempty\u001b[0m\u001b[1;33m(\u001b[0m\u001b[1;33m(\u001b[0m\u001b[0mm\u001b[0m \u001b[1;33m*\u001b[0m \u001b[1;33m(\u001b[0m\u001b[0mm\u001b[0m \u001b[1;33m-\u001b[0m \u001b[1;36m1\u001b[0m\u001b[1;33m)\u001b[0m\u001b[1;33m)\u001b[0m \u001b[1;33m//\u001b[0m \u001b[1;36m2\u001b[0m\u001b[1;33m,\u001b[0m \u001b[0mdtype\u001b[0m\u001b[1;33m=\u001b[0m\u001b[0mnp\u001b[0m\u001b[1;33m.\u001b[0m\u001b[0mdouble\u001b[0m\u001b[1;33m)\u001b[0m\u001b[1;33m\u001b[0m\u001b[1;33m\u001b[0m\u001b[0m\n\u001b[0m\u001b[0;32m   1996\u001b[0m     \u001b[1;32melse\u001b[0m\u001b[1;33m:\u001b[0m\u001b[1;33m\u001b[0m\u001b[1;33m\u001b[0m\u001b[0m\n\u001b[0;32m   1997\u001b[0m         \u001b[1;32mif\u001b[0m \u001b[0mout\u001b[0m\u001b[1;33m.\u001b[0m\u001b[0mshape\u001b[0m \u001b[1;33m!=\u001b[0m \u001b[1;33m(\u001b[0m\u001b[0mm\u001b[0m \u001b[1;33m*\u001b[0m \u001b[1;33m(\u001b[0m\u001b[0mm\u001b[0m \u001b[1;33m-\u001b[0m \u001b[1;36m1\u001b[0m\u001b[1;33m)\u001b[0m \u001b[1;33m//\u001b[0m \u001b[1;36m2\u001b[0m\u001b[1;33m,\u001b[0m\u001b[1;33m)\u001b[0m\u001b[1;33m:\u001b[0m\u001b[1;33m\u001b[0m\u001b[1;33m\u001b[0m\u001b[0m\n",
      "\u001b[1;31mMemoryError\u001b[0m: Unable to allocate array with shape (9408010206,) and data type float64"
     ]
    }
   ],
   "source": [
    "# Create the dendrogram\n",
    "fig = ff.create_dendrogram(df_winemag_pca, color_threshold=0)\n",
    "fig.update_layout(width=8000, height=5000)\n",
    "fig.show()"
   ]
  },
  {
   "cell_type": "code",
   "execution_count": null,
   "metadata": {},
   "outputs": [],
   "source": []
  }
 ],
 "metadata": {
  "kernelspec": {
   "display_name": "mlenv",
   "language": "python",
   "name": "mlenv"
  },
  "language_info": {
   "codemirror_mode": {
    "name": "ipython",
    "version": 3
   },
   "file_extension": ".py",
   "mimetype": "text/x-python",
   "name": "python",
   "nbconvert_exporter": "python",
   "pygments_lexer": "ipython3",
   "version": "3.7.9"
  }
 },
 "nbformat": 4,
 "nbformat_minor": 4
}
