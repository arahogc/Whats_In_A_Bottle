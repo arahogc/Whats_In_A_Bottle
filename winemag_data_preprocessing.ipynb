{
  "nbformat": 4,
  "nbformat_minor": 0,
  "metadata": {
    "colab": {
      "name": "winemag-data_preprocessing.ipynb",
      "provenance": [],
      "collapsed_sections": [],
      "authorship_tag": "ABX9TyNHRg3y5EF+NuMepxvbsxE/",
      "include_colab_link": true
    },
    "kernelspec": {
      "name": "python3",
      "display_name": "Python 3"
    },
    "language_info": {
      "name": "python"
    }
  },
  "cells": [
    {
      "cell_type": "markdown",
      "metadata": {
        "id": "view-in-github",
        "colab_type": "text"
      },
      "source": [
        "<a href=\"https://colab.research.google.com/github/arahogc/Whats_In_A_Bottle/blob/Jess/winemag_data_preprocessing.ipynb\" target=\"_parent\"><img src=\"https://colab.research.google.com/assets/colab-badge.svg\" alt=\"Open In Colab\"/></a>"
      ]
    },
    {
      "cell_type": "markdown",
      "metadata": {
        "id": "4w2dB6ZZRRcn"
      },
      "source": [
        "# Winemag-data_first150K Data Preprocessing"
      ]
    },
    {
      "cell_type": "markdown",
      "metadata": {
        "id": "goYBnxioSnrL"
      },
      "source": [
        "### **Overview**"
      ]
    },
    {
      "cell_type": "markdown",
      "metadata": {
        "id": "xu4Q7FQLRcsF"
      },
      "source": [
        "**Purpose:** To preprocess the winemag data so that it can be run through a machine learning model to predict price and/or rating (points). \n",
        "\n",
        "**Cleaning To-Do list:**\n",
        "1. Check the null values in each column\n",
        "2. Drop columns with large number of null values (>50% null)\n",
        "3. For columns with null values that we want to keep for model training, fill the na values with something\n",
        "4. Remove rows with null values that we're okay with excluding\n",
        "5. Bin data in columns with more than X unique values -> Need to think about this more because there are a few columns that have a significant number of unique values with a count of 1\n",
        "6. Tokenize the description column\n",
        "7. Remove Stop words from the tokenized description\n",
        "8. Count the number of tokens and add a new column to the df\n",
        "9. Encode the filtered description tokens\n",
        "10. Encode the remaining columns after cleaned and binned\n",
        "11. Export the dataframe as a csv file and store in database\n"
      ]
    },
    {
      "cell_type": "markdown",
      "metadata": {
        "id": "cqXAhMchRKZ7"
      },
      "source": [
        "### **Import Dependencies and Initialize the Spark Session**"
      ]
    },
    {
      "cell_type": "code",
      "metadata": {
        "colab": {
          "base_uri": "https://localhost:8080/"
        },
        "id": "Bj_GwkIXiKTD",
        "outputId": "6fc65f7a-0bf2-495c-ffd7-72d113e61807"
      },
      "source": [
        "# Initialize Spark\n",
        "import os\n",
        "\n",
        "# Find the latest version of spark 2.0  from http://www-us.apache.org/dist/spark/ and enter as the spark version\n",
        "# For example:\n",
        "#spark_version = 'spark-2.4.5'\n",
        "spark_version = 'spark-3.0.2'\n",
        "os.environ['SPARK_VERSION']=spark_version\n",
        "\n",
        "# Install Spark and Java\n",
        "!apt-get update\n",
        "!apt-get install openjdk-11-jdk-headless -qq > /dev/null\n",
        "!wget -q http://www-us.apache.org/dist/spark/$SPARK_VERSION/$SPARK_VERSION-bin-hadoop2.7.tgz\n",
        "!tar xf $SPARK_VERSION-bin-hadoop2.7.tgz\n",
        "!pip install -q findspark\n",
        "\n",
        "# Set Environment Variables\n",
        "import os\n",
        "os.environ[\"JAVA_HOME\"] = \"/usr/lib/jvm/java-11-openjdk-amd64\"\n",
        "os.environ[\"SPARK_HOME\"] = f\"/content/{spark_version}-bin-hadoop2.7\"\n",
        "\n",
        "# Start a SparkSession\n",
        "import findspark\n",
        "findspark.init()"
      ],
      "execution_count": 1,
      "outputs": [
        {
          "output_type": "stream",
          "text": [
            "Get:1 https://cloud.r-project.org/bin/linux/ubuntu bionic-cran40/ InRelease [3,626 B]\n",
            "Ign:2 https://developer.download.nvidia.com/compute/cuda/repos/ubuntu1804/x86_64  InRelease\n",
            "Ign:3 https://developer.download.nvidia.com/compute/machine-learning/repos/ubuntu1804/x86_64  InRelease\n",
            "Get:4 https://developer.download.nvidia.com/compute/cuda/repos/ubuntu1804/x86_64  Release [697 B]\n",
            "Hit:5 https://developer.download.nvidia.com/compute/machine-learning/repos/ubuntu1804/x86_64  Release\n",
            "Hit:6 http://archive.ubuntu.com/ubuntu bionic InRelease\n",
            "Get:7 http://security.ubuntu.com/ubuntu bionic-security InRelease [88.7 kB]\n",
            "Get:8 http://ppa.launchpad.net/c2d4u.team/c2d4u4.0+/ubuntu bionic InRelease [15.9 kB]\n",
            "Get:9 https://developer.download.nvidia.com/compute/cuda/repos/ubuntu1804/x86_64  Release.gpg [836 B]\n",
            "Get:11 http://archive.ubuntu.com/ubuntu bionic-updates InRelease [88.7 kB]\n",
            "Hit:12 http://ppa.launchpad.net/cran/libgit2/ubuntu bionic InRelease\n",
            "Ign:13 https://developer.download.nvidia.com/compute/cuda/repos/ubuntu1804/x86_64  Packages\n",
            "Get:13 https://developer.download.nvidia.com/compute/cuda/repos/ubuntu1804/x86_64  Packages [635 kB]\n",
            "Get:14 http://archive.ubuntu.com/ubuntu bionic-backports InRelease [74.6 kB]\n",
            "Get:15 http://ppa.launchpad.net/deadsnakes/ppa/ubuntu bionic InRelease [15.9 kB]\n",
            "Get:16 http://security.ubuntu.com/ubuntu bionic-security/universe amd64 Packages [1,404 kB]\n",
            "Get:17 http://archive.ubuntu.com/ubuntu bionic-updates/universe amd64 Packages [2,176 kB]\n",
            "Hit:18 http://ppa.launchpad.net/graphics-drivers/ppa/ubuntu bionic InRelease\n",
            "Get:19 http://ppa.launchpad.net/c2d4u.team/c2d4u4.0+/ubuntu bionic/main Sources [1,751 kB]\n",
            "Get:20 http://security.ubuntu.com/ubuntu bionic-security/restricted amd64 Packages [372 kB]\n",
            "Get:21 http://security.ubuntu.com/ubuntu bionic-security/multiverse amd64 Packages [24.5 kB]\n",
            "Get:22 http://security.ubuntu.com/ubuntu bionic-security/main amd64 Packages [2,077 kB]\n",
            "Get:23 http://archive.ubuntu.com/ubuntu bionic-updates/main amd64 Packages [2,508 kB]\n",
            "Get:24 http://archive.ubuntu.com/ubuntu bionic-updates/restricted amd64 Packages [402 kB]\n",
            "Get:25 http://archive.ubuntu.com/ubuntu bionic-updates/multiverse amd64 Packages [31.4 kB]\n",
            "Get:26 http://ppa.launchpad.net/c2d4u.team/c2d4u4.0+/ubuntu bionic/main amd64 Packages [896 kB]\n",
            "Get:27 http://ppa.launchpad.net/deadsnakes/ppa/ubuntu bionic/main amd64 Packages [39.5 kB]\n",
            "Fetched 12.6 MB in 7s (1,800 kB/s)\n",
            "Reading package lists... Done\n"
          ],
          "name": "stdout"
        }
      ]
    },
    {
      "cell_type": "code",
      "metadata": {
        "id": "rYXLbEFgi08a",
        "colab": {
          "base_uri": "https://localhost:8080/"
        },
        "outputId": "d82f2a17-0c84-4fc3-e8e7-cfc54b503ab8"
      },
      "source": [
        "# Install Spark NLP\n",
        "! pip install --ignore-installed spark-nlp==2.4.5\n",
        "\n",
        "! pip install pyspark\n",
        "\n",
        "# Install nltk\n",
        "! pip install nltk"
      ],
      "execution_count": 2,
      "outputs": [
        {
          "output_type": "stream",
          "text": [
            "Collecting spark-nlp==2.4.5\n",
            "\u001b[?25l  Downloading https://files.pythonhosted.org/packages/31/46/5c5a2bda407f693126386da5378f132e5e163fa6dfa46109548270348786/spark_nlp-2.4.5-py2.py3-none-any.whl (110kB)\n",
            "\u001b[K     |████████████████████████████████| 112kB 5.5MB/s \n",
            "\u001b[?25hInstalling collected packages: spark-nlp\n",
            "Successfully installed spark-nlp-2.4.5\n",
            "Collecting pyspark\n",
            "\u001b[?25l  Downloading https://files.pythonhosted.org/packages/45/b0/9d6860891ab14a39d4bddf80ba26ce51c2f9dc4805e5c6978ac0472c120a/pyspark-3.1.1.tar.gz (212.3MB)\n",
            "\u001b[K     |████████████████████████████████| 212.3MB 68kB/s \n",
            "\u001b[?25hCollecting py4j==0.10.9\n",
            "\u001b[?25l  Downloading https://files.pythonhosted.org/packages/9e/b6/6a4fb90cd235dc8e265a6a2067f2a2c99f0d91787f06aca4bcf7c23f3f80/py4j-0.10.9-py2.py3-none-any.whl (198kB)\n",
            "\u001b[K     |████████████████████████████████| 204kB 46.7MB/s \n",
            "\u001b[?25hBuilding wheels for collected packages: pyspark\n",
            "  Building wheel for pyspark (setup.py) ... \u001b[?25l\u001b[?25hdone\n",
            "  Created wheel for pyspark: filename=pyspark-3.1.1-py2.py3-none-any.whl size=212767604 sha256=e881ea5247ff4c3475418ed5483612c63693be2bb2ecf68e2f7330dbabf67712\n",
            "  Stored in directory: /root/.cache/pip/wheels/0b/90/c0/01de724414ef122bd05f056541fb6a0ecf47c7ca655f8b3c0f\n",
            "Successfully built pyspark\n",
            "Installing collected packages: py4j, pyspark\n",
            "Successfully installed py4j-0.10.9 pyspark-3.1.1\n",
            "Requirement already satisfied: nltk in /usr/local/lib/python3.7/dist-packages (3.2.5)\n",
            "Requirement already satisfied: six in /usr/local/lib/python3.7/dist-packages (from nltk) (1.15.0)\n"
          ],
          "name": "stdout"
        }
      ]
    },
    {
      "cell_type": "code",
      "metadata": {
        "id": "h30R2bQIjU-Q"
      },
      "source": [
        "# Import spark nlp\n",
        "import sparknlp\n",
        "spark = sparknlp.start()"
      ],
      "execution_count": 3,
      "outputs": []
    },
    {
      "cell_type": "code",
      "metadata": {
        "id": "Qw6LmVyq7-iw"
      },
      "source": [
        "# Import dependencies\n",
        "import pandas as pd \n",
        "\n",
        "from pyspark import SparkFiles\n",
        "from pyspark.sql import SparkSession\n",
        "\n",
        "from pyspark.ml.feature import Tokenizer\n",
        "from pyspark.sql.functions import col, udf\n",
        "from pyspark.sql.types import IntegerType\n",
        "\n",
        "from pyspark.ml.feature import VectorAssembler\n",
        "from pyspark.ml.linalg import Vector\n",
        "\n",
        "# Import the stop words library\n",
        "from pyspark.ml.feature import HashingTF, IDF, Tokenizer, StopWordsRemover, Normalizer, StringIndexer\n",
        "\n",
        "# Import sklearn and tensorflow dependencies\n",
        "from sklearn.model_selection import train_test_split\n",
        "from sklearn.preprocessing import StandardScaler,OneHotEncoder\n",
        "import tensorflow as tf"
      ],
      "execution_count": 79,
      "outputs": []
    },
    {
      "cell_type": "code",
      "metadata": {
        "id": "jS5al7UOiWvo"
      },
      "source": [
        "# Start Spark session with connection to postgres\n",
        "spark = SparkSession.builder.appName(\"Whats_In_A_Bottle\").config(\"spark.driver.extraClassPath\",\"/content/postgresql-42.2.16.jar\").getOrCreate()"
      ],
      "execution_count": 5,
      "outputs": []
    },
    {
      "cell_type": "markdown",
      "metadata": {
        "id": "KZr3mJRQS9_8"
      },
      "source": [
        "## Data Cleaning:"
      ]
    },
    {
      "cell_type": "markdown",
      "metadata": {
        "id": "_RnG9dDESxhS"
      },
      "source": [
        "### **Check the null values in each column and drop columns with large number of null values (>50% null)**"
      ]
    },
    {
      "cell_type": "code",
      "metadata": {
        "id": "iiI1QvZhiXL2",
        "colab": {
          "base_uri": "https://localhost:8080/"
        },
        "outputId": "eb43375b-0907-446e-c8e6-9c45e09f6e30"
      },
      "source": [
        "# Read in data from S3 Buckets\n",
        "url =\"https://whats-in-a-bottle.s3-us-west-1.amazonaws.com/winemag-data_first150k.csv\"\n",
        "spark.sparkContext.addFile(url)\n",
        "df = spark.read.csv(SparkFiles.get(\"winemag-data_first150k.csv\"), sep=\",\", header=True)\n",
        "df.show()"
      ],
      "execution_count": 5,
      "outputs": [
        {
          "output_type": "stream",
          "text": [
            "+---+-------+--------------------+--------------------+------+-----+------------------+--------------------+-----------------+------------------+--------------------+\n",
            "|_c0|country|         description|         designation|points|price|          province|            region_1|         region_2|           variety|              winery|\n",
            "+---+-------+--------------------+--------------------+------+-----+------------------+--------------------+-----------------+------------------+--------------------+\n",
            "|  0|     US|This tremendous 1...|   Martha's Vineyard|    96|235.0|        California|         Napa Valley|             Napa|Cabernet Sauvignon|               Heitz|\n",
            "|  1|  Spain|Ripe aromas of fi...|Carodorum Selecci...|    96|110.0|    Northern Spain|                Toro|             null|     Tinta de Toro|Bodega Carmen Rod...|\n",
            "|  2|     US|Mac Watson honors...|Special Selected ...|    96| 90.0|        California|      Knights Valley|           Sonoma|   Sauvignon Blanc|            Macauley|\n",
            "|  3|     US|This spent 20 mon...|             Reserve|    96| 65.0|            Oregon|   Willamette Valley|Willamette Valley|        Pinot Noir|               Ponzi|\n",
            "|  4| France|This is the top w...|          La Brûlade|    95| 66.0|          Provence|              Bandol|             null|Provence red blend|Domaine de la Bégude|\n",
            "|  5|  Spain|Deep, dense and p...|           Numanthia|    95| 73.0|    Northern Spain|                Toro|             null|     Tinta de Toro|           Numanthia|\n",
            "|  6|  Spain|Slightly gritty b...|           San Román|    95| 65.0|    Northern Spain|                Toro|             null|     Tinta de Toro|            Maurodos|\n",
            "|  7|  Spain|Lush cedary black...|Carodorum Único C...|    95|110.0|    Northern Spain|                Toro|             null|     Tinta de Toro|Bodega Carmen Rod...|\n",
            "|  8|     US|This re-named vin...|              Silice|    95| 65.0|            Oregon|  Chehalem Mountains|Willamette Valley|        Pinot Noir|           Bergström|\n",
            "|  9|     US|The producer sour...|Gap's Crown Vineyard|    95| 60.0|        California|        Sonoma Coast|           Sonoma|        Pinot Noir|           Blue Farm|\n",
            "| 10|  Italy|Elegance, complex...|  Ronco della Chiesa|    95| 80.0|Northeastern Italy|              Collio|             null|          Friulano|    Borgo del Tiglio|\n",
            "| 11|     US|From 18-year-old ...|Estate Vineyard W...|    95| 48.0|            Oregon|        Ribbon Ridge|Willamette Valley|        Pinot Noir|Patricia Green Ce...|\n",
            "| 12|     US|A standout even i...|      Weber Vineyard|    95| 48.0|            Oregon|        Dundee Hills|Willamette Valley|        Pinot Noir|Patricia Green Ce...|\n",
            "| 13| France|This wine is in p...|Château Montus Pr...|    95| 90.0|  Southwest France|             Madiran|             null|            Tannat|   Vignobles Brumont|\n",
            "| 14|     US|With its sophisti...|      Grace Vineyard|    95|185.0|            Oregon|        Dundee Hills|Willamette Valley|        Pinot Noir|      Domaine Serene|\n",
            "| 15|     US|First made in 200...|              Sigrid|    95| 90.0|            Oregon|   Willamette Valley|Willamette Valley|        Chardonnay|           Bergström|\n",
            "| 16|     US|This blockbuster,...|     Rainin Vineyard|    95|325.0|        California|Diamond Mountain ...|             Napa|Cabernet Sauvignon|                Hall|\n",
            "| 17|  Spain|Nicely oaked blac...|6 Años Reserva Pr...|    95| 80.0|    Northern Spain|    Ribera del Duero|             null|       Tempranillo|            Valduero|\n",
            "| 18| France|Coming from a sev...|       Le Pigeonnier|    95|290.0|  Southwest France|              Cahors|             null|            Malbec|  Château Lagrézette|\n",
            "| 19|     US|This fresh and li...|Gap's Crown Vineyard|    95| 75.0|        California|        Sonoma Coast|           Sonoma|        Pinot Noir|        Gary Farrell|\n",
            "+---+-------+--------------------+--------------------+------+-----+------------------+--------------------+-----------------+------------------+--------------------+\n",
            "only showing top 20 rows\n",
            "\n"
          ],
          "name": "stdout"
        }
      ]
    },
    {
      "cell_type": "code",
      "metadata": {
        "id": "hFmndLzxsR5m",
        "colab": {
          "base_uri": "https://localhost:8080/"
        },
        "outputId": "8ffb4382-50cf-4636-c030-3c5075d970b2"
      },
      "source": [
        "# Get count of both null and missing values in pyspark\n",
        "from pyspark.sql.functions import isnan, when, count, col\n",
        "\n",
        "df.select([count(when(isnan(c) | col(c).isNull(), c)).alias(c) for c in df.columns]).show()"
      ],
      "execution_count": 6,
      "outputs": [
        {
          "output_type": "stream",
          "text": [
            "+---+-------+-----------+-----------+------+-----+--------+--------+--------+-------+------+\n",
            "|_c0|country|description|designation|points|price|province|region_1|region_2|variety|winery|\n",
            "+---+-------+-----------+-----------+------+-----+--------+--------+--------+-------+------+\n",
            "|  0|      5|          1|      45733|     6|13697|      11|   25059|   89963|      6|    17|\n",
            "+---+-------+-----------+-----------+------+-----+--------+--------+--------+-------+------+\n",
            "\n"
          ],
          "name": "stdout"
        }
      ]
    },
    {
      "cell_type": "code",
      "metadata": {
        "id": "m9uBNkkAsfm6",
        "colab": {
          "base_uri": "https://localhost:8080/"
        },
        "outputId": "69fc3a28-6e0e-40bb-a469-ae273c3eb392"
      },
      "source": [
        "# Drop the region_2 column\n",
        "df = df.drop(\"region_2\")\n",
        "df.show()"
      ],
      "execution_count": 7,
      "outputs": [
        {
          "output_type": "stream",
          "text": [
            "+---+-------+--------------------+--------------------+------+-----+------------------+--------------------+------------------+--------------------+\n",
            "|_c0|country|         description|         designation|points|price|          province|            region_1|           variety|              winery|\n",
            "+---+-------+--------------------+--------------------+------+-----+------------------+--------------------+------------------+--------------------+\n",
            "|  0|     US|This tremendous 1...|   Martha's Vineyard|    96|235.0|        California|         Napa Valley|Cabernet Sauvignon|               Heitz|\n",
            "|  1|  Spain|Ripe aromas of fi...|Carodorum Selecci...|    96|110.0|    Northern Spain|                Toro|     Tinta de Toro|Bodega Carmen Rod...|\n",
            "|  2|     US|Mac Watson honors...|Special Selected ...|    96| 90.0|        California|      Knights Valley|   Sauvignon Blanc|            Macauley|\n",
            "|  3|     US|This spent 20 mon...|             Reserve|    96| 65.0|            Oregon|   Willamette Valley|        Pinot Noir|               Ponzi|\n",
            "|  4| France|This is the top w...|          La Brûlade|    95| 66.0|          Provence|              Bandol|Provence red blend|Domaine de la Bégude|\n",
            "|  5|  Spain|Deep, dense and p...|           Numanthia|    95| 73.0|    Northern Spain|                Toro|     Tinta de Toro|           Numanthia|\n",
            "|  6|  Spain|Slightly gritty b...|           San Román|    95| 65.0|    Northern Spain|                Toro|     Tinta de Toro|            Maurodos|\n",
            "|  7|  Spain|Lush cedary black...|Carodorum Único C...|    95|110.0|    Northern Spain|                Toro|     Tinta de Toro|Bodega Carmen Rod...|\n",
            "|  8|     US|This re-named vin...|              Silice|    95| 65.0|            Oregon|  Chehalem Mountains|        Pinot Noir|           Bergström|\n",
            "|  9|     US|The producer sour...|Gap's Crown Vineyard|    95| 60.0|        California|        Sonoma Coast|        Pinot Noir|           Blue Farm|\n",
            "| 10|  Italy|Elegance, complex...|  Ronco della Chiesa|    95| 80.0|Northeastern Italy|              Collio|          Friulano|    Borgo del Tiglio|\n",
            "| 11|     US|From 18-year-old ...|Estate Vineyard W...|    95| 48.0|            Oregon|        Ribbon Ridge|        Pinot Noir|Patricia Green Ce...|\n",
            "| 12|     US|A standout even i...|      Weber Vineyard|    95| 48.0|            Oregon|        Dundee Hills|        Pinot Noir|Patricia Green Ce...|\n",
            "| 13| France|This wine is in p...|Château Montus Pr...|    95| 90.0|  Southwest France|             Madiran|            Tannat|   Vignobles Brumont|\n",
            "| 14|     US|With its sophisti...|      Grace Vineyard|    95|185.0|            Oregon|        Dundee Hills|        Pinot Noir|      Domaine Serene|\n",
            "| 15|     US|First made in 200...|              Sigrid|    95| 90.0|            Oregon|   Willamette Valley|        Chardonnay|           Bergström|\n",
            "| 16|     US|This blockbuster,...|     Rainin Vineyard|    95|325.0|        California|Diamond Mountain ...|Cabernet Sauvignon|                Hall|\n",
            "| 17|  Spain|Nicely oaked blac...|6 Años Reserva Pr...|    95| 80.0|    Northern Spain|    Ribera del Duero|       Tempranillo|            Valduero|\n",
            "| 18| France|Coming from a sev...|       Le Pigeonnier|    95|290.0|  Southwest France|              Cahors|            Malbec|  Château Lagrézette|\n",
            "| 19|     US|This fresh and li...|Gap's Crown Vineyard|    95| 75.0|        California|        Sonoma Coast|        Pinot Noir|        Gary Farrell|\n",
            "+---+-------+--------------------+--------------------+------+-----+------------------+--------------------+------------------+--------------------+\n",
            "only showing top 20 rows\n",
            "\n"
          ],
          "name": "stdout"
        }
      ]
    },
    {
      "cell_type": "markdown",
      "metadata": {
        "id": "IrEGyCh6Sj-J"
      },
      "source": [
        "### **Fill null values for columns we want to keep with N/A, then drop remaining rows with null values**"
      ]
    },
    {
      "cell_type": "code",
      "metadata": {
        "colab": {
          "base_uri": "https://localhost:8080/"
        },
        "id": "-QtxS3jWARoD",
        "outputId": "4ae3afb2-5473-4a02-e5c7-a619fbc8a492"
      },
      "source": [
        "#Count the region unique values\n",
        "region_df = df.groupby(df.region_1).count().distinct()\n",
        "region_df.orderBy(col('count').desc()).show()"
      ],
      "execution_count": 8,
      "outputs": [
        {
          "output_type": "stream",
          "text": [
            "+--------------------+-----+\n",
            "|            region_1|count|\n",
            "+--------------------+-----+\n",
            "|                null|25059|\n",
            "|         Napa Valley| 6205|\n",
            "|Columbia Valley (WA)| 4975|\n",
            "|             Mendoza| 3586|\n",
            "|Russian River Valley| 3571|\n",
            "|          California| 3460|\n",
            "|         Paso Robles| 3053|\n",
            "|   Willamette Valley| 2096|\n",
            "|               Rioja| 1893|\n",
            "|             Toscana| 1885|\n",
            "|       Sonoma County| 1852|\n",
            "|Brunello di Monta...| 1746|\n",
            "|             Sicilia| 1701|\n",
            "|              Alsace| 1574|\n",
            "|        Sonoma Coast| 1473|\n",
            "|            Carneros| 1458|\n",
            "|    Dry Creek Valley| 1398|\n",
            "|              Barolo| 1397|\n",
            "|        Finger Lakes| 1372|\n",
            "|           Champagne| 1369|\n",
            "+--------------------+-----+\n",
            "only showing top 20 rows\n",
            "\n"
          ],
          "name": "stdout"
        }
      ]
    },
    {
      "cell_type": "code",
      "metadata": {
        "id": "ucDzt7a5PuZp",
        "colab": {
          "base_uri": "https://localhost:8080/"
        },
        "outputId": "f6ede720-3e88-4344-8ecf-fb81cd1f6050"
      },
      "source": [
        "# Replace null values in the region_1 and designation columns with \"other\" since we'll keep these columns\n",
        "# consider dropping designation column if it becomes an issue later\n",
        "replaced_df = df.na.fill({\"region_1\": \"N/A\", \"designation\":\"N/A\"})\n",
        "replaced_df.show()"
      ],
      "execution_count": 9,
      "outputs": [
        {
          "output_type": "stream",
          "text": [
            "+---+-------+--------------------+--------------------+------+-----+------------------+--------------------+------------------+--------------------+\n",
            "|_c0|country|         description|         designation|points|price|          province|            region_1|           variety|              winery|\n",
            "+---+-------+--------------------+--------------------+------+-----+------------------+--------------------+------------------+--------------------+\n",
            "|  0|     US|This tremendous 1...|   Martha's Vineyard|    96|235.0|        California|         Napa Valley|Cabernet Sauvignon|               Heitz|\n",
            "|  1|  Spain|Ripe aromas of fi...|Carodorum Selecci...|    96|110.0|    Northern Spain|                Toro|     Tinta de Toro|Bodega Carmen Rod...|\n",
            "|  2|     US|Mac Watson honors...|Special Selected ...|    96| 90.0|        California|      Knights Valley|   Sauvignon Blanc|            Macauley|\n",
            "|  3|     US|This spent 20 mon...|             Reserve|    96| 65.0|            Oregon|   Willamette Valley|        Pinot Noir|               Ponzi|\n",
            "|  4| France|This is the top w...|          La Brûlade|    95| 66.0|          Provence|              Bandol|Provence red blend|Domaine de la Bégude|\n",
            "|  5|  Spain|Deep, dense and p...|           Numanthia|    95| 73.0|    Northern Spain|                Toro|     Tinta de Toro|           Numanthia|\n",
            "|  6|  Spain|Slightly gritty b...|           San Román|    95| 65.0|    Northern Spain|                Toro|     Tinta de Toro|            Maurodos|\n",
            "|  7|  Spain|Lush cedary black...|Carodorum Único C...|    95|110.0|    Northern Spain|                Toro|     Tinta de Toro|Bodega Carmen Rod...|\n",
            "|  8|     US|This re-named vin...|              Silice|    95| 65.0|            Oregon|  Chehalem Mountains|        Pinot Noir|           Bergström|\n",
            "|  9|     US|The producer sour...|Gap's Crown Vineyard|    95| 60.0|        California|        Sonoma Coast|        Pinot Noir|           Blue Farm|\n",
            "| 10|  Italy|Elegance, complex...|  Ronco della Chiesa|    95| 80.0|Northeastern Italy|              Collio|          Friulano|    Borgo del Tiglio|\n",
            "| 11|     US|From 18-year-old ...|Estate Vineyard W...|    95| 48.0|            Oregon|        Ribbon Ridge|        Pinot Noir|Patricia Green Ce...|\n",
            "| 12|     US|A standout even i...|      Weber Vineyard|    95| 48.0|            Oregon|        Dundee Hills|        Pinot Noir|Patricia Green Ce...|\n",
            "| 13| France|This wine is in p...|Château Montus Pr...|    95| 90.0|  Southwest France|             Madiran|            Tannat|   Vignobles Brumont|\n",
            "| 14|     US|With its sophisti...|      Grace Vineyard|    95|185.0|            Oregon|        Dundee Hills|        Pinot Noir|      Domaine Serene|\n",
            "| 15|     US|First made in 200...|              Sigrid|    95| 90.0|            Oregon|   Willamette Valley|        Chardonnay|           Bergström|\n",
            "| 16|     US|This blockbuster,...|     Rainin Vineyard|    95|325.0|        California|Diamond Mountain ...|Cabernet Sauvignon|                Hall|\n",
            "| 17|  Spain|Nicely oaked blac...|6 Años Reserva Pr...|    95| 80.0|    Northern Spain|    Ribera del Duero|       Tempranillo|            Valduero|\n",
            "| 18| France|Coming from a sev...|       Le Pigeonnier|    95|290.0|  Southwest France|              Cahors|            Malbec|  Château Lagrézette|\n",
            "| 19|     US|This fresh and li...|Gap's Crown Vineyard|    95| 75.0|        California|        Sonoma Coast|        Pinot Noir|        Gary Farrell|\n",
            "+---+-------+--------------------+--------------------+------+-----+------------------+--------------------+------------------+--------------------+\n",
            "only showing top 20 rows\n",
            "\n"
          ],
          "name": "stdout"
        }
      ]
    },
    {
      "cell_type": "code",
      "metadata": {
        "colab": {
          "base_uri": "https://localhost:8080/"
        },
        "id": "Zur2F1NwQHrv",
        "outputId": "8f2a0136-edfc-48d8-d1dc-9c106d9b261a"
      },
      "source": [
        "# Check to see if the region null values have been replaced with \"N/A\"\n",
        "replaced_region_counts = replaced_df.groupby(replaced_df.region_1).count().distinct().orderBy(col('count').desc())\n",
        "replaced_region_counts.show()"
      ],
      "execution_count": 10,
      "outputs": [
        {
          "output_type": "stream",
          "text": [
            "+--------------------+-----+\n",
            "|            region_1|count|\n",
            "+--------------------+-----+\n",
            "|                 N/A|25059|\n",
            "|         Napa Valley| 6205|\n",
            "|Columbia Valley (WA)| 4975|\n",
            "|             Mendoza| 3586|\n",
            "|Russian River Valley| 3571|\n",
            "|          California| 3460|\n",
            "|         Paso Robles| 3053|\n",
            "|   Willamette Valley| 2096|\n",
            "|               Rioja| 1893|\n",
            "|             Toscana| 1885|\n",
            "|       Sonoma County| 1852|\n",
            "|Brunello di Monta...| 1746|\n",
            "|             Sicilia| 1701|\n",
            "|              Alsace| 1574|\n",
            "|        Sonoma Coast| 1473|\n",
            "|            Carneros| 1458|\n",
            "|    Dry Creek Valley| 1398|\n",
            "|              Barolo| 1397|\n",
            "|        Finger Lakes| 1372|\n",
            "|           Champagne| 1369|\n",
            "+--------------------+-----+\n",
            "only showing top 20 rows\n",
            "\n"
          ],
          "name": "stdout"
        }
      ]
    },
    {
      "cell_type": "code",
      "metadata": {
        "colab": {
          "base_uri": "https://localhost:8080/"
        },
        "id": "xVwxkQVtaWkF",
        "outputId": "6913afed-e42a-4be5-eea4-882c500af6cc"
      },
      "source": [
        "# Check to see if the designation null values have been replaced with \"N/A\"\n",
        "replaced_designation_counts = replaced_df.groupby(replaced_df.designation).count().distinct().orderBy(col('count').desc())\n",
        "replaced_designation_counts.show()"
      ],
      "execution_count": 12,
      "outputs": [
        {
          "output_type": "stream",
          "text": [
            "+--------------------+-----+\n",
            "|         designation|count|\n",
            "+--------------------+-----+\n",
            "|                 N/A|45733|\n",
            "|             Reserve| 2752|\n",
            "|             Reserva| 1810|\n",
            "|              Estate| 1571|\n",
            "|       Barrel sample| 1326|\n",
            "|             Riserva|  754|\n",
            "|       Barrel Sample|  639|\n",
            "|                Brut|  624|\n",
            "|             Crianza|  503|\n",
            "|        Estate Grown|  449|\n",
            "|      Estate Bottled|  396|\n",
            "|                 Dry|  374|\n",
            "|        Gran Reserva|  330|\n",
            "|            Old Vine|  330|\n",
            "|           Brut Rosé|  248|\n",
            "|           Extra Dry|  244|\n",
            "|     Vieilles Vignes|  225|\n",
            "|Bien Nacido Vineyard|  195|\n",
            "|                Rosé|  180|\n",
            "|Late Bottled Vintage|  171|\n",
            "+--------------------+-----+\n",
            "only showing top 20 rows\n",
            "\n"
          ],
          "name": "stdout"
        }
      ]
    },
    {
      "cell_type": "code",
      "metadata": {
        "id": "8JYM2AI8s9cG",
        "colab": {
          "base_uri": "https://localhost:8080/"
        },
        "outputId": "1695d64b-88bb-4883-8469-7679d4026869"
      },
      "source": [
        "# Drop rows with null values\n",
        "dropna_df = replaced_df.na.drop()\n",
        "\n",
        "# Check that the null values have been removed\n",
        "dropna_df.select([count(when(isnan(c) | col(c).isNull(), c)).alias(c) for c in dropna_df.columns]).show()"
      ],
      "execution_count": 14,
      "outputs": [
        {
          "output_type": "stream",
          "text": [
            "+---+-------+-----------+-----------+------+-----+--------+--------+-------+------+\n",
            "|_c0|country|description|designation|points|price|province|region_1|variety|winery|\n",
            "+---+-------+-----------+-----------+------+-----+--------+--------+-------+------+\n",
            "|  0|      0|          0|          0|     0|    0|       0|       0|      0|     0|\n",
            "+---+-------+-----------+-----------+------+-----+--------+--------+-------+------+\n",
            "\n"
          ],
          "name": "stdout"
        }
      ]
    },
    {
      "cell_type": "markdown",
      "metadata": {
        "id": "0E0fXT6kSy2V"
      },
      "source": [
        "### **NLP - Tokenize, Remove Stop Words, and Hash the [Description] column**"
      ]
    },
    {
      "cell_type": "code",
      "metadata": {
        "id": "Z92CyFH45cP7"
      },
      "source": [
        "# Create a function to return the length of a list\n",
        "def word_list_length(word_list):\n",
        "  return len(word_list)"
      ],
      "execution_count": 15,
      "outputs": []
    },
    {
      "cell_type": "code",
      "metadata": {
        "id": "ry6x3Zgk5Vm5"
      },
      "source": [
        "# Create a user defined function\n",
        "count_tokens = udf(word_list_length, IntegerType())"
      ],
      "execution_count": 16,
      "outputs": []
    },
    {
      "cell_type": "code",
      "metadata": {
        "id": "HBWNVcuZpA1i",
        "colab": {
          "base_uri": "https://localhost:8080/"
        },
        "outputId": "5d8575b6-f06a-40a1-ca32-342b6789868b"
      },
      "source": [
        "# Tokenize sentences\n",
        "tokenizer = Tokenizer(inputCol=\"description\", outputCol=\"words\")\n",
        "tokenizer"
      ],
      "execution_count": 17,
      "outputs": [
        {
          "output_type": "execute_result",
          "data": {
            "text/plain": [
              "Tokenizer_b752aaf06147"
            ]
          },
          "metadata": {
            "tags": []
          },
          "execution_count": 17
        }
      ]
    },
    {
      "cell_type": "code",
      "metadata": {
        "colab": {
          "base_uri": "https://localhost:8080/"
        },
        "id": "BAvl0fvK4Lyq",
        "outputId": "39a4cf13-e19c-4e6d-a71e-18fe6e539c94"
      },
      "source": [
        "# Create our Tokenizer\n",
        "tokenizer = Tokenizer(inputCol=\"description\", outputCol=\"words\")\n",
        "\n",
        "# Transform DataFrame\n",
        "tokenized_df = tokenizer.transform(dropna_df)\n",
        "\n",
        "# Select the needed column and don't truncate results\n",
        "tokenized_df = tokenized_df.withColumn(\"tokens\", count_tokens(col(\"words\")))\n",
        "tokenized_df.show(truncate=False)"
      ],
      "execution_count": 18,
      "outputs": [
        {
          "output_type": "stream",
          "text": [
            "+---+-------+-------------------------------------------------------------------------------------------------------------------------------------------------------------------------------------------------------------------------------------------------------------------------------------------------------------------------------------------------------------------------------------------------------------------------------------------+------------------------------------+------+-----+------------------+-------------------------+------------------+-----------------------+----------------------------------------------------------------------------------------------------------------------------------------------------------------------------------------------------------------------------------------------------------------------------------------------------------------------------------------------------------------------------------------------------------------------------------------------------------------------------------------------------------------+------+\n",
            "|_c0|country|description                                                                                                                                                                                                                                                                                                                                                                                                                                |designation                         |points|price|province          |region_1                 |variety           |winery                 |words                                                                                                                                                                                                                                                                                                                                                                                                                                                                                                           |tokens|\n",
            "+---+-------+-------------------------------------------------------------------------------------------------------------------------------------------------------------------------------------------------------------------------------------------------------------------------------------------------------------------------------------------------------------------------------------------------------------------------------------------+------------------------------------+------+-----+------------------+-------------------------+------------------+-----------------------+----------------------------------------------------------------------------------------------------------------------------------------------------------------------------------------------------------------------------------------------------------------------------------------------------------------------------------------------------------------------------------------------------------------------------------------------------------------------------------------------------------------+------+\n",
            "|0  |US     |This tremendous 100% varietal wine hails from Oakville and was aged over three years in oak. Juicy red-cherry fruit and a compelling hint of caramel greet the palate, framed by elegant, fine tannins and a subtle minty tone in the background. Balanced and rewarding from start to finish, it has years ahead of it to develop further nuance. Enjoy 2022–2030.                                                                        |Martha's Vineyard                   |96    |235.0|California        |Napa Valley              |Cabernet Sauvignon|Heitz                  |[this, tremendous, 100%, varietal, wine, hails, from, oakville, and, was, aged, over, three, years, in, oak., juicy, red-cherry, fruit, and, a, compelling, hint, of, caramel, greet, the, palate,, framed, by, elegant,, fine, tannins, and, a, subtle, minty, tone, in, the, background., balanced, and, rewarding, from, start, to, finish,, it, has, years, ahead, of, it, to, develop, further, nuance., enjoy, 2022–2030.]                                                                                |60    |\n",
            "|1  |Spain  |Ripe aromas of fig, blackberry and cassis are softened and sweetened by a slathering of oaky chocolate and vanilla. This is full, layered, intense and cushioned on the palate, with rich flavors of chocolaty black fruits and baking spices. A toasty, everlasting finish is heady but ideally balanced. Drink through 2023.                                                                                                             |Carodorum Selección Especial Reserva|96    |110.0|Northern Spain    |Toro                     |Tinta de Toro     |Bodega Carmen Rodríguez|[ripe, aromas, of, fig,, blackberry, and, cassis, are, softened, and, sweetened, by, a, slathering, of, oaky, chocolate, and, vanilla., this, is, full,, layered,, intense, and, cushioned, on, the, palate,, with, rich, flavors, of, chocolaty, black, fruits, and, baking, spices., a, toasty,, everlasting, finish, is, heady, but, ideally, balanced., drink, through, 2023.]                                                                                                                              |51    |\n",
            "|2  |US     |Mac Watson honors the memory of a wine once made by his mother in this tremendously delicious, balanced and complex botrytised white. Dark gold in color, it layers toasted hazelnut, pear compote and orange peel flavors, reveling in the succulence of its 122 g/L of residual sugar.                                                                                                                                                   |Special Selected Late Harvest       |96    |90.0 |California        |Knights Valley           |Sauvignon Blanc   |Macauley               |[mac, watson, honors, the, memory, of, a, wine, once, made, by, his, mother, in, this, tremendously, delicious,, balanced, and, complex, botrytised, white., dark, gold, in, color,, it, layers, toasted, hazelnut,, pear, compote, and, orange, peel, flavors,, reveling, in, the, succulence, of, its, 122, g/l, of, residual, sugar.]                                                                                                                                                                        |47    |\n",
            "|3  |US     |This spent 20 months in 30% new French oak, and incorporates fruit from Ponzi's Aurora, Abetina and Madrona vineyards, among others. Aromatic, dense and toasty, it deftly blends aromas and flavors of toast, cigar box, blackberry, black cherry, coffee and graphite. Tannins are polished to a fine sheen, and frame a finish loaded with dark chocolate and espresso. Drink now through 2032.                                         |Reserve                             |96    |65.0 |Oregon            |Willamette Valley        |Pinot Noir        |Ponzi                  |[this, spent, 20, months, in, 30%, new, french, oak,, and, incorporates, fruit, from, ponzi's, aurora,, abetina, and, madrona, vineyards,, among, others., aromatic,, dense, and, toasty,, it, deftly, blends, aromas, and, flavors, of, toast,, cigar, box,, blackberry,, black, cherry,, coffee, and, graphite., tannins, are, polished, to, a, fine, sheen,, and, frame, a, finish, loaded, with, dark, chocolate, and, espresso., drink, now, through, 2032.]                                               |62    |\n",
            "|4  |France |This is the top wine from La Bégude, named after the highest point in the vineyard at 1200 feet. It has structure, density and considerable acidity that is still calming down. With 18 months in wood, the wine has developing an extra richness and concentration. Produced by the Tari family, formerly of Château Giscours in Margaux, it is a wine made for aging. Drink from 2020.                                                   |La Brûlade                          |95    |66.0 |Provence          |Bandol                   |Provence red blend|Domaine de la Bégude   |[this, is, the, top, wine, from, la, bégude,, named, after, the, highest, point, in, the, vineyard, at, 1200, feet., it, has, structure,, density, and, considerable, acidity, that, is, still, calming, down., with, 18, months, in, wood,, the, wine, has, developing, an, extra, richness, and, concentration., produced, by, the, tari, family,, formerly, of, château, giscours, in, margaux,, it, is, a, wine, made, for, aging., drink, from, 2020.]                                                     |66    |\n",
            "|5  |Spain  |Deep, dense and pure from the opening bell, this Toro is a winner. Aromas of dark ripe black fruits are cool and moderately oaked. This feels massive on the palate but sensationally balanced. Flavors of blackberry, coffee, mocha and toasty oak finish spicy, smooth and heady. Drink this exemplary Toro through 2023.                                                                                                                |Numanthia                           |95    |73.0 |Northern Spain    |Toro                     |Tinta de Toro     |Numanthia              |[deep,, dense, and, pure, from, the, opening, bell,, this, toro, is, a, winner., aromas, of, dark, ripe, black, fruits, are, cool, and, moderately, oaked., this, feels, massive, on, the, palate, but, sensationally, balanced., flavors, of, blackberry,, coffee,, mocha, and, toasty, oak, finish, spicy,, smooth, and, heady., drink, this, exemplary, toro, through, 2023.]                                                                                                                                |52    |\n",
            "|6  |Spain  |Slightly gritty black-fruit aromas include a sweet note of pastry along with a hint of prune. Wall-to-wall saturation ensures that all corners of one's mouth are covered. Flavors of blackberry, mocha and chocolate are highly impressive and expressive, while this settles nicely on a long finish. Drink now through 2024.                                                                                                            |San Román                           |95    |65.0 |Northern Spain    |Toro                     |Tinta de Toro     |Maurodos               |[slightly, gritty, black-fruit, aromas, include, a, sweet, note, of, pastry, along, with, a, hint, of, prune., wall-to-wall, saturation, ensures, that, all, corners, of, one's, mouth, are, covered., flavors, of, blackberry,, mocha, and, chocolate, are, highly, impressive, and, expressive,, while, this, settles, nicely, on, a, long, finish., drink, now, through, 2024.]                                                                                                                              |50    |\n",
            "|7  |Spain  |Lush cedary black-fruit aromas are luxe and offer notes of marzipan and vanilla. This bruiser is massive and tannic on the palate, but still lush and friendly. Chocolate is a key flavor, while baked berry and cassis flavors are hardly wallflowers. On the finish, this is tannic and deep as a sea trench. Drink this saturated black-colored Toro through 2023.                                                                      |Carodorum Único Crianza             |95    |110.0|Northern Spain    |Toro                     |Tinta de Toro     |Bodega Carmen Rodríguez|[lush, cedary, black-fruit, aromas, are, luxe, and, offer, notes, of, marzipan, and, vanilla., this, bruiser, is, massive, and, tannic, on, the, palate,, but, still, lush, and, friendly., chocolate, is, a, key, flavor,, while, baked, berry, and, cassis, flavors, are, hardly, wallflowers., on, the, finish,, this, is, tannic, and, deep, as, a, sea, trench., drink, this, saturated, black-colored, toro, through, 2023.]                                                                              |60    |\n",
            "|8  |US     |This re-named vineyard was formerly bottled as deLancellotti. You'll find striking minerality underscoring chunky black fruits. Accents of citrus and graphite comingle, with exceptional midpalate concentration. This is a wine to cellar, though it is already quite enjoyable. Drink now through 2030.                                                                                                                                 |Silice                              |95    |65.0 |Oregon            |Chehalem Mountains       |Pinot Noir        |Bergström              |[this, re-named, vineyard, was, formerly, bottled, as, delancellotti., you'll, find, striking, minerality, underscoring, chunky, black, fruits., accents, of, citrus, and, graphite, comingle,, with, exceptional, midpalate, concentration., this, is, a, wine, to, cellar,, though, it, is, already, quite, enjoyable., drink, now, through, 2030.]                                                                                                                                                           |42    |\n",
            "|9  |US     |The producer sources from two blocks of the vineyard for this wine—one at a high elevation, which contributes bright acidity. Crunchy cranberry, pomegranate and orange peel flavors surround silky, succulent layers of texture that present as fleshy fruit. That delicately lush flavor has considerable length.                                                                                                                        |Gap's Crown Vineyard                |95    |60.0 |California        |Sonoma Coast             |Pinot Noir        |Blue Farm              |[the, producer, sources, from, two, blocks, of, the, vineyard, for, this, wine—one, at, a, high, elevation,, which, contributes, bright, acidity., crunchy, cranberry,, pomegranate, and, orange, peel, flavors, surround, silky,, succulent, layers, of, texture, that, present, as, fleshy, fruit., that, delicately, lush, flavor, has, considerable, length.]                                                                                                                                               |45    |\n",
            "|10 |Italy  |Elegance, complexity and structure come together in this drop-dead gorgeous winethat ranks among Italy's greatest whites. It opens with sublime yellow spring flower, aromatic herb and orchard fruit scents. The creamy, delicious palate seamlessly combines juicy white peach, ripe pear and citrus flavors while white almond and savory mineral notes grace the lingering finish.                                                     |Ronco della Chiesa                  |95    |80.0 |Northeastern Italy|Collio                   |Friulano          |Borgo del Tiglio       |[elegance,, complexity, and, structure, come, together, in, this, drop-dead, gorgeous, winethat, ranks, among, italy's, greatest, whites., it, opens, with, sublime, yellow, spring, flower,, aromatic, herb, and, orchard, fruit, scents., the, creamy,, delicious, palate, seamlessly, combines, juicy, white, peach,, ripe, pear, and, citrus, flavors, while, white, almond, and, savory, mineral, notes, grace, the, lingering, finish.]                                                                   |54    |\n",
            "|11 |US     |From 18-year-old vines, this supple well-balanced effort blends flavors of mocha, cherry, vanilla and breakfast tea. Superbly integrated and delicious even at this early stage, this wine seems destined for a long and savory cellar life. Drink now through 2028.                                                                                                                                                                       |Estate Vineyard Wadensvil Block     |95    |48.0 |Oregon            |Ribbon Ridge             |Pinot Noir        |Patricia Green Cellars |[from, 18-year-old, vines,, this, supple, well-balanced, effort, blends, flavors, of, mocha,, cherry,, vanilla, and, breakfast, tea., superbly, integrated, and, delicious, even, at, this, early, stage,, this, wine, seems, destined, for, a, long, and, savory, cellar, life., drink, now, through, 2028.]                                                                                                                                                                                                   |40    |\n",
            "|12 |US     |A standout even in this terrific lineup of 2015 releases from Patricia Green, the Weber opens with a burst of cola and tobacco scents and accents. It continues, subtle and detailed, with flavors of oranges, vanilla, tea and milk chocolate discreetly threaded through ripe blackberry fruit.                                                                                                                                          |Weber Vineyard                      |95    |48.0 |Oregon            |Dundee Hills             |Pinot Noir        |Patricia Green Cellars |[a, standout, even, in, this, terrific, lineup, of, 2015, releases, from, patricia, green,, the, weber, opens, with, a, burst, of, cola, and, tobacco, scents, and, accents., it, continues,, subtle, and, detailed,, with, flavors, of, oranges,, vanilla,, tea, and, milk, chocolate, discreetly, threaded, through, ripe, blackberry, fruit.]                                                                                                                                                                |46    |\n",
            "|13 |France |This wine is in peak condition. The tannins and the secondary flavors dominate this ripe leather-textured wine. The fruit is all there as well: dried berries and hints of black-plum skins. It is a major wine right at the point of drinking with both the mature flavors and the fruit in the right balance.                                                                                                                            |Château Montus Prestige             |95    |90.0 |Southwest France  |Madiran                  |Tannat            |Vignobles Brumont      |[this, wine, is, in, peak, condition., the, tannins, and, the, secondary, flavors, dominate, this, ripe, leather-textured, wine., the, fruit, is, all, there, as, well:, dried, berries, and, hints, of, black-plum, skins., it, is, a, major, wine, right, at, the, point, of, drinking, with, both, the, mature, flavors, and, the, fruit, in, the, right, balance.]                                                                                                                                          |54    |\n",
            "|14 |US     |With its sophisticated mix of mineral, acid and tart fruits, this seductive effort pleases from start to finish. Supple and dense, it's got strawberry, blueberry, plum and black cherry, a touch of chocolate, and that underlying streak of mineral. All these elements are in good proportion and finish with an appealing silky texture. It's delicious already, but give it another decade for full enjoyment. Drink now through 2028.|Grace Vineyard                      |95    |185.0|Oregon            |Dundee Hills             |Pinot Noir        |Domaine Serene         |[with, its, sophisticated, mix, of, mineral,, acid, and, tart, fruits,, this, seductive, effort, pleases, from, start, to, finish., supple, and, dense,, it's, got, strawberry,, blueberry,, plum, and, black, cherry,, a, touch, of, chocolate,, and, that, underlying, streak, of, mineral., all, these, elements, are, in, good, proportion, and, finish, with, an, appealing, silky, texture., it's, delicious, already,, but, give, it, another, decade, for, full, enjoyment., drink, now, through, 2028.]|68    |\n",
            "|15 |US     |First made in 2006, this succulent luscious Chardonnay is all about minerality. It's got a rich core of butterscotch and the seemingly endless layers of subtle flavors that biodynamic farming can bring. It spends 18 months on the lees prior to bottling. Drink now through 2028.                                                                                                                                                      |Sigrid                              |95    |90.0 |Oregon            |Willamette Valley        |Chardonnay        |Bergström              |[first, made, in, 2006,, this, succulent, luscious, chardonnay, is, all, about, minerality., it's, got, a, rich, core, of, butterscotch, and, the, seemingly, endless, layers, of, subtle, flavors, that, biodynamic, farming, can, bring., it, spends, 18, months, on, the, lees, prior, to, bottling., drink, now, through, 2028.]                                                                                                                                                                            |46    |\n",
            "|16 |US     |This blockbuster, powerhouse of a wine suggests blueberry pie and chocolate as it opens in the glass. On the palate, it's smooth and seductively silky, offering complex cedar, peppercorn and peppery oak seasonings amidst its dense richness. It finishes with finesse and spice.                                                                                                                                                       |Rainin Vineyard                     |95    |325.0|California        |Diamond Mountain District|Cabernet Sauvignon|Hall                   |[this, blockbuster,, powerhouse, of, a, wine, suggests, blueberry, pie, and, chocolate, as, it, opens, in, the, glass., on, the, palate,, it's, smooth, and, seductively, silky,, offering, complex, cedar,, peppercorn, and, peppery, oak, seasonings, amidst, its, dense, richness., it, finishes, with, finesse, and, spice.]                                                                                                                                                                                |43    |\n",
            "|17 |Spain  |Nicely oaked blackberry, licorice, vanilla and charred aromas are smooth and sultry. This is an outstanding wine from an excellent year. Forward barrel-spice and mocha flavors adorn core blackberry and raspberry fruit, while this runs long and tastes vaguely chocolaty on the velvety finish. Enjoy this top-notch Tempranillo through 2030.                                                                                         |6 Años Reserva Premium              |95    |80.0 |Northern Spain    |Ribera del Duero         |Tempranillo       |Valduero               |[nicely, oaked, blackberry,, licorice,, vanilla, and, charred, aromas, are, smooth, and, sultry., this, is, an, outstanding, wine, from, an, excellent, year., forward, barrel-spice, and, mocha, flavors, adorn, core, blackberry, and, raspberry, fruit,, while, this, runs, long, and, tastes, vaguely, chocolaty, on, the, velvety, finish., enjoy, this, top-notch, tempranillo, through, 2030.]                                                                                                           |50    |\n",
            "|18 |France |Coming from a seven-acre vineyard named after the dovecote on the property, this is a magnificent wine. Powered by both fruit tannins and the 28 months of new wood aging, it is darkly rich and with great concentration. As a sign of its pedigree, there is also elegance here, a restraint which is new to this wine. That makes it a wine for long-term aging. Drink from 2022.                                                       |Le Pigeonnier                       |95    |290.0|Southwest France  |Cahors                   |Malbec            |Château Lagrézette     |[coming, from, a, seven-acre, vineyard, named, after, the, dovecote, on, the, property,, this, is, a, magnificent, wine., powered, by, both, fruit, tannins, and, the, 28, months, of, new, wood, aging,, it, is, darkly, rich, and, with, great, concentration., as, a, sign, of, its, pedigree,, there, is, also, elegance, here,, a, restraint, which, is, new, to, this, wine., that, makes, it, a, wine, for, long-term, aging., drink, from, 2022.]                                                       |68    |\n",
            "|19 |US     |This fresh and lively medium-bodied wine is beautifully crafted, with cherry blossom aromas and tangy acidity. Layered and seductive, it offers a crisp mix of orange peel, cherry, pomegranate and baking spice flavors that are ready for the table or the cellar.                                                                                                                                                                       |Gap's Crown Vineyard                |95    |75.0 |California        |Sonoma Coast             |Pinot Noir        |Gary Farrell           |[this, fresh, and, lively, medium-bodied, wine, is, beautifully, crafted,, with, cherry, blossom, aromas, and, tangy, acidity., layered, and, seductive,, it, offers, a, crisp, mix, of, orange, peel,, cherry,, pomegranate, and, baking, spice, flavors, that, are, ready, for, the, table, or, the, cellar.]                                                                                                                                                                                                 |42    |\n",
            "+---+-------+-------------------------------------------------------------------------------------------------------------------------------------------------------------------------------------------------------------------------------------------------------------------------------------------------------------------------------------------------------------------------------------------------------------------------------------------+------------------------------------+------+-----+------------------+-------------------------+------------------+-----------------------+----------------------------------------------------------------------------------------------------------------------------------------------------------------------------------------------------------------------------------------------------------------------------------------------------------------------------------------------------------------------------------------------------------------------------------------------------------------------------------------------------------------+------+\n",
            "only showing top 20 rows\n",
            "\n"
          ],
          "name": "stdout"
        }
      ]
    },
    {
      "cell_type": "code",
      "metadata": {
        "id": "qwCVwYtSTEBT"
      },
      "source": [
        "# Normalize tokens? Lemmatize (get root word) and/or remove accents from words?"
      ],
      "execution_count": 19,
      "outputs": []
    },
    {
      "cell_type": "code",
      "metadata": {
        "id": "VOte0mOy65I1",
        "colab": {
          "base_uri": "https://localhost:8080/"
        },
        "outputId": "0018dde3-51d8-44ba-9801-c45d0238819d"
      },
      "source": [
        "# Use the word remover\n",
        "# Run the remover\n",
        "remover = StopWordsRemover(inputCol=\"words\",outputCol=\"filtered\")\n",
        "# Tranform and show data\n",
        "removed_df = remover.transform(tokenized_df)\n",
        "removed_df.show(truncate=False)"
      ],
      "execution_count": 20,
      "outputs": [
        {
          "output_type": "stream",
          "text": [
            "+---+-------+-------------------------------------------------------------------------------------------------------------------------------------------------------------------------------------------------------------------------------------------------------------------------------------------------------------------------------------------------------------------------------------------------------------------------------------------+------------------------------------+------+-----+------------------+-------------------------+------------------+-----------------------+----------------------------------------------------------------------------------------------------------------------------------------------------------------------------------------------------------------------------------------------------------------------------------------------------------------------------------------------------------------------------------------------------------------------------------------------------------------------------------------------------------------+------+------------------------------------------------------------------------------------------------------------------------------------------------------------------------------------------------------------------------------------------------------------------------------------------------------------------------------------------------------------------------------------+\n",
            "|_c0|country|description                                                                                                                                                                                                                                                                                                                                                                                                                                |designation                         |points|price|province          |region_1                 |variety           |winery                 |words                                                                                                                                                                                                                                                                                                                                                                                                                                                                                                           |tokens|filtered                                                                                                                                                                                                                                                                                                                                                                            |\n",
            "+---+-------+-------------------------------------------------------------------------------------------------------------------------------------------------------------------------------------------------------------------------------------------------------------------------------------------------------------------------------------------------------------------------------------------------------------------------------------------+------------------------------------+------+-----+------------------+-------------------------+------------------+-----------------------+----------------------------------------------------------------------------------------------------------------------------------------------------------------------------------------------------------------------------------------------------------------------------------------------------------------------------------------------------------------------------------------------------------------------------------------------------------------------------------------------------------------+------+------------------------------------------------------------------------------------------------------------------------------------------------------------------------------------------------------------------------------------------------------------------------------------------------------------------------------------------------------------------------------------+\n",
            "|0  |US     |This tremendous 100% varietal wine hails from Oakville and was aged over three years in oak. Juicy red-cherry fruit and a compelling hint of caramel greet the palate, framed by elegant, fine tannins and a subtle minty tone in the background. Balanced and rewarding from start to finish, it has years ahead of it to develop further nuance. Enjoy 2022–2030.                                                                        |Martha's Vineyard                   |96    |235.0|California        |Napa Valley              |Cabernet Sauvignon|Heitz                  |[this, tremendous, 100%, varietal, wine, hails, from, oakville, and, was, aged, over, three, years, in, oak., juicy, red-cherry, fruit, and, a, compelling, hint, of, caramel, greet, the, palate,, framed, by, elegant,, fine, tannins, and, a, subtle, minty, tone, in, the, background., balanced, and, rewarding, from, start, to, finish,, it, has, years, ahead, of, it, to, develop, further, nuance., enjoy, 2022–2030.]                                                                                |60    |[tremendous, 100%, varietal, wine, hails, oakville, aged, three, years, oak., juicy, red-cherry, fruit, compelling, hint, caramel, greet, palate,, framed, elegant,, fine, tannins, subtle, minty, tone, background., balanced, rewarding, start, finish,, years, ahead, develop, nuance., enjoy, 2022–2030.]                                                                       |\n",
            "|1  |Spain  |Ripe aromas of fig, blackberry and cassis are softened and sweetened by a slathering of oaky chocolate and vanilla. This is full, layered, intense and cushioned on the palate, with rich flavors of chocolaty black fruits and baking spices. A toasty, everlasting finish is heady but ideally balanced. Drink through 2023.                                                                                                             |Carodorum Selección Especial Reserva|96    |110.0|Northern Spain    |Toro                     |Tinta de Toro     |Bodega Carmen Rodríguez|[ripe, aromas, of, fig,, blackberry, and, cassis, are, softened, and, sweetened, by, a, slathering, of, oaky, chocolate, and, vanilla., this, is, full,, layered,, intense, and, cushioned, on, the, palate,, with, rich, flavors, of, chocolaty, black, fruits, and, baking, spices., a, toasty,, everlasting, finish, is, heady, but, ideally, balanced., drink, through, 2023.]                                                                                                                              |51    |[ripe, aromas, fig,, blackberry, cassis, softened, sweetened, slathering, oaky, chocolate, vanilla., full,, layered,, intense, cushioned, palate,, rich, flavors, chocolaty, black, fruits, baking, spices., toasty,, everlasting, finish, heady, ideally, balanced., drink, 2023.]                                                                                                 |\n",
            "|2  |US     |Mac Watson honors the memory of a wine once made by his mother in this tremendously delicious, balanced and complex botrytised white. Dark gold in color, it layers toasted hazelnut, pear compote and orange peel flavors, reveling in the succulence of its 122 g/L of residual sugar.                                                                                                                                                   |Special Selected Late Harvest       |96    |90.0 |California        |Knights Valley           |Sauvignon Blanc   |Macauley               |[mac, watson, honors, the, memory, of, a, wine, once, made, by, his, mother, in, this, tremendously, delicious,, balanced, and, complex, botrytised, white., dark, gold, in, color,, it, layers, toasted, hazelnut,, pear, compote, and, orange, peel, flavors,, reveling, in, the, succulence, of, its, 122, g/l, of, residual, sugar.]                                                                                                                                                                        |47    |[mac, watson, honors, memory, wine, made, mother, tremendously, delicious,, balanced, complex, botrytised, white., dark, gold, color,, layers, toasted, hazelnut,, pear, compote, orange, peel, flavors,, reveling, succulence, 122, g/l, residual, sugar.]                                                                                                                         |\n",
            "|3  |US     |This spent 20 months in 30% new French oak, and incorporates fruit from Ponzi's Aurora, Abetina and Madrona vineyards, among others. Aromatic, dense and toasty, it deftly blends aromas and flavors of toast, cigar box, blackberry, black cherry, coffee and graphite. Tannins are polished to a fine sheen, and frame a finish loaded with dark chocolate and espresso. Drink now through 2032.                                         |Reserve                             |96    |65.0 |Oregon            |Willamette Valley        |Pinot Noir        |Ponzi                  |[this, spent, 20, months, in, 30%, new, french, oak,, and, incorporates, fruit, from, ponzi's, aurora,, abetina, and, madrona, vineyards,, among, others., aromatic,, dense, and, toasty,, it, deftly, blends, aromas, and, flavors, of, toast,, cigar, box,, blackberry,, black, cherry,, coffee, and, graphite., tannins, are, polished, to, a, fine, sheen,, and, frame, a, finish, loaded, with, dark, chocolate, and, espresso., drink, now, through, 2032.]                                               |62    |[spent, 20, months, 30%, new, french, oak,, incorporates, fruit, ponzi's, aurora,, abetina, madrona, vineyards,, among, others., aromatic,, dense, toasty,, deftly, blends, aromas, flavors, toast,, cigar, box,, blackberry,, black, cherry,, coffee, graphite., tannins, polished, fine, sheen,, frame, finish, loaded, dark, chocolate, espresso., drink, 2032.]                 |\n",
            "|4  |France |This is the top wine from La Bégude, named after the highest point in the vineyard at 1200 feet. It has structure, density and considerable acidity that is still calming down. With 18 months in wood, the wine has developing an extra richness and concentration. Produced by the Tari family, formerly of Château Giscours in Margaux, it is a wine made for aging. Drink from 2020.                                                   |La Brûlade                          |95    |66.0 |Provence          |Bandol                   |Provence red blend|Domaine de la Bégude   |[this, is, the, top, wine, from, la, bégude,, named, after, the, highest, point, in, the, vineyard, at, 1200, feet., it, has, structure,, density, and, considerable, acidity, that, is, still, calming, down., with, 18, months, in, wood,, the, wine, has, developing, an, extra, richness, and, concentration., produced, by, the, tari, family,, formerly, of, château, giscours, in, margaux,, it, is, a, wine, made, for, aging., drink, from, 2020.]                                                     |66    |[top, wine, la, bégude,, named, highest, point, vineyard, 1200, feet., structure,, density, considerable, acidity, still, calming, down., 18, months, wood,, wine, developing, extra, richness, concentration., produced, tari, family,, formerly, château, giscours, margaux,, wine, made, aging., drink, 2020.]                                                                   |\n",
            "|5  |Spain  |Deep, dense and pure from the opening bell, this Toro is a winner. Aromas of dark ripe black fruits are cool and moderately oaked. This feels massive on the palate but sensationally balanced. Flavors of blackberry, coffee, mocha and toasty oak finish spicy, smooth and heady. Drink this exemplary Toro through 2023.                                                                                                                |Numanthia                           |95    |73.0 |Northern Spain    |Toro                     |Tinta de Toro     |Numanthia              |[deep,, dense, and, pure, from, the, opening, bell,, this, toro, is, a, winner., aromas, of, dark, ripe, black, fruits, are, cool, and, moderately, oaked., this, feels, massive, on, the, palate, but, sensationally, balanced., flavors, of, blackberry,, coffee,, mocha, and, toasty, oak, finish, spicy,, smooth, and, heady., drink, this, exemplary, toro, through, 2023.]                                                                                                                                |52    |[deep,, dense, pure, opening, bell,, toro, winner., aromas, dark, ripe, black, fruits, cool, moderately, oaked., feels, massive, palate, sensationally, balanced., flavors, blackberry,, coffee,, mocha, toasty, oak, finish, spicy,, smooth, heady., drink, exemplary, toro, 2023.]                                                                                                |\n",
            "|6  |Spain  |Slightly gritty black-fruit aromas include a sweet note of pastry along with a hint of prune. Wall-to-wall saturation ensures that all corners of one's mouth are covered. Flavors of blackberry, mocha and chocolate are highly impressive and expressive, while this settles nicely on a long finish. Drink now through 2024.                                                                                                            |San Román                           |95    |65.0 |Northern Spain    |Toro                     |Tinta de Toro     |Maurodos               |[slightly, gritty, black-fruit, aromas, include, a, sweet, note, of, pastry, along, with, a, hint, of, prune., wall-to-wall, saturation, ensures, that, all, corners, of, one's, mouth, are, covered., flavors, of, blackberry,, mocha, and, chocolate, are, highly, impressive, and, expressive,, while, this, settles, nicely, on, a, long, finish., drink, now, through, 2024.]                                                                                                                              |50    |[slightly, gritty, black-fruit, aromas, include, sweet, note, pastry, along, hint, prune., wall-to-wall, saturation, ensures, corners, one's, mouth, covered., flavors, blackberry,, mocha, chocolate, highly, impressive, expressive,, settles, nicely, long, finish., drink, 2024.]                                                                                               |\n",
            "|7  |Spain  |Lush cedary black-fruit aromas are luxe and offer notes of marzipan and vanilla. This bruiser is massive and tannic on the palate, but still lush and friendly. Chocolate is a key flavor, while baked berry and cassis flavors are hardly wallflowers. On the finish, this is tannic and deep as a sea trench. Drink this saturated black-colored Toro through 2023.                                                                      |Carodorum Único Crianza             |95    |110.0|Northern Spain    |Toro                     |Tinta de Toro     |Bodega Carmen Rodríguez|[lush, cedary, black-fruit, aromas, are, luxe, and, offer, notes, of, marzipan, and, vanilla., this, bruiser, is, massive, and, tannic, on, the, palate,, but, still, lush, and, friendly., chocolate, is, a, key, flavor,, while, baked, berry, and, cassis, flavors, are, hardly, wallflowers., on, the, finish,, this, is, tannic, and, deep, as, a, sea, trench., drink, this, saturated, black-colored, toro, through, 2023.]                                                                              |60    |[lush, cedary, black-fruit, aromas, luxe, offer, notes, marzipan, vanilla., bruiser, massive, tannic, palate,, still, lush, friendly., chocolate, key, flavor,, baked, berry, cassis, flavors, hardly, wallflowers., finish,, tannic, deep, sea, trench., drink, saturated, black-colored, toro, 2023.]                                                                             |\n",
            "|8  |US     |This re-named vineyard was formerly bottled as deLancellotti. You'll find striking minerality underscoring chunky black fruits. Accents of citrus and graphite comingle, with exceptional midpalate concentration. This is a wine to cellar, though it is already quite enjoyable. Drink now through 2030.                                                                                                                                 |Silice                              |95    |65.0 |Oregon            |Chehalem Mountains       |Pinot Noir        |Bergström              |[this, re-named, vineyard, was, formerly, bottled, as, delancellotti., you'll, find, striking, minerality, underscoring, chunky, black, fruits., accents, of, citrus, and, graphite, comingle,, with, exceptional, midpalate, concentration., this, is, a, wine, to, cellar,, though, it, is, already, quite, enjoyable., drink, now, through, 2030.]                                                                                                                                                           |42    |[re-named, vineyard, formerly, bottled, delancellotti., find, striking, minerality, underscoring, chunky, black, fruits., accents, citrus, graphite, comingle,, exceptional, midpalate, concentration., wine, cellar,, though, already, quite, enjoyable., drink, 2030.]                                                                                                            |\n",
            "|9  |US     |The producer sources from two blocks of the vineyard for this wine—one at a high elevation, which contributes bright acidity. Crunchy cranberry, pomegranate and orange peel flavors surround silky, succulent layers of texture that present as fleshy fruit. That delicately lush flavor has considerable length.                                                                                                                        |Gap's Crown Vineyard                |95    |60.0 |California        |Sonoma Coast             |Pinot Noir        |Blue Farm              |[the, producer, sources, from, two, blocks, of, the, vineyard, for, this, wine—one, at, a, high, elevation,, which, contributes, bright, acidity., crunchy, cranberry,, pomegranate, and, orange, peel, flavors, surround, silky,, succulent, layers, of, texture, that, present, as, fleshy, fruit., that, delicately, lush, flavor, has, considerable, length.]                                                                                                                                               |45    |[producer, sources, two, blocks, vineyard, wine—one, high, elevation,, contributes, bright, acidity., crunchy, cranberry,, pomegranate, orange, peel, flavors, surround, silky,, succulent, layers, texture, present, fleshy, fruit., delicately, lush, flavor, considerable, length.]                                                                                              |\n",
            "|10 |Italy  |Elegance, complexity and structure come together in this drop-dead gorgeous winethat ranks among Italy's greatest whites. It opens with sublime yellow spring flower, aromatic herb and orchard fruit scents. The creamy, delicious palate seamlessly combines juicy white peach, ripe pear and citrus flavors while white almond and savory mineral notes grace the lingering finish.                                                     |Ronco della Chiesa                  |95    |80.0 |Northeastern Italy|Collio                   |Friulano          |Borgo del Tiglio       |[elegance,, complexity, and, structure, come, together, in, this, drop-dead, gorgeous, winethat, ranks, among, italy's, greatest, whites., it, opens, with, sublime, yellow, spring, flower,, aromatic, herb, and, orchard, fruit, scents., the, creamy,, delicious, palate, seamlessly, combines, juicy, white, peach,, ripe, pear, and, citrus, flavors, while, white, almond, and, savory, mineral, notes, grace, the, lingering, finish.]                                                                   |54    |[elegance,, complexity, structure, come, together, drop-dead, gorgeous, winethat, ranks, among, italy's, greatest, whites., opens, sublime, yellow, spring, flower,, aromatic, herb, orchard, fruit, scents., creamy,, delicious, palate, seamlessly, combines, juicy, white, peach,, ripe, pear, citrus, flavors, white, almond, savory, mineral, notes, grace, lingering, finish.]|\n",
            "|11 |US     |From 18-year-old vines, this supple well-balanced effort blends flavors of mocha, cherry, vanilla and breakfast tea. Superbly integrated and delicious even at this early stage, this wine seems destined for a long and savory cellar life. Drink now through 2028.                                                                                                                                                                       |Estate Vineyard Wadensvil Block     |95    |48.0 |Oregon            |Ribbon Ridge             |Pinot Noir        |Patricia Green Cellars |[from, 18-year-old, vines,, this, supple, well-balanced, effort, blends, flavors, of, mocha,, cherry,, vanilla, and, breakfast, tea., superbly, integrated, and, delicious, even, at, this, early, stage,, this, wine, seems, destined, for, a, long, and, savory, cellar, life., drink, now, through, 2028.]                                                                                                                                                                                                   |40    |[18-year-old, vines,, supple, well-balanced, effort, blends, flavors, mocha,, cherry,, vanilla, breakfast, tea., superbly, integrated, delicious, even, early, stage,, wine, seems, destined, long, savory, cellar, life., drink, 2028.]                                                                                                                                            |\n",
            "|12 |US     |A standout even in this terrific lineup of 2015 releases from Patricia Green, the Weber opens with a burst of cola and tobacco scents and accents. It continues, subtle and detailed, with flavors of oranges, vanilla, tea and milk chocolate discreetly threaded through ripe blackberry fruit.                                                                                                                                          |Weber Vineyard                      |95    |48.0 |Oregon            |Dundee Hills             |Pinot Noir        |Patricia Green Cellars |[a, standout, even, in, this, terrific, lineup, of, 2015, releases, from, patricia, green,, the, weber, opens, with, a, burst, of, cola, and, tobacco, scents, and, accents., it, continues,, subtle, and, detailed,, with, flavors, of, oranges,, vanilla,, tea, and, milk, chocolate, discreetly, threaded, through, ripe, blackberry, fruit.]                                                                                                                                                                |46    |[standout, even, terrific, lineup, 2015, releases, patricia, green,, weber, opens, burst, cola, tobacco, scents, accents., continues,, subtle, detailed,, flavors, oranges,, vanilla,, tea, milk, chocolate, discreetly, threaded, ripe, blackberry, fruit.]                                                                                                                        |\n",
            "|13 |France |This wine is in peak condition. The tannins and the secondary flavors dominate this ripe leather-textured wine. The fruit is all there as well: dried berries and hints of black-plum skins. It is a major wine right at the point of drinking with both the mature flavors and the fruit in the right balance.                                                                                                                            |Château Montus Prestige             |95    |90.0 |Southwest France  |Madiran                  |Tannat            |Vignobles Brumont      |[this, wine, is, in, peak, condition., the, tannins, and, the, secondary, flavors, dominate, this, ripe, leather-textured, wine., the, fruit, is, all, there, as, well:, dried, berries, and, hints, of, black-plum, skins., it, is, a, major, wine, right, at, the, point, of, drinking, with, both, the, mature, flavors, and, the, fruit, in, the, right, balance.]                                                                                                                                          |54    |[wine, peak, condition., tannins, secondary, flavors, dominate, ripe, leather-textured, wine., fruit, well:, dried, berries, hints, black-plum, skins., major, wine, right, point, drinking, mature, flavors, fruit, right, balance.]                                                                                                                                               |\n",
            "|14 |US     |With its sophisticated mix of mineral, acid and tart fruits, this seductive effort pleases from start to finish. Supple and dense, it's got strawberry, blueberry, plum and black cherry, a touch of chocolate, and that underlying streak of mineral. All these elements are in good proportion and finish with an appealing silky texture. It's delicious already, but give it another decade for full enjoyment. Drink now through 2028.|Grace Vineyard                      |95    |185.0|Oregon            |Dundee Hills             |Pinot Noir        |Domaine Serene         |[with, its, sophisticated, mix, of, mineral,, acid, and, tart, fruits,, this, seductive, effort, pleases, from, start, to, finish., supple, and, dense,, it's, got, strawberry,, blueberry,, plum, and, black, cherry,, a, touch, of, chocolate,, and, that, underlying, streak, of, mineral., all, these, elements, are, in, good, proportion, and, finish, with, an, appealing, silky, texture., it's, delicious, already,, but, give, it, another, decade, for, full, enjoyment., drink, now, through, 2028.]|68    |[sophisticated, mix, mineral,, acid, tart, fruits,, seductive, effort, pleases, start, finish., supple, dense,, got, strawberry,, blueberry,, plum, black, cherry,, touch, chocolate,, underlying, streak, mineral., elements, good, proportion, finish, appealing, silky, texture., delicious, already,, give, another, decade, full, enjoyment., drink, 2028.]                    |\n",
            "|15 |US     |First made in 2006, this succulent luscious Chardonnay is all about minerality. It's got a rich core of butterscotch and the seemingly endless layers of subtle flavors that biodynamic farming can bring. It spends 18 months on the lees prior to bottling. Drink now through 2028.                                                                                                                                                      |Sigrid                              |95    |90.0 |Oregon            |Willamette Valley        |Chardonnay        |Bergström              |[first, made, in, 2006,, this, succulent, luscious, chardonnay, is, all, about, minerality., it's, got, a, rich, core, of, butterscotch, and, the, seemingly, endless, layers, of, subtle, flavors, that, biodynamic, farming, can, bring., it, spends, 18, months, on, the, lees, prior, to, bottling., drink, now, through, 2028.]                                                                                                                                                                            |46    |[first, made, 2006,, succulent, luscious, chardonnay, minerality., got, rich, core, butterscotch, seemingly, endless, layers, subtle, flavors, biodynamic, farming, bring., spends, 18, months, lees, prior, bottling., drink, 2028.]                                                                                                                                               |\n",
            "|16 |US     |This blockbuster, powerhouse of a wine suggests blueberry pie and chocolate as it opens in the glass. On the palate, it's smooth and seductively silky, offering complex cedar, peppercorn and peppery oak seasonings amidst its dense richness. It finishes with finesse and spice.                                                                                                                                                       |Rainin Vineyard                     |95    |325.0|California        |Diamond Mountain District|Cabernet Sauvignon|Hall                   |[this, blockbuster,, powerhouse, of, a, wine, suggests, blueberry, pie, and, chocolate, as, it, opens, in, the, glass., on, the, palate,, it's, smooth, and, seductively, silky,, offering, complex, cedar,, peppercorn, and, peppery, oak, seasonings, amidst, its, dense, richness., it, finishes, with, finesse, and, spice.]                                                                                                                                                                                |43    |[blockbuster,, powerhouse, wine, suggests, blueberry, pie, chocolate, opens, glass., palate,, smooth, seductively, silky,, offering, complex, cedar,, peppercorn, peppery, oak, seasonings, amidst, dense, richness., finishes, finesse, spice.]                                                                                                                                    |\n",
            "|17 |Spain  |Nicely oaked blackberry, licorice, vanilla and charred aromas are smooth and sultry. This is an outstanding wine from an excellent year. Forward barrel-spice and mocha flavors adorn core blackberry and raspberry fruit, while this runs long and tastes vaguely chocolaty on the velvety finish. Enjoy this top-notch Tempranillo through 2030.                                                                                         |6 Años Reserva Premium              |95    |80.0 |Northern Spain    |Ribera del Duero         |Tempranillo       |Valduero               |[nicely, oaked, blackberry,, licorice,, vanilla, and, charred, aromas, are, smooth, and, sultry., this, is, an, outstanding, wine, from, an, excellent, year., forward, barrel-spice, and, mocha, flavors, adorn, core, blackberry, and, raspberry, fruit,, while, this, runs, long, and, tastes, vaguely, chocolaty, on, the, velvety, finish., enjoy, this, top-notch, tempranillo, through, 2030.]                                                                                                           |50    |[nicely, oaked, blackberry,, licorice,, vanilla, charred, aromas, smooth, sultry., outstanding, wine, excellent, year., forward, barrel-spice, mocha, flavors, adorn, core, blackberry, raspberry, fruit,, runs, long, tastes, vaguely, chocolaty, velvety, finish., enjoy, top-notch, tempranillo, 2030.]                                                                          |\n",
            "|18 |France |Coming from a seven-acre vineyard named after the dovecote on the property, this is a magnificent wine. Powered by both fruit tannins and the 28 months of new wood aging, it is darkly rich and with great concentration. As a sign of its pedigree, there is also elegance here, a restraint which is new to this wine. That makes it a wine for long-term aging. Drink from 2022.                                                       |Le Pigeonnier                       |95    |290.0|Southwest France  |Cahors                   |Malbec            |Château Lagrézette     |[coming, from, a, seven-acre, vineyard, named, after, the, dovecote, on, the, property,, this, is, a, magnificent, wine., powered, by, both, fruit, tannins, and, the, 28, months, of, new, wood, aging,, it, is, darkly, rich, and, with, great, concentration., as, a, sign, of, its, pedigree,, there, is, also, elegance, here,, a, restraint, which, is, new, to, this, wine., that, makes, it, a, wine, for, long-term, aging., drink, from, 2022.]                                                       |68    |[coming, seven-acre, vineyard, named, dovecote, property,, magnificent, wine., powered, fruit, tannins, 28, months, new, wood, aging,, darkly, rich, great, concentration., sign, pedigree,, also, elegance, here,, restraint, new, wine., makes, wine, long-term, aging., drink, 2022.]                                                                                            |\n",
            "|19 |US     |This fresh and lively medium-bodied wine is beautifully crafted, with cherry blossom aromas and tangy acidity. Layered and seductive, it offers a crisp mix of orange peel, cherry, pomegranate and baking spice flavors that are ready for the table or the cellar.                                                                                                                                                                       |Gap's Crown Vineyard                |95    |75.0 |California        |Sonoma Coast             |Pinot Noir        |Gary Farrell           |[this, fresh, and, lively, medium-bodied, wine, is, beautifully, crafted,, with, cherry, blossom, aromas, and, tangy, acidity., layered, and, seductive,, it, offers, a, crisp, mix, of, orange, peel,, cherry,, pomegranate, and, baking, spice, flavors, that, are, ready, for, the, table, or, the, cellar.]                                                                                                                                                                                                 |42    |[fresh, lively, medium-bodied, wine, beautifully, crafted,, cherry, blossom, aromas, tangy, acidity., layered, seductive,, offers, crisp, mix, orange, peel,, cherry,, pomegranate, baking, spice, flavors, ready, table, cellar.]                                                                                                                                                  |\n",
            "+---+-------+-------------------------------------------------------------------------------------------------------------------------------------------------------------------------------------------------------------------------------------------------------------------------------------------------------------------------------------------------------------------------------------------------------------------------------------------+------------------------------------+------+-----+------------------+-------------------------+------------------+-----------------------+----------------------------------------------------------------------------------------------------------------------------------------------------------------------------------------------------------------------------------------------------------------------------------------------------------------------------------------------------------------------------------------------------------------------------------------------------------------------------------------------------------------+------+------------------------------------------------------------------------------------------------------------------------------------------------------------------------------------------------------------------------------------------------------------------------------------------------------------------------------------------------------------------------------------+\n",
            "only showing top 20 rows\n",
            "\n"
          ],
          "name": "stdout"
        }
      ]
    },
    {
      "cell_type": "code",
      "metadata": {
        "id": "i0pgtDb461kG",
        "colab": {
          "base_uri": "https://localhost:8080/"
        },
        "outputId": "08bcca42-d1d8-4405-e63a-0a297dececd7"
      },
      "source": [
        "# Select the needed column and don't truncate results\n",
        "filtered_tokens_df = removed_df.withColumn(\"filtered_tokens\", count_tokens(col(\"filtered\")))\n",
        "filtered_tokens_df.show(truncate=False)"
      ],
      "execution_count": 21,
      "outputs": [
        {
          "output_type": "stream",
          "text": [
            "+---+-------+-------------------------------------------------------------------------------------------------------------------------------------------------------------------------------------------------------------------------------------------------------------------------------------------------------------------------------------------------------------------------------------------------------------------------------------------+------------------------------------+------+-----+------------------+-------------------------+------------------+-----------------------+----------------------------------------------------------------------------------------------------------------------------------------------------------------------------------------------------------------------------------------------------------------------------------------------------------------------------------------------------------------------------------------------------------------------------------------------------------------------------------------------------------------+------+------------------------------------------------------------------------------------------------------------------------------------------------------------------------------------------------------------------------------------------------------------------------------------------------------------------------------------------------------------------------------------+---------------+\n",
            "|_c0|country|description                                                                                                                                                                                                                                                                                                                                                                                                                                |designation                         |points|price|province          |region_1                 |variety           |winery                 |words                                                                                                                                                                                                                                                                                                                                                                                                                                                                                                           |tokens|filtered                                                                                                                                                                                                                                                                                                                                                                            |filtered_tokens|\n",
            "+---+-------+-------------------------------------------------------------------------------------------------------------------------------------------------------------------------------------------------------------------------------------------------------------------------------------------------------------------------------------------------------------------------------------------------------------------------------------------+------------------------------------+------+-----+------------------+-------------------------+------------------+-----------------------+----------------------------------------------------------------------------------------------------------------------------------------------------------------------------------------------------------------------------------------------------------------------------------------------------------------------------------------------------------------------------------------------------------------------------------------------------------------------------------------------------------------+------+------------------------------------------------------------------------------------------------------------------------------------------------------------------------------------------------------------------------------------------------------------------------------------------------------------------------------------------------------------------------------------+---------------+\n",
            "|0  |US     |This tremendous 100% varietal wine hails from Oakville and was aged over three years in oak. Juicy red-cherry fruit and a compelling hint of caramel greet the palate, framed by elegant, fine tannins and a subtle minty tone in the background. Balanced and rewarding from start to finish, it has years ahead of it to develop further nuance. Enjoy 2022–2030.                                                                        |Martha's Vineyard                   |96    |235.0|California        |Napa Valley              |Cabernet Sauvignon|Heitz                  |[this, tremendous, 100%, varietal, wine, hails, from, oakville, and, was, aged, over, three, years, in, oak., juicy, red-cherry, fruit, and, a, compelling, hint, of, caramel, greet, the, palate,, framed, by, elegant,, fine, tannins, and, a, subtle, minty, tone, in, the, background., balanced, and, rewarding, from, start, to, finish,, it, has, years, ahead, of, it, to, develop, further, nuance., enjoy, 2022–2030.]                                                                                |60    |[tremendous, 100%, varietal, wine, hails, oakville, aged, three, years, oak., juicy, red-cherry, fruit, compelling, hint, caramel, greet, palate,, framed, elegant,, fine, tannins, subtle, minty, tone, background., balanced, rewarding, start, finish,, years, ahead, develop, nuance., enjoy, 2022–2030.]                                                                       |36             |\n",
            "|1  |Spain  |Ripe aromas of fig, blackberry and cassis are softened and sweetened by a slathering of oaky chocolate and vanilla. This is full, layered, intense and cushioned on the palate, with rich flavors of chocolaty black fruits and baking spices. A toasty, everlasting finish is heady but ideally balanced. Drink through 2023.                                                                                                             |Carodorum Selección Especial Reserva|96    |110.0|Northern Spain    |Toro                     |Tinta de Toro     |Bodega Carmen Rodríguez|[ripe, aromas, of, fig,, blackberry, and, cassis, are, softened, and, sweetened, by, a, slathering, of, oaky, chocolate, and, vanilla., this, is, full,, layered,, intense, and, cushioned, on, the, palate,, with, rich, flavors, of, chocolaty, black, fruits, and, baking, spices., a, toasty,, everlasting, finish, is, heady, but, ideally, balanced., drink, through, 2023.]                                                                                                                              |51    |[ripe, aromas, fig,, blackberry, cassis, softened, sweetened, slathering, oaky, chocolate, vanilla., full,, layered,, intense, cushioned, palate,, rich, flavors, chocolaty, black, fruits, baking, spices., toasty,, everlasting, finish, heady, ideally, balanced., drink, 2023.]                                                                                                 |31             |\n",
            "|2  |US     |Mac Watson honors the memory of a wine once made by his mother in this tremendously delicious, balanced and complex botrytised white. Dark gold in color, it layers toasted hazelnut, pear compote and orange peel flavors, reveling in the succulence of its 122 g/L of residual sugar.                                                                                                                                                   |Special Selected Late Harvest       |96    |90.0 |California        |Knights Valley           |Sauvignon Blanc   |Macauley               |[mac, watson, honors, the, memory, of, a, wine, once, made, by, his, mother, in, this, tremendously, delicious,, balanced, and, complex, botrytised, white., dark, gold, in, color,, it, layers, toasted, hazelnut,, pear, compote, and, orange, peel, flavors,, reveling, in, the, succulence, of, its, 122, g/l, of, residual, sugar.]                                                                                                                                                                        |47    |[mac, watson, honors, memory, wine, made, mother, tremendously, delicious,, balanced, complex, botrytised, white., dark, gold, color,, layers, toasted, hazelnut,, pear, compote, orange, peel, flavors,, reveling, succulence, 122, g/l, residual, sugar.]                                                                                                                         |30             |\n",
            "|3  |US     |This spent 20 months in 30% new French oak, and incorporates fruit from Ponzi's Aurora, Abetina and Madrona vineyards, among others. Aromatic, dense and toasty, it deftly blends aromas and flavors of toast, cigar box, blackberry, black cherry, coffee and graphite. Tannins are polished to a fine sheen, and frame a finish loaded with dark chocolate and espresso. Drink now through 2032.                                         |Reserve                             |96    |65.0 |Oregon            |Willamette Valley        |Pinot Noir        |Ponzi                  |[this, spent, 20, months, in, 30%, new, french, oak,, and, incorporates, fruit, from, ponzi's, aurora,, abetina, and, madrona, vineyards,, among, others., aromatic,, dense, and, toasty,, it, deftly, blends, aromas, and, flavors, of, toast,, cigar, box,, blackberry,, black, cherry,, coffee, and, graphite., tannins, are, polished, to, a, fine, sheen,, and, frame, a, finish, loaded, with, dark, chocolate, and, espresso., drink, now, through, 2032.]                                               |62    |[spent, 20, months, 30%, new, french, oak,, incorporates, fruit, ponzi's, aurora,, abetina, madrona, vineyards,, among, others., aromatic,, dense, toasty,, deftly, blends, aromas, flavors, toast,, cigar, box,, blackberry,, black, cherry,, coffee, graphite., tannins, polished, fine, sheen,, frame, finish, loaded, dark, chocolate, espresso., drink, 2032.]                 |43             |\n",
            "|4  |France |This is the top wine from La Bégude, named after the highest point in the vineyard at 1200 feet. It has structure, density and considerable acidity that is still calming down. With 18 months in wood, the wine has developing an extra richness and concentration. Produced by the Tari family, formerly of Château Giscours in Margaux, it is a wine made for aging. Drink from 2020.                                                   |La Brûlade                          |95    |66.0 |Provence          |Bandol                   |Provence red blend|Domaine de la Bégude   |[this, is, the, top, wine, from, la, bégude,, named, after, the, highest, point, in, the, vineyard, at, 1200, feet., it, has, structure,, density, and, considerable, acidity, that, is, still, calming, down., with, 18, months, in, wood,, the, wine, has, developing, an, extra, richness, and, concentration., produced, by, the, tari, family,, formerly, of, château, giscours, in, margaux,, it, is, a, wine, made, for, aging., drink, from, 2020.]                                                     |66    |[top, wine, la, bégude,, named, highest, point, vineyard, 1200, feet., structure,, density, considerable, acidity, still, calming, down., 18, months, wood,, wine, developing, extra, richness, concentration., produced, tari, family,, formerly, château, giscours, margaux,, wine, made, aging., drink, 2020.]                                                                   |37             |\n",
            "|5  |Spain  |Deep, dense and pure from the opening bell, this Toro is a winner. Aromas of dark ripe black fruits are cool and moderately oaked. This feels massive on the palate but sensationally balanced. Flavors of blackberry, coffee, mocha and toasty oak finish spicy, smooth and heady. Drink this exemplary Toro through 2023.                                                                                                                |Numanthia                           |95    |73.0 |Northern Spain    |Toro                     |Tinta de Toro     |Numanthia              |[deep,, dense, and, pure, from, the, opening, bell,, this, toro, is, a, winner., aromas, of, dark, ripe, black, fruits, are, cool, and, moderately, oaked., this, feels, massive, on, the, palate, but, sensationally, balanced., flavors, of, blackberry,, coffee,, mocha, and, toasty, oak, finish, spicy,, smooth, and, heady., drink, this, exemplary, toro, through, 2023.]                                                                                                                                |52    |[deep,, dense, pure, opening, bell,, toro, winner., aromas, dark, ripe, black, fruits, cool, moderately, oaked., feels, massive, palate, sensationally, balanced., flavors, blackberry,, coffee,, mocha, toasty, oak, finish, spicy,, smooth, heady., drink, exemplary, toro, 2023.]                                                                                                |34             |\n",
            "|6  |Spain  |Slightly gritty black-fruit aromas include a sweet note of pastry along with a hint of prune. Wall-to-wall saturation ensures that all corners of one's mouth are covered. Flavors of blackberry, mocha and chocolate are highly impressive and expressive, while this settles nicely on a long finish. Drink now through 2024.                                                                                                            |San Román                           |95    |65.0 |Northern Spain    |Toro                     |Tinta de Toro     |Maurodos               |[slightly, gritty, black-fruit, aromas, include, a, sweet, note, of, pastry, along, with, a, hint, of, prune., wall-to-wall, saturation, ensures, that, all, corners, of, one's, mouth, are, covered., flavors, of, blackberry,, mocha, and, chocolate, are, highly, impressive, and, expressive,, while, this, settles, nicely, on, a, long, finish., drink, now, through, 2024.]                                                                                                                              |50    |[slightly, gritty, black-fruit, aromas, include, sweet, note, pastry, along, hint, prune., wall-to-wall, saturation, ensures, corners, one's, mouth, covered., flavors, blackberry,, mocha, chocolate, highly, impressive, expressive,, settles, nicely, long, finish., drink, 2024.]                                                                                               |31             |\n",
            "|7  |Spain  |Lush cedary black-fruit aromas are luxe and offer notes of marzipan and vanilla. This bruiser is massive and tannic on the palate, but still lush and friendly. Chocolate is a key flavor, while baked berry and cassis flavors are hardly wallflowers. On the finish, this is tannic and deep as a sea trench. Drink this saturated black-colored Toro through 2023.                                                                      |Carodorum Único Crianza             |95    |110.0|Northern Spain    |Toro                     |Tinta de Toro     |Bodega Carmen Rodríguez|[lush, cedary, black-fruit, aromas, are, luxe, and, offer, notes, of, marzipan, and, vanilla., this, bruiser, is, massive, and, tannic, on, the, palate,, but, still, lush, and, friendly., chocolate, is, a, key, flavor,, while, baked, berry, and, cassis, flavors, are, hardly, wallflowers., on, the, finish,, this, is, tannic, and, deep, as, a, sea, trench., drink, this, saturated, black-colored, toro, through, 2023.]                                                                              |60    |[lush, cedary, black-fruit, aromas, luxe, offer, notes, marzipan, vanilla., bruiser, massive, tannic, palate,, still, lush, friendly., chocolate, key, flavor,, baked, berry, cassis, flavors, hardly, wallflowers., finish,, tannic, deep, sea, trench., drink, saturated, black-colored, toro, 2023.]                                                                             |35             |\n",
            "|8  |US     |This re-named vineyard was formerly bottled as deLancellotti. You'll find striking minerality underscoring chunky black fruits. Accents of citrus and graphite comingle, with exceptional midpalate concentration. This is a wine to cellar, though it is already quite enjoyable. Drink now through 2030.                                                                                                                                 |Silice                              |95    |65.0 |Oregon            |Chehalem Mountains       |Pinot Noir        |Bergström              |[this, re-named, vineyard, was, formerly, bottled, as, delancellotti., you'll, find, striking, minerality, underscoring, chunky, black, fruits., accents, of, citrus, and, graphite, comingle,, with, exceptional, midpalate, concentration., this, is, a, wine, to, cellar,, though, it, is, already, quite, enjoyable., drink, now, through, 2030.]                                                                                                                                                           |42    |[re-named, vineyard, formerly, bottled, delancellotti., find, striking, minerality, underscoring, chunky, black, fruits., accents, citrus, graphite, comingle,, exceptional, midpalate, concentration., wine, cellar,, though, already, quite, enjoyable., drink, 2030.]                                                                                                            |27             |\n",
            "|9  |US     |The producer sources from two blocks of the vineyard for this wine—one at a high elevation, which contributes bright acidity. Crunchy cranberry, pomegranate and orange peel flavors surround silky, succulent layers of texture that present as fleshy fruit. That delicately lush flavor has considerable length.                                                                                                                        |Gap's Crown Vineyard                |95    |60.0 |California        |Sonoma Coast             |Pinot Noir        |Blue Farm              |[the, producer, sources, from, two, blocks, of, the, vineyard, for, this, wine—one, at, a, high, elevation,, which, contributes, bright, acidity., crunchy, cranberry,, pomegranate, and, orange, peel, flavors, surround, silky,, succulent, layers, of, texture, that, present, as, fleshy, fruit., that, delicately, lush, flavor, has, considerable, length.]                                                                                                                                               |45    |[producer, sources, two, blocks, vineyard, wine—one, high, elevation,, contributes, bright, acidity., crunchy, cranberry,, pomegranate, orange, peel, flavors, surround, silky,, succulent, layers, texture, present, fleshy, fruit., delicately, lush, flavor, considerable, length.]                                                                                              |30             |\n",
            "|10 |Italy  |Elegance, complexity and structure come together in this drop-dead gorgeous winethat ranks among Italy's greatest whites. It opens with sublime yellow spring flower, aromatic herb and orchard fruit scents. The creamy, delicious palate seamlessly combines juicy white peach, ripe pear and citrus flavors while white almond and savory mineral notes grace the lingering finish.                                                     |Ronco della Chiesa                  |95    |80.0 |Northeastern Italy|Collio                   |Friulano          |Borgo del Tiglio       |[elegance,, complexity, and, structure, come, together, in, this, drop-dead, gorgeous, winethat, ranks, among, italy's, greatest, whites., it, opens, with, sublime, yellow, spring, flower,, aromatic, herb, and, orchard, fruit, scents., the, creamy,, delicious, palate, seamlessly, combines, juicy, white, peach,, ripe, pear, and, citrus, flavors, while, white, almond, and, savory, mineral, notes, grace, the, lingering, finish.]                                                                   |54    |[elegance,, complexity, structure, come, together, drop-dead, gorgeous, winethat, ranks, among, italy's, greatest, whites., opens, sublime, yellow, spring, flower,, aromatic, herb, orchard, fruit, scents., creamy,, delicious, palate, seamlessly, combines, juicy, white, peach,, ripe, pear, citrus, flavors, white, almond, savory, mineral, notes, grace, lingering, finish.]|43             |\n",
            "|11 |US     |From 18-year-old vines, this supple well-balanced effort blends flavors of mocha, cherry, vanilla and breakfast tea. Superbly integrated and delicious even at this early stage, this wine seems destined for a long and savory cellar life. Drink now through 2028.                                                                                                                                                                       |Estate Vineyard Wadensvil Block     |95    |48.0 |Oregon            |Ribbon Ridge             |Pinot Noir        |Patricia Green Cellars |[from, 18-year-old, vines,, this, supple, well-balanced, effort, blends, flavors, of, mocha,, cherry,, vanilla, and, breakfast, tea., superbly, integrated, and, delicious, even, at, this, early, stage,, this, wine, seems, destined, for, a, long, and, savory, cellar, life., drink, now, through, 2028.]                                                                                                                                                                                                   |40    |[18-year-old, vines,, supple, well-balanced, effort, blends, flavors, mocha,, cherry,, vanilla, breakfast, tea., superbly, integrated, delicious, even, early, stage,, wine, seems, destined, long, savory, cellar, life., drink, 2028.]                                                                                                                                            |27             |\n",
            "|12 |US     |A standout even in this terrific lineup of 2015 releases from Patricia Green, the Weber opens with a burst of cola and tobacco scents and accents. It continues, subtle and detailed, with flavors of oranges, vanilla, tea and milk chocolate discreetly threaded through ripe blackberry fruit.                                                                                                                                          |Weber Vineyard                      |95    |48.0 |Oregon            |Dundee Hills             |Pinot Noir        |Patricia Green Cellars |[a, standout, even, in, this, terrific, lineup, of, 2015, releases, from, patricia, green,, the, weber, opens, with, a, burst, of, cola, and, tobacco, scents, and, accents., it, continues,, subtle, and, detailed,, with, flavors, of, oranges,, vanilla,, tea, and, milk, chocolate, discreetly, threaded, through, ripe, blackberry, fruit.]                                                                                                                                                                |46    |[standout, even, terrific, lineup, 2015, releases, patricia, green,, weber, opens, burst, cola, tobacco, scents, accents., continues,, subtle, detailed,, flavors, oranges,, vanilla,, tea, milk, chocolate, discreetly, threaded, ripe, blackberry, fruit.]                                                                                                                        |29             |\n",
            "|13 |France |This wine is in peak condition. The tannins and the secondary flavors dominate this ripe leather-textured wine. The fruit is all there as well: dried berries and hints of black-plum skins. It is a major wine right at the point of drinking with both the mature flavors and the fruit in the right balance.                                                                                                                            |Château Montus Prestige             |95    |90.0 |Southwest France  |Madiran                  |Tannat            |Vignobles Brumont      |[this, wine, is, in, peak, condition., the, tannins, and, the, secondary, flavors, dominate, this, ripe, leather-textured, wine., the, fruit, is, all, there, as, well:, dried, berries, and, hints, of, black-plum, skins., it, is, a, major, wine, right, at, the, point, of, drinking, with, both, the, mature, flavors, and, the, fruit, in, the, right, balance.]                                                                                                                                          |54    |[wine, peak, condition., tannins, secondary, flavors, dominate, ripe, leather-textured, wine., fruit, well:, dried, berries, hints, black-plum, skins., major, wine, right, point, drinking, mature, flavors, fruit, right, balance.]                                                                                                                                               |27             |\n",
            "|14 |US     |With its sophisticated mix of mineral, acid and tart fruits, this seductive effort pleases from start to finish. Supple and dense, it's got strawberry, blueberry, plum and black cherry, a touch of chocolate, and that underlying streak of mineral. All these elements are in good proportion and finish with an appealing silky texture. It's delicious already, but give it another decade for full enjoyment. Drink now through 2028.|Grace Vineyard                      |95    |185.0|Oregon            |Dundee Hills             |Pinot Noir        |Domaine Serene         |[with, its, sophisticated, mix, of, mineral,, acid, and, tart, fruits,, this, seductive, effort, pleases, from, start, to, finish., supple, and, dense,, it's, got, strawberry,, blueberry,, plum, and, black, cherry,, a, touch, of, chocolate,, and, that, underlying, streak, of, mineral., all, these, elements, are, in, good, proportion, and, finish, with, an, appealing, silky, texture., it's, delicious, already,, but, give, it, another, decade, for, full, enjoyment., drink, now, through, 2028.]|68    |[sophisticated, mix, mineral,, acid, tart, fruits,, seductive, effort, pleases, start, finish., supple, dense,, got, strawberry,, blueberry,, plum, black, cherry,, touch, chocolate,, underlying, streak, mineral., elements, good, proportion, finish, appealing, silky, texture., delicious, already,, give, another, decade, full, enjoyment., drink, 2028.]                    |40             |\n",
            "|15 |US     |First made in 2006, this succulent luscious Chardonnay is all about minerality. It's got a rich core of butterscotch and the seemingly endless layers of subtle flavors that biodynamic farming can bring. It spends 18 months on the lees prior to bottling. Drink now through 2028.                                                                                                                                                      |Sigrid                              |95    |90.0 |Oregon            |Willamette Valley        |Chardonnay        |Bergström              |[first, made, in, 2006,, this, succulent, luscious, chardonnay, is, all, about, minerality., it's, got, a, rich, core, of, butterscotch, and, the, seemingly, endless, layers, of, subtle, flavors, that, biodynamic, farming, can, bring., it, spends, 18, months, on, the, lees, prior, to, bottling., drink, now, through, 2028.]                                                                                                                                                                            |46    |[first, made, 2006,, succulent, luscious, chardonnay, minerality., got, rich, core, butterscotch, seemingly, endless, layers, subtle, flavors, biodynamic, farming, bring., spends, 18, months, lees, prior, bottling., drink, 2028.]                                                                                                                                               |27             |\n",
            "|16 |US     |This blockbuster, powerhouse of a wine suggests blueberry pie and chocolate as it opens in the glass. On the palate, it's smooth and seductively silky, offering complex cedar, peppercorn and peppery oak seasonings amidst its dense richness. It finishes with finesse and spice.                                                                                                                                                       |Rainin Vineyard                     |95    |325.0|California        |Diamond Mountain District|Cabernet Sauvignon|Hall                   |[this, blockbuster,, powerhouse, of, a, wine, suggests, blueberry, pie, and, chocolate, as, it, opens, in, the, glass., on, the, palate,, it's, smooth, and, seductively, silky,, offering, complex, cedar,, peppercorn, and, peppery, oak, seasonings, amidst, its, dense, richness., it, finishes, with, finesse, and, spice.]                                                                                                                                                                                |43    |[blockbuster,, powerhouse, wine, suggests, blueberry, pie, chocolate, opens, glass., palate,, smooth, seductively, silky,, offering, complex, cedar,, peppercorn, peppery, oak, seasonings, amidst, dense, richness., finishes, finesse, spice.]                                                                                                                                    |26             |\n",
            "|17 |Spain  |Nicely oaked blackberry, licorice, vanilla and charred aromas are smooth and sultry. This is an outstanding wine from an excellent year. Forward barrel-spice and mocha flavors adorn core blackberry and raspberry fruit, while this runs long and tastes vaguely chocolaty on the velvety finish. Enjoy this top-notch Tempranillo through 2030.                                                                                         |6 Años Reserva Premium              |95    |80.0 |Northern Spain    |Ribera del Duero         |Tempranillo       |Valduero               |[nicely, oaked, blackberry,, licorice,, vanilla, and, charred, aromas, are, smooth, and, sultry., this, is, an, outstanding, wine, from, an, excellent, year., forward, barrel-spice, and, mocha, flavors, adorn, core, blackberry, and, raspberry, fruit,, while, this, runs, long, and, tastes, vaguely, chocolaty, on, the, velvety, finish., enjoy, this, top-notch, tempranillo, through, 2030.]                                                                                                           |50    |[nicely, oaked, blackberry,, licorice,, vanilla, charred, aromas, smooth, sultry., outstanding, wine, excellent, year., forward, barrel-spice, mocha, flavors, adorn, core, blackberry, raspberry, fruit,, runs, long, tastes, vaguely, chocolaty, velvety, finish., enjoy, top-notch, tempranillo, 2030.]                                                                          |33             |\n",
            "|18 |France |Coming from a seven-acre vineyard named after the dovecote on the property, this is a magnificent wine. Powered by both fruit tannins and the 28 months of new wood aging, it is darkly rich and with great concentration. As a sign of its pedigree, there is also elegance here, a restraint which is new to this wine. That makes it a wine for long-term aging. Drink from 2022.                                                       |Le Pigeonnier                       |95    |290.0|Southwest France  |Cahors                   |Malbec            |Château Lagrézette     |[coming, from, a, seven-acre, vineyard, named, after, the, dovecote, on, the, property,, this, is, a, magnificent, wine., powered, by, both, fruit, tannins, and, the, 28, months, of, new, wood, aging,, it, is, darkly, rich, and, with, great, concentration., as, a, sign, of, its, pedigree,, there, is, also, elegance, here,, a, restraint, which, is, new, to, this, wine., that, makes, it, a, wine, for, long-term, aging., drink, from, 2022.]                                                       |68    |[coming, seven-acre, vineyard, named, dovecote, property,, magnificent, wine., powered, fruit, tannins, 28, months, new, wood, aging,, darkly, rich, great, concentration., sign, pedigree,, also, elegance, here,, restraint, new, wine., makes, wine, long-term, aging., drink, 2022.]                                                                                            |34             |\n",
            "|19 |US     |This fresh and lively medium-bodied wine is beautifully crafted, with cherry blossom aromas and tangy acidity. Layered and seductive, it offers a crisp mix of orange peel, cherry, pomegranate and baking spice flavors that are ready for the table or the cellar.                                                                                                                                                                       |Gap's Crown Vineyard                |95    |75.0 |California        |Sonoma Coast             |Pinot Noir        |Gary Farrell           |[this, fresh, and, lively, medium-bodied, wine, is, beautifully, crafted,, with, cherry, blossom, aromas, and, tangy, acidity., layered, and, seductive,, it, offers, a, crisp, mix, of, orange, peel,, cherry,, pomegranate, and, baking, spice, flavors, that, are, ready, for, the, table, or, the, cellar.]                                                                                                                                                                                                 |42    |[fresh, lively, medium-bodied, wine, beautifully, crafted,, cherry, blossom, aromas, tangy, acidity., layered, seductive,, offers, crisp, mix, orange, peel,, cherry,, pomegranate, baking, spice, flavors, ready, table, cellar.]                                                                                                                                                  |26             |\n",
            "+---+-------+-------------------------------------------------------------------------------------------------------------------------------------------------------------------------------------------------------------------------------------------------------------------------------------------------------------------------------------------------------------------------------------------------------------------------------------------+------------------------------------+------+-----+------------------+-------------------------+------------------+-----------------------+----------------------------------------------------------------------------------------------------------------------------------------------------------------------------------------------------------------------------------------------------------------------------------------------------------------------------------------------------------------------------------------------------------------------------------------------------------------------------------------------------------------+------+------------------------------------------------------------------------------------------------------------------------------------------------------------------------------------------------------------------------------------------------------------------------------------------------------------------------------------------------------------------------------------+---------------+\n",
            "only showing top 20 rows\n",
            "\n"
          ],
          "name": "stdout"
        }
      ]
    },
    {
      "cell_type": "code",
      "metadata": {
        "colab": {
          "base_uri": "https://localhost:8080/"
        },
        "id": "ThfCElAFjkRS",
        "outputId": "a0075c7a-adb6-4f21-d1fb-2c0f84dce81c"
      },
      "source": [
        "! pip install nltk"
      ],
      "execution_count": 22,
      "outputs": [
        {
          "output_type": "stream",
          "text": [
            "Requirement already satisfied: nltk in /usr/local/lib/python3.7/dist-packages (3.2.5)\n",
            "Requirement already satisfied: six in /usr/local/lib/python3.7/dist-packages (from nltk) (1.15.0)\n"
          ],
          "name": "stdout"
        }
      ]
    },
    {
      "cell_type": "code",
      "metadata": {
        "id": "FFqhs7fp73WM",
        "colab": {
          "base_uri": "https://localhost:8080/"
        },
        "outputId": "e431e714-b3d3-4a00-9b0b-82219ffd61d4"
      },
      "source": [
        "# Run the hashing term frequency\n",
        "hashing = HashingTF(inputCol=\"filtered\", outputCol=\"hashedValues\", numFeatures=pow(2,18))\n",
        "\n",
        "# Transform into a DF\n",
        "hashed_df = hashing.transform(filtered_tokens_df)\n",
        "hashed_df.show(truncate=False)"
      ],
      "execution_count": 23,
      "outputs": [
        {
          "output_type": "stream",
          "text": [
            "+---+-------+-------------------------------------------------------------------------------------------------------------------------------------------------------------------------------------------------------------------------------------------------------------------------------------------------------------------------------------------------------------------------------------------------------------------------------------------+------------------------------------+------+-----+------------------+-------------------------+------------------+-----------------------+----------------------------------------------------------------------------------------------------------------------------------------------------------------------------------------------------------------------------------------------------------------------------------------------------------------------------------------------------------------------------------------------------------------------------------------------------------------------------------------------------------------+------+------------------------------------------------------------------------------------------------------------------------------------------------------------------------------------------------------------------------------------------------------------------------------------------------------------------------------------------------------------------------------------+---------------+-----------------------------------------------------------------------------------------------------------------------------------------------------------------------------------------------------------------------------------------------------------------------------------------------------------------------------------------------------------------------------------------------------------------------------------------------------------------------------------+\n",
            "|_c0|country|description                                                                                                                                                                                                                                                                                                                                                                                                                                |designation                         |points|price|province          |region_1                 |variety           |winery                 |words                                                                                                                                                                                                                                                                                                                                                                                                                                                                                                           |tokens|filtered                                                                                                                                                                                                                                                                                                                                                                            |filtered_tokens|hashedValues                                                                                                                                                                                                                                                                                                                                                                                                                                                                       |\n",
            "+---+-------+-------------------------------------------------------------------------------------------------------------------------------------------------------------------------------------------------------------------------------------------------------------------------------------------------------------------------------------------------------------------------------------------------------------------------------------------+------------------------------------+------+-----+------------------+-------------------------+------------------+-----------------------+----------------------------------------------------------------------------------------------------------------------------------------------------------------------------------------------------------------------------------------------------------------------------------------------------------------------------------------------------------------------------------------------------------------------------------------------------------------------------------------------------------------+------+------------------------------------------------------------------------------------------------------------------------------------------------------------------------------------------------------------------------------------------------------------------------------------------------------------------------------------------------------------------------------------+---------------+-----------------------------------------------------------------------------------------------------------------------------------------------------------------------------------------------------------------------------------------------------------------------------------------------------------------------------------------------------------------------------------------------------------------------------------------------------------------------------------+\n",
            "|0  |US     |This tremendous 100% varietal wine hails from Oakville and was aged over three years in oak. Juicy red-cherry fruit and a compelling hint of caramel greet the palate, framed by elegant, fine tannins and a subtle minty tone in the background. Balanced and rewarding from start to finish, it has years ahead of it to develop further nuance. Enjoy 2022–2030.                                                                        |Martha's Vineyard                   |96    |235.0|California        |Napa Valley              |Cabernet Sauvignon|Heitz                  |[this, tremendous, 100%, varietal, wine, hails, from, oakville, and, was, aged, over, three, years, in, oak., juicy, red-cherry, fruit, and, a, compelling, hint, of, caramel, greet, the, palate,, framed, by, elegant,, fine, tannins, and, a, subtle, minty, tone, in, the, background., balanced, and, rewarding, from, start, to, finish,, it, has, years, ahead, of, it, to, develop, further, nuance., enjoy, 2022–2030.]                                                                                |60    |[tremendous, 100%, varietal, wine, hails, oakville, aged, three, years, oak., juicy, red-cherry, fruit, compelling, hint, caramel, greet, palate,, framed, elegant,, fine, tannins, subtle, minty, tone, background., balanced, rewarding, start, finish,, years, ahead, develop, nuance., enjoy, 2022–2030.]                                                                       |36             |(262144,[2701,16004,23236,28401,33079,39068,45330,46582,63420,66669,75898,76106,87005,96005,100312,125177,125919,135627,141911,143299,146696,158571,158931,163760,164837,171917,185760,200144,203214,212284,219145,223329,241246,245951,261211],[1.0,1.0,1.0,1.0,1.0,1.0,1.0,1.0,1.0,1.0,1.0,2.0,1.0,1.0,1.0,1.0,1.0,1.0,1.0,1.0,1.0,1.0,1.0,1.0,1.0,1.0,1.0,1.0,1.0,1.0,1.0,1.0,1.0,1.0,1.0])                                                                                     |\n",
            "|1  |Spain  |Ripe aromas of fig, blackberry and cassis are softened and sweetened by a slathering of oaky chocolate and vanilla. This is full, layered, intense and cushioned on the palate, with rich flavors of chocolaty black fruits and baking spices. A toasty, everlasting finish is heady but ideally balanced. Drink through 2023.                                                                                                             |Carodorum Selección Especial Reserva|96    |110.0|Northern Spain    |Toro                     |Tinta de Toro     |Bodega Carmen Rodríguez|[ripe, aromas, of, fig,, blackberry, and, cassis, are, softened, and, sweetened, by, a, slathering, of, oaky, chocolate, and, vanilla., this, is, full,, layered,, intense, and, cushioned, on, the, palate,, with, rich, flavors, of, chocolaty, black, fruits, and, baking, spices., a, toasty,, everlasting, finish, is, heady, but, ideally, balanced., drink, through, 2023.]                                                                                                                              |51    |[ripe, aromas, fig,, blackberry, cassis, softened, sweetened, slathering, oaky, chocolate, vanilla., full,, layered,, intense, cushioned, palate,, rich, flavors, chocolaty, black, fruits, baking, spices., toasty,, everlasting, finish, heady, ideally, balanced., drink, 2023.]                                                                                                 |31             |(262144,[11481,33140,41643,46758,55709,59455,69650,79653,104662,106432,119670,134272,143776,149300,149583,154828,160195,161469,168341,172530,186037,190120,206577,208892,212295,213835,216086,217078,219145,224205,242510],[1.0,1.0,1.0,1.0,1.0,1.0,1.0,1.0,1.0,1.0,1.0,1.0,1.0,1.0,1.0,1.0,1.0,1.0,1.0,1.0,1.0,1.0,1.0,1.0,1.0,1.0,1.0,1.0,1.0,1.0,1.0])                                                                                                                          |\n",
            "|2  |US     |Mac Watson honors the memory of a wine once made by his mother in this tremendously delicious, balanced and complex botrytised white. Dark gold in color, it layers toasted hazelnut, pear compote and orange peel flavors, reveling in the succulence of its 122 g/L of residual sugar.                                                                                                                                                   |Special Selected Late Harvest       |96    |90.0 |California        |Knights Valley           |Sauvignon Blanc   |Macauley               |[mac, watson, honors, the, memory, of, a, wine, once, made, by, his, mother, in, this, tremendously, delicious,, balanced, and, complex, botrytised, white., dark, gold, in, color,, it, layers, toasted, hazelnut,, pear, compote, and, orange, peel, flavors,, reveling, in, the, succulence, of, its, 122, g/l, of, residual, sugar.]                                                                                                                                                                        |47    |[mac, watson, honors, memory, wine, made, mother, tremendously, delicious,, balanced, complex, botrytised, white., dark, gold, color,, layers, toasted, hazelnut,, pear, compote, orange, peel, flavors,, reveling, succulence, 122, g/l, residual, sugar.]                                                                                                                         |30             |(262144,[10077,26468,32151,49402,61157,64289,76272,88398,99749,119775,123974,140784,153612,156125,171516,172455,172814,174799,188828,203214,215060,217441,223329,225667,229305,238819,245426,251052,256740,261845],[1.0,1.0,1.0,1.0,1.0,1.0,1.0,1.0,1.0,1.0,1.0,1.0,1.0,1.0,1.0,1.0,1.0,1.0,1.0,1.0,1.0,1.0,1.0,1.0,1.0,1.0,1.0,1.0,1.0,1.0])                                                                                                                                      |\n",
            "|3  |US     |This spent 20 months in 30% new French oak, and incorporates fruit from Ponzi's Aurora, Abetina and Madrona vineyards, among others. Aromatic, dense and toasty, it deftly blends aromas and flavors of toast, cigar box, blackberry, black cherry, coffee and graphite. Tannins are polished to a fine sheen, and frame a finish loaded with dark chocolate and espresso. Drink now through 2032.                                         |Reserve                             |96    |65.0 |Oregon            |Willamette Valley        |Pinot Noir        |Ponzi                  |[this, spent, 20, months, in, 30%, new, french, oak,, and, incorporates, fruit, from, ponzi's, aurora,, abetina, and, madrona, vineyards,, among, others., aromatic,, dense, and, toasty,, it, deftly, blends, aromas, and, flavors, of, toast,, cigar, box,, blackberry,, black, cherry,, coffee, and, graphite., tannins, are, polished, to, a, fine, sheen,, and, frame, a, finish, loaded, with, dark, chocolate, and, espresso., drink, now, through, 2032.]                                               |62    |[spent, 20, months, 30%, new, french, oak,, incorporates, fruit, ponzi's, aurora,, abetina, madrona, vineyards,, among, others., aromatic,, dense, toasty,, deftly, blends, aromas, flavors, toast,, cigar, box,, blackberry,, black, cherry,, coffee, graphite., tannins, polished, fine, sheen,, frame, finish, loaded, dark, chocolate, espresso., drink, 2032.]                 |43             |(262144,[1546,4238,13171,15324,16356,25381,33140,46758,56257,67144,69650,78329,84417,89833,90804,93436,100762,105672,123598,125919,127791,134272,143299,145689,154213,154828,159212,170657,176028,180097,190120,200520,202021,207732,216850,217078,229305,238106,241786,244993,245951,257576,259082],[1.0,1.0,1.0,1.0,1.0,1.0,1.0,1.0,1.0,1.0,1.0,1.0,1.0,1.0,1.0,1.0,1.0,1.0,1.0,1.0,1.0,1.0,1.0,1.0,1.0,1.0,1.0,1.0,1.0,1.0,1.0,1.0,1.0,1.0,1.0,1.0,1.0,1.0,1.0,1.0,1.0,1.0,1.0])|\n",
            "|4  |France |This is the top wine from La Bégude, named after the highest point in the vineyard at 1200 feet. It has structure, density and considerable acidity that is still calming down. With 18 months in wood, the wine has developing an extra richness and concentration. Produced by the Tari family, formerly of Château Giscours in Margaux, it is a wine made for aging. Drink from 2020.                                                   |La Brûlade                          |95    |66.0 |Provence          |Bandol                   |Provence red blend|Domaine de la Bégude   |[this, is, the, top, wine, from, la, bégude,, named, after, the, highest, point, in, the, vineyard, at, 1200, feet., it, has, structure,, density, and, considerable, acidity, that, is, still, calming, down., with, 18, months, in, wood,, the, wine, has, developing, an, extra, richness, and, concentration., produced, by, the, tari, family,, formerly, of, château, giscours, in, margaux,, it, is, a, wine, made, for, aging., drink, from, 2020.]                                                     |66    |[top, wine, la, bégude,, named, highest, point, vineyard, 1200, feet., structure,, density, considerable, acidity, still, calming, down., 18, months, wood,, wine, developing, extra, richness, concentration., produced, tari, family,, formerly, château, giscours, margaux,, wine, made, aging., drink, 2020.]                                                                   |37             |(262144,[1546,17161,18176,31536,33140,48479,49526,65848,88378,90392,93114,103473,115192,119201,137039,140762,140784,148880,160897,179287,198725,208852,212413,213305,221427,222710,223329,226521,233705,234654,243381,247310,252498,256112,257452],[1.0,1.0,1.0,1.0,1.0,1.0,1.0,1.0,1.0,1.0,1.0,1.0,1.0,1.0,1.0,1.0,1.0,1.0,1.0,1.0,1.0,1.0,1.0,1.0,1.0,1.0,3.0,1.0,1.0,1.0,1.0,1.0,1.0,1.0,1.0])                                                                                  |\n",
            "|5  |Spain  |Deep, dense and pure from the opening bell, this Toro is a winner. Aromas of dark ripe black fruits are cool and moderately oaked. This feels massive on the palate but sensationally balanced. Flavors of blackberry, coffee, mocha and toasty oak finish spicy, smooth and heady. Drink this exemplary Toro through 2023.                                                                                                                |Numanthia                           |95    |73.0 |Northern Spain    |Toro                     |Tinta de Toro     |Numanthia              |[deep,, dense, and, pure, from, the, opening, bell,, this, toro, is, a, winner., aromas, of, dark, ripe, black, fruits, are, cool, and, moderately, oaked., this, feels, massive, on, the, palate, but, sensationally, balanced., flavors, of, blackberry,, coffee,, mocha, and, toasty, oak, finish, spicy,, smooth, and, heady., drink, this, exemplary, toro, through, 2023.]                                                                                                                                |52    |[deep,, dense, pure, opening, bell,, toro, winner., aromas, dark, ripe, black, fruits, cool, moderately, oaked., feels, massive, palate, sensationally, balanced., flavors, blackberry,, coffee,, mocha, toasty, oak, finish, spicy,, smooth, heady., drink, exemplary, toro, 2023.]                                                                                                |34             |(262144,[8408,18133,33140,38911,41643,42113,46758,48534,51029,55709,63617,69650,79709,100762,120295,123598,134272,141827,150283,154828,162111,172167,192968,206577,206877,211509,212295,223619,229305,229850,248192,249848,256103],[1.0,1.0,1.0,1.0,1.0,1.0,1.0,1.0,2.0,1.0,1.0,1.0,1.0,1.0,1.0,1.0,1.0,1.0,1.0,1.0,1.0,1.0,1.0,1.0,1.0,1.0,1.0,1.0,1.0,1.0,1.0,1.0,1.0])                                                                                                          |\n",
            "|6  |Spain  |Slightly gritty black-fruit aromas include a sweet note of pastry along with a hint of prune. Wall-to-wall saturation ensures that all corners of one's mouth are covered. Flavors of blackberry, mocha and chocolate are highly impressive and expressive, while this settles nicely on a long finish. Drink now through 2024.                                                                                                            |San Román                           |95    |65.0 |Northern Spain    |Toro                     |Tinta de Toro     |Maurodos               |[slightly, gritty, black-fruit, aromas, include, a, sweet, note, of, pastry, along, with, a, hint, of, prune., wall-to-wall, saturation, ensures, that, all, corners, of, one's, mouth, are, covered., flavors, of, blackberry,, mocha, and, chocolate, are, highly, impressive, and, expressive,, while, this, settles, nicely, on, a, long, finish., drink, now, through, 2024.]                                                                                                                              |50    |[slightly, gritty, black-fruit, aromas, include, sweet, note, pastry, along, hint, prune., wall-to-wall, saturation, ensures, corners, one's, mouth, covered., flavors, blackberry,, mocha, chocolate, highly, impressive, expressive,, settles, nicely, long, finish., drink, 2024.]                                                                                               |31             |(262144,[5561,19633,26431,32680,33140,43157,46758,50925,77501,86577,87257,98942,99570,100762,109388,134272,138905,152688,155288,156550,158931,162146,166936,178448,187233,190120,206312,206877,211400,229114,236895],[1.0,1.0,1.0,1.0,1.0,1.0,1.0,1.0,1.0,1.0,1.0,1.0,1.0,1.0,1.0,1.0,1.0,1.0,1.0,1.0,1.0,1.0,1.0,1.0,1.0,1.0,1.0,1.0,1.0,1.0,1.0])                                                                                                                                |\n",
            "|7  |Spain  |Lush cedary black-fruit aromas are luxe and offer notes of marzipan and vanilla. This bruiser is massive and tannic on the palate, but still lush and friendly. Chocolate is a key flavor, while baked berry and cassis flavors are hardly wallflowers. On the finish, this is tannic and deep as a sea trench. Drink this saturated black-colored Toro through 2023.                                                                      |Carodorum Único Crianza             |95    |110.0|Northern Spain    |Toro                     |Tinta de Toro     |Bodega Carmen Rodríguez|[lush, cedary, black-fruit, aromas, are, luxe, and, offer, notes, of, marzipan, and, vanilla., this, bruiser, is, massive, and, tannic, on, the, palate,, but, still, lush, and, friendly., chocolate, is, a, key, flavor,, while, baked, berry, and, cassis, flavors, are, hardly, wallflowers., on, the, finish,, this, is, tannic, and, deep, as, a, sea, trench., drink, this, saturated, black-colored, toro, through, 2023.]                                                                              |60    |[lush, cedary, black-fruit, aromas, luxe, offer, notes, marzipan, vanilla., bruiser, massive, tannic, palate,, still, lush, friendly., chocolate, key, flavor,, baked, berry, cassis, flavors, hardly, wallflowers., finish,, tannic, deep, sea, trench., drink, saturated, black-colored, toro, 2023.]                                                                             |35             |(262144,[4235,31536,33140,35418,46758,51029,60234,60776,67009,67662,72014,79653,87623,89540,96644,105938,108094,118315,126566,134272,141911,143776,161607,162146,162155,185573,190120,202566,211509,212295,212445,219145,228767],[1.0,1.0,1.0,1.0,1.0,1.0,1.0,1.0,1.0,1.0,1.0,1.0,1.0,1.0,1.0,1.0,1.0,1.0,2.0,1.0,1.0,1.0,2.0,1.0,1.0,1.0,1.0,1.0,1.0,1.0,1.0,1.0,1.0])                                                                                                            |\n",
            "|8  |US     |This re-named vineyard was formerly bottled as deLancellotti. You'll find striking minerality underscoring chunky black fruits. Accents of citrus and graphite comingle, with exceptional midpalate concentration. This is a wine to cellar, though it is already quite enjoyable. Drink now through 2030.                                                                                                                                 |Silice                              |95    |65.0 |Oregon            |Chehalem Mountains       |Pinot Noir        |Bergström              |[this, re-named, vineyard, was, formerly, bottled, as, delancellotti., you'll, find, striking, minerality, underscoring, chunky, black, fruits., accents, of, citrus, and, graphite, comingle,, with, exceptional, midpalate, concentration., this, is, a, wine, to, cellar,, though, it, is, already, quite, enjoyable., drink, now, through, 2030.]                                                                                                                                                           |42    |[re-named, vineyard, formerly, bottled, delancellotti., find, striking, minerality, underscoring, chunky, black, fruits., accents, citrus, graphite, comingle,, exceptional, midpalate, concentration., wine, cellar,, though, already, quite, enjoyable., drink, 2030.]                                                                                                            |27             |(262144,[2306,3167,9902,33140,52300,69299,70152,72008,73156,91878,103223,113528,140430,153504,154828,179287,186237,188581,198426,204175,213305,217740,222710,223329,234233,249672,262009],[1.0,1.0,1.0,1.0,1.0,1.0,1.0,1.0,1.0,1.0,1.0,1.0,1.0,1.0,1.0,1.0,1.0,1.0,1.0,1.0,1.0,1.0,1.0,1.0,1.0,1.0,1.0])                                                                                                                                                                           |\n",
            "|9  |US     |The producer sources from two blocks of the vineyard for this wine—one at a high elevation, which contributes bright acidity. Crunchy cranberry, pomegranate and orange peel flavors surround silky, succulent layers of texture that present as fleshy fruit. That delicately lush flavor has considerable length.                                                                                                                        |Gap's Crown Vineyard                |95    |60.0 |California        |Sonoma Coast             |Pinot Noir        |Blue Farm              |[the, producer, sources, from, two, blocks, of, the, vineyard, for, this, wine—one, at, a, high, elevation,, which, contributes, bright, acidity., crunchy, cranberry,, pomegranate, and, orange, peel, flavors, surround, silky,, succulent, layers, of, texture, that, present, as, fleshy, fruit., that, delicately, lush, flavor, has, considerable, length.]                                                                                                                                               |45    |[producer, sources, two, blocks, vineyard, wine—one, high, elevation,, contributes, bright, acidity., crunchy, cranberry,, pomegranate, orange, peel, flavors, surround, silky,, succulent, layers, texture, present, fleshy, fruit., delicately, lush, flavor, considerable, length.]                                                                                              |30             |(262144,[3354,41502,59986,81604,84221,88676,90392,99749,100036,126566,130635,131169,132323,134272,136020,141702,152451,153612,155665,162976,163509,180419,195154,200588,217608,217940,222710,225667,245522,258728],[1.0,1.0,1.0,1.0,1.0,1.0,1.0,1.0,1.0,1.0,1.0,1.0,1.0,1.0,1.0,1.0,1.0,1.0,1.0,1.0,1.0,1.0,1.0,1.0,1.0,1.0,1.0,1.0,1.0,1.0])                                                                                                                                      |\n",
            "|10 |Italy  |Elegance, complexity and structure come together in this drop-dead gorgeous winethat ranks among Italy's greatest whites. It opens with sublime yellow spring flower, aromatic herb and orchard fruit scents. The creamy, delicious palate seamlessly combines juicy white peach, ripe pear and citrus flavors while white almond and savory mineral notes grace the lingering finish.                                                     |Ronco della Chiesa                  |95    |80.0 |Northeastern Italy|Collio                   |Friulano          |Borgo del Tiglio       |[elegance,, complexity, and, structure, come, together, in, this, drop-dead, gorgeous, winethat, ranks, among, italy's, greatest, whites., it, opens, with, sublime, yellow, spring, flower,, aromatic, herb, and, orchard, fruit, scents., the, creamy,, delicious, palate, seamlessly, combines, juicy, white, peach,, ripe, pear, and, citrus, flavors, while, white, almond, and, savory, mineral, notes, grace, the, lingering, finish.]                                                                   |54    |[elegance,, complexity, structure, come, together, drop-dead, gorgeous, winethat, ranks, among, italy's, greatest, whites., opens, sublime, yellow, spring, flower,, aromatic, herb, orchard, fruit, scents., creamy,, delicious, palate, seamlessly, combines, juicy, white, peach,, ripe, pear, citrus, flavors, white, almond, savory, mineral, notes, grace, lingering, finish.]|43             |(262144,[3848,9394,9492,11076,11396,18911,23975,28363,29456,33079,34919,42737,49151,55709,56494,60776,75571,93710,94563,101336,134272,143299,147224,155288,155298,157757,172196,181750,188581,189996,194353,204380,204552,208742,209860,210093,216850,219706,236947,238819,256103,256289],[1.0,1.0,1.0,1.0,1.0,1.0,1.0,1.0,1.0,1.0,1.0,1.0,1.0,1.0,1.0,1.0,2.0,1.0,1.0,1.0,1.0,1.0,1.0,1.0,1.0,1.0,1.0,1.0,1.0,1.0,1.0,1.0,1.0,1.0,1.0,1.0,1.0,1.0,1.0,1.0,1.0,1.0])               |\n",
            "|11 |US     |From 18-year-old vines, this supple well-balanced effort blends flavors of mocha, cherry, vanilla and breakfast tea. Superbly integrated and delicious even at this early stage, this wine seems destined for a long and savory cellar life. Drink now through 2028.                                                                                                                                                                       |Estate Vineyard Wadensvil Block     |95    |48.0 |Oregon            |Ribbon Ridge             |Pinot Noir        |Patricia Green Cellars |[from, 18-year-old, vines,, this, supple, well-balanced, effort, blends, flavors, of, mocha,, cherry,, vanilla, and, breakfast, tea., superbly, integrated, and, delicious, even, at, this, early, stage,, this, wine, seems, destined, for, a, long, and, savory, cellar, life., drink, now, through, 2028.]                                                                                                                                                                                                   |40    |[18-year-old, vines,, supple, well-balanced, effort, blends, flavors, mocha,, cherry,, vanilla, breakfast, tea., superbly, integrated, delicious, even, early, stage,, wine, seems, destined, long, savory, cellar, life., drink, 2028.]                                                                                                                                            |27             |(262144,[3456,21534,33140,56211,56501,58559,77682,84417,90058,93436,103839,112747,128113,134272,143268,163441,174966,181763,187436,206312,207436,208742,223329,228682,230252,231396,256289],[1.0,1.0,1.0,1.0,1.0,1.0,1.0,1.0,1.0,1.0,1.0,1.0,1.0,1.0,1.0,1.0,1.0,1.0,1.0,1.0,1.0,1.0,1.0,1.0,1.0,1.0,1.0])                                                                                                                                                                         |\n",
            "|12 |US     |A standout even in this terrific lineup of 2015 releases from Patricia Green, the Weber opens with a burst of cola and tobacco scents and accents. It continues, subtle and detailed, with flavors of oranges, vanilla, tea and milk chocolate discreetly threaded through ripe blackberry fruit.                                                                                                                                          |Weber Vineyard                      |95    |48.0 |Oregon            |Dundee Hills             |Pinot Noir        |Patricia Green Cellars |[a, standout, even, in, this, terrific, lineup, of, 2015, releases, from, patricia, green,, the, weber, opens, with, a, burst, of, cola, and, tobacco, scents, and, accents., it, continues,, subtle, and, detailed,, with, flavors, of, oranges,, vanilla,, tea, and, milk, chocolate, discreetly, threaded, through, ripe, blackberry, fruit.]                                                                                                                                                                |46    |[standout, even, terrific, lineup, 2015, releases, patricia, green,, weber, opens, burst, cola, tobacco, scents, accents., continues,, subtle, detailed,, flavors, oranges,, vanilla,, tea, milk, chocolate, discreetly, threaded, ripe, blackberry, fruit.]                                                                                                                        |29             |(262144,[4176,8940,18911,23514,36797,55709,62235,73262,75368,105358,109132,134272,140381,155496,160429,164837,172530,174888,174966,179186,180419,190120,212646,213005,213580,217462,227894,228313,233696],[1.0,1.0,1.0,1.0,1.0,1.0,1.0,1.0,1.0,1.0,1.0,1.0,1.0,1.0,1.0,1.0,1.0,1.0,1.0,1.0,1.0,1.0,1.0,1.0,1.0,1.0,1.0,1.0,1.0])                                                                                                                                                   |\n",
            "|13 |France |This wine is in peak condition. The tannins and the secondary flavors dominate this ripe leather-textured wine. The fruit is all there as well: dried berries and hints of black-plum skins. It is a major wine right at the point of drinking with both the mature flavors and the fruit in the right balance.                                                                                                                            |Château Montus Prestige             |95    |90.0 |Southwest France  |Madiran                  |Tannat            |Vignobles Brumont      |[this, wine, is, in, peak, condition., the, tannins, and, the, secondary, flavors, dominate, this, ripe, leather-textured, wine., the, fruit, is, all, there, as, well:, dried, berries, and, hints, of, black-plum, skins., it, is, a, major, wine, right, at, the, point, of, drinking, with, both, the, mature, flavors, and, the, fruit, in, the, right, balance.]                                                                                                                                          |54    |[wine, peak, condition., tannins, secondary, flavors, dominate, ripe, leather-textured, wine., fruit, well:, dried, berries, hints, black-plum, skins., major, wine, right, point, drinking, mature, flavors, fruit, right, balance.]                                                                                                                                               |27             |(262144,[8297,12024,55709,75611,78269,93293,93356,125919,134272,143299,148880,151058,169296,206885,210032,211996,223329,229166,235089,242716,255174,255766,256565],[1.0,1.0,1.0,1.0,1.0,1.0,1.0,1.0,2.0,2.0,1.0,1.0,1.0,1.0,1.0,1.0,2.0,2.0,1.0,1.0,1.0,1.0,1.0])                                                                                                                                                                                                                  |\n",
            "|14 |US     |With its sophisticated mix of mineral, acid and tart fruits, this seductive effort pleases from start to finish. Supple and dense, it's got strawberry, blueberry, plum and black cherry, a touch of chocolate, and that underlying streak of mineral. All these elements are in good proportion and finish with an appealing silky texture. It's delicious already, but give it another decade for full enjoyment. Drink now through 2028.|Grace Vineyard                      |95    |185.0|Oregon            |Dundee Hills             |Pinot Noir        |Domaine Serene         |[with, its, sophisticated, mix, of, mineral,, acid, and, tart, fruits,, this, seductive, effort, pleases, from, start, to, finish., supple, and, dense,, it's, got, strawberry,, blueberry,, plum, and, black, cherry,, a, touch, of, chocolate,, and, that, underlying, streak, of, mineral., all, these, elements, are, in, good, proportion, and, finish, with, an, appealing, silky, texture., it's, delicious, already,, but, give, it, another, decade, for, full, enjoyment., drink, now, through, 2028.]|68    |[sophisticated, mix, mineral,, acid, tart, fruits,, seductive, effort, pleases, start, finish., supple, dense,, got, strawberry,, blueberry,, plum, black, cherry,, touch, chocolate,, underlying, streak, mineral., elements, good, proportion, finish, appealing, silky, texture., delicious, already,, give, another, decade, full, enjoyment., drink, 2028.]                    |40             |(262144,[5847,16004,21534,33140,43333,49148,56302,56501,64346,69650,74981,84417,93156,97058,99715,107367,110620,113432,117372,141485,151393,152610,154828,155288,161509,166929,167127,169232,169706,169947,180394,181763,183787,208742,217873,223998,225898,239323,253382,258259],[1.0,1.0,1.0,1.0,1.0,1.0,1.0,1.0,1.0,1.0,1.0,1.0,1.0,1.0,1.0,1.0,1.0,1.0,1.0,1.0,1.0,1.0,1.0,1.0,1.0,1.0,1.0,1.0,1.0,1.0,1.0,1.0,1.0,1.0,1.0,1.0,1.0,1.0,1.0,1.0])                               |\n",
            "|15 |US     |First made in 2006, this succulent luscious Chardonnay is all about minerality. It's got a rich core of butterscotch and the seemingly endless layers of subtle flavors that biodynamic farming can bring. It spends 18 months on the lees prior to bottling. Drink now through 2028.                                                                                                                                                      |Sigrid                              |95    |90.0 |Oregon            |Willamette Valley        |Chardonnay        |Bergström              |[first, made, in, 2006,, this, succulent, luscious, chardonnay, is, all, about, minerality., it's, got, a, rich, core, of, butterscotch, and, the, seemingly, endless, layers, of, subtle, flavors, that, biodynamic, farming, can, bring., it, spends, 18, months, on, the, lees, prior, to, bottling., drink, now, through, 2028.]                                                                                                                                                                            |46    |[first, made, 2006,, succulent, luscious, chardonnay, minerality., got, rich, core, butterscotch, seemingly, endless, layers, subtle, flavors, biodynamic, farming, bring., spends, 18, months, lees, prior, bottling., drink, 2028.]                                                                                                                                               |27             |(262144,[1546,4398,5373,11846,33140,49118,52774,56501,57467,62804,80423,81604,85939,87878,99749,110592,134272,140784,149300,164837,177053,180547,188835,203516,225898,243381,243938],[1.0,1.0,1.0,1.0,1.0,1.0,1.0,1.0,1.0,1.0,1.0,1.0,1.0,1.0,1.0,1.0,1.0,1.0,1.0,1.0,1.0,1.0,1.0,1.0,1.0,1.0,1.0])                                                                                                                                                                                |\n",
            "|16 |US     |This blockbuster, powerhouse of a wine suggests blueberry pie and chocolate as it opens in the glass. On the palate, it's smooth and seductively silky, offering complex cedar, peppercorn and peppery oak seasonings amidst its dense richness. It finishes with finesse and spice.                                                                                                                                                       |Rainin Vineyard                     |95    |325.0|California        |Diamond Mountain District|Cabernet Sauvignon|Hall                   |[this, blockbuster,, powerhouse, of, a, wine, suggests, blueberry, pie, and, chocolate, as, it, opens, in, the, glass., on, the, palate,, it's, smooth, and, seductively, silky,, offering, complex, cedar,, peppercorn, and, peppery, oak, seasonings, amidst, its, dense, richness., it, finishes, with, finesse, and, spice.]                                                                                                                                                                                |43    |[blockbuster,, powerhouse, wine, suggests, blueberry, pie, chocolate, opens, glass., palate,, smooth, seductively, silky,, offering, complex, cedar,, peppercorn, peppery, oak, seasonings, amidst, dense, richness., finishes, finesse, spice.]                                                                                                                                    |26             |(262144,[18911,55687,61904,61955,69149,74257,79709,81373,98640,121026,121041,123598,127944,156216,166444,187721,190120,217608,219145,223329,229850,231216,233153,251493,256740,261142],[1.0,1.0,1.0,1.0,1.0,1.0,1.0,1.0,1.0,1.0,1.0,1.0,1.0,1.0,1.0,1.0,1.0,1.0,1.0,1.0,1.0,1.0,1.0,1.0,1.0,1.0])                                                                                                                                                                                  |\n",
            "|17 |Spain  |Nicely oaked blackberry, licorice, vanilla and charred aromas are smooth and sultry. This is an outstanding wine from an excellent year. Forward barrel-spice and mocha flavors adorn core blackberry and raspberry fruit, while this runs long and tastes vaguely chocolaty on the velvety finish. Enjoy this top-notch Tempranillo through 2030.                                                                                         |6 Años Reserva Premium              |95    |80.0 |Northern Spain    |Ribera del Duero         |Tempranillo       |Valduero               |[nicely, oaked, blackberry,, licorice,, vanilla, and, charred, aromas, are, smooth, and, sultry., this, is, an, outstanding, wine, from, an, excellent, year., forward, barrel-spice, and, mocha, flavors, adorn, core, blackberry, and, raspberry, fruit,, while, this, runs, long, and, tastes, vaguely, chocolaty, on, the, velvety, finish., enjoy, this, top-notch, tempranillo, through, 2030.]                                                                                                           |50    |[nicely, oaked, blackberry,, licorice,, vanilla, charred, aromas, smooth, sultry., outstanding, wine, excellent, year., forward, barrel-spice, mocha, flavors, adorn, core, blackberry, raspberry, fruit,, runs, long, tastes, vaguely, chocolaty, velvety, finish., enjoy, top-notch, tempranillo, 2030.]                                                                          |33             |(262144,[2701,10404,13198,25453,32680,46758,50349,52300,58534,78745,79709,82322,100762,106973,119667,134272,143268,143531,144973,154583,155288,166955,172530,203516,206312,206877,216086,218098,220908,223329,227800,228121,232205],[1.0,1.0,1.0,1.0,1.0,1.0,1.0,1.0,1.0,1.0,1.0,1.0,1.0,1.0,1.0,1.0,1.0,1.0,1.0,1.0,1.0,1.0,1.0,1.0,1.0,1.0,1.0,1.0,1.0,1.0,1.0,1.0,1.0])                                                                                                         |\n",
            "|18 |France |Coming from a seven-acre vineyard named after the dovecote on the property, this is a magnificent wine. Powered by both fruit tannins and the 28 months of new wood aging, it is darkly rich and with great concentration. As a sign of its pedigree, there is also elegance here, a restraint which is new to this wine. That makes it a wine for long-term aging. Drink from 2022.                                                       |Le Pigeonnier                       |95    |290.0|Southwest France  |Cahors                   |Malbec            |Château Lagrézette     |[coming, from, a, seven-acre, vineyard, named, after, the, dovecote, on, the, property,, this, is, a, magnificent, wine., powered, by, both, fruit, tannins, and, the, 28, months, of, new, wood, aging,, it, is, darkly, rich, and, with, great, concentration., as, a, sign, of, its, pedigree,, there, is, also, elegance, here,, a, restraint, which, is, new, to, this, wine., that, makes, it, a, wine, for, long-term, aging., drink, from, 2022.]                                                       |68    |[coming, seven-acre, vineyard, named, dovecote, property,, magnificent, wine., powered, fruit, tannins, 28, months, new, wood, aging,, darkly, rich, great, concentration., sign, pedigree,, also, elegance, here,, restraint, new, wine., makes, wine, long-term, aging., drink, 2022.]                                                                                            |34             |(262144,[1546,5441,12409,15544,33140,53484,69415,74644,89833,102935,112409,115192,125919,131707,143040,143299,147136,149300,199581,201329,211996,213305,220354,222710,223329,229987,233705,238696,244142,252138,260452,261870],[1.0,1.0,1.0,1.0,1.0,1.0,1.0,1.0,2.0,1.0,1.0,1.0,1.0,1.0,1.0,1.0,1.0,1.0,1.0,1.0,2.0,1.0,1.0,1.0,1.0,1.0,1.0,1.0,1.0,1.0,1.0,1.0])                                                                                                                  |\n",
            "|19 |US     |This fresh and lively medium-bodied wine is beautifully crafted, with cherry blossom aromas and tangy acidity. Layered and seductive, it offers a crisp mix of orange peel, cherry, pomegranate and baking spice flavors that are ready for the table or the cellar.                                                                                                                                                                       |Gap's Crown Vineyard                |95    |75.0 |California        |Sonoma Coast             |Pinot Noir        |Gary Farrell           |[this, fresh, and, lively, medium-bodied, wine, is, beautifully, crafted,, with, cherry, blossom, aromas, and, tangy, acidity., layered, and, seductive,, it, offers, a, crisp, mix, of, orange, peel,, cherry,, pomegranate, and, baking, spice, flavors, that, are, ready, for, the, table, or, the, cellar.]                                                                                                                                                                                                 |42    |[fresh, lively, medium-bodied, wine, beautifully, crafted,, cherry, blossom, aromas, tangy, acidity., layered, seductive,, offers, crisp, mix, orange, peel,, cherry,, pomegranate, baking, spice, flavors, ready, table, cellar.]                                                                                                                                                  |26             |(262144,[3572,19026,31129,41049,41502,46758,52226,59455,60716,62208,72073,77101,78495,84221,84417,103544,114395,116529,134272,148638,153612,158088,166929,219709,223329,250434],[1.0,1.0,1.0,1.0,1.0,1.0,1.0,1.0,1.0,1.0,1.0,1.0,1.0,1.0,1.0,1.0,1.0,1.0,1.0,1.0,1.0,1.0,1.0,1.0,1.0,1.0])                                                                                                                                                                                         |\n",
            "+---+-------+-------------------------------------------------------------------------------------------------------------------------------------------------------------------------------------------------------------------------------------------------------------------------------------------------------------------------------------------------------------------------------------------------------------------------------------------+------------------------------------+------+-----+------------------+-------------------------+------------------+-----------------------+----------------------------------------------------------------------------------------------------------------------------------------------------------------------------------------------------------------------------------------------------------------------------------------------------------------------------------------------------------------------------------------------------------------------------------------------------------------------------------------------------------------+------+------------------------------------------------------------------------------------------------------------------------------------------------------------------------------------------------------------------------------------------------------------------------------------------------------------------------------------------------------------------------------------+---------------+-----------------------------------------------------------------------------------------------------------------------------------------------------------------------------------------------------------------------------------------------------------------------------------------------------------------------------------------------------------------------------------------------------------------------------------------------------------------------------------+\n",
            "only showing top 20 rows\n",
            "\n"
          ],
          "name": "stdout"
        }
      ]
    },
    {
      "cell_type": "code",
      "metadata": {
        "id": "yCXIL2f78l41",
        "colab": {
          "base_uri": "https://localhost:8080/"
        },
        "outputId": "383f9f85-8566-48ff-a637-4340e4c717c0"
      },
      "source": [
        "# Fit the IDF on the data set\n",
        "idf = IDF(inputCol=\"hashedValues\", outputCol=\"features\")\n",
        "idfModel = idf.fit(hashed_df)\n",
        "rescaledData = idfModel.transform(hashed_df)\n",
        "\n",
        "# Display the DataFrame\n",
        "rescaledData.show(truncate=True)"
      ],
      "execution_count": 120,
      "outputs": [
        {
          "output_type": "stream",
          "text": [
            "+---+-------+--------------------+--------------------+------+-----+------------------+--------------------+------------------+--------------------+--------------------+------+--------------------+---------------+--------------------+--------------------+\n",
            "|_c0|country|         description|         designation|points|price|          province|            region_1|           variety|              winery|               words|tokens|            filtered|filtered_tokens|        hashedValues|            features|\n",
            "+---+-------+--------------------+--------------------+------+-----+------------------+--------------------+------------------+--------------------+--------------------+------+--------------------+---------------+--------------------+--------------------+\n",
            "|  0|     US|This tremendous 1...|   Martha's Vineyard|    96|235.0|        California|         Napa Valley|Cabernet Sauvignon|               Heitz|[this, tremendous...|    60|[tremendous, 100%...|             36|(262144,[2701,160...|(262144,[2701,160...|\n",
            "|  1|  Spain|Ripe aromas of fi...|Carodorum Selecci...|    96|110.0|    Northern Spain|                Toro|     Tinta de Toro|Bodega Carmen Rod...|[ripe, aromas, of...|    51|[ripe, aromas, fi...|             31|(262144,[11481,33...|(262144,[11481,33...|\n",
            "|  2|     US|Mac Watson honors...|Special Selected ...|    96| 90.0|        California|      Knights Valley|   Sauvignon Blanc|            Macauley|[mac, watson, hon...|    47|[mac, watson, hon...|             30|(262144,[10077,26...|(262144,[10077,26...|\n",
            "|  3|     US|This spent 20 mon...|             Reserve|    96| 65.0|            Oregon|   Willamette Valley|        Pinot Noir|               Ponzi|[this, spent, 20,...|    62|[spent, 20, month...|             43|(262144,[1546,423...|(262144,[1546,423...|\n",
            "|  4| France|This is the top w...|          La Brûlade|    95| 66.0|          Provence|              Bandol|Provence red blend|Domaine de la Bégude|[this, is, the, t...|    66|[top, wine, la, b...|             37|(262144,[1546,171...|(262144,[1546,171...|\n",
            "|  5|  Spain|Deep, dense and p...|           Numanthia|    95| 73.0|    Northern Spain|                Toro|     Tinta de Toro|           Numanthia|[deep,, dense, an...|    52|[deep,, dense, pu...|             34|(262144,[8408,181...|(262144,[8408,181...|\n",
            "|  6|  Spain|Slightly gritty b...|           San Román|    95| 65.0|    Northern Spain|                Toro|     Tinta de Toro|            Maurodos|[slightly, gritty...|    50|[slightly, gritty...|             31|(262144,[5561,196...|(262144,[5561,196...|\n",
            "|  7|  Spain|Lush cedary black...|Carodorum Único C...|    95|110.0|    Northern Spain|                Toro|     Tinta de Toro|Bodega Carmen Rod...|[lush, cedary, bl...|    60|[lush, cedary, bl...|             35|(262144,[4235,315...|(262144,[4235,315...|\n",
            "|  8|     US|This re-named vin...|              Silice|    95| 65.0|            Oregon|  Chehalem Mountains|        Pinot Noir|           Bergström|[this, re-named, ...|    42|[re-named, vineya...|             27|(262144,[2306,316...|(262144,[2306,316...|\n",
            "|  9|     US|The producer sour...|Gap's Crown Vineyard|    95| 60.0|        California|        Sonoma Coast|        Pinot Noir|           Blue Farm|[the, producer, s...|    45|[producer, source...|             30|(262144,[3354,415...|(262144,[3354,415...|\n",
            "| 10|  Italy|Elegance, complex...|  Ronco della Chiesa|    95| 80.0|Northeastern Italy|              Collio|          Friulano|    Borgo del Tiglio|[elegance,, compl...|    54|[elegance,, compl...|             43|(262144,[3848,939...|(262144,[3848,939...|\n",
            "| 11|     US|From 18-year-old ...|Estate Vineyard W...|    95| 48.0|            Oregon|        Ribbon Ridge|        Pinot Noir|Patricia Green Ce...|[from, 18-year-ol...|    40|[18-year-old, vin...|             27|(262144,[3456,215...|(262144,[3456,215...|\n",
            "| 12|     US|A standout even i...|      Weber Vineyard|    95| 48.0|            Oregon|        Dundee Hills|        Pinot Noir|Patricia Green Ce...|[a, standout, eve...|    46|[standout, even, ...|             29|(262144,[4176,894...|(262144,[4176,894...|\n",
            "| 13| France|This wine is in p...|Château Montus Pr...|    95| 90.0|  Southwest France|             Madiran|            Tannat|   Vignobles Brumont|[this, wine, is, ...|    54|[wine, peak, cond...|             27|(262144,[8297,120...|(262144,[8297,120...|\n",
            "| 14|     US|With its sophisti...|      Grace Vineyard|    95|185.0|            Oregon|        Dundee Hills|        Pinot Noir|      Domaine Serene|[with, its, sophi...|    68|[sophisticated, m...|             40|(262144,[5847,160...|(262144,[5847,160...|\n",
            "| 15|     US|First made in 200...|              Sigrid|    95| 90.0|            Oregon|   Willamette Valley|        Chardonnay|           Bergström|[first, made, in,...|    46|[first, made, 200...|             27|(262144,[1546,439...|(262144,[1546,439...|\n",
            "| 16|     US|This blockbuster,...|     Rainin Vineyard|    95|325.0|        California|Diamond Mountain ...|Cabernet Sauvignon|                Hall|[this, blockbuste...|    43|[blockbuster,, po...|             26|(262144,[18911,55...|(262144,[18911,55...|\n",
            "| 17|  Spain|Nicely oaked blac...|6 Años Reserva Pr...|    95| 80.0|    Northern Spain|    Ribera del Duero|       Tempranillo|            Valduero|[nicely, oaked, b...|    50|[nicely, oaked, b...|             33|(262144,[2701,104...|(262144,[2701,104...|\n",
            "| 18| France|Coming from a sev...|       Le Pigeonnier|    95|290.0|  Southwest France|              Cahors|            Malbec|  Château Lagrézette|[coming, from, a,...|    68|[coming, seven-ac...|             34|(262144,[1546,544...|(262144,[1546,544...|\n",
            "| 19|     US|This fresh and li...|Gap's Crown Vineyard|    95| 75.0|        California|        Sonoma Coast|        Pinot Noir|        Gary Farrell|[this, fresh, and...|    42|[fresh, lively, m...|             26|(262144,[3572,190...|(262144,[3572,190...|\n",
            "+---+-------+--------------------+--------------------+------+-----+------------------+--------------------+------------------+--------------------+--------------------+------+--------------------+---------------+--------------------+--------------------+\n",
            "only showing top 20 rows\n",
            "\n"
          ],
          "name": "stdout"
        }
      ]
    },
    {
      "cell_type": "code",
      "metadata": {
        "id": "ZVkh96OpgNXY",
        "outputId": "ed5e8608-787f-4755-de67-06c400bc9cb6",
        "colab": {
          "base_uri": "https://localhost:8080/"
        }
      },
      "source": [
        "rescaledData.dtypes"
      ],
      "execution_count": 119,
      "outputs": [
        {
          "output_type": "execute_result",
          "data": {
            "text/plain": [
              "[('_c0', 'string'),\n",
              " ('country', 'string'),\n",
              " ('description', 'string'),\n",
              " ('designation', 'string'),\n",
              " ('points', 'string'),\n",
              " ('price', 'string'),\n",
              " ('province', 'string'),\n",
              " ('region_1', 'string'),\n",
              " ('variety', 'string'),\n",
              " ('winery', 'string'),\n",
              " ('words', 'array<string>'),\n",
              " ('tokens', 'int'),\n",
              " ('filtered', 'array<string>'),\n",
              " ('filtered_tokens', 'int'),\n",
              " ('hashedValues', 'vector'),\n",
              " ('features', 'vector')]"
            ]
          },
          "metadata": {
            "tags": []
          },
          "execution_count": 119
        }
      ]
    },
    {
      "cell_type": "markdown",
      "metadata": {
        "id": "96htdi5UTQFX"
      },
      "source": [
        "### **Bin column values for encoding**"
      ]
    },
    {
      "cell_type": "code",
      "metadata": {
        "id": "neuNPi0jTMTq"
      },
      "source": [
        "# Convert Spark df to Pandas df\n",
        "rescaledData_pd = rescaledData.toPandas()"
      ],
      "execution_count": 107,
      "outputs": []
    },
    {
      "cell_type": "code",
      "metadata": {
        "colab": {
          "base_uri": "https://localhost:8080/",
          "height": 289
        },
        "id": "6I5S_HEETx4v",
        "outputId": "dde629e6-2134-4788-8cfe-7e82a31ade88"
      },
      "source": [
        "# Drop the _C0 column because its an identifier, and the description column because it's already encoded (as well as words, filtered, and hashedValues)\n",
        "rescaledData_pd = rescaledData_pd.drop(['_c0','description','words','filtered','hashedValues'], axis=1)\n",
        "rescaledData_pd.head(5)"
      ],
      "execution_count": 109,
      "outputs": [
        {
          "output_type": "execute_result",
          "data": {
            "text/html": [
              "<div>\n",
              "<style scoped>\n",
              "    .dataframe tbody tr th:only-of-type {\n",
              "        vertical-align: middle;\n",
              "    }\n",
              "\n",
              "    .dataframe tbody tr th {\n",
              "        vertical-align: top;\n",
              "    }\n",
              "\n",
              "    .dataframe thead th {\n",
              "        text-align: right;\n",
              "    }\n",
              "</style>\n",
              "<table border=\"1\" class=\"dataframe\">\n",
              "  <thead>\n",
              "    <tr style=\"text-align: right;\">\n",
              "      <th></th>\n",
              "      <th>country</th>\n",
              "      <th>designation</th>\n",
              "      <th>points</th>\n",
              "      <th>price</th>\n",
              "      <th>province</th>\n",
              "      <th>region_1</th>\n",
              "      <th>variety</th>\n",
              "      <th>winery</th>\n",
              "      <th>tokens</th>\n",
              "      <th>filtered_tokens</th>\n",
              "      <th>features</th>\n",
              "    </tr>\n",
              "  </thead>\n",
              "  <tbody>\n",
              "    <tr>\n",
              "      <th>0</th>\n",
              "      <td>US</td>\n",
              "      <td>Martha's Vineyard</td>\n",
              "      <td>96</td>\n",
              "      <td>235.0</td>\n",
              "      <td>California</td>\n",
              "      <td>Napa Valley</td>\n",
              "      <td>Cabernet Sauvignon</td>\n",
              "      <td>Heitz</td>\n",
              "      <td>60</td>\n",
              "      <td>36</td>\n",
              "      <td>(0.0, 0.0, 0.0, 0.0, 0.0, 0.0, 0.0, 0.0, 0.0, ...</td>\n",
              "    </tr>\n",
              "    <tr>\n",
              "      <th>1</th>\n",
              "      <td>Spain</td>\n",
              "      <td>Carodorum Selección Especial Reserva</td>\n",
              "      <td>96</td>\n",
              "      <td>110.0</td>\n",
              "      <td>Northern Spain</td>\n",
              "      <td>Toro</td>\n",
              "      <td>Tinta de Toro</td>\n",
              "      <td>Bodega Carmen Rodríguez</td>\n",
              "      <td>51</td>\n",
              "      <td>31</td>\n",
              "      <td>(0.0, 0.0, 0.0, 0.0, 0.0, 0.0, 0.0, 0.0, 0.0, ...</td>\n",
              "    </tr>\n",
              "    <tr>\n",
              "      <th>2</th>\n",
              "      <td>US</td>\n",
              "      <td>Special Selected Late Harvest</td>\n",
              "      <td>96</td>\n",
              "      <td>90.0</td>\n",
              "      <td>California</td>\n",
              "      <td>Knights Valley</td>\n",
              "      <td>Sauvignon Blanc</td>\n",
              "      <td>Macauley</td>\n",
              "      <td>47</td>\n",
              "      <td>30</td>\n",
              "      <td>(0.0, 0.0, 0.0, 0.0, 0.0, 0.0, 0.0, 0.0, 0.0, ...</td>\n",
              "    </tr>\n",
              "    <tr>\n",
              "      <th>3</th>\n",
              "      <td>US</td>\n",
              "      <td>Reserve</td>\n",
              "      <td>96</td>\n",
              "      <td>65.0</td>\n",
              "      <td>Oregon</td>\n",
              "      <td>Willamette Valley</td>\n",
              "      <td>Pinot Noir</td>\n",
              "      <td>Ponzi</td>\n",
              "      <td>62</td>\n",
              "      <td>43</td>\n",
              "      <td>(0.0, 0.0, 0.0, 0.0, 0.0, 0.0, 0.0, 0.0, 0.0, ...</td>\n",
              "    </tr>\n",
              "    <tr>\n",
              "      <th>4</th>\n",
              "      <td>France</td>\n",
              "      <td>La Brûlade</td>\n",
              "      <td>95</td>\n",
              "      <td>66.0</td>\n",
              "      <td>Provence</td>\n",
              "      <td>Bandol</td>\n",
              "      <td>Provence red blend</td>\n",
              "      <td>Domaine de la Bégude</td>\n",
              "      <td>66</td>\n",
              "      <td>37</td>\n",
              "      <td>(0.0, 0.0, 0.0, 0.0, 0.0, 0.0, 0.0, 0.0, 0.0, ...</td>\n",
              "    </tr>\n",
              "  </tbody>\n",
              "</table>\n",
              "</div>"
            ],
            "text/plain": [
              "  country  ...                                           features\n",
              "0      US  ...  (0.0, 0.0, 0.0, 0.0, 0.0, 0.0, 0.0, 0.0, 0.0, ...\n",
              "1   Spain  ...  (0.0, 0.0, 0.0, 0.0, 0.0, 0.0, 0.0, 0.0, 0.0, ...\n",
              "2      US  ...  (0.0, 0.0, 0.0, 0.0, 0.0, 0.0, 0.0, 0.0, 0.0, ...\n",
              "3      US  ...  (0.0, 0.0, 0.0, 0.0, 0.0, 0.0, 0.0, 0.0, 0.0, ...\n",
              "4  France  ...  (0.0, 0.0, 0.0, 0.0, 0.0, 0.0, 0.0, 0.0, 0.0, ...\n",
              "\n",
              "[5 rows x 11 columns]"
            ]
          },
          "metadata": {
            "tags": []
          },
          "execution_count": 109
        }
      ]
    },
    {
      "cell_type": "code",
      "metadata": {
        "colab": {
          "base_uri": "https://localhost:8080/"
        },
        "id": "GjmVvlR3UK4W",
        "outputId": "d0e982ee-4434-410c-8c61-1a4405b226aa"
      },
      "source": [
        "# Look at the country value counts for binning\n",
        "country_counts = rescaledData_pd.country.value_counts()\n",
        "country_counts"
      ],
      "execution_count": 110,
      "outputs": [
        {
          "output_type": "execute_result",
          "data": {
            "text/plain": [
              "US                         62135\n",
              "Italy                      18781\n",
              "France                     14783\n",
              "Spain                       8160\n",
              "Chile                       5766\n",
              "Argentina                   5587\n",
              "Australia                   4891\n",
              "Portugal                    4176\n",
              "New Zealand                 3073\n",
              "Austria                     2483\n",
              "Germany                     2347\n",
              "South Africa                2237\n",
              "Greece                       872\n",
              "Israel                       610\n",
              "Hungary                      230\n",
              "Canada                       194\n",
              "Romania                      139\n",
              "Uruguay                       85\n",
              "Croatia                       83\n",
              "Slovenia                      81\n",
              "Bulgaria                      77\n",
              "Moldova                       71\n",
              "Mexico                        63\n",
              "Turkey                        50\n",
              "Georgia                       43\n",
              "Lebanon                       37\n",
              "Cyprus                        31\n",
              "Brazil                        25\n",
              "Macedonia                     16\n",
              "Serbia                        14\n",
              "Morocco                       12\n",
              "Luxembourg                     9\n",
              "India                          8\n",
              "England                        8\n",
              "Lithuania                      8\n",
              "Czech Republic                 6\n",
              "Ukraine                        5\n",
              "Switzerland                    4\n",
              "Bosnia and Herzegovina         4\n",
              "South Korea                    4\n",
              "Slovakia                       3\n",
              "China                          3\n",
              "Montenegro                     2\n",
              "Japan                          2\n",
              "Albania                        2\n",
              " which is rich in sweet        1\n",
              "US-France                      1\n",
              "Name: country, dtype: int64"
            ]
          },
          "metadata": {
            "tags": []
          },
          "execution_count": 110
        }
      ]
    },
    {
      "cell_type": "code",
      "metadata": {
        "colab": {
          "base_uri": "https://localhost:8080/"
        },
        "id": "BBbVt_M_ak4H",
        "outputId": "47e420a3-2f26-40ec-b704-6c89b6488d27"
      },
      "source": [
        "# Replace country values for binning\n",
        "\n",
        "# Determine which values to replace if counts are less than X\n",
        "replace_country = list(country_counts[country_counts < 1000].index)\n",
        "\n",
        "# Replace in dataframe\n",
        "for i in replace_country:\n",
        "  rescaledData_pd.country = rescaledData_pd.country.replace(i, \"Other\")\n",
        "\n",
        "# Check to make sure binning was successful\n",
        "rescaledData_pd.country.value_counts()"
      ],
      "execution_count": 111,
      "outputs": [
        {
          "output_type": "execute_result",
          "data": {
            "text/plain": [
              "US              62135\n",
              "Italy           18781\n",
              "France          14783\n",
              "Spain            8160\n",
              "Chile            5766\n",
              "Argentina        5587\n",
              "Australia        4891\n",
              "Portugal         4176\n",
              "New Zealand      3073\n",
              "Other            2803\n",
              "Austria          2483\n",
              "Germany          2347\n",
              "South Africa     2237\n",
              "Name: country, dtype: int64"
            ]
          },
          "metadata": {
            "tags": []
          },
          "execution_count": 111
        }
      ]
    },
    {
      "cell_type": "code",
      "metadata": {
        "colab": {
          "base_uri": "https://localhost:8080/"
        },
        "id": "_SpyjeoQd8vH",
        "outputId": "2ffb8a38-04f7-4546-a2d9-f6460b46c699"
      },
      "source": [
        "# Look at the designation value counts for binning\n",
        "designation_counts = rescaledData_pd.designation.value_counts()\n",
        "designation_counts.tail(100)"
      ],
      "execution_count": 122,
      "outputs": [
        {
          "output_type": "execute_result",
          "data": {
            "text/plain": [
              "Other                   82648\n",
              "N/A                     42304\n",
              "Reserve                  2704\n",
              "Reserva                  1755\n",
              "Estate                   1561\n",
              "Riserva                   607\n",
              "Brut                      556\n",
              "Crianza                   494\n",
              "Estate Grown              448\n",
              "Estate Bottled            395\n",
              "Dry                       364\n",
              "Old Vine                  330\n",
              "Gran Reserva              319\n",
              "Brut Rosé                 227\n",
              "Bien Nacido Vineyard      195\n",
              "Extra Dry                 194\n",
              "Vieilles Vignes           177\n",
              "Rosé                      171\n",
              "Late Harvest              161\n",
              "Unoaked                   156\n",
              "Barrel Select             145\n",
              "Grand Reserve             138\n",
              "Single Vineyard           137\n",
              "Réserve                   137\n",
              "Old Vines                 127\n",
              "Estate Reserve            121\n",
              "Late Bottled Vintage      118\n",
              "Classic                   115\n",
              "Tinto                     112\n",
              "Vintage                   103\n",
              "Special Reserve           102\n",
              "Kosher                    101\n",
              "Name: designation, dtype: int64"
            ]
          },
          "metadata": {
            "tags": []
          },
          "execution_count": 122
        }
      ]
    },
    {
      "cell_type": "code",
      "metadata": {
        "id": "I5yywvYmCZxp",
        "outputId": "1fee3a92-12e1-4c37-c51f-f37726be45ca",
        "colab": {
          "base_uri": "https://localhost:8080/",
          "height": 282
        }
      },
      "source": [
        "# Visualize the value counts of designation\n",
        "designation_counts.plot.density()"
      ],
      "execution_count": 113,
      "outputs": [
        {
          "output_type": "execute_result",
          "data": {
            "text/plain": [
              "<matplotlib.axes._subplots.AxesSubplot at 0x7fa962991f50>"
            ]
          },
          "metadata": {
            "tags": []
          },
          "execution_count": 113
        },
        {
          "output_type": "display_data",
          "data": {
            "image/png": "[encoded data removed]",
            "text/plain": [
              "<Figure size 432x288 with 1 Axes>"
            ]
          },
          "metadata": {
            "tags": [],
            "needs_background": "light"
          }
        }
      ]
    },
    {
      "cell_type": "code",
      "metadata": {
        "colab": {
          "base_uri": "https://localhost:8080/"
        },
        "id": "FlwAu7mKeOPp",
        "outputId": "c2ad0aa8-057f-4be1-d68f-51cfd7c28ce9"
      },
      "source": [
        "# Replace the designation values for binning\n",
        "\n",
        "# Determine which values to replace if counts are less than X\n",
        "replace_designation = list(designation_counts[designation_counts < 10].index)\n",
        "\n",
        "# Replace in dataframe\n",
        "for i in replace_designation:\n",
        "  rescaledData_pd.designation = rescaledData_pd.designation.replace(i, \"Other\")\n",
        "\n",
        "# Check to make sure binning was successful\n",
        "rescaledData_pd.designation.value_counts()"
      ],
      "execution_count": 116,
      "outputs": [
        {
          "output_type": "execute_result",
          "data": {
            "text/plain": [
              "Other                   82648\n",
              "N/A                     42304\n",
              "Reserve                  2704\n",
              "Reserva                  1755\n",
              "Estate                   1561\n",
              "Riserva                   607\n",
              "Brut                      556\n",
              "Crianza                   494\n",
              "Estate Grown              448\n",
              "Estate Bottled            395\n",
              "Dry                       364\n",
              "Old Vine                  330\n",
              "Gran Reserva              319\n",
              "Brut Rosé                 227\n",
              "Bien Nacido Vineyard      195\n",
              "Extra Dry                 194\n",
              "Vieilles Vignes           177\n",
              "Rosé                      171\n",
              "Late Harvest              161\n",
              "Unoaked                   156\n",
              "Barrel Select             145\n",
              "Grand Reserve             138\n",
              "Single Vineyard           137\n",
              "Réserve                   137\n",
              "Old Vines                 127\n",
              "Estate Reserve            121\n",
              "Late Bottled Vintage      118\n",
              "Classic                   115\n",
              "Tinto                     112\n",
              "Vintage                   103\n",
              "Special Reserve           102\n",
              "Kosher                    101\n",
              "Name: designation, dtype: int64"
            ]
          },
          "metadata": {
            "tags": []
          },
          "execution_count": 116
        }
      ]
    },
    {
      "cell_type": "code",
      "metadata": {
        "colab": {
          "base_uri": "https://localhost:8080/"
        },
        "id": "7N2MSlgUezvG",
        "outputId": "4600ded3-120f-4db4-f18e-b2c6bb479a19"
      },
      "source": [
        "# Look at the province value counts for binning\n",
        "province_counts = rescaledData_pd.province.value_counts()\n",
        "province_counts.tail(400)"
      ],
      "execution_count": 129,
      "outputs": [
        {
          "output_type": "execute_result",
          "data": {
            "text/plain": [
              "Pfalz            244\n",
              "France Other     243\n",
              "Kremstal         243\n",
              "Martinborough    236\n",
              "Dão              219\n",
              "                ... \n",
              "Beni M'Tir         1\n",
              "Grand Reserve      1\n",
              "Dolenjska          1\n",
              "Pafos              1\n",
              " dusty even        1\n",
              "Name: province, Length: 400, dtype: int64"
            ]
          },
          "metadata": {
            "tags": []
          },
          "execution_count": 129
        }
      ]
    },
    {
      "cell_type": "code",
      "metadata": {
        "id": "hq5SSnkaXlDL",
        "outputId": "61f484b0-6b46-4909-fbeb-19ba1e56786a",
        "colab": {
          "base_uri": "https://localhost:8080/"
        }
      },
      "source": [
        "# Replace the province values for binning\n",
        "\n",
        "# Determine which values to replace if counts are less than X\n",
        "replace_province = list(province_counts[province_counts < 300].index)\n",
        "\n",
        "# Replace in dataframe\n",
        "for i in replace_province:\n",
        "  rescaledData_pd.province = rescaledData_pd.province.replace(i, \"Other\")\n",
        "\n",
        "# Check to make sure binning was successful\n",
        "rescaledData_pd.province.value_counts()"
      ],
      "execution_count": 134,
      "outputs": [
        {
          "output_type": "execute_result",
          "data": {
            "text/plain": [
              "California              44343\n",
              "Other                   11427\n",
              "Washington               9683\n",
              "Tuscany                  5961\n",
              "Northern Spain           4823\n",
              "Mendoza Province         4706\n",
              "Oregon                   4571\n",
              "Burgundy                 3340\n",
              "Veneto                   3103\n",
              "South Australia          2949\n",
              "Piedmont                 2908\n",
              "Bordeaux                 2658\n",
              "New York                 2413\n",
              "Sicily & Sardinia        2031\n",
              "Northeastern Italy       1851\n",
              "Marlborough              1595\n",
              "Loire Valley             1391\n",
              "Alsace                   1359\n",
              "Catalonia                1331\n",
              "Southwest France         1318\n",
              "Central Italy            1257\n",
              "Rhône Valley             1231\n",
              "Colchagua Valley         1192\n",
              "Southern Italy           1167\n",
              "Champagne                1089\n",
              "Languedoc-Roussillon     1023\n",
              "Maipo Valley              888\n",
              "Douro                     859\n",
              "Provence                  828\n",
              "Casablanca Valley         773\n",
              "Mosel                     760\n",
              "Central Spain             743\n",
              "Alentejano                700\n",
              "Stellenbosch              678\n",
              "Burgenland                648\n",
              "Port                      635\n",
              "Victoria                  609\n",
              "Australia Other           551\n",
              "Galicia                   541\n",
              "Maule Valley              522\n",
              "Central Valley            521\n",
              "Mosel-Saar-Ruwer          518\n",
              "Western Cape              511\n",
              "Virginia                  508\n",
              "Western Australia         487\n",
              "Levante                   449\n",
              "Lombardy                  444\n",
              "Niederösterreich          397\n",
              "Hawke's Bay               351\n",
              "Rheingau                  348\n",
              "Central Otago             329\n",
              "Wachau                    325\n",
              "Curicó Valley             324\n",
              "Galilee                   322\n",
              "Tejo                      320\n",
              "Vinho Verde               310\n",
              "Beaujolais                303\n",
              "Name: province, dtype: int64"
            ]
          },
          "metadata": {
            "tags": []
          },
          "execution_count": 134
        }
      ]
    },
    {
      "cell_type": "code",
      "metadata": {
        "colab": {
          "base_uri": "https://localhost:8080/"
        },
        "id": "v5JWXHpYfFCO",
        "outputId": "37b88d93-f588-46b1-d517-1ad280148854"
      },
      "source": [
        "# Look at the region_1 counts for binning\n",
        "region_counts = rescaledData_pd.region_1.value_counts()\n",
        "region_counts.tail(1000)"
      ],
      "execution_count": 140,
      "outputs": [
        {
          "output_type": "execute_result",
          "data": {
            "text/plain": [
              "Coteaux d'Aix-en-Provence        85\n",
              "Langhorne Creek                  84\n",
              "Gaillac                          83\n",
              "Chalone                          83\n",
              "Chianti Rufina                   83\n",
              "                                 ..\n",
              "Vino de Calidad de Valtiendas     1\n",
              "Prince Edward County              1\n",
              "Vesuvio                           1\n",
              "Uncut                             1\n",
              "Del Veneto                        1\n",
              "Name: region_1, Length: 1000, dtype: int64"
            ]
          },
          "metadata": {
            "tags": []
          },
          "execution_count": 140
        }
      ]
    },
    {
      "cell_type": "code",
      "metadata": {
        "id": "lp273It5hsLQ",
        "outputId": "55a69aaa-eb78-4081-e820-b32527703d97",
        "colab": {
          "base_uri": "https://localhost:8080/"
        }
      },
      "source": [
        "# Replace the region values for binning\n",
        "\n",
        "# Determine which values to replace if counts are less than X\n",
        "replace_region = list(region_counts[region_counts < 500].index)\n",
        "\n",
        "# Replace in dataframe\n",
        "for i in replace_region:\n",
        "  rescaledData_pd.region_1 = rescaledData_pd.region_1.replace(i, \"Other\")\n",
        "\n",
        "# Check to make sure binning was successful\n",
        "rescaledData_pd.region_1.value_counts()"
      ],
      "execution_count": 147,
      "outputs": [
        {
          "output_type": "execute_result",
          "data": {
            "text/plain": [
              "Other                                  49448\n",
              "N/A                                    22833\n",
              "Napa Valley                             6187\n",
              "Columbia Valley (WA)                    4941\n",
              "Mendoza                                 3556\n",
              "Russian River Valley                    3537\n",
              "California                              3458\n",
              "Paso Robles                             3039\n",
              "Willamette Valley                       2085\n",
              "Rioja                                   1884\n",
              "Sonoma County                           1852\n",
              "Toscana                                 1660\n",
              "Sonoma Coast                            1473\n",
              "Carneros                                1456\n",
              "Dry Creek Valley                        1396\n",
              "Finger Lakes                            1365\n",
              "Sicilia                                 1364\n",
              "Santa Barbara County                    1313\n",
              "Brunello di Montalcino                  1305\n",
              "Alsace                                  1261\n",
              "Walla Walla Valley (WA)                 1207\n",
              "Yakima Valley                           1157\n",
              "Alexander Valley                        1138\n",
              "Champagne                               1088\n",
              "Sta. Rita Hills                          982\n",
              "Sonoma Valley                            964\n",
              "Santa Lucia Highlands                    954\n",
              "Central Coast                            944\n",
              "Barolo                                   924\n",
              "Santa Ynez Valley                        887\n",
              "Lodi                                     868\n",
              "Ribera del Duero                         865\n",
              "Chianti Classico                         835\n",
              "Santa Maria Valley                       824\n",
              "Anderson Valley                          664\n",
              "McLaren Vale                             663\n",
              "Red Mountain                             638\n",
              "North Fork of Long Island                634\n",
              "Cava                                     593\n",
              "Edna Valley                              592\n",
              "Rutherford                               578\n",
              "Côtes de Provence                        573\n",
              "Monterey                                 559\n",
              "Horse Heaven Hills                       552\n",
              "Amarone della Valpolicella Classico      551\n",
              "Washington                               528\n",
              "Chablis                                  525\n",
              "Santa Cruz Mountains                     522\n",
              "Name: region_1, dtype: int64"
            ]
          },
          "metadata": {
            "tags": []
          },
          "execution_count": 147
        }
      ]
    },
    {
      "cell_type": "code",
      "metadata": {
        "colab": {
          "base_uri": "https://localhost:8080/"
        },
        "id": "exXiE56sfNCg",
        "outputId": "06fff39e-be9c-473a-8e61-42fb81c4537f"
      },
      "source": [
        "# Look at the variety counts for binning\n",
        "variety_counts = rescaledData_pd.variety.value_counts()\n",
        "variety_counts.tail(500)"
      ],
      "execution_count": 150,
      "outputs": [
        {
          "output_type": "execute_result",
          "data": {
            "text/plain": [
              "Trebbiano                  48\n",
              "Cabernet Merlot            48\n",
              "Verdicchio                 47\n",
              "Syrah-Grenache             47\n",
              "Weissburgunder             46\n",
              "                           ..\n",
              "Macabeo-Gewürztraminer      1\n",
              "Sarba                       1\n",
              "Pinot Grigio-Chardonnay     1\n",
              "White Port                  1\n",
              "Vidadillo                   1\n",
              "Name: variety, Length: 500, dtype: int64"
            ]
          },
          "metadata": {
            "tags": []
          },
          "execution_count": 150
        }
      ]
    },
    {
      "cell_type": "code",
      "metadata": {
        "id": "B_f15W02ifXI",
        "outputId": "169ab0b7-979e-4ec3-f868-a1240eaaef5e",
        "colab": {
          "base_uri": "https://localhost:8080/"
        }
      },
      "source": [
        "# Replace the variety values for binning\n",
        "\n",
        "# Determine which values to replace if counts are less than X\n",
        "replace_variety = list(variety_counts[variety_counts < 500].index)\n",
        "\n",
        "# Replace in dataframe\n",
        "for i in replace_variety:\n",
        "  rescaledData_pd.variety = rescaledData_pd.variety.replace(i, \"Other\")\n",
        "\n",
        "# Check to make sure binning was successful\n",
        "rescaledData_pd.variety.value_counts()"
      ],
      "execution_count": 155,
      "outputs": [
        {
          "output_type": "execute_result",
          "data": {
            "text/plain": [
              "Other                            17692\n",
              "Chardonnay                       13773\n",
              "Pinot Noir                       13622\n",
              "Cabernet Sauvignon               12663\n",
              "Red Blend                         9377\n",
              "Sauvignon Blanc                   6054\n",
              "Syrah                             5667\n",
              "Riesling                          5210\n",
              "Merlot                            4985\n",
              "Bordeaux-style Red Blend          4545\n",
              "Zinfandel                         3792\n",
              "Malbec                            3085\n",
              "Sangiovese                        2879\n",
              "White Blend                       2554\n",
              "Tempranillo                       2525\n",
              "Rosé                              2461\n",
              "Shiraz                            1941\n",
              "Sparkling Blend                   1819\n",
              "Portuguese Red                    1811\n",
              "Nebbiolo                          1528\n",
              "Rhône-style Red Blend             1455\n",
              "Cabernet Franc                    1310\n",
              "Corvina, Rondinella, Molinara     1292\n",
              "Pinot Gris                        1275\n",
              "Pinot Grigio                      1268\n",
              "Viognier                          1255\n",
              "Champagne Blend                   1003\n",
              "Barbera                            967\n",
              "Sangiovese Grosso                  938\n",
              "Petite Sirah                       897\n",
              "Gewürztraminer                     891\n",
              "Grüner Veltliner                   841\n",
              "Port                               791\n",
              "Carmenère                          746\n",
              "Tempranillo Blend                  734\n",
              "Portuguese White                   716\n",
              "Chenin Blanc                       639\n",
              "Grenache                           596\n",
              "Bordeaux-style White Blend         580\n",
              "Albariño                           530\n",
              "Prosecco                           515\n",
              "Name: variety, dtype: int64"
            ]
          },
          "metadata": {
            "tags": []
          },
          "execution_count": 155
        }
      ]
    },
    {
      "cell_type": "code",
      "metadata": {
        "colab": {
          "base_uri": "https://localhost:8080/"
        },
        "id": "ZH0bsmS8fPBc",
        "outputId": "ae763a9e-19fc-4c95-c662-614400ae6256"
      },
      "source": [
        "# Look at the winery counts for binning\n",
        "winery_counts = rescaledData_pd.winery.value_counts()\n",
        "winery_counts.tail(1000)"
      ],
      "execution_count": 158,
      "outputs": [
        {
          "output_type": "execute_result",
          "data": {
            "text/plain": [
              "Celler Piñol             1\n",
              "Chase                    1\n",
              "La Cruz                  1\n",
              "Montevannos              1\n",
              "Mooney Family            1\n",
              "                        ..\n",
              "Williams & Heim          1\n",
              "Vallemon de Sardilici    1\n",
              "Finca Los Olmos          1\n",
              "A By Acacia              1\n",
              "Sombrero                 1\n",
              "Name: winery, Length: 1000, dtype: int64"
            ]
          },
          "metadata": {
            "tags": []
          },
          "execution_count": 158
        }
      ]
    },
    {
      "cell_type": "code",
      "metadata": {
        "id": "5p0ljEwwjGXM",
        "outputId": "48947233-dbc8-4d23-c5cb-1164bfb508ca",
        "colab": {
          "base_uri": "https://localhost:8080/"
        }
      },
      "source": [
        "# Replace the winery values for binning\n",
        "\n",
        "# Determine which values to replace if counts are less than X\n",
        "replace_winery = list(winery_counts[winery_counts < 100].index)\n",
        "\n",
        "# Replace in dataframe\n",
        "for i in replace_winery:\n",
        "  rescaledData_pd.winery = rescaledData_pd.winery.replace(i, \"Other\")\n",
        "\n",
        "# Check to make sure binning was successful\n",
        "rescaledData_pd.winery.value_counts()"
      ],
      "execution_count": 161,
      "outputs": [
        {
          "output_type": "execute_result",
          "data": {
            "text/plain": [
              "Other                    125294\n",
              "Williams Selyem             371\n",
              "Testarossa                  274\n",
              "DFJ Vinhos                  249\n",
              "Chateau Ste. Michelle       225\n",
              "                          ...  \n",
              "Ferrari-Carano              101\n",
              "Ken Wright                  101\n",
              "Schug                       101\n",
              "Maryhill                    101\n",
              "Chateau St. Jean            100\n",
              "Name: winery, Length: 89, dtype: int64"
            ]
          },
          "metadata": {
            "tags": []
          },
          "execution_count": 161
        }
      ]
    },
    {
      "cell_type": "markdown",
      "metadata": {
        "id": "sJHSKYT3fTmB"
      },
      "source": [
        "### **Encode the categorical values**"
      ]
    },
    {
      "cell_type": "code",
      "metadata": {
        "id": "BWdH9K65jo-1",
        "outputId": "22c43196-c52b-42f1-b4cd-36151d21a45b",
        "colab": {
          "base_uri": "https://localhost:8080/"
        }
      },
      "source": [
        "# Check the column data types\n",
        "rescaledData_pd.dtypes"
      ],
      "execution_count": 162,
      "outputs": [
        {
          "output_type": "execute_result",
          "data": {
            "text/plain": [
              "country            object\n",
              "designation        object\n",
              "points             object\n",
              "price              object\n",
              "province           object\n",
              "region_1           object\n",
              "variety            object\n",
              "winery             object\n",
              "tokens              int32\n",
              "filtered_tokens     int32\n",
              "features           object\n",
              "dtype: object"
            ]
          },
          "metadata": {
            "tags": []
          },
          "execution_count": 162
        }
      ]
    },
    {
      "cell_type": "code",
      "metadata": {
        "id": "snMiM8suagHw",
        "outputId": "f1f8f6c8-a3c0-4145-c4b7-34b45f041aba",
        "colab": {
          "base_uri": "https://localhost:8080/",
          "height": 562
        }
      },
      "source": [
        "# Convert columns to numeric\n",
        "rescaledData_pd[\"price\",\"points\",\"filtered_tokens\",\"features\"] = rescaledData_pd[\"price\",\"points\",\"filtered_tokens\",\"features\"].apply(pd.to_numeric)\n",
        "rescaledData_pd.dtypes"
      ],
      "execution_count": 164,
      "outputs": [
        {
          "output_type": "error",
          "ename": "KeyError",
          "evalue": "ignored",
          "traceback": [
            "\u001b[0;31m---------------------------------------------------------------------------\u001b[0m",
            "\u001b[0;31mKeyError\u001b[0m                                  Traceback (most recent call last)",
            "\u001b[0;32m/usr/local/lib/python3.7/dist-packages/pandas/core/indexes/base.py\u001b[0m in \u001b[0;36mget_loc\u001b[0;34m(self, key, method, tolerance)\u001b[0m\n\u001b[1;32m   2897\u001b[0m             \u001b[0;32mtry\u001b[0m\u001b[0;34m:\u001b[0m\u001b[0;34m\u001b[0m\u001b[0;34m\u001b[0m\u001b[0m\n\u001b[0;32m-> 2898\u001b[0;31m                 \u001b[0;32mreturn\u001b[0m \u001b[0mself\u001b[0m\u001b[0;34m.\u001b[0m\u001b[0m_engine\u001b[0m\u001b[0;34m.\u001b[0m\u001b[0mget_loc\u001b[0m\u001b[0;34m(\u001b[0m\u001b[0mcasted_key\u001b[0m\u001b[0;34m)\u001b[0m\u001b[0;34m\u001b[0m\u001b[0;34m\u001b[0m\u001b[0m\n\u001b[0m\u001b[1;32m   2899\u001b[0m             \u001b[0;32mexcept\u001b[0m \u001b[0mKeyError\u001b[0m \u001b[0;32mas\u001b[0m \u001b[0merr\u001b[0m\u001b[0;34m:\u001b[0m\u001b[0;34m\u001b[0m\u001b[0;34m\u001b[0m\u001b[0m\n",
            "\u001b[0;32mpandas/_libs/index.pyx\u001b[0m in \u001b[0;36mpandas._libs.index.IndexEngine.get_loc\u001b[0;34m()\u001b[0m\n",
            "\u001b[0;32mpandas/_libs/index.pyx\u001b[0m in \u001b[0;36mpandas._libs.index.IndexEngine.get_loc\u001b[0;34m()\u001b[0m\n",
            "\u001b[0;32mpandas/_libs/hashtable_class_helper.pxi\u001b[0m in \u001b[0;36mpandas._libs.hashtable.PyObjectHashTable.get_item\u001b[0;34m()\u001b[0m\n",
            "\u001b[0;32mpandas/_libs/hashtable_class_helper.pxi\u001b[0m in \u001b[0;36mpandas._libs.hashtable.PyObjectHashTable.get_item\u001b[0;34m()\u001b[0m\n",
            "\u001b[0;31mKeyError\u001b[0m: ('price', 'points', 'filtered_tokens', 'features')",
            "\nThe above exception was the direct cause of the following exception:\n",
            "\u001b[0;31mKeyError\u001b[0m                                  Traceback (most recent call last)",
            "\u001b[0;32m<ipython-input-164-151ac7eeeeb1>\u001b[0m in \u001b[0;36m<module>\u001b[0;34m()\u001b[0m\n\u001b[1;32m      1\u001b[0m \u001b[0;31m# Convert columns to numeric\u001b[0m\u001b[0;34m\u001b[0m\u001b[0;34m\u001b[0m\u001b[0;34m\u001b[0m\u001b[0m\n\u001b[0;32m----> 2\u001b[0;31m \u001b[0mrescaledData_pd\u001b[0m\u001b[0;34m[\u001b[0m\u001b[0;34m\"price\"\u001b[0m\u001b[0;34m,\u001b[0m\u001b[0;34m\"points\"\u001b[0m\u001b[0;34m,\u001b[0m\u001b[0;34m\"filtered_tokens\"\u001b[0m\u001b[0;34m,\u001b[0m\u001b[0;34m\"features\"\u001b[0m\u001b[0;34m]\u001b[0m \u001b[0;34m=\u001b[0m \u001b[0mrescaledData_pd\u001b[0m\u001b[0;34m[\u001b[0m\u001b[0;34m\"price\"\u001b[0m\u001b[0;34m,\u001b[0m\u001b[0;34m\"points\"\u001b[0m\u001b[0;34m,\u001b[0m\u001b[0;34m\"filtered_tokens\"\u001b[0m\u001b[0;34m,\u001b[0m\u001b[0;34m\"features\"\u001b[0m\u001b[0;34m]\u001b[0m\u001b[0;34m.\u001b[0m\u001b[0mapply\u001b[0m\u001b[0;34m(\u001b[0m\u001b[0mpd\u001b[0m\u001b[0;34m.\u001b[0m\u001b[0mto_numeric\u001b[0m\u001b[0;34m)\u001b[0m\u001b[0;34m\u001b[0m\u001b[0;34m\u001b[0m\u001b[0m\n\u001b[0m\u001b[1;32m      3\u001b[0m \u001b[0mrescaledData_pd\u001b[0m\u001b[0;34m.\u001b[0m\u001b[0mdtypes\u001b[0m\u001b[0;34m\u001b[0m\u001b[0;34m\u001b[0m\u001b[0m\n",
            "\u001b[0;32m/usr/local/lib/python3.7/dist-packages/pandas/core/frame.py\u001b[0m in \u001b[0;36m__getitem__\u001b[0;34m(self, key)\u001b[0m\n\u001b[1;32m   2904\u001b[0m             \u001b[0;32mif\u001b[0m \u001b[0mself\u001b[0m\u001b[0;34m.\u001b[0m\u001b[0mcolumns\u001b[0m\u001b[0;34m.\u001b[0m\u001b[0mnlevels\u001b[0m \u001b[0;34m>\u001b[0m \u001b[0;36m1\u001b[0m\u001b[0;34m:\u001b[0m\u001b[0;34m\u001b[0m\u001b[0;34m\u001b[0m\u001b[0m\n\u001b[1;32m   2905\u001b[0m                 \u001b[0;32mreturn\u001b[0m \u001b[0mself\u001b[0m\u001b[0;34m.\u001b[0m\u001b[0m_getitem_multilevel\u001b[0m\u001b[0;34m(\u001b[0m\u001b[0mkey\u001b[0m\u001b[0;34m)\u001b[0m\u001b[0;34m\u001b[0m\u001b[0;34m\u001b[0m\u001b[0m\n\u001b[0;32m-> 2906\u001b[0;31m             \u001b[0mindexer\u001b[0m \u001b[0;34m=\u001b[0m \u001b[0mself\u001b[0m\u001b[0;34m.\u001b[0m\u001b[0mcolumns\u001b[0m\u001b[0;34m.\u001b[0m\u001b[0mget_loc\u001b[0m\u001b[0;34m(\u001b[0m\u001b[0mkey\u001b[0m\u001b[0;34m)\u001b[0m\u001b[0;34m\u001b[0m\u001b[0;34m\u001b[0m\u001b[0m\n\u001b[0m\u001b[1;32m   2907\u001b[0m             \u001b[0;32mif\u001b[0m \u001b[0mis_integer\u001b[0m\u001b[0;34m(\u001b[0m\u001b[0mindexer\u001b[0m\u001b[0;34m)\u001b[0m\u001b[0;34m:\u001b[0m\u001b[0;34m\u001b[0m\u001b[0;34m\u001b[0m\u001b[0m\n\u001b[1;32m   2908\u001b[0m                 \u001b[0mindexer\u001b[0m \u001b[0;34m=\u001b[0m \u001b[0;34m[\u001b[0m\u001b[0mindexer\u001b[0m\u001b[0;34m]\u001b[0m\u001b[0;34m\u001b[0m\u001b[0;34m\u001b[0m\u001b[0m\n",
            "\u001b[0;32m/usr/local/lib/python3.7/dist-packages/pandas/core/indexes/base.py\u001b[0m in \u001b[0;36mget_loc\u001b[0;34m(self, key, method, tolerance)\u001b[0m\n\u001b[1;32m   2898\u001b[0m                 \u001b[0;32mreturn\u001b[0m \u001b[0mself\u001b[0m\u001b[0;34m.\u001b[0m\u001b[0m_engine\u001b[0m\u001b[0;34m.\u001b[0m\u001b[0mget_loc\u001b[0m\u001b[0;34m(\u001b[0m\u001b[0mcasted_key\u001b[0m\u001b[0;34m)\u001b[0m\u001b[0;34m\u001b[0m\u001b[0;34m\u001b[0m\u001b[0m\n\u001b[1;32m   2899\u001b[0m             \u001b[0;32mexcept\u001b[0m \u001b[0mKeyError\u001b[0m \u001b[0;32mas\u001b[0m \u001b[0merr\u001b[0m\u001b[0;34m:\u001b[0m\u001b[0;34m\u001b[0m\u001b[0;34m\u001b[0m\u001b[0m\n\u001b[0;32m-> 2900\u001b[0;31m                 \u001b[0;32mraise\u001b[0m \u001b[0mKeyError\u001b[0m\u001b[0;34m(\u001b[0m\u001b[0mkey\u001b[0m\u001b[0;34m)\u001b[0m \u001b[0;32mfrom\u001b[0m \u001b[0merr\u001b[0m\u001b[0;34m\u001b[0m\u001b[0;34m\u001b[0m\u001b[0m\n\u001b[0m\u001b[1;32m   2901\u001b[0m \u001b[0;34m\u001b[0m\u001b[0m\n\u001b[1;32m   2902\u001b[0m         \u001b[0;32mif\u001b[0m \u001b[0mtolerance\u001b[0m \u001b[0;32mis\u001b[0m \u001b[0;32mnot\u001b[0m \u001b[0;32mNone\u001b[0m\u001b[0;34m:\u001b[0m\u001b[0;34m\u001b[0m\u001b[0;34m\u001b[0m\u001b[0m\n",
            "\u001b[0;31mKeyError\u001b[0m: ('price', 'points', 'filtered_tokens', 'features')"
          ]
        }
      ]
    },
    {
      "cell_type": "code",
      "metadata": {
        "colab": {
          "base_uri": "https://localhost:8080/"
        },
        "id": "oYYBhrFJfWjZ",
        "outputId": "bd28a41a-2bd3-419b-8ece-a589fcf61de7"
      },
      "source": [
        "# Generate our categorical variable lists\n",
        "categories = rescaledData_pd.dtypes[rescaledData_pd.dtypes == 'object'].index.tolist()\n",
        "categories"
      ],
      "execution_count": 93,
      "outputs": [
        {
          "output_type": "execute_result",
          "data": {
            "text/plain": [
              "['country',\n",
              " 'designation',\n",
              " 'points',\n",
              " 'price',\n",
              " 'province',\n",
              " 'region_1',\n",
              " 'variety',\n",
              " 'winery',\n",
              " 'words',\n",
              " 'filtered',\n",
              " 'hashedValues',\n",
              " 'features']"
            ]
          },
          "metadata": {
            "tags": []
          },
          "execution_count": 93
        }
      ]
    },
    {
      "cell_type": "code",
      "metadata": {
        "id": "SVpKwooCSD1l"
      },
      "source": [
        "# Create a OneHotEncoder instance\n",
        "enc = OneHotEncoder(sparse=False)\n",
        "\n",
        "# Fit and transform the OneHotEncoder using the categorical variable list\n",
        "encode_df = pd.DataFrame(enc.fit_transform(rescaledData_pd[categories]))\n",
        "\n",
        "# Add the encoded variable names to the dataframe\n",
        "encode_df.columns = enc.get_feature_names(categories)\n",
        "encode_df.head()"
      ],
      "execution_count": null,
      "outputs": []
    },
    {
      "cell_type": "code",
      "metadata": {
        "id": "Z63lM8jXSEDK"
      },
      "source": [
        "# Merge one-hot encoded features and drop the originals\n",
        "cleaned_df = rescaledData_pd.merge(encode_df, left_index=True, right_index=True)\n",
        "cleaned_df = rescaledData_pd.drop(categories,axis=1)\n",
        "cleaned_df.head()"
      ],
      "execution_count": null,
      "outputs": []
    },
    {
      "cell_type": "code",
      "metadata": {
        "id": "mMfagsJ-SEKH"
      },
      "source": [
        ""
      ],
      "execution_count": null,
      "outputs": []
    },
    {
      "cell_type": "markdown",
      "metadata": {
        "id": "rht4TLXUhl_C"
      },
      "source": [
        "### **Save the cleaned dataframe as a csv file in GDrive**\n",
        "\n",
        "Download file and upload to S3 until I can figure out how to connect to PGAdmin"
      ]
    },
    {
      "cell_type": "code",
      "metadata": {
        "id": "FTUofnZHmxGN",
        "colab": {
          "base_uri": "https://localhost:8080/",
          "height": 300
        },
        "outputId": "2d87f125-56b8-47d4-f788-b405bc0c2664"
      },
      "source": [
        "# Convert Spark df to Pandas df \n",
        "#cleaned_df = rescaledData_pd.toPandas()"
      ],
      "execution_count": 37,
      "outputs": [
        {
          "output_type": "error",
          "ename": "AttributeError",
          "evalue": "ignored",
          "traceback": [
            "\u001b[0;31m---------------------------------------------------------------------------\u001b[0m",
            "\u001b[0;31mAttributeError\u001b[0m                            Traceback (most recent call last)",
            "\u001b[0;32m<ipython-input-37-57396b76f867>\u001b[0m in \u001b[0;36m<module>\u001b[0;34m()\u001b[0m\n\u001b[1;32m      1\u001b[0m \u001b[0;31m# Convert Spark df to Pandas df\u001b[0m\u001b[0;34m\u001b[0m\u001b[0;34m\u001b[0m\u001b[0;34m\u001b[0m\u001b[0m\n\u001b[0;32m----> 2\u001b[0;31m \u001b[0mcleaned_df\u001b[0m \u001b[0;34m=\u001b[0m \u001b[0mrescaledData_pd\u001b[0m\u001b[0;34m.\u001b[0m\u001b[0mtoPandas\u001b[0m\u001b[0;34m(\u001b[0m\u001b[0;34m)\u001b[0m\u001b[0;34m\u001b[0m\u001b[0;34m\u001b[0m\u001b[0m\n\u001b[0m",
            "\u001b[0;32m/usr/local/lib/python3.7/dist-packages/pandas/core/generic.py\u001b[0m in \u001b[0;36m__getattr__\u001b[0;34m(self, name)\u001b[0m\n\u001b[1;32m   5139\u001b[0m             \u001b[0;32mif\u001b[0m \u001b[0mself\u001b[0m\u001b[0;34m.\u001b[0m\u001b[0m_info_axis\u001b[0m\u001b[0;34m.\u001b[0m\u001b[0m_can_hold_identifiers_and_holds_name\u001b[0m\u001b[0;34m(\u001b[0m\u001b[0mname\u001b[0m\u001b[0;34m)\u001b[0m\u001b[0;34m:\u001b[0m\u001b[0;34m\u001b[0m\u001b[0;34m\u001b[0m\u001b[0m\n\u001b[1;32m   5140\u001b[0m                 \u001b[0;32mreturn\u001b[0m \u001b[0mself\u001b[0m\u001b[0;34m[\u001b[0m\u001b[0mname\u001b[0m\u001b[0;34m]\u001b[0m\u001b[0;34m\u001b[0m\u001b[0;34m\u001b[0m\u001b[0m\n\u001b[0;32m-> 5141\u001b[0;31m             \u001b[0;32mreturn\u001b[0m \u001b[0mobject\u001b[0m\u001b[0;34m.\u001b[0m\u001b[0m__getattribute__\u001b[0m\u001b[0;34m(\u001b[0m\u001b[0mself\u001b[0m\u001b[0;34m,\u001b[0m \u001b[0mname\u001b[0m\u001b[0;34m)\u001b[0m\u001b[0;34m\u001b[0m\u001b[0;34m\u001b[0m\u001b[0m\n\u001b[0m\u001b[1;32m   5142\u001b[0m \u001b[0;34m\u001b[0m\u001b[0m\n\u001b[1;32m   5143\u001b[0m     \u001b[0;32mdef\u001b[0m \u001b[0m__setattr__\u001b[0m\u001b[0;34m(\u001b[0m\u001b[0mself\u001b[0m\u001b[0;34m,\u001b[0m \u001b[0mname\u001b[0m\u001b[0;34m:\u001b[0m \u001b[0mstr\u001b[0m\u001b[0;34m,\u001b[0m \u001b[0mvalue\u001b[0m\u001b[0;34m)\u001b[0m \u001b[0;34m->\u001b[0m \u001b[0;32mNone\u001b[0m\u001b[0;34m:\u001b[0m\u001b[0;34m\u001b[0m\u001b[0;34m\u001b[0m\u001b[0m\n",
            "\u001b[0;31mAttributeError\u001b[0m: 'DataFrame' object has no attribute 'toPandas'"
          ]
        }
      ]
    },
    {
      "cell_type": "code",
      "metadata": {
        "id": "kAlvV3FJjpLc"
      },
      "source": [
        "# Connect to GDrive\n",
        "from google.colab import drive\n",
        "drive.mount('drive')"
      ],
      "execution_count": null,
      "outputs": []
    },
    {
      "cell_type": "code",
      "metadata": {
        "id": "aS6ei90ul6-y"
      },
      "source": [
        "# Export dataframe to csv in GDrive\n",
        "cleaned_df.to_csv('winemag-data_cleaning_inprogress.csv')\n",
        "\n",
        "# Path = \"drive/My Drive/destination folder\"\n",
        "!cp winemag-data_cleaning_inprogress.csv \"drive/My Drive/UCB Data Bootcamp/Whats_In_A_Bottle\""
      ],
      "execution_count": null,
      "outputs": []
    },
    {
      "cell_type": "markdown",
      "metadata": {
        "id": "grpHD22w1DuJ"
      },
      "source": [
        "### **Export the Dataframe to our Database (connect to pgAdmin)**"
      ]
    },
    {
      "cell_type": "code",
      "metadata": {
        "id": "3I2oz5EH1WCC"
      },
      "source": [
        "# Connect spark and postgres\n",
        "!wget https://jdbc.postgresql.org/download/postgresql-42.2.16.jar"
      ],
      "execution_count": null,
      "outputs": []
    },
    {
      "cell_type": "code",
      "metadata": {
        "id": "TOCvaqcR1dd2"
      },
      "source": [
        "# Configure settings for RDS\n",
        "mode = \"overwrite\"\n",
        "jdbc_url=\"jdbc:postgresql://postgres.cuvwsdzowgas.us-west-1.rds.amazonaws.com:5432/whats-in-a-bottle\"\n",
        "config = {\"user\":\"postgres\",\n",
        "          \"password\": \"bootcamp-whats-in-a-bottle\",\n",
        "          \"driver\":\"org.postgresql.Driver\"}"
      ],
      "execution_count": null,
      "outputs": []
    },
    {
      "cell_type": "code",
      "metadata": {
        "id": "fpKMMTBC2v5p"
      },
      "source": [
        "# Write Dataframe to cleaned data table in RDS\n",
        "\n",
        "# ***Need to create an empty table in PGAdmin first\n",
        "\n",
        "rescaledData.write.jdbc(url=jdbc_url, table='cleaned_data', mode=mode, properties=config)"
      ],
      "execution_count": null,
      "outputs": []
    }
  ]
}