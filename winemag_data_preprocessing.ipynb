{
  "nbformat": 4,
  "nbformat_minor": 0,
  "metadata": {
    "colab": {
      "name": "winemag-data_preprocessing.ipynb",
      "provenance": [],
      "collapsed_sections": [],
      "authorship_tag": "ABX9TyOL1GeeWUR4WRd8++hFcxl7",
      "include_colab_link": true
    },
    "kernelspec": {
      "display_name": "Python 3",
      "name": "python3"
    },
    "language_info": {
      "name": "python"
    }
  },
  "cells": [
    {
      "cell_type": "markdown",
      "metadata": {
        "id": "view-in-github",
        "colab_type": "text"
      },
      "source": [
        "<a href=\"https://colab.research.google.com/github/arahogc/Whats_In_A_Bottle/blob/Jess/winemag_data_preprocessing.ipynb\" target=\"_parent\"><img src=\"https://colab.research.google.com/assets/colab-badge.svg\" alt=\"Open In Colab\"/></a>"
      ]
    },
    {
      "cell_type": "markdown",
      "metadata": {
        "id": "4w2dB6ZZRRcn"
      },
      "source": [
        "# Winemag-data_first150K Data Preprocessing"
      ]
    },
    {
      "cell_type": "markdown",
      "metadata": {
        "id": "goYBnxioSnrL"
      },
      "source": [
        "### **Overview**"
      ]
    },
    {
      "cell_type": "markdown",
      "metadata": {
        "id": "xu4Q7FQLRcsF"
      },
      "source": [
        "**Purpose:** To preprocess the winemag data so that it can be run through a machine learning model to predict price and/or rating (points). \n",
        "\n",
        "**Cleaning To-Do list:**\n",
        "1. Check the null values in each column and drop columns with large number of null values (>50% null)\n",
        "2. Fill null values for columns we want to keep with \"N/A\", then drop remaining rows with null values\n",
        "3. NLP Pipeline - Transform the description column to numeric:<br>\n",
        "      a) Tokenize the description column<br>\n",
        "      b) Remove Stop words from the tokenized description<br>\n",
        "      c) Count the number of tokens and add a new column to the df<br>\n",
        "      d) Encode the filtered description tokens<br>\n",
        "4. Bin data in categorical columns with more than X unique values\n",
        "5. Encode the categorical columns with the Label Encoder\n",
        "6. Check the final cleaned dataframe for missing data or null values\n",
        "7. Connect to the database\n"
      ]
    },
    {
      "cell_type": "markdown",
      "metadata": {
        "id": "cqXAhMchRKZ7"
      },
      "source": [
        "### **Import Dependencies and Initialize the Spark Session**"
      ]
    },
    {
      "cell_type": "code",
      "metadata": {
        "colab": {
          "base_uri": "https://localhost:8080/"
        },
        "id": "Bj_GwkIXiKTD",
        "outputId": "b4dd20ae-e550-4216-f184-d9dc74119144"
      },
      "source": [
        "# Initialize Spark\n",
        "import os\n",
        "# Find the latest version of spark 3.0  from http://www-us.apache.org/dist/spark/ and enter as the spark version\n",
        "# For example:\n",
        "spark_version = 'spark-3.0.2'\n",
        "#spark_version = 'spark-3.<enter version>'\n",
        "os.environ['SPARK_VERSION']=spark_version\n",
        "\n",
        "# Install Spark and Java\n",
        "!apt-get update\n",
        "!apt-get install openjdk-11-jdk-headless -qq > /dev/null\n",
        "!wget -q http://www-us.apache.org/dist/spark/$SPARK_VERSION/$SPARK_VERSION-bin-hadoop2.7.tgz\n",
        "!tar xf $SPARK_VERSION-bin-hadoop2.7.tgz\n",
        "!pip install -q findspark\n",
        "\n",
        "# Set Environment Variables\n",
        "import os\n",
        "os.environ[\"JAVA_HOME\"] = \"/usr/lib/jvm/java-11-openjdk-amd64\"\n",
        "os.environ[\"SPARK_HOME\"] = f\"/content/{spark_version}-bin-hadoop2.7\"\n",
        "\n",
        "# Start a SparkSession\n",
        "import findspark\n",
        "findspark.init()"
      ],
      "execution_count": null,
      "outputs": [
        {
          "output_type": "stream",
          "text": [
            "\r0% [Working]\r            \rIgn:1 https://developer.download.nvidia.com/compute/cuda/repos/ubuntu1804/x86_64  InRelease\n",
            "\r0% [Connecting to archive.ubuntu.com] [Connecting to security.ubuntu.com] [Conn\r                                                                               \rIgn:2 https://developer.download.nvidia.com/compute/machine-learning/repos/ubuntu1804/x86_64  InRelease\n",
            "\r0% [Connecting to archive.ubuntu.com] [Connecting to security.ubuntu.com] [Conn\r                                                                               \rHit:3 https://developer.download.nvidia.com/compute/cuda/repos/ubuntu1804/x86_64  Release\n",
            "\r0% [Connecting to archive.ubuntu.com] [Connecting to security.ubuntu.com] [Conn\r0% [Release.gpg gpgv 697 B] [Connecting to archive.ubuntu.com] [Connecting to s\r                                                                               \rHit:4 https://developer.download.nvidia.com/compute/machine-learning/repos/ubuntu1804/x86_64  Release\n",
            "Hit:5 https://cloud.r-project.org/bin/linux/ubuntu bionic-cran40/ InRelease\n",
            "Hit:7 http://ppa.launchpad.net/c2d4u.team/c2d4u4.0+/ubuntu bionic InRelease\n",
            "Hit:8 http://security.ubuntu.com/ubuntu bionic-security InRelease\n",
            "Hit:9 http://archive.ubuntu.com/ubuntu bionic InRelease\n",
            "Hit:11 http://archive.ubuntu.com/ubuntu bionic-updates InRelease\n",
            "Hit:12 http://ppa.launchpad.net/cran/libgit2/ubuntu bionic InRelease\n",
            "Hit:13 http://archive.ubuntu.com/ubuntu bionic-backports InRelease\n",
            "Hit:14 http://ppa.launchpad.net/deadsnakes/ppa/ubuntu bionic InRelease\n",
            "Hit:15 http://ppa.launchpad.net/graphics-drivers/ppa/ubuntu bionic InRelease\n",
            "Reading package lists... Done\n"
          ],
          "name": "stdout"
        }
      ]
    },
    {
      "cell_type": "code",
      "metadata": {
        "colab": {
          "base_uri": "https://localhost:8080/"
        },
        "id": "enNG6YlEkDZ-",
        "outputId": "e1fd5d08-9bda-481d-ea83-cbcee70daed1"
      },
      "source": [
        "# Connect spark and postgres\n",
        "!wget https://jdbc.postgresql.org/download/postgresql-42.2.16.jar"
      ],
      "execution_count": null,
      "outputs": [
        {
          "output_type": "stream",
          "text": [
            "--2021-05-01 01:35:40--  https://jdbc.postgresql.org/download/postgresql-42.2.16.jar\n",
            "Resolving jdbc.postgresql.org (jdbc.postgresql.org)... 72.32.157.228, 2001:4800:3e1:1::228\n",
            "Connecting to jdbc.postgresql.org (jdbc.postgresql.org)|72.32.157.228|:443... connected.\n",
            "HTTP request sent, awaiting response... 200 OK\n",
            "Length: 1002883 (979K) [application/java-archive]\n",
            "Saving to: ‘postgresql-42.2.16.jar.1’\n",
            "\n",
            "postgresql-42.2.16. 100%[===================>] 979.38K  5.95MB/s    in 0.2s    \n",
            "\n",
            "2021-05-01 01:35:40 (5.95 MB/s) - ‘postgresql-42.2.16.jar.1’ saved [1002883/1002883]\n",
            "\n"
          ],
          "name": "stdout"
        }
      ]
    },
    {
      "cell_type": "code",
      "metadata": {
        "id": "CH67aWD_2a6x"
      },
      "source": [
        "# Start Spark session with connection to postgres\n",
        "from pyspark.sql import SparkSession\n",
        "spark = SparkSession.builder.appName(\"Whats_In_A_Bottle\").config(\"spark.driver.extraClassPath\",\"/content/postgresql-42.2.16.jar\").getOrCreate()"
      ],
      "execution_count": null,
      "outputs": []
    },
    {
      "cell_type": "code",
      "metadata": {
        "id": "rYXLbEFgi08a",
        "colab": {
          "base_uri": "https://localhost:8080/",
          "height": 623
        },
        "outputId": "23b04be2-255c-4c02-df67-8944f5c175e5"
      },
      "source": [
        "# Install additional packages\n",
        "# Spark NLP \n",
        "#!pip install --ignore-installed spark-nlp==2.4.5\n",
        "!pip install spark-nlp\n",
        "# Amazon boto3\n",
        "!pip install boto3\n",
        "# Pyspark\n",
        "#!pip install pyspark"
      ],
      "execution_count": null,
      "outputs": [
        {
          "output_type": "stream",
          "text": [
            "Collecting spark-nlp\n",
            "\u001b[?25l  Downloading https://files.pythonhosted.org/packages/44/b9/d74e5a2f0cf6bd19467f4509bc56d981230e1c1ffe81416b4da20eddfaf6/spark_nlp-3.0.2-py2.py3-none-any.whl (146kB)\n",
            "\r\u001b[K     |██▎                             | 10kB 16.8MB/s eta 0:00:01\r\u001b[K     |████▌                           | 20kB 17.2MB/s eta 0:00:01\r\u001b[K     |██████▊                         | 30kB 14.7MB/s eta 0:00:01\r\u001b[K     |█████████                       | 40kB 12.4MB/s eta 0:00:01\r\u001b[K     |███████████▏                    | 51kB 9.1MB/s eta 0:00:01\r\u001b[K     |█████████████▍                  | 61kB 8.9MB/s eta 0:00:01\r\u001b[K     |███████████████▋                | 71kB 9.6MB/s eta 0:00:01\r\u001b[K     |█████████████████▉              | 81kB 10.6MB/s eta 0:00:01\r\u001b[K     |████████████████████            | 92kB 9.1MB/s eta 0:00:01\r\u001b[K     |██████████████████████▎         | 102kB 8.5MB/s eta 0:00:01\r\u001b[K     |████████████████████████▌       | 112kB 8.5MB/s eta 0:00:01\r\u001b[K     |██████████████████████████▊     | 122kB 8.5MB/s eta 0:00:01\r\u001b[K     |█████████████████████████████   | 133kB 8.5MB/s eta 0:00:01\r\u001b[K     |███████████████████████████████▎| 143kB 8.5MB/s eta 0:00:01\r\u001b[K     |████████████████████████████████| 153kB 8.5MB/s \n",
            "\u001b[?25hInstalling collected packages: spark-nlp\n",
            "Successfully installed spark-nlp-3.0.2\n",
            "Collecting boto3\n",
            "\u001b[?25l  Downloading https://files.pythonhosted.org/packages/d2/8f/42959300c543b4d34bc9f9b54954471a33384c181084ed84f070763d7f37/boto3-1.17.62-py2.py3-none-any.whl (131kB)\n",
            "\u001b[K     |████████████████████████████████| 133kB 10.3MB/s \n",
            "\u001b[?25hCollecting botocore<1.21.0,>=1.20.62\n",
            "\u001b[?25l  Downloading https://files.pythonhosted.org/packages/bd/60/ba830f93176fdc23166043298173ee2aecd5cf150f1ede51d6506f021deb/botocore-1.20.62-py2.py3-none-any.whl (7.5MB)\n",
            "\u001b[K     |████████████████████████████████| 7.5MB 8.5MB/s \n",
            "\u001b[?25hCollecting s3transfer<0.5.0,>=0.4.0\n",
            "\u001b[?25l  Downloading https://files.pythonhosted.org/packages/63/d0/693477c688348654ddc21dcdce0817653a294aa43f41771084c25e7ff9c7/s3transfer-0.4.2-py2.py3-none-any.whl (79kB)\n",
            "\u001b[K     |████████████████████████████████| 81kB 9.7MB/s \n",
            "\u001b[?25hCollecting jmespath<1.0.0,>=0.7.1\n",
            "  Downloading https://files.pythonhosted.org/packages/07/cb/5f001272b6faeb23c1c9e0acc04d48eaaf5c862c17709d20e3469c6e0139/jmespath-0.10.0-py2.py3-none-any.whl\n",
            "Collecting urllib3<1.27,>=1.25.4\n",
            "\u001b[?25l  Downloading https://files.pythonhosted.org/packages/09/c6/d3e3abe5b4f4f16cf0dfc9240ab7ce10c2baa0e268989a4e3ec19e90c84e/urllib3-1.26.4-py2.py3-none-any.whl (153kB)\n",
            "\u001b[K     |████████████████████████████████| 153kB 42.1MB/s \n",
            "\u001b[?25hRequirement already satisfied: python-dateutil<3.0.0,>=2.1 in /usr/local/lib/python3.7/dist-packages (from botocore<1.21.0,>=1.20.62->boto3) (2.8.1)\n",
            "Requirement already satisfied: six>=1.5 in /usr/local/lib/python3.7/dist-packages (from python-dateutil<3.0.0,>=2.1->botocore<1.21.0,>=1.20.62->boto3) (1.15.0)\n",
            "\u001b[31mERROR: requests 2.23.0 has requirement urllib3!=1.25.0,!=1.25.1,<1.26,>=1.21.1, but you'll have urllib3 1.26.4 which is incompatible.\u001b[0m\n",
            "\u001b[31mERROR: datascience 0.10.6 has requirement folium==0.2.1, but you'll have folium 0.8.3 which is incompatible.\u001b[0m\n",
            "Installing collected packages: urllib3, jmespath, botocore, s3transfer, boto3\n",
            "  Found existing installation: urllib3 1.24.3\n",
            "    Uninstalling urllib3-1.24.3:\n",
            "      Successfully uninstalled urllib3-1.24.3\n",
            "Successfully installed boto3-1.17.62 botocore-1.20.62 jmespath-0.10.0 s3transfer-0.4.2 urllib3-1.26.4\n"
          ],
          "name": "stdout"
        },
        {
          "output_type": "display_data",
          "data": {
            "application/vnd.colab-display-data+json": {
              "pip_warning": {
                "packages": [
                  "urllib3"
                ]
              }
            }
          },
          "metadata": {
            "tags": []
          }
        }
      ]
    },
    {
      "cell_type": "code",
      "metadata": {
        "id": "h30R2bQIjU-Q"
      },
      "source": [
        "# Import spark nlp\n",
        "import sparknlp\n",
        "spark = sparknlp.start()"
      ],
      "execution_count": null,
      "outputs": []
    },
    {
      "cell_type": "code",
      "metadata": {
        "id": "Qw6LmVyq7-iw"
      },
      "source": [
        "# Import dependencies\n",
        "import pandas as pd \n",
        "import numpy as np\n",
        "\n",
        "from pyspark import SparkFiles, SparkContext, SparkConf\n",
        "\n",
        "from pyspark.ml.feature import Tokenizer\n",
        "from pyspark.sql.functions import col, udf\n",
        "from pyspark.sql.types import IntegerType\n",
        "\n",
        "from pyspark.ml.feature import VectorAssembler\n",
        "from pyspark.ml.linalg import Vector\n",
        "\n",
        "# Import the stop words library\n",
        "from pyspark.ml.feature import HashingTF, IDF, Tokenizer, StopWordsRemover, Normalizer, StringIndexer\n",
        "\n",
        "# Import sklearn and tensorflow dependencies\n",
        "from sklearn.model_selection import train_test_split\n",
        "from sklearn.preprocessing import StandardScaler,OneHotEncoder\n",
        "import tensorflow as tf"
      ],
      "execution_count": null,
      "outputs": []
    },
    {
      "cell_type": "code",
      "metadata": {
        "id": "qK1X177pR9o-"
      },
      "source": [
        "#os.environ['PYSPARK_SUBMIT_ARGS'] = '-- packages com.amazonaws:aws-java-sdk:1.7.4,org.apache.hadoop:hadoop-aws:2.7.3 pyspark-shell'"
      ],
      "execution_count": null,
      "outputs": []
    },
    {
      "cell_type": "code",
      "metadata": {
        "id": "jS5al7UOiWvo"
      },
      "source": [
        "# Start Spark session with connection to postgres\n",
        "#spark = SparkSession.builder.appName(\"Whats_In_A_Bottle\").config(\"spark.driver.extraClassPath\",\"postgresql-42.2.16.jar\").getOrCreate()"
      ],
      "execution_count": null,
      "outputs": []
    },
    {
      "cell_type": "code",
      "metadata": {
        "id": "-y3IOXLqNSH5"
      },
      "source": [
        "#!pip install awscli"
      ],
      "execution_count": null,
      "outputs": []
    },
    {
      "cell_type": "code",
      "metadata": {
        "id": "CmeuthVlNSH6"
      },
      "source": [
        "# Configure aws credentials\n",
        "#!aws configure"
      ],
      "execution_count": null,
      "outputs": []
    },
    {
      "cell_type": "code",
      "metadata": {
        "id": "V_KWSRgegHqy"
      },
      "source": [
        "# Mount GDrive connection\n",
        "# Connect to GDrive\n",
        "#from google.colab import drive\n",
        "#drive.mount('drive')"
      ],
      "execution_count": null,
      "outputs": []
    },
    {
      "cell_type": "code",
      "metadata": {
        "id": "OLEJhZga-sOt",
        "colab": {
          "base_uri": "https://localhost:8080/",
          "height": 106
        },
        "outputId": "a2e0a649-19fa-4e4a-b0d5-3ac451fefee0"
      },
      "source": [
        "'''\n",
        "# Create a function to export dataframes as csv files to s3\n",
        "import boto3\n",
        "from io import StringIO\n",
        "\n",
        "def _write_dataframe_to_csv_on_s3(dataframe, filename):\n",
        "    \"\"\" Write a dataframe to a CSV on S3 \"\"\"\n",
        "    print(\"Writing {} records to {}\".format(len(dataframe), filename))\n",
        "     # Create buffer\n",
        "    csv_buffer = StringIO()\n",
        "    # Write dataframe to buffer\n",
        "    dataframe.to_csv(csv_buffer, sep=\",\", index=False)\n",
        "    # Create S3 object\n",
        "    s3_resource = boto3.resource(\"s3\")\n",
        "    # Write buffer to S3 object\n",
        "    s3_resource.Object(DESTINATION, filename).put(Body=csv_buffer.getvalue())\n",
        "    print('Done')\n",
        "    '''"
      ],
      "execution_count": null,
      "outputs": [
        {
          "output_type": "execute_result",
          "data": {
            "application/vnd.google.colaboratory.intrinsic+json": {
              "type": "string"
            },
            "text/plain": [
              "'\\n# Create a function to export dataframes as csv files to s3\\nimport boto3\\nfrom io import StringIO\\n\\ndef _write_dataframe_to_csv_on_s3(dataframe, filename):\\n    \"\"\" Write a dataframe to a CSV on S3 \"\"\"\\n    print(\"Writing {} records to {}\".format(len(dataframe), filename))\\n     # Create buffer\\n    csv_buffer = StringIO()\\n    # Write dataframe to buffer\\n    dataframe.to_csv(csv_buffer, sep=\",\", index=False)\\n    # Create S3 object\\n    s3_resource = boto3.resource(\"s3\")\\n    # Write buffer to S3 object\\n    s3_resource.Object(DESTINATION, filename).put(Body=csv_buffer.getvalue())\\n    print(\\'Done\\')\\n    '"
            ]
          },
          "metadata": {
            "tags": []
          },
          "execution_count": 27
        }
      ]
    },
    {
      "cell_type": "markdown",
      "metadata": {
        "id": "KZr3mJRQS9_8"
      },
      "source": [
        "## Data Cleaning:\n",
        "**Note:** If you want to fix one aspect of the cleaning that occurs later in the process, load the a datafile checkpoint from s3 (i.e. \"winemag-data_rescaled.csv\", or \"winemag-data_binned.csv\")"
      ]
    },
    {
      "cell_type": "markdown",
      "metadata": {
        "id": "_RnG9dDESxhS"
      },
      "source": [
        "### **1. Check the null values in each column and drop columns with large number of null values (>50% null)**"
      ]
    },
    {
      "cell_type": "code",
      "metadata": {
        "colab": {
          "base_uri": "https://localhost:8080/"
        },
        "id": "iiI1QvZhiXL2",
        "outputId": "c848e461-e3d8-4294-b31b-c95dbd028e8c"
      },
      "source": [
        "# Read in winemag-data from S3 Buckets\n",
        "url =\"https://whats-in-a-bottle.s3-us-west-1.amazonaws.com/winemag-data_first150k.csv\"\n",
        "spark.sparkContext.addFile(url)\n",
        "df = spark.read.csv(SparkFiles.get(\"winemag-data_first150k.csv\"), sep=\",\", header=True)\n",
        "df.show()"
      ],
      "execution_count": null,
      "outputs": [
        {
          "output_type": "stream",
          "text": [
            "+---+-------+--------------------+--------------------+------+-----+------------------+--------------------+-----------------+------------------+--------------------+\n",
            "|_c0|country|         description|         designation|points|price|          province|            region_1|         region_2|           variety|              winery|\n",
            "+---+-------+--------------------+--------------------+------+-----+------------------+--------------------+-----------------+------------------+--------------------+\n",
            "|  0|     US|This tremendous 1...|   Martha's Vineyard|    96|235.0|        California|         Napa Valley|             Napa|Cabernet Sauvignon|               Heitz|\n",
            "|  1|  Spain|Ripe aromas of fi...|Carodorum Selecci...|    96|110.0|    Northern Spain|                Toro|             null|     Tinta de Toro|Bodega Carmen Rod...|\n",
            "|  2|     US|Mac Watson honors...|Special Selected ...|    96| 90.0|        California|      Knights Valley|           Sonoma|   Sauvignon Blanc|            Macauley|\n",
            "|  3|     US|This spent 20 mon...|             Reserve|    96| 65.0|            Oregon|   Willamette Valley|Willamette Valley|        Pinot Noir|               Ponzi|\n",
            "|  4| France|This is the top w...|          La Brûlade|    95| 66.0|          Provence|              Bandol|             null|Provence red blend|Domaine de la Bégude|\n",
            "|  5|  Spain|Deep, dense and p...|           Numanthia|    95| 73.0|    Northern Spain|                Toro|             null|     Tinta de Toro|           Numanthia|\n",
            "|  6|  Spain|Slightly gritty b...|           San Román|    95| 65.0|    Northern Spain|                Toro|             null|     Tinta de Toro|            Maurodos|\n",
            "|  7|  Spain|Lush cedary black...|Carodorum Único C...|    95|110.0|    Northern Spain|                Toro|             null|     Tinta de Toro|Bodega Carmen Rod...|\n",
            "|  8|     US|This re-named vin...|              Silice|    95| 65.0|            Oregon|  Chehalem Mountains|Willamette Valley|        Pinot Noir|           Bergström|\n",
            "|  9|     US|The producer sour...|Gap's Crown Vineyard|    95| 60.0|        California|        Sonoma Coast|           Sonoma|        Pinot Noir|           Blue Farm|\n",
            "| 10|  Italy|Elegance, complex...|  Ronco della Chiesa|    95| 80.0|Northeastern Italy|              Collio|             null|          Friulano|    Borgo del Tiglio|\n",
            "| 11|     US|From 18-year-old ...|Estate Vineyard W...|    95| 48.0|            Oregon|        Ribbon Ridge|Willamette Valley|        Pinot Noir|Patricia Green Ce...|\n",
            "| 12|     US|A standout even i...|      Weber Vineyard|    95| 48.0|            Oregon|        Dundee Hills|Willamette Valley|        Pinot Noir|Patricia Green Ce...|\n",
            "| 13| France|This wine is in p...|Château Montus Pr...|    95| 90.0|  Southwest France|             Madiran|             null|            Tannat|   Vignobles Brumont|\n",
            "| 14|     US|With its sophisti...|      Grace Vineyard|    95|185.0|            Oregon|        Dundee Hills|Willamette Valley|        Pinot Noir|      Domaine Serene|\n",
            "| 15|     US|First made in 200...|              Sigrid|    95| 90.0|            Oregon|   Willamette Valley|Willamette Valley|        Chardonnay|           Bergström|\n",
            "| 16|     US|This blockbuster,...|     Rainin Vineyard|    95|325.0|        California|Diamond Mountain ...|             Napa|Cabernet Sauvignon|                Hall|\n",
            "| 17|  Spain|Nicely oaked blac...|6 Años Reserva Pr...|    95| 80.0|    Northern Spain|    Ribera del Duero|             null|       Tempranillo|            Valduero|\n",
            "| 18| France|Coming from a sev...|       Le Pigeonnier|    95|290.0|  Southwest France|              Cahors|             null|            Malbec|  Château Lagrézette|\n",
            "| 19|     US|This fresh and li...|Gap's Crown Vineyard|    95| 75.0|        California|        Sonoma Coast|           Sonoma|        Pinot Noir|        Gary Farrell|\n",
            "+---+-------+--------------------+--------------------+------+-----+------------------+--------------------+-----------------+------------------+--------------------+\n",
            "only showing top 20 rows\n",
            "\n"
          ],
          "name": "stdout"
        }
      ]
    },
    {
      "cell_type": "markdown",
      "metadata": {
        "id": "Me1HRSFqkGOF"
      },
      "source": [
        "#### 1.1 Write dataframe to pgAdmin"
      ]
    },
    {
      "cell_type": "code",
      "metadata": {
        "id": "vqFdt93ikDZ_"
      },
      "source": [
        "# Configure settings for RDS\n",
        "mode = \"overwrite\"\n",
        "jdbc_url = \"jdbc:postgresql://whats-in-a-bottle.cuvwsdzowgas.us-west-1.rds.amazonaws.com:5432/postgres\"\n",
        "config = {\"user\":\"postgres\",\n",
        "          \"password\": \"bootcamp-whats-in-a-bottle\",\n",
        "          \"driver\":\"org.postgresql.Driver\"}"
      ],
      "execution_count": null,
      "outputs": []
    },
    {
      "cell_type": "code",
      "metadata": {
        "id": "fjVg2-K3kDaA",
        "colab": {
          "base_uri": "https://localhost:8080/"
        },
        "outputId": "f15ffb80-21b5-48f1-c19c-f13693913d69"
      },
      "source": [
        "# Export winemag-data to pgAdmin\n",
        "print(f'Writing {df.count()} rows')\n",
        "df.write.jdbc(url=jdbc_url, table='winemag_data', mode=mode, properties=config)\n",
        "print('Done')"
      ],
      "execution_count": null,
      "outputs": [
        {
          "output_type": "stream",
          "text": [
            "Writing 150935 rows\n",
            "Done\n"
          ],
          "name": "stdout"
        }
      ]
    },
    {
      "cell_type": "code",
      "metadata": {
        "id": "dZ9-X6f6he9D",
        "colab": {
          "base_uri": "https://localhost:8080/"
        },
        "outputId": "3d2ac9da-e340-4fda-db67-1445e67b1fba"
      },
      "source": [
        "df.dtypes"
      ],
      "execution_count": null,
      "outputs": [
        {
          "output_type": "execute_result",
          "data": {
            "text/plain": [
              "[('_c0', 'string'),\n",
              " ('country', 'string'),\n",
              " ('description', 'string'),\n",
              " ('designation', 'string'),\n",
              " ('points', 'string'),\n",
              " ('price', 'string'),\n",
              " ('province', 'string'),\n",
              " ('region_1', 'string'),\n",
              " ('region_2', 'string'),\n",
              " ('variety', 'string'),\n",
              " ('winery', 'string')]"
            ]
          },
          "metadata": {
            "tags": []
          },
          "execution_count": 32
        }
      ]
    },
    {
      "cell_type": "code",
      "metadata": {
        "colab": {
          "base_uri": "https://localhost:8080/"
        },
        "id": "hFmndLzxsR5m",
        "outputId": "fba92292-7c34-40ee-a2f9-3ad731b85a62"
      },
      "source": [
        "# Get count of both null and missing values in pyspark\n",
        "from pyspark.sql.functions import isnan, when, count, col\n",
        "\n",
        "df.select([count(when(isnan(c) | col(c).isNull(), c)).alias(c) for c in df.columns]).show()"
      ],
      "execution_count": null,
      "outputs": [
        {
          "output_type": "stream",
          "text": [
            "+---+-------+-----------+-----------+------+-----+--------+--------+--------+-------+------+\n",
            "|_c0|country|description|designation|points|price|province|region_1|region_2|variety|winery|\n",
            "+---+-------+-----------+-----------+------+-----+--------+--------+--------+-------+------+\n",
            "|  0|      5|          1|      45733|     6|13697|      11|   25059|   89963|      6|    17|\n",
            "+---+-------+-----------+-----------+------+-----+--------+--------+--------+-------+------+\n",
            "\n"
          ],
          "name": "stdout"
        }
      ]
    },
    {
      "cell_type": "code",
      "metadata": {
        "colab": {
          "base_uri": "https://localhost:8080/"
        },
        "id": "cK1dHVOzxaPi",
        "outputId": "1b80898d-c2c3-4e7c-f80b-cb0dbbfac096"
      },
      "source": [
        "# Check the number of rows in df\n",
        "row_number = df.count()\n",
        "print(\"Total count: \"+str(row_number))"
      ],
      "execution_count": null,
      "outputs": [
        {
          "output_type": "stream",
          "text": [
            "Total count: 150935\n"
          ],
          "name": "stdout"
        }
      ]
    },
    {
      "cell_type": "code",
      "metadata": {
        "colab": {
          "base_uri": "https://localhost:8080/"
        },
        "id": "1qICpnNwvnsd",
        "outputId": "6525d11c-d7e4-4b96-912d-009578dd205f"
      },
      "source": [
        "# Check the number of distinct rows\n",
        "distinct_df = df.distinct()\n",
        "print(\"Distinct count: \"+str(distinct_df.count()))"
      ],
      "execution_count": null,
      "outputs": [
        {
          "output_type": "stream",
          "text": [
            "Distinct count: 150935\n"
          ],
          "name": "stdout"
        }
      ]
    },
    {
      "cell_type": "code",
      "metadata": {
        "colab": {
          "base_uri": "https://localhost:8080/"
        },
        "id": "m9uBNkkAsfm6",
        "outputId": "b3cebb1d-1453-4074-c11f-4856f4211ba3"
      },
      "source": [
        "# Drop the region_2 column\n",
        "df = df.drop(\"region_2\")\n",
        "df.show()"
      ],
      "execution_count": null,
      "outputs": [
        {
          "output_type": "stream",
          "text": [
            "+---+-------+--------------------+--------------------+------+-----+------------------+--------------------+------------------+--------------------+\n",
            "|_c0|country|         description|         designation|points|price|          province|            region_1|           variety|              winery|\n",
            "+---+-------+--------------------+--------------------+------+-----+------------------+--------------------+------------------+--------------------+\n",
            "|  0|     US|This tremendous 1...|   Martha's Vineyard|    96|235.0|        California|         Napa Valley|Cabernet Sauvignon|               Heitz|\n",
            "|  1|  Spain|Ripe aromas of fi...|Carodorum Selecci...|    96|110.0|    Northern Spain|                Toro|     Tinta de Toro|Bodega Carmen Rod...|\n",
            "|  2|     US|Mac Watson honors...|Special Selected ...|    96| 90.0|        California|      Knights Valley|   Sauvignon Blanc|            Macauley|\n",
            "|  3|     US|This spent 20 mon...|             Reserve|    96| 65.0|            Oregon|   Willamette Valley|        Pinot Noir|               Ponzi|\n",
            "|  4| France|This is the top w...|          La Brûlade|    95| 66.0|          Provence|              Bandol|Provence red blend|Domaine de la Bégude|\n",
            "|  5|  Spain|Deep, dense and p...|           Numanthia|    95| 73.0|    Northern Spain|                Toro|     Tinta de Toro|           Numanthia|\n",
            "|  6|  Spain|Slightly gritty b...|           San Román|    95| 65.0|    Northern Spain|                Toro|     Tinta de Toro|            Maurodos|\n",
            "|  7|  Spain|Lush cedary black...|Carodorum Único C...|    95|110.0|    Northern Spain|                Toro|     Tinta de Toro|Bodega Carmen Rod...|\n",
            "|  8|     US|This re-named vin...|              Silice|    95| 65.0|            Oregon|  Chehalem Mountains|        Pinot Noir|           Bergström|\n",
            "|  9|     US|The producer sour...|Gap's Crown Vineyard|    95| 60.0|        California|        Sonoma Coast|        Pinot Noir|           Blue Farm|\n",
            "| 10|  Italy|Elegance, complex...|  Ronco della Chiesa|    95| 80.0|Northeastern Italy|              Collio|          Friulano|    Borgo del Tiglio|\n",
            "| 11|     US|From 18-year-old ...|Estate Vineyard W...|    95| 48.0|            Oregon|        Ribbon Ridge|        Pinot Noir|Patricia Green Ce...|\n",
            "| 12|     US|A standout even i...|      Weber Vineyard|    95| 48.0|            Oregon|        Dundee Hills|        Pinot Noir|Patricia Green Ce...|\n",
            "| 13| France|This wine is in p...|Château Montus Pr...|    95| 90.0|  Southwest France|             Madiran|            Tannat|   Vignobles Brumont|\n",
            "| 14|     US|With its sophisti...|      Grace Vineyard|    95|185.0|            Oregon|        Dundee Hills|        Pinot Noir|      Domaine Serene|\n",
            "| 15|     US|First made in 200...|              Sigrid|    95| 90.0|            Oregon|   Willamette Valley|        Chardonnay|           Bergström|\n",
            "| 16|     US|This blockbuster,...|     Rainin Vineyard|    95|325.0|        California|Diamond Mountain ...|Cabernet Sauvignon|                Hall|\n",
            "| 17|  Spain|Nicely oaked blac...|6 Años Reserva Pr...|    95| 80.0|    Northern Spain|    Ribera del Duero|       Tempranillo|            Valduero|\n",
            "| 18| France|Coming from a sev...|       Le Pigeonnier|    95|290.0|  Southwest France|              Cahors|            Malbec|  Château Lagrézette|\n",
            "| 19|     US|This fresh and li...|Gap's Crown Vineyard|    95| 75.0|        California|        Sonoma Coast|        Pinot Noir|        Gary Farrell|\n",
            "+---+-------+--------------------+--------------------+------+-----+------------------+--------------------+------------------+--------------------+\n",
            "only showing top 20 rows\n",
            "\n"
          ],
          "name": "stdout"
        }
      ]
    },
    {
      "cell_type": "markdown",
      "metadata": {
        "id": "IrEGyCh6Sj-J"
      },
      "source": [
        "### **2. Fill null values for columns we want to keep with N/A, then drop remaining rows with null values**"
      ]
    },
    {
      "cell_type": "code",
      "metadata": {
        "colab": {
          "base_uri": "https://localhost:8080/"
        },
        "id": "-QtxS3jWARoD",
        "outputId": "94f3c8b1-c7e8-4f9b-bf6e-85280637356a"
      },
      "source": [
        "#Count the region unique values\n",
        "region_df = df.groupby(df.region_1).count().distinct()\n",
        "region_df.orderBy(col('count').desc()).show()"
      ],
      "execution_count": null,
      "outputs": [
        {
          "output_type": "stream",
          "text": [
            "+--------------------+-----+\n",
            "|            region_1|count|\n",
            "+--------------------+-----+\n",
            "|                null|25059|\n",
            "|         Napa Valley| 6205|\n",
            "|Columbia Valley (WA)| 4975|\n",
            "|             Mendoza| 3586|\n",
            "|Russian River Valley| 3571|\n",
            "|          California| 3460|\n",
            "|         Paso Robles| 3053|\n",
            "|   Willamette Valley| 2096|\n",
            "|               Rioja| 1893|\n",
            "|             Toscana| 1885|\n",
            "|       Sonoma County| 1852|\n",
            "|Brunello di Monta...| 1746|\n",
            "|             Sicilia| 1701|\n",
            "|              Alsace| 1574|\n",
            "|        Sonoma Coast| 1473|\n",
            "|            Carneros| 1458|\n",
            "|    Dry Creek Valley| 1398|\n",
            "|              Barolo| 1397|\n",
            "|        Finger Lakes| 1372|\n",
            "|           Champagne| 1369|\n",
            "+--------------------+-----+\n",
            "only showing top 20 rows\n",
            "\n"
          ],
          "name": "stdout"
        }
      ]
    },
    {
      "cell_type": "code",
      "metadata": {
        "colab": {
          "base_uri": "https://localhost:8080/"
        },
        "id": "ucDzt7a5PuZp",
        "outputId": "84b95634-aefa-41fe-8733-fc355a3c3c5e"
      },
      "source": [
        "# Replace null values in the region_1 and designation columns with \"other\" since we'll keep these columns\n",
        "# consider dropping designation column if it becomes an issue later\n",
        "replaced_df = df.na.fill({\"region_1\": \"N/A\", \"designation\":\"N/A\"})\n",
        "replaced_df.show()"
      ],
      "execution_count": null,
      "outputs": [
        {
          "output_type": "stream",
          "text": [
            "+---+-------+--------------------+--------------------+------+-----+------------------+--------------------+------------------+--------------------+\n",
            "|_c0|country|         description|         designation|points|price|          province|            region_1|           variety|              winery|\n",
            "+---+-------+--------------------+--------------------+------+-----+------------------+--------------------+------------------+--------------------+\n",
            "|  0|     US|This tremendous 1...|   Martha's Vineyard|    96|235.0|        California|         Napa Valley|Cabernet Sauvignon|               Heitz|\n",
            "|  1|  Spain|Ripe aromas of fi...|Carodorum Selecci...|    96|110.0|    Northern Spain|                Toro|     Tinta de Toro|Bodega Carmen Rod...|\n",
            "|  2|     US|Mac Watson honors...|Special Selected ...|    96| 90.0|        California|      Knights Valley|   Sauvignon Blanc|            Macauley|\n",
            "|  3|     US|This spent 20 mon...|             Reserve|    96| 65.0|            Oregon|   Willamette Valley|        Pinot Noir|               Ponzi|\n",
            "|  4| France|This is the top w...|          La Brûlade|    95| 66.0|          Provence|              Bandol|Provence red blend|Domaine de la Bégude|\n",
            "|  5|  Spain|Deep, dense and p...|           Numanthia|    95| 73.0|    Northern Spain|                Toro|     Tinta de Toro|           Numanthia|\n",
            "|  6|  Spain|Slightly gritty b...|           San Román|    95| 65.0|    Northern Spain|                Toro|     Tinta de Toro|            Maurodos|\n",
            "|  7|  Spain|Lush cedary black...|Carodorum Único C...|    95|110.0|    Northern Spain|                Toro|     Tinta de Toro|Bodega Carmen Rod...|\n",
            "|  8|     US|This re-named vin...|              Silice|    95| 65.0|            Oregon|  Chehalem Mountains|        Pinot Noir|           Bergström|\n",
            "|  9|     US|The producer sour...|Gap's Crown Vineyard|    95| 60.0|        California|        Sonoma Coast|        Pinot Noir|           Blue Farm|\n",
            "| 10|  Italy|Elegance, complex...|  Ronco della Chiesa|    95| 80.0|Northeastern Italy|              Collio|          Friulano|    Borgo del Tiglio|\n",
            "| 11|     US|From 18-year-old ...|Estate Vineyard W...|    95| 48.0|            Oregon|        Ribbon Ridge|        Pinot Noir|Patricia Green Ce...|\n",
            "| 12|     US|A standout even i...|      Weber Vineyard|    95| 48.0|            Oregon|        Dundee Hills|        Pinot Noir|Patricia Green Ce...|\n",
            "| 13| France|This wine is in p...|Château Montus Pr...|    95| 90.0|  Southwest France|             Madiran|            Tannat|   Vignobles Brumont|\n",
            "| 14|     US|With its sophisti...|      Grace Vineyard|    95|185.0|            Oregon|        Dundee Hills|        Pinot Noir|      Domaine Serene|\n",
            "| 15|     US|First made in 200...|              Sigrid|    95| 90.0|            Oregon|   Willamette Valley|        Chardonnay|           Bergström|\n",
            "| 16|     US|This blockbuster,...|     Rainin Vineyard|    95|325.0|        California|Diamond Mountain ...|Cabernet Sauvignon|                Hall|\n",
            "| 17|  Spain|Nicely oaked blac...|6 Años Reserva Pr...|    95| 80.0|    Northern Spain|    Ribera del Duero|       Tempranillo|            Valduero|\n",
            "| 18| France|Coming from a sev...|       Le Pigeonnier|    95|290.0|  Southwest France|              Cahors|            Malbec|  Château Lagrézette|\n",
            "| 19|     US|This fresh and li...|Gap's Crown Vineyard|    95| 75.0|        California|        Sonoma Coast|        Pinot Noir|        Gary Farrell|\n",
            "+---+-------+--------------------+--------------------+------+-----+------------------+--------------------+------------------+--------------------+\n",
            "only showing top 20 rows\n",
            "\n"
          ],
          "name": "stdout"
        }
      ]
    },
    {
      "cell_type": "code",
      "metadata": {
        "colab": {
          "base_uri": "https://localhost:8080/"
        },
        "id": "Zur2F1NwQHrv",
        "outputId": "3b38067c-71bb-40d7-aec5-8ebfd8d3f1b3"
      },
      "source": [
        "# Check to see if the region null values have been replaced with \"N/A\"\n",
        "replaced_region_counts = replaced_df.groupby(replaced_df.region_1).count().distinct().orderBy(col('count').desc())\n",
        "replaced_region_counts.show()"
      ],
      "execution_count": null,
      "outputs": [
        {
          "output_type": "stream",
          "text": [
            "+--------------------+-----+\n",
            "|            region_1|count|\n",
            "+--------------------+-----+\n",
            "|                 N/A|25059|\n",
            "|         Napa Valley| 6205|\n",
            "|Columbia Valley (WA)| 4975|\n",
            "|             Mendoza| 3586|\n",
            "|Russian River Valley| 3571|\n",
            "|          California| 3460|\n",
            "|         Paso Robles| 3053|\n",
            "|   Willamette Valley| 2096|\n",
            "|               Rioja| 1893|\n",
            "|             Toscana| 1885|\n",
            "|       Sonoma County| 1852|\n",
            "|Brunello di Monta...| 1746|\n",
            "|             Sicilia| 1701|\n",
            "|              Alsace| 1574|\n",
            "|        Sonoma Coast| 1473|\n",
            "|            Carneros| 1458|\n",
            "|    Dry Creek Valley| 1398|\n",
            "|              Barolo| 1397|\n",
            "|        Finger Lakes| 1372|\n",
            "|           Champagne| 1369|\n",
            "+--------------------+-----+\n",
            "only showing top 20 rows\n",
            "\n"
          ],
          "name": "stdout"
        }
      ]
    },
    {
      "cell_type": "code",
      "metadata": {
        "colab": {
          "base_uri": "https://localhost:8080/"
        },
        "id": "xVwxkQVtaWkF",
        "outputId": "bdb8ae0d-0c17-4fde-c699-0020d465f878"
      },
      "source": [
        "# Check to see if the designation null values have been replaced with \"N/A\"\n",
        "replaced_designation_counts = replaced_df.groupby(replaced_df.designation).count().distinct().orderBy(col('count').desc())\n",
        "replaced_designation_counts.show()"
      ],
      "execution_count": null,
      "outputs": [
        {
          "output_type": "stream",
          "text": [
            "+--------------------+-----+\n",
            "|         designation|count|\n",
            "+--------------------+-----+\n",
            "|                 N/A|45733|\n",
            "|             Reserve| 2752|\n",
            "|             Reserva| 1810|\n",
            "|              Estate| 1571|\n",
            "|       Barrel sample| 1326|\n",
            "|             Riserva|  754|\n",
            "|       Barrel Sample|  639|\n",
            "|                Brut|  624|\n",
            "|             Crianza|  503|\n",
            "|        Estate Grown|  449|\n",
            "|      Estate Bottled|  396|\n",
            "|                 Dry|  374|\n",
            "|        Gran Reserva|  330|\n",
            "|            Old Vine|  330|\n",
            "|           Brut Rosé|  248|\n",
            "|           Extra Dry|  244|\n",
            "|     Vieilles Vignes|  225|\n",
            "|Bien Nacido Vineyard|  195|\n",
            "|                Rosé|  180|\n",
            "|Late Bottled Vintage|  171|\n",
            "+--------------------+-----+\n",
            "only showing top 20 rows\n",
            "\n"
          ],
          "name": "stdout"
        }
      ]
    },
    {
      "cell_type": "code",
      "metadata": {
        "colab": {
          "base_uri": "https://localhost:8080/"
        },
        "id": "YWizo8jB2Brt",
        "outputId": "e4995cc8-182c-4b78-8db2-fca43d4b0280"
      },
      "source": [
        "# Check the number of null values in each row\n",
        "replaced_df.select([count(when(isnan(c) | col(c).isNull(), c)).alias(c) for c in replaced_df.columns]).show()"
      ],
      "execution_count": null,
      "outputs": [
        {
          "output_type": "stream",
          "text": [
            "+---+-------+-----------+-----------+------+-----+--------+--------+-------+------+\n",
            "|_c0|country|description|designation|points|price|province|region_1|variety|winery|\n",
            "+---+-------+-----------+-----------+------+-----+--------+--------+-------+------+\n",
            "|  0|      5|          1|          0|     6|13697|      11|       0|      6|    17|\n",
            "+---+-------+-----------+-----------+------+-----+--------+--------+-------+------+\n",
            "\n"
          ],
          "name": "stdout"
        }
      ]
    },
    {
      "cell_type": "code",
      "metadata": {
        "colab": {
          "base_uri": "https://localhost:8080/"
        },
        "id": "EevbOBcaSosp",
        "outputId": "35a153b2-9a51-49dc-a1c2-a3ab45fa1974"
      },
      "source": [
        "# Print rows with null values\n",
        "import pyspark.sql.functions as f\n",
        "from functools import reduce\n",
        "\n",
        "replaced_df.where(reduce(lambda x, y: x | y, (f.col(x).isNull() for x in replaced_df.columns))).show(10)"
      ],
      "execution_count": null,
      "outputs": [
        {
          "output_type": "stream",
          "text": [
            "+---+-------+--------------------+--------------------+------+-----+----------------+--------------------+--------------------+------------------+\n",
            "|_c0|country|         description|         designation|points|price|        province|            region_1|             variety|            winery|\n",
            "+---+-------+--------------------+--------------------+------+-----+----------------+--------------------+--------------------+------------------+\n",
            "| 32|  Italy|Underbrush, scorc...|       Vigna Piaggia|    90| null|         Tuscany|Brunello di Monta...|          Sangiovese|   Abbadia Ardenga|\n",
            "| 56| France|Delicious while a...|             Le Pavé|    90| null|    Loire Valley|            Sancerre|     Sauvignon Blanc|  Domaine Vacheron|\n",
            "| 72|  Italy|This offers aroma...|      Bussia Riserva|    91| null|        Piedmont|              Barolo|            Nebbiolo|   Silvano Bolmida|\n",
            "| 82|  Italy|Berry, baking spi...|    Palliano Riserva|    91| null|        Piedmont|               Roero|            Nebbiolo|             Ceste|\n",
            "|116|  Spain|Aromas of brandie...|         Dulce Tinto|    86| null|         Levante|             Jumilla|          Monastrell| Casa de la Ermita|\n",
            "|242| France|A tight and herba...|                 N/A|    88| null|        Bordeaux|      Pessac-Léognan|Bordeaux-style Wh...|    Château Ferran|\n",
            "|261| France|This fresh and fr...|          Noctambule|    88| null|    Loire Valley|    Crémant de Loire|Chenin Blanc-Char...|   Musset-Roullier|\n",
            "|282| France|The estate wine f...|                 N/A|    92| null|Southwest France|              Cahors|              Malbec|  Château du Cèdre|\n",
            "|294| France|A ripe, wood-aged...|          Cami Salié|    91| null|Southwest France|        Jurançon Sec|Gros and Petit Ma...|Lionel Osmin & Cie|\n",
            "|323|  Spain|Ripe pure black-f...|Prestigio Pago de...|    94| null|  Northern Spain|    Ribera del Duero|           Red Blend|       Matarromera|\n",
            "+---+-------+--------------------+--------------------+------+-----+----------------+--------------------+--------------------+------------------+\n",
            "only showing top 10 rows\n",
            "\n"
          ],
          "name": "stdout"
        }
      ]
    },
    {
      "cell_type": "code",
      "metadata": {
        "colab": {
          "base_uri": "https://localhost:8080/"
        },
        "id": "8JYM2AI8s9cG",
        "outputId": "6b298c99-c1b8-49b2-ec92-8b819c56a087"
      },
      "source": [
        "# Drop rows with null values\n",
        "dropna_df = replaced_df.na.drop()\n",
        "\n",
        "# Check that the null values have been removed\n",
        "dropna_df.select([count(when(isnan(c) | col(c).isNull(), c)).alias(c) for c in dropna_df.columns]).show()"
      ],
      "execution_count": null,
      "outputs": [
        {
          "output_type": "stream",
          "text": [
            "+---+-------+-----------+-----------+------+-----+--------+--------+-------+------+\n",
            "|_c0|country|description|designation|points|price|province|region_1|variety|winery|\n",
            "+---+-------+-----------+-----------+------+-----+--------+--------+-------+------+\n",
            "|  0|      0|          0|          0|     0|    0|       0|       0|      0|     0|\n",
            "+---+-------+-----------+-----------+------+-----+--------+--------+-------+------+\n",
            "\n"
          ],
          "name": "stdout"
        }
      ]
    },
    {
      "cell_type": "code",
      "metadata": {
        "colab": {
          "base_uri": "https://localhost:8080/"
        },
        "id": "faqUrxBlS2F3",
        "outputId": "5cda29a7-3a3c-4e71-ec6e-b87ef7a76122"
      },
      "source": [
        "# Check the top 50 rows to see if null rows have been removed while keeping correct \"_c0\" id\n",
        "dropna_df.show(60)"
      ],
      "execution_count": null,
      "outputs": [
        {
          "output_type": "stream",
          "text": [
            "+---+-----------+--------------------+--------------------+------+-----+------------------+--------------------+--------------------+--------------------+\n",
            "|_c0|    country|         description|         designation|points|price|          province|            region_1|             variety|              winery|\n",
            "+---+-----------+--------------------+--------------------+------+-----+------------------+--------------------+--------------------+--------------------+\n",
            "|  0|         US|This tremendous 1...|   Martha's Vineyard|    96|235.0|        California|         Napa Valley|  Cabernet Sauvignon|               Heitz|\n",
            "|  1|      Spain|Ripe aromas of fi...|Carodorum Selecci...|    96|110.0|    Northern Spain|                Toro|       Tinta de Toro|Bodega Carmen Rod...|\n",
            "|  2|         US|Mac Watson honors...|Special Selected ...|    96| 90.0|        California|      Knights Valley|     Sauvignon Blanc|            Macauley|\n",
            "|  3|         US|This spent 20 mon...|             Reserve|    96| 65.0|            Oregon|   Willamette Valley|          Pinot Noir|               Ponzi|\n",
            "|  4|     France|This is the top w...|          La Brûlade|    95| 66.0|          Provence|              Bandol|  Provence red blend|Domaine de la Bégude|\n",
            "|  5|      Spain|Deep, dense and p...|           Numanthia|    95| 73.0|    Northern Spain|                Toro|       Tinta de Toro|           Numanthia|\n",
            "|  6|      Spain|Slightly gritty b...|           San Román|    95| 65.0|    Northern Spain|                Toro|       Tinta de Toro|            Maurodos|\n",
            "|  7|      Spain|Lush cedary black...|Carodorum Único C...|    95|110.0|    Northern Spain|                Toro|       Tinta de Toro|Bodega Carmen Rod...|\n",
            "|  8|         US|This re-named vin...|              Silice|    95| 65.0|            Oregon|  Chehalem Mountains|          Pinot Noir|           Bergström|\n",
            "|  9|         US|The producer sour...|Gap's Crown Vineyard|    95| 60.0|        California|        Sonoma Coast|          Pinot Noir|           Blue Farm|\n",
            "| 10|      Italy|Elegance, complex...|  Ronco della Chiesa|    95| 80.0|Northeastern Italy|              Collio|            Friulano|    Borgo del Tiglio|\n",
            "| 11|         US|From 18-year-old ...|Estate Vineyard W...|    95| 48.0|            Oregon|        Ribbon Ridge|          Pinot Noir|Patricia Green Ce...|\n",
            "| 12|         US|A standout even i...|      Weber Vineyard|    95| 48.0|            Oregon|        Dundee Hills|          Pinot Noir|Patricia Green Ce...|\n",
            "| 13|     France|This wine is in p...|Château Montus Pr...|    95| 90.0|  Southwest France|             Madiran|              Tannat|   Vignobles Brumont|\n",
            "| 14|         US|With its sophisti...|      Grace Vineyard|    95|185.0|            Oregon|        Dundee Hills|          Pinot Noir|      Domaine Serene|\n",
            "| 15|         US|First made in 200...|              Sigrid|    95| 90.0|            Oregon|   Willamette Valley|          Chardonnay|           Bergström|\n",
            "| 16|         US|This blockbuster,...|     Rainin Vineyard|    95|325.0|        California|Diamond Mountain ...|  Cabernet Sauvignon|                Hall|\n",
            "| 17|      Spain|Nicely oaked blac...|6 Años Reserva Pr...|    95| 80.0|    Northern Spain|    Ribera del Duero|         Tempranillo|            Valduero|\n",
            "| 18|     France|Coming from a sev...|       Le Pigeonnier|    95|290.0|  Southwest France|              Cahors|              Malbec|  Château Lagrézette|\n",
            "| 19|         US|This fresh and li...|Gap's Crown Vineyard|    95| 75.0|        California|        Sonoma Coast|          Pinot Noir|        Gary Farrell|\n",
            "| 20|         US|Heitz has made th...|          Grignolino|    95| 24.0|        California|         Napa Valley|                Rosé|               Heitz|\n",
            "| 21|      Spain|Alluring, complex...|Prado Enea Gran R...|    95| 79.0|    Northern Spain|               Rioja|   Tempranillo Blend|                Muga|\n",
            "| 22|      Spain|Tarry blackberry ...|          Termanthia|    95|220.0|    Northern Spain|                Toro|       Tinta de Toro|           Numanthia|\n",
            "| 23|         US|The apogee of thi...|       Giallo Solare|    95| 60.0|        California|         Edna Valley|          Chardonnay|    Center of Effort|\n",
            "| 24|         US|San Jose-based pr...|       R-Bar-R Ranch|    95| 45.0|        California|Santa Cruz Mountains|          Pinot Noir|            Comartin|\n",
            "| 25|New Zealand|Yields were down ...|     Maté's Vineyard|    94| 57.0|             Kumeu|                 N/A|          Chardonnay|         Kumeu River|\n",
            "| 26|         US|Bergström has mad...|       Shea Vineyard|    94| 62.0|            Oregon|   Willamette Valley|          Pinot Noir|           Bergström|\n",
            "| 27|         US|Focused and dense...|             Abetina|    94|105.0|            Oregon|   Willamette Valley|          Pinot Noir|               Ponzi|\n",
            "| 28|         US|Cranberry, baked ...|     Garys' Vineyard|    94| 60.0|        California|Santa Lucia Highl...|          Pinot Noir|                Roar|\n",
            "| 29|         US|This standout Roc...|     The Funk Estate|    94| 60.0|        Washington|Walla Walla Valle...|               Syrah|              Saviah|\n",
            "| 30|   Bulgaria|This Bulgarian Ma...|             Bergulé|    90| 15.0|          Bulgaria|                 N/A|              Mavrud|        Villa Melnik|\n",
            "| 31|         US|Steely and perfum...|            Babushka|    90| 37.0|        California|Russian River Valley|          Chardonnay|            Zepaltas|\n",
            "| 33|     France|Pale in color, th...|Nonpareil Trésor ...|    90| 22.0|      France Other|        Vin Mousseux|     Sparkling Blend|      Bouvet-Ladubay|\n",
            "| 34|         US|The aromas entice...| Conner Lee Vineyard|    90| 42.0|        Washington|Columbia Valley (WA)|          Chardonnay|                Buty|\n",
            "| 35|      Italy|Forest floor, til...|             Riserva|    90|135.0|           Tuscany|Brunello di Monta...|          Sangiovese|            Carillon|\n",
            "| 36|     France|Gingery spice not...|                 N/A|    90| 60.0|      Rhône Valley| Châteauneuf-du-Pape|Rhône-style White...|Clos de L'Oratoir...|\n",
            "| 37|      Italy|Aromas of forest ...|                 N/A|    90| 29.0|           Tuscany|Vino Nobile di Mo...|          Sangiovese|          Avignonesi|\n",
            "| 38|      Italy|This has a charmi...|                 N/A|    90| 23.0|           Tuscany|    Chianti Classico|          Sangiovese|    Casina di Cornia|\n",
            "| 39|      Italy|This bright, savo...|             Riserva|    90| 29.0|           Tuscany|    Chianti Classico|           Red Blend|Castello di Monte...|\n",
            "| 40|      Spain|Earthy plum and c...|              Amandi|    90| 17.0|           Galicia|       Ribeira Sacra|              Mencía|      Don Bernardino|\n",
            "| 41|      Spain|This comes across...|Alfonso Oloroso Seco|    90| 26.0|         Andalucia|               Jerez|            Palomino|      González Byass|\n",
            "| 42|         US|This is an aromat...|     Private Reserve|    90| 55.0|             Idaho|                 N/A|        Petite Sirah|              Huston|\n",
            "| 43|      Italy|Aromas of dark-sk...|             Riserva|    90| 39.0|           Tuscany|    Chianti Classico|           Red Blend|             Rignana|\n",
            "| 44|     France|Dark in color and...|             Coteaux|    90| 69.0|      Rhône Valley|              Cornas|               Syrah|     Tardieu-Laurent|\n",
            "| 45|      Italy|A blend of 90% Sa...|Vigneto Odoardo B...|    90| 30.0|           Tuscany|    Chianti Classico|           Red Blend|        Vignavecchia|\n",
            "| 46|      Italy|Sunbaked earth, r...|    Poggio alle Mura|    90| 90.0|           Tuscany|Brunello di Monta...|          Sangiovese|               Banfi|\n",
            "| 47|         US|Blended with 9% M...|        Estate Grown|    90| 60.0|        California|        Mount Veeder|  Cabernet Sauvignon|            Brandlin|\n",
            "| 48|      Italy|Ripe dark-skinned...|                 N/A|    90| 50.0|           Tuscany|Brunello di Monta...|          Sangiovese|  Brunelli Martoccia|\n",
            "| 49|         US|The aromas of blu...|                 N/A|    90| 40.0|        Washington|        Red Mountain|  Cabernet Sauvignon|          Canvasback|\n",
            "| 50|      Italy|This robust red o...|             Riserva|    90|100.0|           Tuscany|Brunello di Monta...|          Sangiovese|       Capanne Ricci|\n",
            "| 51|     France|This structured, ...|                 N/A|    90| 68.0|          Burgundy|Chassagne-Montrachet|          Chardonnay|Chartron et Trébu...|\n",
            "| 52|     France|This ripe, full-b...|        Les 7 Hommes|    90| 42.0|      Loire Valley|            Sancerre|     Sauvignon Blanc|     Cherrier Frères|\n",
            "| 53|     France|With its light co...|            L'Inédit|    90| 28.0|      Loire Valley| Coteaux du Giennois|          Pinot Noir|Clement et Floria...|\n",
            "| 54|         US|There's a lot to ...|                 N/A|    90| 18.0|        California|Russian River Valley|          Chardonnay|            De Loach|\n",
            "| 55|         US|A blend of Cabern...|          Four Flags|    90| 69.0|        Washington|        Red Mountain|  Cabernet Sauvignon|             DeLille|\n",
            "| 57|         US|While exuberantly...|             Reserve|    90| 25.0|          New York|        Finger Lakes|            Riesling|Dr. Konstantin Frank|\n",
            "| 58|         US|Cabernet makes up...|         Final Final|    90| 30.0|        Washington|Columbia Valley (WA)|Cabernet Sauvigno...|              Efeste|\n",
            "| 59|      Italy|This savory blend...|     Poggio Bestiale|    90| 60.0|           Tuscany|     Maremma Toscana|           Red Blend|Fattoria di Magliano|\n",
            "| 60|  Argentina|Concentrated, rip...|The Apple Doesn't...|    91| 30.0|  Mendoza Province|             Mendoza|              Malbec|   Matias Riccitelli|\n",
            "| 61|  Australia|Moorooduc's estat...|                 N/A|    91| 36.0|          Victoria|Mornington Peninsula|          Pinot Noir|           Moorooduc|\n",
            "+---+-----------+--------------------+--------------------+------+-----+------------------+--------------------+--------------------+--------------------+\n",
            "only showing top 60 rows\n",
            "\n"
          ],
          "name": "stdout"
        }
      ]
    },
    {
      "cell_type": "markdown",
      "metadata": {
        "id": "0E0fXT6kSy2V"
      },
      "source": [
        "### **3. NLP Pipeline - Transform the description column to numeric:**\n",
        "\n",
        "  a) Tokenize the description column<br>\n",
        "  b) Remove Stop words from the tokenized description<br>\n",
        "  c) Count the number of tokens and add a new column to the df<br>\n",
        "  d) Encode the filtered description tokens<br>"
      ]
    },
    {
      "cell_type": "code",
      "metadata": {
        "id": "Z92CyFH45cP7"
      },
      "source": [
        "# Create a function to return the length of a list\n",
        "def word_list_length(word_list):\n",
        "  return len(word_list)"
      ],
      "execution_count": null,
      "outputs": []
    },
    {
      "cell_type": "code",
      "metadata": {
        "id": "ry6x3Zgk5Vm5"
      },
      "source": [
        "# Create a user defined function\n",
        "count_tokens = udf(word_list_length, IntegerType())"
      ],
      "execution_count": null,
      "outputs": []
    },
    {
      "cell_type": "code",
      "metadata": {
        "colab": {
          "base_uri": "https://localhost:8080/"
        },
        "id": "HBWNVcuZpA1i",
        "outputId": "9c6c67b2-36da-4f8b-ac13-23c10f821c8a"
      },
      "source": [
        "# Tokenize sentences\n",
        "tokenizer = Tokenizer(inputCol=\"description\", outputCol=\"words\")\n",
        "tokenizer"
      ],
      "execution_count": null,
      "outputs": [
        {
          "output_type": "execute_result",
          "data": {
            "text/plain": [
              "Tokenizer_7b5bee61868d"
            ]
          },
          "metadata": {
            "tags": []
          },
          "execution_count": 47
        }
      ]
    },
    {
      "cell_type": "code",
      "metadata": {
        "colab": {
          "base_uri": "https://localhost:8080/"
        },
        "id": "BAvl0fvK4Lyq",
        "outputId": "94e7e08e-3d97-4236-f850-c32aad97d975"
      },
      "source": [
        "# Create our Tokenizer\n",
        "tokenizer = Tokenizer(inputCol=\"description\", outputCol=\"words\")\n",
        "\n",
        "# Transform DataFrame\n",
        "tokenized_df = tokenizer.transform(dropna_df)\n",
        "\n",
        "# Select the needed column and don't truncate results\n",
        "tokenized_df = tokenized_df.withColumn(\"tokens\", count_tokens(col(\"words\")))\n",
        "tokenized_df.show(truncate=False)"
      ],
      "execution_count": null,
      "outputs": [
        {
          "output_type": "stream",
          "text": [
            "+---+-------+-------------------------------------------------------------------------------------------------------------------------------------------------------------------------------------------------------------------------------------------------------------------------------------------------------------------------------------------------------------------------------------------------------------------------------------------+------------------------------------+------+-----+------------------+-------------------------+------------------+-----------------------+----------------------------------------------------------------------------------------------------------------------------------------------------------------------------------------------------------------------------------------------------------------------------------------------------------------------------------------------------------------------------------------------------------------------------------------------------------------------------------------------------------------+------+\n",
            "|_c0|country|description                                                                                                                                                                                                                                                                                                                                                                                                                                |designation                         |points|price|province          |region_1                 |variety           |winery                 |words                                                                                                                                                                                                                                                                                                                                                                                                                                                                                                           |tokens|\n",
            "+---+-------+-------------------------------------------------------------------------------------------------------------------------------------------------------------------------------------------------------------------------------------------------------------------------------------------------------------------------------------------------------------------------------------------------------------------------------------------+------------------------------------+------+-----+------------------+-------------------------+------------------+-----------------------+----------------------------------------------------------------------------------------------------------------------------------------------------------------------------------------------------------------------------------------------------------------------------------------------------------------------------------------------------------------------------------------------------------------------------------------------------------------------------------------------------------------+------+\n",
            "|0  |US     |This tremendous 100% varietal wine hails from Oakville and was aged over three years in oak. Juicy red-cherry fruit and a compelling hint of caramel greet the palate, framed by elegant, fine tannins and a subtle minty tone in the background. Balanced and rewarding from start to finish, it has years ahead of it to develop further nuance. Enjoy 2022–2030.                                                                        |Martha's Vineyard                   |96    |235.0|California        |Napa Valley              |Cabernet Sauvignon|Heitz                  |[this, tremendous, 100%, varietal, wine, hails, from, oakville, and, was, aged, over, three, years, in, oak., juicy, red-cherry, fruit, and, a, compelling, hint, of, caramel, greet, the, palate,, framed, by, elegant,, fine, tannins, and, a, subtle, minty, tone, in, the, background., balanced, and, rewarding, from, start, to, finish,, it, has, years, ahead, of, it, to, develop, further, nuance., enjoy, 2022–2030.]                                                                                |60    |\n",
            "|1  |Spain  |Ripe aromas of fig, blackberry and cassis are softened and sweetened by a slathering of oaky chocolate and vanilla. This is full, layered, intense and cushioned on the palate, with rich flavors of chocolaty black fruits and baking spices. A toasty, everlasting finish is heady but ideally balanced. Drink through 2023.                                                                                                             |Carodorum Selección Especial Reserva|96    |110.0|Northern Spain    |Toro                     |Tinta de Toro     |Bodega Carmen Rodríguez|[ripe, aromas, of, fig,, blackberry, and, cassis, are, softened, and, sweetened, by, a, slathering, of, oaky, chocolate, and, vanilla., this, is, full,, layered,, intense, and, cushioned, on, the, palate,, with, rich, flavors, of, chocolaty, black, fruits, and, baking, spices., a, toasty,, everlasting, finish, is, heady, but, ideally, balanced., drink, through, 2023.]                                                                                                                              |51    |\n",
            "|2  |US     |Mac Watson honors the memory of a wine once made by his mother in this tremendously delicious, balanced and complex botrytised white. Dark gold in color, it layers toasted hazelnut, pear compote and orange peel flavors, reveling in the succulence of its 122 g/L of residual sugar.                                                                                                                                                   |Special Selected Late Harvest       |96    |90.0 |California        |Knights Valley           |Sauvignon Blanc   |Macauley               |[mac, watson, honors, the, memory, of, a, wine, once, made, by, his, mother, in, this, tremendously, delicious,, balanced, and, complex, botrytised, white., dark, gold, in, color,, it, layers, toasted, hazelnut,, pear, compote, and, orange, peel, flavors,, reveling, in, the, succulence, of, its, 122, g/l, of, residual, sugar.]                                                                                                                                                                        |47    |\n",
            "|3  |US     |This spent 20 months in 30% new French oak, and incorporates fruit from Ponzi's Aurora, Abetina and Madrona vineyards, among others. Aromatic, dense and toasty, it deftly blends aromas and flavors of toast, cigar box, blackberry, black cherry, coffee and graphite. Tannins are polished to a fine sheen, and frame a finish loaded with dark chocolate and espresso. Drink now through 2032.                                         |Reserve                             |96    |65.0 |Oregon            |Willamette Valley        |Pinot Noir        |Ponzi                  |[this, spent, 20, months, in, 30%, new, french, oak,, and, incorporates, fruit, from, ponzi's, aurora,, abetina, and, madrona, vineyards,, among, others., aromatic,, dense, and, toasty,, it, deftly, blends, aromas, and, flavors, of, toast,, cigar, box,, blackberry,, black, cherry,, coffee, and, graphite., tannins, are, polished, to, a, fine, sheen,, and, frame, a, finish, loaded, with, dark, chocolate, and, espresso., drink, now, through, 2032.]                                               |62    |\n",
            "|4  |France |This is the top wine from La Bégude, named after the highest point in the vineyard at 1200 feet. It has structure, density and considerable acidity that is still calming down. With 18 months in wood, the wine has developing an extra richness and concentration. Produced by the Tari family, formerly of Château Giscours in Margaux, it is a wine made for aging. Drink from 2020.                                                   |La Brûlade                          |95    |66.0 |Provence          |Bandol                   |Provence red blend|Domaine de la Bégude   |[this, is, the, top, wine, from, la, bégude,, named, after, the, highest, point, in, the, vineyard, at, 1200, feet., it, has, structure,, density, and, considerable, acidity, that, is, still, calming, down., with, 18, months, in, wood,, the, wine, has, developing, an, extra, richness, and, concentration., produced, by, the, tari, family,, formerly, of, château, giscours, in, margaux,, it, is, a, wine, made, for, aging., drink, from, 2020.]                                                     |66    |\n",
            "|5  |Spain  |Deep, dense and pure from the opening bell, this Toro is a winner. Aromas of dark ripe black fruits are cool and moderately oaked. This feels massive on the palate but sensationally balanced. Flavors of blackberry, coffee, mocha and toasty oak finish spicy, smooth and heady. Drink this exemplary Toro through 2023.                                                                                                                |Numanthia                           |95    |73.0 |Northern Spain    |Toro                     |Tinta de Toro     |Numanthia              |[deep,, dense, and, pure, from, the, opening, bell,, this, toro, is, a, winner., aromas, of, dark, ripe, black, fruits, are, cool, and, moderately, oaked., this, feels, massive, on, the, palate, but, sensationally, balanced., flavors, of, blackberry,, coffee,, mocha, and, toasty, oak, finish, spicy,, smooth, and, heady., drink, this, exemplary, toro, through, 2023.]                                                                                                                                |52    |\n",
            "|6  |Spain  |Slightly gritty black-fruit aromas include a sweet note of pastry along with a hint of prune. Wall-to-wall saturation ensures that all corners of one's mouth are covered. Flavors of blackberry, mocha and chocolate are highly impressive and expressive, while this settles nicely on a long finish. Drink now through 2024.                                                                                                            |San Román                           |95    |65.0 |Northern Spain    |Toro                     |Tinta de Toro     |Maurodos               |[slightly, gritty, black-fruit, aromas, include, a, sweet, note, of, pastry, along, with, a, hint, of, prune., wall-to-wall, saturation, ensures, that, all, corners, of, one's, mouth, are, covered., flavors, of, blackberry,, mocha, and, chocolate, are, highly, impressive, and, expressive,, while, this, settles, nicely, on, a, long, finish., drink, now, through, 2024.]                                                                                                                              |50    |\n",
            "|7  |Spain  |Lush cedary black-fruit aromas are luxe and offer notes of marzipan and vanilla. This bruiser is massive and tannic on the palate, but still lush and friendly. Chocolate is a key flavor, while baked berry and cassis flavors are hardly wallflowers. On the finish, this is tannic and deep as a sea trench. Drink this saturated black-colored Toro through 2023.                                                                      |Carodorum Único Crianza             |95    |110.0|Northern Spain    |Toro                     |Tinta de Toro     |Bodega Carmen Rodríguez|[lush, cedary, black-fruit, aromas, are, luxe, and, offer, notes, of, marzipan, and, vanilla., this, bruiser, is, massive, and, tannic, on, the, palate,, but, still, lush, and, friendly., chocolate, is, a, key, flavor,, while, baked, berry, and, cassis, flavors, are, hardly, wallflowers., on, the, finish,, this, is, tannic, and, deep, as, a, sea, trench., drink, this, saturated, black-colored, toro, through, 2023.]                                                                              |60    |\n",
            "|8  |US     |This re-named vineyard was formerly bottled as deLancellotti. You'll find striking minerality underscoring chunky black fruits. Accents of citrus and graphite comingle, with exceptional midpalate concentration. This is a wine to cellar, though it is already quite enjoyable. Drink now through 2030.                                                                                                                                 |Silice                              |95    |65.0 |Oregon            |Chehalem Mountains       |Pinot Noir        |Bergström              |[this, re-named, vineyard, was, formerly, bottled, as, delancellotti., you'll, find, striking, minerality, underscoring, chunky, black, fruits., accents, of, citrus, and, graphite, comingle,, with, exceptional, midpalate, concentration., this, is, a, wine, to, cellar,, though, it, is, already, quite, enjoyable., drink, now, through, 2030.]                                                                                                                                                           |42    |\n",
            "|9  |US     |The producer sources from two blocks of the vineyard for this wine—one at a high elevation, which contributes bright acidity. Crunchy cranberry, pomegranate and orange peel flavors surround silky, succulent layers of texture that present as fleshy fruit. That delicately lush flavor has considerable length.                                                                                                                        |Gap's Crown Vineyard                |95    |60.0 |California        |Sonoma Coast             |Pinot Noir        |Blue Farm              |[the, producer, sources, from, two, blocks, of, the, vineyard, for, this, wine—one, at, a, high, elevation,, which, contributes, bright, acidity., crunchy, cranberry,, pomegranate, and, orange, peel, flavors, surround, silky,, succulent, layers, of, texture, that, present, as, fleshy, fruit., that, delicately, lush, flavor, has, considerable, length.]                                                                                                                                               |45    |\n",
            "|10 |Italy  |Elegance, complexity and structure come together in this drop-dead gorgeous winethat ranks among Italy's greatest whites. It opens with sublime yellow spring flower, aromatic herb and orchard fruit scents. The creamy, delicious palate seamlessly combines juicy white peach, ripe pear and citrus flavors while white almond and savory mineral notes grace the lingering finish.                                                     |Ronco della Chiesa                  |95    |80.0 |Northeastern Italy|Collio                   |Friulano          |Borgo del Tiglio       |[elegance,, complexity, and, structure, come, together, in, this, drop-dead, gorgeous, winethat, ranks, among, italy's, greatest, whites., it, opens, with, sublime, yellow, spring, flower,, aromatic, herb, and, orchard, fruit, scents., the, creamy,, delicious, palate, seamlessly, combines, juicy, white, peach,, ripe, pear, and, citrus, flavors, while, white, almond, and, savory, mineral, notes, grace, the, lingering, finish.]                                                                   |54    |\n",
            "|11 |US     |From 18-year-old vines, this supple well-balanced effort blends flavors of mocha, cherry, vanilla and breakfast tea. Superbly integrated and delicious even at this early stage, this wine seems destined for a long and savory cellar life. Drink now through 2028.                                                                                                                                                                       |Estate Vineyard Wadensvil Block     |95    |48.0 |Oregon            |Ribbon Ridge             |Pinot Noir        |Patricia Green Cellars |[from, 18-year-old, vines,, this, supple, well-balanced, effort, blends, flavors, of, mocha,, cherry,, vanilla, and, breakfast, tea., superbly, integrated, and, delicious, even, at, this, early, stage,, this, wine, seems, destined, for, a, long, and, savory, cellar, life., drink, now, through, 2028.]                                                                                                                                                                                                   |40    |\n",
            "|12 |US     |A standout even in this terrific lineup of 2015 releases from Patricia Green, the Weber opens with a burst of cola and tobacco scents and accents. It continues, subtle and detailed, with flavors of oranges, vanilla, tea and milk chocolate discreetly threaded through ripe blackberry fruit.                                                                                                                                          |Weber Vineyard                      |95    |48.0 |Oregon            |Dundee Hills             |Pinot Noir        |Patricia Green Cellars |[a, standout, even, in, this, terrific, lineup, of, 2015, releases, from, patricia, green,, the, weber, opens, with, a, burst, of, cola, and, tobacco, scents, and, accents., it, continues,, subtle, and, detailed,, with, flavors, of, oranges,, vanilla,, tea, and, milk, chocolate, discreetly, threaded, through, ripe, blackberry, fruit.]                                                                                                                                                                |46    |\n",
            "|13 |France |This wine is in peak condition. The tannins and the secondary flavors dominate this ripe leather-textured wine. The fruit is all there as well: dried berries and hints of black-plum skins. It is a major wine right at the point of drinking with both the mature flavors and the fruit in the right balance.                                                                                                                            |Château Montus Prestige             |95    |90.0 |Southwest France  |Madiran                  |Tannat            |Vignobles Brumont      |[this, wine, is, in, peak, condition., the, tannins, and, the, secondary, flavors, dominate, this, ripe, leather-textured, wine., the, fruit, is, all, there, as, well:, dried, berries, and, hints, of, black-plum, skins., it, is, a, major, wine, right, at, the, point, of, drinking, with, both, the, mature, flavors, and, the, fruit, in, the, right, balance.]                                                                                                                                          |54    |\n",
            "|14 |US     |With its sophisticated mix of mineral, acid and tart fruits, this seductive effort pleases from start to finish. Supple and dense, it's got strawberry, blueberry, plum and black cherry, a touch of chocolate, and that underlying streak of mineral. All these elements are in good proportion and finish with an appealing silky texture. It's delicious already, but give it another decade for full enjoyment. Drink now through 2028.|Grace Vineyard                      |95    |185.0|Oregon            |Dundee Hills             |Pinot Noir        |Domaine Serene         |[with, its, sophisticated, mix, of, mineral,, acid, and, tart, fruits,, this, seductive, effort, pleases, from, start, to, finish., supple, and, dense,, it's, got, strawberry,, blueberry,, plum, and, black, cherry,, a, touch, of, chocolate,, and, that, underlying, streak, of, mineral., all, these, elements, are, in, good, proportion, and, finish, with, an, appealing, silky, texture., it's, delicious, already,, but, give, it, another, decade, for, full, enjoyment., drink, now, through, 2028.]|68    |\n",
            "|15 |US     |First made in 2006, this succulent luscious Chardonnay is all about minerality. It's got a rich core of butterscotch and the seemingly endless layers of subtle flavors that biodynamic farming can bring. It spends 18 months on the lees prior to bottling. Drink now through 2028.                                                                                                                                                      |Sigrid                              |95    |90.0 |Oregon            |Willamette Valley        |Chardonnay        |Bergström              |[first, made, in, 2006,, this, succulent, luscious, chardonnay, is, all, about, minerality., it's, got, a, rich, core, of, butterscotch, and, the, seemingly, endless, layers, of, subtle, flavors, that, biodynamic, farming, can, bring., it, spends, 18, months, on, the, lees, prior, to, bottling., drink, now, through, 2028.]                                                                                                                                                                            |46    |\n",
            "|16 |US     |This blockbuster, powerhouse of a wine suggests blueberry pie and chocolate as it opens in the glass. On the palate, it's smooth and seductively silky, offering complex cedar, peppercorn and peppery oak seasonings amidst its dense richness. It finishes with finesse and spice.                                                                                                                                                       |Rainin Vineyard                     |95    |325.0|California        |Diamond Mountain District|Cabernet Sauvignon|Hall                   |[this, blockbuster,, powerhouse, of, a, wine, suggests, blueberry, pie, and, chocolate, as, it, opens, in, the, glass., on, the, palate,, it's, smooth, and, seductively, silky,, offering, complex, cedar,, peppercorn, and, peppery, oak, seasonings, amidst, its, dense, richness., it, finishes, with, finesse, and, spice.]                                                                                                                                                                                |43    |\n",
            "|17 |Spain  |Nicely oaked blackberry, licorice, vanilla and charred aromas are smooth and sultry. This is an outstanding wine from an excellent year. Forward barrel-spice and mocha flavors adorn core blackberry and raspberry fruit, while this runs long and tastes vaguely chocolaty on the velvety finish. Enjoy this top-notch Tempranillo through 2030.                                                                                         |6 Años Reserva Premium              |95    |80.0 |Northern Spain    |Ribera del Duero         |Tempranillo       |Valduero               |[nicely, oaked, blackberry,, licorice,, vanilla, and, charred, aromas, are, smooth, and, sultry., this, is, an, outstanding, wine, from, an, excellent, year., forward, barrel-spice, and, mocha, flavors, adorn, core, blackberry, and, raspberry, fruit,, while, this, runs, long, and, tastes, vaguely, chocolaty, on, the, velvety, finish., enjoy, this, top-notch, tempranillo, through, 2030.]                                                                                                           |50    |\n",
            "|18 |France |Coming from a seven-acre vineyard named after the dovecote on the property, this is a magnificent wine. Powered by both fruit tannins and the 28 months of new wood aging, it is darkly rich and with great concentration. As a sign of its pedigree, there is also elegance here, a restraint which is new to this wine. That makes it a wine for long-term aging. Drink from 2022.                                                       |Le Pigeonnier                       |95    |290.0|Southwest France  |Cahors                   |Malbec            |Château Lagrézette     |[coming, from, a, seven-acre, vineyard, named, after, the, dovecote, on, the, property,, this, is, a, magnificent, wine., powered, by, both, fruit, tannins, and, the, 28, months, of, new, wood, aging,, it, is, darkly, rich, and, with, great, concentration., as, a, sign, of, its, pedigree,, there, is, also, elegance, here,, a, restraint, which, is, new, to, this, wine., that, makes, it, a, wine, for, long-term, aging., drink, from, 2022.]                                                       |68    |\n",
            "|19 |US     |This fresh and lively medium-bodied wine is beautifully crafted, with cherry blossom aromas and tangy acidity. Layered and seductive, it offers a crisp mix of orange peel, cherry, pomegranate and baking spice flavors that are ready for the table or the cellar.                                                                                                                                                                       |Gap's Crown Vineyard                |95    |75.0 |California        |Sonoma Coast             |Pinot Noir        |Gary Farrell           |[this, fresh, and, lively, medium-bodied, wine, is, beautifully, crafted,, with, cherry, blossom, aromas, and, tangy, acidity., layered, and, seductive,, it, offers, a, crisp, mix, of, orange, peel,, cherry,, pomegranate, and, baking, spice, flavors, that, are, ready, for, the, table, or, the, cellar.]                                                                                                                                                                                                 |42    |\n",
            "+---+-------+-------------------------------------------------------------------------------------------------------------------------------------------------------------------------------------------------------------------------------------------------------------------------------------------------------------------------------------------------------------------------------------------------------------------------------------------+------------------------------------+------+-----+------------------+-------------------------+------------------+-----------------------+----------------------------------------------------------------------------------------------------------------------------------------------------------------------------------------------------------------------------------------------------------------------------------------------------------------------------------------------------------------------------------------------------------------------------------------------------------------------------------------------------------------+------+\n",
            "only showing top 20 rows\n",
            "\n"
          ],
          "name": "stdout"
        }
      ]
    },
    {
      "cell_type": "code",
      "metadata": {
        "colab": {
          "base_uri": "https://localhost:8080/"
        },
        "id": "VOte0mOy65I1",
        "outputId": "e0c9bd40-f5e9-498e-e857-eebeb157f27e"
      },
      "source": [
        "# Use the word remover\n",
        "# Run the remover\n",
        "remover = StopWordsRemover(inputCol=\"words\",outputCol=\"filtered\")\n",
        "# Tranform and show data\n",
        "removed_df = remover.transform(tokenized_df)\n",
        "removed_df.show(truncate=False)"
      ],
      "execution_count": null,
      "outputs": [
        {
          "output_type": "stream",
          "text": [
            "+---+-------+-------------------------------------------------------------------------------------------------------------------------------------------------------------------------------------------------------------------------------------------------------------------------------------------------------------------------------------------------------------------------------------------------------------------------------------------+------------------------------------+------+-----+------------------+-------------------------+------------------+-----------------------+----------------------------------------------------------------------------------------------------------------------------------------------------------------------------------------------------------------------------------------------------------------------------------------------------------------------------------------------------------------------------------------------------------------------------------------------------------------------------------------------------------------+------+------------------------------------------------------------------------------------------------------------------------------------------------------------------------------------------------------------------------------------------------------------------------------------------------------------------------------------------------------------------------------------+\n",
            "|_c0|country|description                                                                                                                                                                                                                                                                                                                                                                                                                                |designation                         |points|price|province          |region_1                 |variety           |winery                 |words                                                                                                                                                                                                                                                                                                                                                                                                                                                                                                           |tokens|filtered                                                                                                                                                                                                                                                                                                                                                                            |\n",
            "+---+-------+-------------------------------------------------------------------------------------------------------------------------------------------------------------------------------------------------------------------------------------------------------------------------------------------------------------------------------------------------------------------------------------------------------------------------------------------+------------------------------------+------+-----+------------------+-------------------------+------------------+-----------------------+----------------------------------------------------------------------------------------------------------------------------------------------------------------------------------------------------------------------------------------------------------------------------------------------------------------------------------------------------------------------------------------------------------------------------------------------------------------------------------------------------------------+------+------------------------------------------------------------------------------------------------------------------------------------------------------------------------------------------------------------------------------------------------------------------------------------------------------------------------------------------------------------------------------------+\n",
            "|0  |US     |This tremendous 100% varietal wine hails from Oakville and was aged over three years in oak. Juicy red-cherry fruit and a compelling hint of caramel greet the palate, framed by elegant, fine tannins and a subtle minty tone in the background. Balanced and rewarding from start to finish, it has years ahead of it to develop further nuance. Enjoy 2022–2030.                                                                        |Martha's Vineyard                   |96    |235.0|California        |Napa Valley              |Cabernet Sauvignon|Heitz                  |[this, tremendous, 100%, varietal, wine, hails, from, oakville, and, was, aged, over, three, years, in, oak., juicy, red-cherry, fruit, and, a, compelling, hint, of, caramel, greet, the, palate,, framed, by, elegant,, fine, tannins, and, a, subtle, minty, tone, in, the, background., balanced, and, rewarding, from, start, to, finish,, it, has, years, ahead, of, it, to, develop, further, nuance., enjoy, 2022–2030.]                                                                                |60    |[tremendous, 100%, varietal, wine, hails, oakville, aged, three, years, oak., juicy, red-cherry, fruit, compelling, hint, caramel, greet, palate,, framed, elegant,, fine, tannins, subtle, minty, tone, background., balanced, rewarding, start, finish,, years, ahead, develop, nuance., enjoy, 2022–2030.]                                                                       |\n",
            "|1  |Spain  |Ripe aromas of fig, blackberry and cassis are softened and sweetened by a slathering of oaky chocolate and vanilla. This is full, layered, intense and cushioned on the palate, with rich flavors of chocolaty black fruits and baking spices. A toasty, everlasting finish is heady but ideally balanced. Drink through 2023.                                                                                                             |Carodorum Selección Especial Reserva|96    |110.0|Northern Spain    |Toro                     |Tinta de Toro     |Bodega Carmen Rodríguez|[ripe, aromas, of, fig,, blackberry, and, cassis, are, softened, and, sweetened, by, a, slathering, of, oaky, chocolate, and, vanilla., this, is, full,, layered,, intense, and, cushioned, on, the, palate,, with, rich, flavors, of, chocolaty, black, fruits, and, baking, spices., a, toasty,, everlasting, finish, is, heady, but, ideally, balanced., drink, through, 2023.]                                                                                                                              |51    |[ripe, aromas, fig,, blackberry, cassis, softened, sweetened, slathering, oaky, chocolate, vanilla., full,, layered,, intense, cushioned, palate,, rich, flavors, chocolaty, black, fruits, baking, spices., toasty,, everlasting, finish, heady, ideally, balanced., drink, 2023.]                                                                                                 |\n",
            "|2  |US     |Mac Watson honors the memory of a wine once made by his mother in this tremendously delicious, balanced and complex botrytised white. Dark gold in color, it layers toasted hazelnut, pear compote and orange peel flavors, reveling in the succulence of its 122 g/L of residual sugar.                                                                                                                                                   |Special Selected Late Harvest       |96    |90.0 |California        |Knights Valley           |Sauvignon Blanc   |Macauley               |[mac, watson, honors, the, memory, of, a, wine, once, made, by, his, mother, in, this, tremendously, delicious,, balanced, and, complex, botrytised, white., dark, gold, in, color,, it, layers, toasted, hazelnut,, pear, compote, and, orange, peel, flavors,, reveling, in, the, succulence, of, its, 122, g/l, of, residual, sugar.]                                                                                                                                                                        |47    |[mac, watson, honors, memory, wine, made, mother, tremendously, delicious,, balanced, complex, botrytised, white., dark, gold, color,, layers, toasted, hazelnut,, pear, compote, orange, peel, flavors,, reveling, succulence, 122, g/l, residual, sugar.]                                                                                                                         |\n",
            "|3  |US     |This spent 20 months in 30% new French oak, and incorporates fruit from Ponzi's Aurora, Abetina and Madrona vineyards, among others. Aromatic, dense and toasty, it deftly blends aromas and flavors of toast, cigar box, blackberry, black cherry, coffee and graphite. Tannins are polished to a fine sheen, and frame a finish loaded with dark chocolate and espresso. Drink now through 2032.                                         |Reserve                             |96    |65.0 |Oregon            |Willamette Valley        |Pinot Noir        |Ponzi                  |[this, spent, 20, months, in, 30%, new, french, oak,, and, incorporates, fruit, from, ponzi's, aurora,, abetina, and, madrona, vineyards,, among, others., aromatic,, dense, and, toasty,, it, deftly, blends, aromas, and, flavors, of, toast,, cigar, box,, blackberry,, black, cherry,, coffee, and, graphite., tannins, are, polished, to, a, fine, sheen,, and, frame, a, finish, loaded, with, dark, chocolate, and, espresso., drink, now, through, 2032.]                                               |62    |[spent, 20, months, 30%, new, french, oak,, incorporates, fruit, ponzi's, aurora,, abetina, madrona, vineyards,, among, others., aromatic,, dense, toasty,, deftly, blends, aromas, flavors, toast,, cigar, box,, blackberry,, black, cherry,, coffee, graphite., tannins, polished, fine, sheen,, frame, finish, loaded, dark, chocolate, espresso., drink, 2032.]                 |\n",
            "|4  |France |This is the top wine from La Bégude, named after the highest point in the vineyard at 1200 feet. It has structure, density and considerable acidity that is still calming down. With 18 months in wood, the wine has developing an extra richness and concentration. Produced by the Tari family, formerly of Château Giscours in Margaux, it is a wine made for aging. Drink from 2020.                                                   |La Brûlade                          |95    |66.0 |Provence          |Bandol                   |Provence red blend|Domaine de la Bégude   |[this, is, the, top, wine, from, la, bégude,, named, after, the, highest, point, in, the, vineyard, at, 1200, feet., it, has, structure,, density, and, considerable, acidity, that, is, still, calming, down., with, 18, months, in, wood,, the, wine, has, developing, an, extra, richness, and, concentration., produced, by, the, tari, family,, formerly, of, château, giscours, in, margaux,, it, is, a, wine, made, for, aging., drink, from, 2020.]                                                     |66    |[top, wine, la, bégude,, named, highest, point, vineyard, 1200, feet., structure,, density, considerable, acidity, still, calming, down., 18, months, wood,, wine, developing, extra, richness, concentration., produced, tari, family,, formerly, château, giscours, margaux,, wine, made, aging., drink, 2020.]                                                                   |\n",
            "|5  |Spain  |Deep, dense and pure from the opening bell, this Toro is a winner. Aromas of dark ripe black fruits are cool and moderately oaked. This feels massive on the palate but sensationally balanced. Flavors of blackberry, coffee, mocha and toasty oak finish spicy, smooth and heady. Drink this exemplary Toro through 2023.                                                                                                                |Numanthia                           |95    |73.0 |Northern Spain    |Toro                     |Tinta de Toro     |Numanthia              |[deep,, dense, and, pure, from, the, opening, bell,, this, toro, is, a, winner., aromas, of, dark, ripe, black, fruits, are, cool, and, moderately, oaked., this, feels, massive, on, the, palate, but, sensationally, balanced., flavors, of, blackberry,, coffee,, mocha, and, toasty, oak, finish, spicy,, smooth, and, heady., drink, this, exemplary, toro, through, 2023.]                                                                                                                                |52    |[deep,, dense, pure, opening, bell,, toro, winner., aromas, dark, ripe, black, fruits, cool, moderately, oaked., feels, massive, palate, sensationally, balanced., flavors, blackberry,, coffee,, mocha, toasty, oak, finish, spicy,, smooth, heady., drink, exemplary, toro, 2023.]                                                                                                |\n",
            "|6  |Spain  |Slightly gritty black-fruit aromas include a sweet note of pastry along with a hint of prune. Wall-to-wall saturation ensures that all corners of one's mouth are covered. Flavors of blackberry, mocha and chocolate are highly impressive and expressive, while this settles nicely on a long finish. Drink now through 2024.                                                                                                            |San Román                           |95    |65.0 |Northern Spain    |Toro                     |Tinta de Toro     |Maurodos               |[slightly, gritty, black-fruit, aromas, include, a, sweet, note, of, pastry, along, with, a, hint, of, prune., wall-to-wall, saturation, ensures, that, all, corners, of, one's, mouth, are, covered., flavors, of, blackberry,, mocha, and, chocolate, are, highly, impressive, and, expressive,, while, this, settles, nicely, on, a, long, finish., drink, now, through, 2024.]                                                                                                                              |50    |[slightly, gritty, black-fruit, aromas, include, sweet, note, pastry, along, hint, prune., wall-to-wall, saturation, ensures, corners, one's, mouth, covered., flavors, blackberry,, mocha, chocolate, highly, impressive, expressive,, settles, nicely, long, finish., drink, 2024.]                                                                                               |\n",
            "|7  |Spain  |Lush cedary black-fruit aromas are luxe and offer notes of marzipan and vanilla. This bruiser is massive and tannic on the palate, but still lush and friendly. Chocolate is a key flavor, while baked berry and cassis flavors are hardly wallflowers. On the finish, this is tannic and deep as a sea trench. Drink this saturated black-colored Toro through 2023.                                                                      |Carodorum Único Crianza             |95    |110.0|Northern Spain    |Toro                     |Tinta de Toro     |Bodega Carmen Rodríguez|[lush, cedary, black-fruit, aromas, are, luxe, and, offer, notes, of, marzipan, and, vanilla., this, bruiser, is, massive, and, tannic, on, the, palate,, but, still, lush, and, friendly., chocolate, is, a, key, flavor,, while, baked, berry, and, cassis, flavors, are, hardly, wallflowers., on, the, finish,, this, is, tannic, and, deep, as, a, sea, trench., drink, this, saturated, black-colored, toro, through, 2023.]                                                                              |60    |[lush, cedary, black-fruit, aromas, luxe, offer, notes, marzipan, vanilla., bruiser, massive, tannic, palate,, still, lush, friendly., chocolate, key, flavor,, baked, berry, cassis, flavors, hardly, wallflowers., finish,, tannic, deep, sea, trench., drink, saturated, black-colored, toro, 2023.]                                                                             |\n",
            "|8  |US     |This re-named vineyard was formerly bottled as deLancellotti. You'll find striking minerality underscoring chunky black fruits. Accents of citrus and graphite comingle, with exceptional midpalate concentration. This is a wine to cellar, though it is already quite enjoyable. Drink now through 2030.                                                                                                                                 |Silice                              |95    |65.0 |Oregon            |Chehalem Mountains       |Pinot Noir        |Bergström              |[this, re-named, vineyard, was, formerly, bottled, as, delancellotti., you'll, find, striking, minerality, underscoring, chunky, black, fruits., accents, of, citrus, and, graphite, comingle,, with, exceptional, midpalate, concentration., this, is, a, wine, to, cellar,, though, it, is, already, quite, enjoyable., drink, now, through, 2030.]                                                                                                                                                           |42    |[re-named, vineyard, formerly, bottled, delancellotti., find, striking, minerality, underscoring, chunky, black, fruits., accents, citrus, graphite, comingle,, exceptional, midpalate, concentration., wine, cellar,, though, already, quite, enjoyable., drink, 2030.]                                                                                                            |\n",
            "|9  |US     |The producer sources from two blocks of the vineyard for this wine—one at a high elevation, which contributes bright acidity. Crunchy cranberry, pomegranate and orange peel flavors surround silky, succulent layers of texture that present as fleshy fruit. That delicately lush flavor has considerable length.                                                                                                                        |Gap's Crown Vineyard                |95    |60.0 |California        |Sonoma Coast             |Pinot Noir        |Blue Farm              |[the, producer, sources, from, two, blocks, of, the, vineyard, for, this, wine—one, at, a, high, elevation,, which, contributes, bright, acidity., crunchy, cranberry,, pomegranate, and, orange, peel, flavors, surround, silky,, succulent, layers, of, texture, that, present, as, fleshy, fruit., that, delicately, lush, flavor, has, considerable, length.]                                                                                                                                               |45    |[producer, sources, two, blocks, vineyard, wine—one, high, elevation,, contributes, bright, acidity., crunchy, cranberry,, pomegranate, orange, peel, flavors, surround, silky,, succulent, layers, texture, present, fleshy, fruit., delicately, lush, flavor, considerable, length.]                                                                                              |\n",
            "|10 |Italy  |Elegance, complexity and structure come together in this drop-dead gorgeous winethat ranks among Italy's greatest whites. It opens with sublime yellow spring flower, aromatic herb and orchard fruit scents. The creamy, delicious palate seamlessly combines juicy white peach, ripe pear and citrus flavors while white almond and savory mineral notes grace the lingering finish.                                                     |Ronco della Chiesa                  |95    |80.0 |Northeastern Italy|Collio                   |Friulano          |Borgo del Tiglio       |[elegance,, complexity, and, structure, come, together, in, this, drop-dead, gorgeous, winethat, ranks, among, italy's, greatest, whites., it, opens, with, sublime, yellow, spring, flower,, aromatic, herb, and, orchard, fruit, scents., the, creamy,, delicious, palate, seamlessly, combines, juicy, white, peach,, ripe, pear, and, citrus, flavors, while, white, almond, and, savory, mineral, notes, grace, the, lingering, finish.]                                                                   |54    |[elegance,, complexity, structure, come, together, drop-dead, gorgeous, winethat, ranks, among, italy's, greatest, whites., opens, sublime, yellow, spring, flower,, aromatic, herb, orchard, fruit, scents., creamy,, delicious, palate, seamlessly, combines, juicy, white, peach,, ripe, pear, citrus, flavors, white, almond, savory, mineral, notes, grace, lingering, finish.]|\n",
            "|11 |US     |From 18-year-old vines, this supple well-balanced effort blends flavors of mocha, cherry, vanilla and breakfast tea. Superbly integrated and delicious even at this early stage, this wine seems destined for a long and savory cellar life. Drink now through 2028.                                                                                                                                                                       |Estate Vineyard Wadensvil Block     |95    |48.0 |Oregon            |Ribbon Ridge             |Pinot Noir        |Patricia Green Cellars |[from, 18-year-old, vines,, this, supple, well-balanced, effort, blends, flavors, of, mocha,, cherry,, vanilla, and, breakfast, tea., superbly, integrated, and, delicious, even, at, this, early, stage,, this, wine, seems, destined, for, a, long, and, savory, cellar, life., drink, now, through, 2028.]                                                                                                                                                                                                   |40    |[18-year-old, vines,, supple, well-balanced, effort, blends, flavors, mocha,, cherry,, vanilla, breakfast, tea., superbly, integrated, delicious, even, early, stage,, wine, seems, destined, long, savory, cellar, life., drink, 2028.]                                                                                                                                            |\n",
            "|12 |US     |A standout even in this terrific lineup of 2015 releases from Patricia Green, the Weber opens with a burst of cola and tobacco scents and accents. It continues, subtle and detailed, with flavors of oranges, vanilla, tea and milk chocolate discreetly threaded through ripe blackberry fruit.                                                                                                                                          |Weber Vineyard                      |95    |48.0 |Oregon            |Dundee Hills             |Pinot Noir        |Patricia Green Cellars |[a, standout, even, in, this, terrific, lineup, of, 2015, releases, from, patricia, green,, the, weber, opens, with, a, burst, of, cola, and, tobacco, scents, and, accents., it, continues,, subtle, and, detailed,, with, flavors, of, oranges,, vanilla,, tea, and, milk, chocolate, discreetly, threaded, through, ripe, blackberry, fruit.]                                                                                                                                                                |46    |[standout, even, terrific, lineup, 2015, releases, patricia, green,, weber, opens, burst, cola, tobacco, scents, accents., continues,, subtle, detailed,, flavors, oranges,, vanilla,, tea, milk, chocolate, discreetly, threaded, ripe, blackberry, fruit.]                                                                                                                        |\n",
            "|13 |France |This wine is in peak condition. The tannins and the secondary flavors dominate this ripe leather-textured wine. The fruit is all there as well: dried berries and hints of black-plum skins. It is a major wine right at the point of drinking with both the mature flavors and the fruit in the right balance.                                                                                                                            |Château Montus Prestige             |95    |90.0 |Southwest France  |Madiran                  |Tannat            |Vignobles Brumont      |[this, wine, is, in, peak, condition., the, tannins, and, the, secondary, flavors, dominate, this, ripe, leather-textured, wine., the, fruit, is, all, there, as, well:, dried, berries, and, hints, of, black-plum, skins., it, is, a, major, wine, right, at, the, point, of, drinking, with, both, the, mature, flavors, and, the, fruit, in, the, right, balance.]                                                                                                                                          |54    |[wine, peak, condition., tannins, secondary, flavors, dominate, ripe, leather-textured, wine., fruit, well:, dried, berries, hints, black-plum, skins., major, wine, right, point, drinking, mature, flavors, fruit, right, balance.]                                                                                                                                               |\n",
            "|14 |US     |With its sophisticated mix of mineral, acid and tart fruits, this seductive effort pleases from start to finish. Supple and dense, it's got strawberry, blueberry, plum and black cherry, a touch of chocolate, and that underlying streak of mineral. All these elements are in good proportion and finish with an appealing silky texture. It's delicious already, but give it another decade for full enjoyment. Drink now through 2028.|Grace Vineyard                      |95    |185.0|Oregon            |Dundee Hills             |Pinot Noir        |Domaine Serene         |[with, its, sophisticated, mix, of, mineral,, acid, and, tart, fruits,, this, seductive, effort, pleases, from, start, to, finish., supple, and, dense,, it's, got, strawberry,, blueberry,, plum, and, black, cherry,, a, touch, of, chocolate,, and, that, underlying, streak, of, mineral., all, these, elements, are, in, good, proportion, and, finish, with, an, appealing, silky, texture., it's, delicious, already,, but, give, it, another, decade, for, full, enjoyment., drink, now, through, 2028.]|68    |[sophisticated, mix, mineral,, acid, tart, fruits,, seductive, effort, pleases, start, finish., supple, dense,, got, strawberry,, blueberry,, plum, black, cherry,, touch, chocolate,, underlying, streak, mineral., elements, good, proportion, finish, appealing, silky, texture., delicious, already,, give, another, decade, full, enjoyment., drink, 2028.]                    |\n",
            "|15 |US     |First made in 2006, this succulent luscious Chardonnay is all about minerality. It's got a rich core of butterscotch and the seemingly endless layers of subtle flavors that biodynamic farming can bring. It spends 18 months on the lees prior to bottling. Drink now through 2028.                                                                                                                                                      |Sigrid                              |95    |90.0 |Oregon            |Willamette Valley        |Chardonnay        |Bergström              |[first, made, in, 2006,, this, succulent, luscious, chardonnay, is, all, about, minerality., it's, got, a, rich, core, of, butterscotch, and, the, seemingly, endless, layers, of, subtle, flavors, that, biodynamic, farming, can, bring., it, spends, 18, months, on, the, lees, prior, to, bottling., drink, now, through, 2028.]                                                                                                                                                                            |46    |[first, made, 2006,, succulent, luscious, chardonnay, minerality., got, rich, core, butterscotch, seemingly, endless, layers, subtle, flavors, biodynamic, farming, bring., spends, 18, months, lees, prior, bottling., drink, 2028.]                                                                                                                                               |\n",
            "|16 |US     |This blockbuster, powerhouse of a wine suggests blueberry pie and chocolate as it opens in the glass. On the palate, it's smooth and seductively silky, offering complex cedar, peppercorn and peppery oak seasonings amidst its dense richness. It finishes with finesse and spice.                                                                                                                                                       |Rainin Vineyard                     |95    |325.0|California        |Diamond Mountain District|Cabernet Sauvignon|Hall                   |[this, blockbuster,, powerhouse, of, a, wine, suggests, blueberry, pie, and, chocolate, as, it, opens, in, the, glass., on, the, palate,, it's, smooth, and, seductively, silky,, offering, complex, cedar,, peppercorn, and, peppery, oak, seasonings, amidst, its, dense, richness., it, finishes, with, finesse, and, spice.]                                                                                                                                                                                |43    |[blockbuster,, powerhouse, wine, suggests, blueberry, pie, chocolate, opens, glass., palate,, smooth, seductively, silky,, offering, complex, cedar,, peppercorn, peppery, oak, seasonings, amidst, dense, richness., finishes, finesse, spice.]                                                                                                                                    |\n",
            "|17 |Spain  |Nicely oaked blackberry, licorice, vanilla and charred aromas are smooth and sultry. This is an outstanding wine from an excellent year. Forward barrel-spice and mocha flavors adorn core blackberry and raspberry fruit, while this runs long and tastes vaguely chocolaty on the velvety finish. Enjoy this top-notch Tempranillo through 2030.                                                                                         |6 Años Reserva Premium              |95    |80.0 |Northern Spain    |Ribera del Duero         |Tempranillo       |Valduero               |[nicely, oaked, blackberry,, licorice,, vanilla, and, charred, aromas, are, smooth, and, sultry., this, is, an, outstanding, wine, from, an, excellent, year., forward, barrel-spice, and, mocha, flavors, adorn, core, blackberry, and, raspberry, fruit,, while, this, runs, long, and, tastes, vaguely, chocolaty, on, the, velvety, finish., enjoy, this, top-notch, tempranillo, through, 2030.]                                                                                                           |50    |[nicely, oaked, blackberry,, licorice,, vanilla, charred, aromas, smooth, sultry., outstanding, wine, excellent, year., forward, barrel-spice, mocha, flavors, adorn, core, blackberry, raspberry, fruit,, runs, long, tastes, vaguely, chocolaty, velvety, finish., enjoy, top-notch, tempranillo, 2030.]                                                                          |\n",
            "|18 |France |Coming from a seven-acre vineyard named after the dovecote on the property, this is a magnificent wine. Powered by both fruit tannins and the 28 months of new wood aging, it is darkly rich and with great concentration. As a sign of its pedigree, there is also elegance here, a restraint which is new to this wine. That makes it a wine for long-term aging. Drink from 2022.                                                       |Le Pigeonnier                       |95    |290.0|Southwest France  |Cahors                   |Malbec            |Château Lagrézette     |[coming, from, a, seven-acre, vineyard, named, after, the, dovecote, on, the, property,, this, is, a, magnificent, wine., powered, by, both, fruit, tannins, and, the, 28, months, of, new, wood, aging,, it, is, darkly, rich, and, with, great, concentration., as, a, sign, of, its, pedigree,, there, is, also, elegance, here,, a, restraint, which, is, new, to, this, wine., that, makes, it, a, wine, for, long-term, aging., drink, from, 2022.]                                                       |68    |[coming, seven-acre, vineyard, named, dovecote, property,, magnificent, wine., powered, fruit, tannins, 28, months, new, wood, aging,, darkly, rich, great, concentration., sign, pedigree,, also, elegance, here,, restraint, new, wine., makes, wine, long-term, aging., drink, 2022.]                                                                                            |\n",
            "|19 |US     |This fresh and lively medium-bodied wine is beautifully crafted, with cherry blossom aromas and tangy acidity. Layered and seductive, it offers a crisp mix of orange peel, cherry, pomegranate and baking spice flavors that are ready for the table or the cellar.                                                                                                                                                                       |Gap's Crown Vineyard                |95    |75.0 |California        |Sonoma Coast             |Pinot Noir        |Gary Farrell           |[this, fresh, and, lively, medium-bodied, wine, is, beautifully, crafted,, with, cherry, blossom, aromas, and, tangy, acidity., layered, and, seductive,, it, offers, a, crisp, mix, of, orange, peel,, cherry,, pomegranate, and, baking, spice, flavors, that, are, ready, for, the, table, or, the, cellar.]                                                                                                                                                                                                 |42    |[fresh, lively, medium-bodied, wine, beautifully, crafted,, cherry, blossom, aromas, tangy, acidity., layered, seductive,, offers, crisp, mix, orange, peel,, cherry,, pomegranate, baking, spice, flavors, ready, table, cellar.]                                                                                                                                                  |\n",
            "+---+-------+-------------------------------------------------------------------------------------------------------------------------------------------------------------------------------------------------------------------------------------------------------------------------------------------------------------------------------------------------------------------------------------------------------------------------------------------+------------------------------------+------+-----+------------------+-------------------------+------------------+-----------------------+----------------------------------------------------------------------------------------------------------------------------------------------------------------------------------------------------------------------------------------------------------------------------------------------------------------------------------------------------------------------------------------------------------------------------------------------------------------------------------------------------------------+------+------------------------------------------------------------------------------------------------------------------------------------------------------------------------------------------------------------------------------------------------------------------------------------------------------------------------------------------------------------------------------------+\n",
            "only showing top 20 rows\n",
            "\n"
          ],
          "name": "stdout"
        }
      ]
    },
    {
      "cell_type": "code",
      "metadata": {
        "colab": {
          "base_uri": "https://localhost:8080/"
        },
        "id": "i0pgtDb461kG",
        "outputId": "c203aadf-cbff-41e4-91db-59db0e92a680"
      },
      "source": [
        "# Select the needed column and don't truncate results\n",
        "filtered_tokens_df = removed_df.withColumn(\"filtered_tokens\", count_tokens(col(\"filtered\")))\n",
        "filtered_tokens_df.show(truncate=False)"
      ],
      "execution_count": null,
      "outputs": [
        {
          "output_type": "stream",
          "text": [
            "+---+-------+-------------------------------------------------------------------------------------------------------------------------------------------------------------------------------------------------------------------------------------------------------------------------------------------------------------------------------------------------------------------------------------------------------------------------------------------+------------------------------------+------+-----+------------------+-------------------------+------------------+-----------------------+----------------------------------------------------------------------------------------------------------------------------------------------------------------------------------------------------------------------------------------------------------------------------------------------------------------------------------------------------------------------------------------------------------------------------------------------------------------------------------------------------------------+------+------------------------------------------------------------------------------------------------------------------------------------------------------------------------------------------------------------------------------------------------------------------------------------------------------------------------------------------------------------------------------------+---------------+\n",
            "|_c0|country|description                                                                                                                                                                                                                                                                                                                                                                                                                                |designation                         |points|price|province          |region_1                 |variety           |winery                 |words                                                                                                                                                                                                                                                                                                                                                                                                                                                                                                           |tokens|filtered                                                                                                                                                                                                                                                                                                                                                                            |filtered_tokens|\n",
            "+---+-------+-------------------------------------------------------------------------------------------------------------------------------------------------------------------------------------------------------------------------------------------------------------------------------------------------------------------------------------------------------------------------------------------------------------------------------------------+------------------------------------+------+-----+------------------+-------------------------+------------------+-----------------------+----------------------------------------------------------------------------------------------------------------------------------------------------------------------------------------------------------------------------------------------------------------------------------------------------------------------------------------------------------------------------------------------------------------------------------------------------------------------------------------------------------------+------+------------------------------------------------------------------------------------------------------------------------------------------------------------------------------------------------------------------------------------------------------------------------------------------------------------------------------------------------------------------------------------+---------------+\n",
            "|0  |US     |This tremendous 100% varietal wine hails from Oakville and was aged over three years in oak. Juicy red-cherry fruit and a compelling hint of caramel greet the palate, framed by elegant, fine tannins and a subtle minty tone in the background. Balanced and rewarding from start to finish, it has years ahead of it to develop further nuance. Enjoy 2022–2030.                                                                        |Martha's Vineyard                   |96    |235.0|California        |Napa Valley              |Cabernet Sauvignon|Heitz                  |[this, tremendous, 100%, varietal, wine, hails, from, oakville, and, was, aged, over, three, years, in, oak., juicy, red-cherry, fruit, and, a, compelling, hint, of, caramel, greet, the, palate,, framed, by, elegant,, fine, tannins, and, a, subtle, minty, tone, in, the, background., balanced, and, rewarding, from, start, to, finish,, it, has, years, ahead, of, it, to, develop, further, nuance., enjoy, 2022–2030.]                                                                                |60    |[tremendous, 100%, varietal, wine, hails, oakville, aged, three, years, oak., juicy, red-cherry, fruit, compelling, hint, caramel, greet, palate,, framed, elegant,, fine, tannins, subtle, minty, tone, background., balanced, rewarding, start, finish,, years, ahead, develop, nuance., enjoy, 2022–2030.]                                                                       |36             |\n",
            "|1  |Spain  |Ripe aromas of fig, blackberry and cassis are softened and sweetened by a slathering of oaky chocolate and vanilla. This is full, layered, intense and cushioned on the palate, with rich flavors of chocolaty black fruits and baking spices. A toasty, everlasting finish is heady but ideally balanced. Drink through 2023.                                                                                                             |Carodorum Selección Especial Reserva|96    |110.0|Northern Spain    |Toro                     |Tinta de Toro     |Bodega Carmen Rodríguez|[ripe, aromas, of, fig,, blackberry, and, cassis, are, softened, and, sweetened, by, a, slathering, of, oaky, chocolate, and, vanilla., this, is, full,, layered,, intense, and, cushioned, on, the, palate,, with, rich, flavors, of, chocolaty, black, fruits, and, baking, spices., a, toasty,, everlasting, finish, is, heady, but, ideally, balanced., drink, through, 2023.]                                                                                                                              |51    |[ripe, aromas, fig,, blackberry, cassis, softened, sweetened, slathering, oaky, chocolate, vanilla., full,, layered,, intense, cushioned, palate,, rich, flavors, chocolaty, black, fruits, baking, spices., toasty,, everlasting, finish, heady, ideally, balanced., drink, 2023.]                                                                                                 |31             |\n",
            "|2  |US     |Mac Watson honors the memory of a wine once made by his mother in this tremendously delicious, balanced and complex botrytised white. Dark gold in color, it layers toasted hazelnut, pear compote and orange peel flavors, reveling in the succulence of its 122 g/L of residual sugar.                                                                                                                                                   |Special Selected Late Harvest       |96    |90.0 |California        |Knights Valley           |Sauvignon Blanc   |Macauley               |[mac, watson, honors, the, memory, of, a, wine, once, made, by, his, mother, in, this, tremendously, delicious,, balanced, and, complex, botrytised, white., dark, gold, in, color,, it, layers, toasted, hazelnut,, pear, compote, and, orange, peel, flavors,, reveling, in, the, succulence, of, its, 122, g/l, of, residual, sugar.]                                                                                                                                                                        |47    |[mac, watson, honors, memory, wine, made, mother, tremendously, delicious,, balanced, complex, botrytised, white., dark, gold, color,, layers, toasted, hazelnut,, pear, compote, orange, peel, flavors,, reveling, succulence, 122, g/l, residual, sugar.]                                                                                                                         |30             |\n",
            "|3  |US     |This spent 20 months in 30% new French oak, and incorporates fruit from Ponzi's Aurora, Abetina and Madrona vineyards, among others. Aromatic, dense and toasty, it deftly blends aromas and flavors of toast, cigar box, blackberry, black cherry, coffee and graphite. Tannins are polished to a fine sheen, and frame a finish loaded with dark chocolate and espresso. Drink now through 2032.                                         |Reserve                             |96    |65.0 |Oregon            |Willamette Valley        |Pinot Noir        |Ponzi                  |[this, spent, 20, months, in, 30%, new, french, oak,, and, incorporates, fruit, from, ponzi's, aurora,, abetina, and, madrona, vineyards,, among, others., aromatic,, dense, and, toasty,, it, deftly, blends, aromas, and, flavors, of, toast,, cigar, box,, blackberry,, black, cherry,, coffee, and, graphite., tannins, are, polished, to, a, fine, sheen,, and, frame, a, finish, loaded, with, dark, chocolate, and, espresso., drink, now, through, 2032.]                                               |62    |[spent, 20, months, 30%, new, french, oak,, incorporates, fruit, ponzi's, aurora,, abetina, madrona, vineyards,, among, others., aromatic,, dense, toasty,, deftly, blends, aromas, flavors, toast,, cigar, box,, blackberry,, black, cherry,, coffee, graphite., tannins, polished, fine, sheen,, frame, finish, loaded, dark, chocolate, espresso., drink, 2032.]                 |43             |\n",
            "|4  |France |This is the top wine from La Bégude, named after the highest point in the vineyard at 1200 feet. It has structure, density and considerable acidity that is still calming down. With 18 months in wood, the wine has developing an extra richness and concentration. Produced by the Tari family, formerly of Château Giscours in Margaux, it is a wine made for aging. Drink from 2020.                                                   |La Brûlade                          |95    |66.0 |Provence          |Bandol                   |Provence red blend|Domaine de la Bégude   |[this, is, the, top, wine, from, la, bégude,, named, after, the, highest, point, in, the, vineyard, at, 1200, feet., it, has, structure,, density, and, considerable, acidity, that, is, still, calming, down., with, 18, months, in, wood,, the, wine, has, developing, an, extra, richness, and, concentration., produced, by, the, tari, family,, formerly, of, château, giscours, in, margaux,, it, is, a, wine, made, for, aging., drink, from, 2020.]                                                     |66    |[top, wine, la, bégude,, named, highest, point, vineyard, 1200, feet., structure,, density, considerable, acidity, still, calming, down., 18, months, wood,, wine, developing, extra, richness, concentration., produced, tari, family,, formerly, château, giscours, margaux,, wine, made, aging., drink, 2020.]                                                                   |37             |\n",
            "|5  |Spain  |Deep, dense and pure from the opening bell, this Toro is a winner. Aromas of dark ripe black fruits are cool and moderately oaked. This feels massive on the palate but sensationally balanced. Flavors of blackberry, coffee, mocha and toasty oak finish spicy, smooth and heady. Drink this exemplary Toro through 2023.                                                                                                                |Numanthia                           |95    |73.0 |Northern Spain    |Toro                     |Tinta de Toro     |Numanthia              |[deep,, dense, and, pure, from, the, opening, bell,, this, toro, is, a, winner., aromas, of, dark, ripe, black, fruits, are, cool, and, moderately, oaked., this, feels, massive, on, the, palate, but, sensationally, balanced., flavors, of, blackberry,, coffee,, mocha, and, toasty, oak, finish, spicy,, smooth, and, heady., drink, this, exemplary, toro, through, 2023.]                                                                                                                                |52    |[deep,, dense, pure, opening, bell,, toro, winner., aromas, dark, ripe, black, fruits, cool, moderately, oaked., feels, massive, palate, sensationally, balanced., flavors, blackberry,, coffee,, mocha, toasty, oak, finish, spicy,, smooth, heady., drink, exemplary, toro, 2023.]                                                                                                |34             |\n",
            "|6  |Spain  |Slightly gritty black-fruit aromas include a sweet note of pastry along with a hint of prune. Wall-to-wall saturation ensures that all corners of one's mouth are covered. Flavors of blackberry, mocha and chocolate are highly impressive and expressive, while this settles nicely on a long finish. Drink now through 2024.                                                                                                            |San Román                           |95    |65.0 |Northern Spain    |Toro                     |Tinta de Toro     |Maurodos               |[slightly, gritty, black-fruit, aromas, include, a, sweet, note, of, pastry, along, with, a, hint, of, prune., wall-to-wall, saturation, ensures, that, all, corners, of, one's, mouth, are, covered., flavors, of, blackberry,, mocha, and, chocolate, are, highly, impressive, and, expressive,, while, this, settles, nicely, on, a, long, finish., drink, now, through, 2024.]                                                                                                                              |50    |[slightly, gritty, black-fruit, aromas, include, sweet, note, pastry, along, hint, prune., wall-to-wall, saturation, ensures, corners, one's, mouth, covered., flavors, blackberry,, mocha, chocolate, highly, impressive, expressive,, settles, nicely, long, finish., drink, 2024.]                                                                                               |31             |\n",
            "|7  |Spain  |Lush cedary black-fruit aromas are luxe and offer notes of marzipan and vanilla. This bruiser is massive and tannic on the palate, but still lush and friendly. Chocolate is a key flavor, while baked berry and cassis flavors are hardly wallflowers. On the finish, this is tannic and deep as a sea trench. Drink this saturated black-colored Toro through 2023.                                                                      |Carodorum Único Crianza             |95    |110.0|Northern Spain    |Toro                     |Tinta de Toro     |Bodega Carmen Rodríguez|[lush, cedary, black-fruit, aromas, are, luxe, and, offer, notes, of, marzipan, and, vanilla., this, bruiser, is, massive, and, tannic, on, the, palate,, but, still, lush, and, friendly., chocolate, is, a, key, flavor,, while, baked, berry, and, cassis, flavors, are, hardly, wallflowers., on, the, finish,, this, is, tannic, and, deep, as, a, sea, trench., drink, this, saturated, black-colored, toro, through, 2023.]                                                                              |60    |[lush, cedary, black-fruit, aromas, luxe, offer, notes, marzipan, vanilla., bruiser, massive, tannic, palate,, still, lush, friendly., chocolate, key, flavor,, baked, berry, cassis, flavors, hardly, wallflowers., finish,, tannic, deep, sea, trench., drink, saturated, black-colored, toro, 2023.]                                                                             |35             |\n",
            "|8  |US     |This re-named vineyard was formerly bottled as deLancellotti. You'll find striking minerality underscoring chunky black fruits. Accents of citrus and graphite comingle, with exceptional midpalate concentration. This is a wine to cellar, though it is already quite enjoyable. Drink now through 2030.                                                                                                                                 |Silice                              |95    |65.0 |Oregon            |Chehalem Mountains       |Pinot Noir        |Bergström              |[this, re-named, vineyard, was, formerly, bottled, as, delancellotti., you'll, find, striking, minerality, underscoring, chunky, black, fruits., accents, of, citrus, and, graphite, comingle,, with, exceptional, midpalate, concentration., this, is, a, wine, to, cellar,, though, it, is, already, quite, enjoyable., drink, now, through, 2030.]                                                                                                                                                           |42    |[re-named, vineyard, formerly, bottled, delancellotti., find, striking, minerality, underscoring, chunky, black, fruits., accents, citrus, graphite, comingle,, exceptional, midpalate, concentration., wine, cellar,, though, already, quite, enjoyable., drink, 2030.]                                                                                                            |27             |\n",
            "|9  |US     |The producer sources from two blocks of the vineyard for this wine—one at a high elevation, which contributes bright acidity. Crunchy cranberry, pomegranate and orange peel flavors surround silky, succulent layers of texture that present as fleshy fruit. That delicately lush flavor has considerable length.                                                                                                                        |Gap's Crown Vineyard                |95    |60.0 |California        |Sonoma Coast             |Pinot Noir        |Blue Farm              |[the, producer, sources, from, two, blocks, of, the, vineyard, for, this, wine—one, at, a, high, elevation,, which, contributes, bright, acidity., crunchy, cranberry,, pomegranate, and, orange, peel, flavors, surround, silky,, succulent, layers, of, texture, that, present, as, fleshy, fruit., that, delicately, lush, flavor, has, considerable, length.]                                                                                                                                               |45    |[producer, sources, two, blocks, vineyard, wine—one, high, elevation,, contributes, bright, acidity., crunchy, cranberry,, pomegranate, orange, peel, flavors, surround, silky,, succulent, layers, texture, present, fleshy, fruit., delicately, lush, flavor, considerable, length.]                                                                                              |30             |\n",
            "|10 |Italy  |Elegance, complexity and structure come together in this drop-dead gorgeous winethat ranks among Italy's greatest whites. It opens with sublime yellow spring flower, aromatic herb and orchard fruit scents. The creamy, delicious palate seamlessly combines juicy white peach, ripe pear and citrus flavors while white almond and savory mineral notes grace the lingering finish.                                                     |Ronco della Chiesa                  |95    |80.0 |Northeastern Italy|Collio                   |Friulano          |Borgo del Tiglio       |[elegance,, complexity, and, structure, come, together, in, this, drop-dead, gorgeous, winethat, ranks, among, italy's, greatest, whites., it, opens, with, sublime, yellow, spring, flower,, aromatic, herb, and, orchard, fruit, scents., the, creamy,, delicious, palate, seamlessly, combines, juicy, white, peach,, ripe, pear, and, citrus, flavors, while, white, almond, and, savory, mineral, notes, grace, the, lingering, finish.]                                                                   |54    |[elegance,, complexity, structure, come, together, drop-dead, gorgeous, winethat, ranks, among, italy's, greatest, whites., opens, sublime, yellow, spring, flower,, aromatic, herb, orchard, fruit, scents., creamy,, delicious, palate, seamlessly, combines, juicy, white, peach,, ripe, pear, citrus, flavors, white, almond, savory, mineral, notes, grace, lingering, finish.]|43             |\n",
            "|11 |US     |From 18-year-old vines, this supple well-balanced effort blends flavors of mocha, cherry, vanilla and breakfast tea. Superbly integrated and delicious even at this early stage, this wine seems destined for a long and savory cellar life. Drink now through 2028.                                                                                                                                                                       |Estate Vineyard Wadensvil Block     |95    |48.0 |Oregon            |Ribbon Ridge             |Pinot Noir        |Patricia Green Cellars |[from, 18-year-old, vines,, this, supple, well-balanced, effort, blends, flavors, of, mocha,, cherry,, vanilla, and, breakfast, tea., superbly, integrated, and, delicious, even, at, this, early, stage,, this, wine, seems, destined, for, a, long, and, savory, cellar, life., drink, now, through, 2028.]                                                                                                                                                                                                   |40    |[18-year-old, vines,, supple, well-balanced, effort, blends, flavors, mocha,, cherry,, vanilla, breakfast, tea., superbly, integrated, delicious, even, early, stage,, wine, seems, destined, long, savory, cellar, life., drink, 2028.]                                                                                                                                            |27             |\n",
            "|12 |US     |A standout even in this terrific lineup of 2015 releases from Patricia Green, the Weber opens with a burst of cola and tobacco scents and accents. It continues, subtle and detailed, with flavors of oranges, vanilla, tea and milk chocolate discreetly threaded through ripe blackberry fruit.                                                                                                                                          |Weber Vineyard                      |95    |48.0 |Oregon            |Dundee Hills             |Pinot Noir        |Patricia Green Cellars |[a, standout, even, in, this, terrific, lineup, of, 2015, releases, from, patricia, green,, the, weber, opens, with, a, burst, of, cola, and, tobacco, scents, and, accents., it, continues,, subtle, and, detailed,, with, flavors, of, oranges,, vanilla,, tea, and, milk, chocolate, discreetly, threaded, through, ripe, blackberry, fruit.]                                                                                                                                                                |46    |[standout, even, terrific, lineup, 2015, releases, patricia, green,, weber, opens, burst, cola, tobacco, scents, accents., continues,, subtle, detailed,, flavors, oranges,, vanilla,, tea, milk, chocolate, discreetly, threaded, ripe, blackberry, fruit.]                                                                                                                        |29             |\n",
            "|13 |France |This wine is in peak condition. The tannins and the secondary flavors dominate this ripe leather-textured wine. The fruit is all there as well: dried berries and hints of black-plum skins. It is a major wine right at the point of drinking with both the mature flavors and the fruit in the right balance.                                                                                                                            |Château Montus Prestige             |95    |90.0 |Southwest France  |Madiran                  |Tannat            |Vignobles Brumont      |[this, wine, is, in, peak, condition., the, tannins, and, the, secondary, flavors, dominate, this, ripe, leather-textured, wine., the, fruit, is, all, there, as, well:, dried, berries, and, hints, of, black-plum, skins., it, is, a, major, wine, right, at, the, point, of, drinking, with, both, the, mature, flavors, and, the, fruit, in, the, right, balance.]                                                                                                                                          |54    |[wine, peak, condition., tannins, secondary, flavors, dominate, ripe, leather-textured, wine., fruit, well:, dried, berries, hints, black-plum, skins., major, wine, right, point, drinking, mature, flavors, fruit, right, balance.]                                                                                                                                               |27             |\n",
            "|14 |US     |With its sophisticated mix of mineral, acid and tart fruits, this seductive effort pleases from start to finish. Supple and dense, it's got strawberry, blueberry, plum and black cherry, a touch of chocolate, and that underlying streak of mineral. All these elements are in good proportion and finish with an appealing silky texture. It's delicious already, but give it another decade for full enjoyment. Drink now through 2028.|Grace Vineyard                      |95    |185.0|Oregon            |Dundee Hills             |Pinot Noir        |Domaine Serene         |[with, its, sophisticated, mix, of, mineral,, acid, and, tart, fruits,, this, seductive, effort, pleases, from, start, to, finish., supple, and, dense,, it's, got, strawberry,, blueberry,, plum, and, black, cherry,, a, touch, of, chocolate,, and, that, underlying, streak, of, mineral., all, these, elements, are, in, good, proportion, and, finish, with, an, appealing, silky, texture., it's, delicious, already,, but, give, it, another, decade, for, full, enjoyment., drink, now, through, 2028.]|68    |[sophisticated, mix, mineral,, acid, tart, fruits,, seductive, effort, pleases, start, finish., supple, dense,, got, strawberry,, blueberry,, plum, black, cherry,, touch, chocolate,, underlying, streak, mineral., elements, good, proportion, finish, appealing, silky, texture., delicious, already,, give, another, decade, full, enjoyment., drink, 2028.]                    |40             |\n",
            "|15 |US     |First made in 2006, this succulent luscious Chardonnay is all about minerality. It's got a rich core of butterscotch and the seemingly endless layers of subtle flavors that biodynamic farming can bring. It spends 18 months on the lees prior to bottling. Drink now through 2028.                                                                                                                                                      |Sigrid                              |95    |90.0 |Oregon            |Willamette Valley        |Chardonnay        |Bergström              |[first, made, in, 2006,, this, succulent, luscious, chardonnay, is, all, about, minerality., it's, got, a, rich, core, of, butterscotch, and, the, seemingly, endless, layers, of, subtle, flavors, that, biodynamic, farming, can, bring., it, spends, 18, months, on, the, lees, prior, to, bottling., drink, now, through, 2028.]                                                                                                                                                                            |46    |[first, made, 2006,, succulent, luscious, chardonnay, minerality., got, rich, core, butterscotch, seemingly, endless, layers, subtle, flavors, biodynamic, farming, bring., spends, 18, months, lees, prior, bottling., drink, 2028.]                                                                                                                                               |27             |\n",
            "|16 |US     |This blockbuster, powerhouse of a wine suggests blueberry pie and chocolate as it opens in the glass. On the palate, it's smooth and seductively silky, offering complex cedar, peppercorn and peppery oak seasonings amidst its dense richness. It finishes with finesse and spice.                                                                                                                                                       |Rainin Vineyard                     |95    |325.0|California        |Diamond Mountain District|Cabernet Sauvignon|Hall                   |[this, blockbuster,, powerhouse, of, a, wine, suggests, blueberry, pie, and, chocolate, as, it, opens, in, the, glass., on, the, palate,, it's, smooth, and, seductively, silky,, offering, complex, cedar,, peppercorn, and, peppery, oak, seasonings, amidst, its, dense, richness., it, finishes, with, finesse, and, spice.]                                                                                                                                                                                |43    |[blockbuster,, powerhouse, wine, suggests, blueberry, pie, chocolate, opens, glass., palate,, smooth, seductively, silky,, offering, complex, cedar,, peppercorn, peppery, oak, seasonings, amidst, dense, richness., finishes, finesse, spice.]                                                                                                                                    |26             |\n",
            "|17 |Spain  |Nicely oaked blackberry, licorice, vanilla and charred aromas are smooth and sultry. This is an outstanding wine from an excellent year. Forward barrel-spice and mocha flavors adorn core blackberry and raspberry fruit, while this runs long and tastes vaguely chocolaty on the velvety finish. Enjoy this top-notch Tempranillo through 2030.                                                                                         |6 Años Reserva Premium              |95    |80.0 |Northern Spain    |Ribera del Duero         |Tempranillo       |Valduero               |[nicely, oaked, blackberry,, licorice,, vanilla, and, charred, aromas, are, smooth, and, sultry., this, is, an, outstanding, wine, from, an, excellent, year., forward, barrel-spice, and, mocha, flavors, adorn, core, blackberry, and, raspberry, fruit,, while, this, runs, long, and, tastes, vaguely, chocolaty, on, the, velvety, finish., enjoy, this, top-notch, tempranillo, through, 2030.]                                                                                                           |50    |[nicely, oaked, blackberry,, licorice,, vanilla, charred, aromas, smooth, sultry., outstanding, wine, excellent, year., forward, barrel-spice, mocha, flavors, adorn, core, blackberry, raspberry, fruit,, runs, long, tastes, vaguely, chocolaty, velvety, finish., enjoy, top-notch, tempranillo, 2030.]                                                                          |33             |\n",
            "|18 |France |Coming from a seven-acre vineyard named after the dovecote on the property, this is a magnificent wine. Powered by both fruit tannins and the 28 months of new wood aging, it is darkly rich and with great concentration. As a sign of its pedigree, there is also elegance here, a restraint which is new to this wine. That makes it a wine for long-term aging. Drink from 2022.                                                       |Le Pigeonnier                       |95    |290.0|Southwest France  |Cahors                   |Malbec            |Château Lagrézette     |[coming, from, a, seven-acre, vineyard, named, after, the, dovecote, on, the, property,, this, is, a, magnificent, wine., powered, by, both, fruit, tannins, and, the, 28, months, of, new, wood, aging,, it, is, darkly, rich, and, with, great, concentration., as, a, sign, of, its, pedigree,, there, is, also, elegance, here,, a, restraint, which, is, new, to, this, wine., that, makes, it, a, wine, for, long-term, aging., drink, from, 2022.]                                                       |68    |[coming, seven-acre, vineyard, named, dovecote, property,, magnificent, wine., powered, fruit, tannins, 28, months, new, wood, aging,, darkly, rich, great, concentration., sign, pedigree,, also, elegance, here,, restraint, new, wine., makes, wine, long-term, aging., drink, 2022.]                                                                                            |34             |\n",
            "|19 |US     |This fresh and lively medium-bodied wine is beautifully crafted, with cherry blossom aromas and tangy acidity. Layered and seductive, it offers a crisp mix of orange peel, cherry, pomegranate and baking spice flavors that are ready for the table or the cellar.                                                                                                                                                                       |Gap's Crown Vineyard                |95    |75.0 |California        |Sonoma Coast             |Pinot Noir        |Gary Farrell           |[this, fresh, and, lively, medium-bodied, wine, is, beautifully, crafted,, with, cherry, blossom, aromas, and, tangy, acidity., layered, and, seductive,, it, offers, a, crisp, mix, of, orange, peel,, cherry,, pomegranate, and, baking, spice, flavors, that, are, ready, for, the, table, or, the, cellar.]                                                                                                                                                                                                 |42    |[fresh, lively, medium-bodied, wine, beautifully, crafted,, cherry, blossom, aromas, tangy, acidity., layered, seductive,, offers, crisp, mix, orange, peel,, cherry,, pomegranate, baking, spice, flavors, ready, table, cellar.]                                                                                                                                                  |26             |\n",
            "+---+-------+-------------------------------------------------------------------------------------------------------------------------------------------------------------------------------------------------------------------------------------------------------------------------------------------------------------------------------------------------------------------------------------------------------------------------------------------+------------------------------------+------+-----+------------------+-------------------------+------------------+-----------------------+----------------------------------------------------------------------------------------------------------------------------------------------------------------------------------------------------------------------------------------------------------------------------------------------------------------------------------------------------------------------------------------------------------------------------------------------------------------------------------------------------------------+------+------------------------------------------------------------------------------------------------------------------------------------------------------------------------------------------------------------------------------------------------------------------------------------------------------------------------------------------------------------------------------------+---------------+\n",
            "only showing top 20 rows\n",
            "\n"
          ],
          "name": "stdout"
        }
      ]
    },
    {
      "cell_type": "code",
      "metadata": {
        "colab": {
          "base_uri": "https://localhost:8080/"
        },
        "id": "FFqhs7fp73WM",
        "outputId": "e71d1c5d-e26a-4719-bb65-9803e9e8c5c1"
      },
      "source": [
        "# Run the hashing term frequency\n",
        "hashing = HashingTF(inputCol=\"filtered\", outputCol=\"hashedValues\", numFeatures=pow(2,18))\n",
        "\n",
        "# Transform into a DF\n",
        "hashed_df = hashing.transform(filtered_tokens_df)\n",
        "hashed_df.show(truncate=False)"
      ],
      "execution_count": null,
      "outputs": [
        {
          "output_type": "stream",
          "text": [
            "+---+-------+-------------------------------------------------------------------------------------------------------------------------------------------------------------------------------------------------------------------------------------------------------------------------------------------------------------------------------------------------------------------------------------------------------------------------------------------+------------------------------------+------+-----+------------------+-------------------------+------------------+-----------------------+----------------------------------------------------------------------------------------------------------------------------------------------------------------------------------------------------------------------------------------------------------------------------------------------------------------------------------------------------------------------------------------------------------------------------------------------------------------------------------------------------------------+------+------------------------------------------------------------------------------------------------------------------------------------------------------------------------------------------------------------------------------------------------------------------------------------------------------------------------------------------------------------------------------------+---------------+-----------------------------------------------------------------------------------------------------------------------------------------------------------------------------------------------------------------------------------------------------------------------------------------------------------------------------------------------------------------------------------------------------------------------------------------------------------------------------------+\n",
            "|_c0|country|description                                                                                                                                                                                                                                                                                                                                                                                                                                |designation                         |points|price|province          |region_1                 |variety           |winery                 |words                                                                                                                                                                                                                                                                                                                                                                                                                                                                                                           |tokens|filtered                                                                                                                                                                                                                                                                                                                                                                            |filtered_tokens|hashedValues                                                                                                                                                                                                                                                                                                                                                                                                                                                                       |\n",
            "+---+-------+-------------------------------------------------------------------------------------------------------------------------------------------------------------------------------------------------------------------------------------------------------------------------------------------------------------------------------------------------------------------------------------------------------------------------------------------+------------------------------------+------+-----+------------------+-------------------------+------------------+-----------------------+----------------------------------------------------------------------------------------------------------------------------------------------------------------------------------------------------------------------------------------------------------------------------------------------------------------------------------------------------------------------------------------------------------------------------------------------------------------------------------------------------------------+------+------------------------------------------------------------------------------------------------------------------------------------------------------------------------------------------------------------------------------------------------------------------------------------------------------------------------------------------------------------------------------------+---------------+-----------------------------------------------------------------------------------------------------------------------------------------------------------------------------------------------------------------------------------------------------------------------------------------------------------------------------------------------------------------------------------------------------------------------------------------------------------------------------------+\n",
            "|0  |US     |This tremendous 100% varietal wine hails from Oakville and was aged over three years in oak. Juicy red-cherry fruit and a compelling hint of caramel greet the palate, framed by elegant, fine tannins and a subtle minty tone in the background. Balanced and rewarding from start to finish, it has years ahead of it to develop further nuance. Enjoy 2022–2030.                                                                        |Martha's Vineyard                   |96    |235.0|California        |Napa Valley              |Cabernet Sauvignon|Heitz                  |[this, tremendous, 100%, varietal, wine, hails, from, oakville, and, was, aged, over, three, years, in, oak., juicy, red-cherry, fruit, and, a, compelling, hint, of, caramel, greet, the, palate,, framed, by, elegant,, fine, tannins, and, a, subtle, minty, tone, in, the, background., balanced, and, rewarding, from, start, to, finish,, it, has, years, ahead, of, it, to, develop, further, nuance., enjoy, 2022–2030.]                                                                                |60    |[tremendous, 100%, varietal, wine, hails, oakville, aged, three, years, oak., juicy, red-cherry, fruit, compelling, hint, caramel, greet, palate,, framed, elegant,, fine, tannins, subtle, minty, tone, background., balanced, rewarding, start, finish,, years, ahead, develop, nuance., enjoy, 2022–2030.]                                                                       |36             |(262144,[2701,16004,23236,28401,33079,39068,45330,46582,63420,66669,75898,76106,87005,96005,100312,125177,125919,135627,141911,143299,146696,158571,158931,163760,164837,171917,185760,200144,203214,212284,219145,223329,241246,245951,261211],[1.0,1.0,1.0,1.0,1.0,1.0,1.0,1.0,1.0,1.0,1.0,2.0,1.0,1.0,1.0,1.0,1.0,1.0,1.0,1.0,1.0,1.0,1.0,1.0,1.0,1.0,1.0,1.0,1.0,1.0,1.0,1.0,1.0,1.0,1.0])                                                                                     |\n",
            "|1  |Spain  |Ripe aromas of fig, blackberry and cassis are softened and sweetened by a slathering of oaky chocolate and vanilla. This is full, layered, intense and cushioned on the palate, with rich flavors of chocolaty black fruits and baking spices. A toasty, everlasting finish is heady but ideally balanced. Drink through 2023.                                                                                                             |Carodorum Selección Especial Reserva|96    |110.0|Northern Spain    |Toro                     |Tinta de Toro     |Bodega Carmen Rodríguez|[ripe, aromas, of, fig,, blackberry, and, cassis, are, softened, and, sweetened, by, a, slathering, of, oaky, chocolate, and, vanilla., this, is, full,, layered,, intense, and, cushioned, on, the, palate,, with, rich, flavors, of, chocolaty, black, fruits, and, baking, spices., a, toasty,, everlasting, finish, is, heady, but, ideally, balanced., drink, through, 2023.]                                                                                                                              |51    |[ripe, aromas, fig,, blackberry, cassis, softened, sweetened, slathering, oaky, chocolate, vanilla., full,, layered,, intense, cushioned, palate,, rich, flavors, chocolaty, black, fruits, baking, spices., toasty,, everlasting, finish, heady, ideally, balanced., drink, 2023.]                                                                                                 |31             |(262144,[11481,33140,41643,46758,55709,59455,69650,79653,104662,106432,119670,134272,143776,149300,149583,154828,160195,161469,168341,172530,186037,190120,206577,208892,212295,213835,216086,217078,219145,224205,242510],[1.0,1.0,1.0,1.0,1.0,1.0,1.0,1.0,1.0,1.0,1.0,1.0,1.0,1.0,1.0,1.0,1.0,1.0,1.0,1.0,1.0,1.0,1.0,1.0,1.0,1.0,1.0,1.0,1.0,1.0,1.0])                                                                                                                          |\n",
            "|2  |US     |Mac Watson honors the memory of a wine once made by his mother in this tremendously delicious, balanced and complex botrytised white. Dark gold in color, it layers toasted hazelnut, pear compote and orange peel flavors, reveling in the succulence of its 122 g/L of residual sugar.                                                                                                                                                   |Special Selected Late Harvest       |96    |90.0 |California        |Knights Valley           |Sauvignon Blanc   |Macauley               |[mac, watson, honors, the, memory, of, a, wine, once, made, by, his, mother, in, this, tremendously, delicious,, balanced, and, complex, botrytised, white., dark, gold, in, color,, it, layers, toasted, hazelnut,, pear, compote, and, orange, peel, flavors,, reveling, in, the, succulence, of, its, 122, g/l, of, residual, sugar.]                                                                                                                                                                        |47    |[mac, watson, honors, memory, wine, made, mother, tremendously, delicious,, balanced, complex, botrytised, white., dark, gold, color,, layers, toasted, hazelnut,, pear, compote, orange, peel, flavors,, reveling, succulence, 122, g/l, residual, sugar.]                                                                                                                         |30             |(262144,[10077,26468,32151,49402,61157,64289,76272,88398,99749,119775,123974,140784,153612,156125,171516,172455,172814,174799,188828,203214,215060,217441,223329,225667,229305,238819,245426,251052,256740,261845],[1.0,1.0,1.0,1.0,1.0,1.0,1.0,1.0,1.0,1.0,1.0,1.0,1.0,1.0,1.0,1.0,1.0,1.0,1.0,1.0,1.0,1.0,1.0,1.0,1.0,1.0,1.0,1.0,1.0,1.0])                                                                                                                                      |\n",
            "|3  |US     |This spent 20 months in 30% new French oak, and incorporates fruit from Ponzi's Aurora, Abetina and Madrona vineyards, among others. Aromatic, dense and toasty, it deftly blends aromas and flavors of toast, cigar box, blackberry, black cherry, coffee and graphite. Tannins are polished to a fine sheen, and frame a finish loaded with dark chocolate and espresso. Drink now through 2032.                                         |Reserve                             |96    |65.0 |Oregon            |Willamette Valley        |Pinot Noir        |Ponzi                  |[this, spent, 20, months, in, 30%, new, french, oak,, and, incorporates, fruit, from, ponzi's, aurora,, abetina, and, madrona, vineyards,, among, others., aromatic,, dense, and, toasty,, it, deftly, blends, aromas, and, flavors, of, toast,, cigar, box,, blackberry,, black, cherry,, coffee, and, graphite., tannins, are, polished, to, a, fine, sheen,, and, frame, a, finish, loaded, with, dark, chocolate, and, espresso., drink, now, through, 2032.]                                               |62    |[spent, 20, months, 30%, new, french, oak,, incorporates, fruit, ponzi's, aurora,, abetina, madrona, vineyards,, among, others., aromatic,, dense, toasty,, deftly, blends, aromas, flavors, toast,, cigar, box,, blackberry,, black, cherry,, coffee, graphite., tannins, polished, fine, sheen,, frame, finish, loaded, dark, chocolate, espresso., drink, 2032.]                 |43             |(262144,[1546,4238,13171,15324,16356,25381,33140,46758,56257,67144,69650,78329,84417,89833,90804,93436,100762,105672,123598,125919,127791,134272,143299,145689,154213,154828,159212,170657,176028,180097,190120,200520,202021,207732,216850,217078,229305,238106,241786,244993,245951,257576,259082],[1.0,1.0,1.0,1.0,1.0,1.0,1.0,1.0,1.0,1.0,1.0,1.0,1.0,1.0,1.0,1.0,1.0,1.0,1.0,1.0,1.0,1.0,1.0,1.0,1.0,1.0,1.0,1.0,1.0,1.0,1.0,1.0,1.0,1.0,1.0,1.0,1.0,1.0,1.0,1.0,1.0,1.0,1.0])|\n",
            "|4  |France |This is the top wine from La Bégude, named after the highest point in the vineyard at 1200 feet. It has structure, density and considerable acidity that is still calming down. With 18 months in wood, the wine has developing an extra richness and concentration. Produced by the Tari family, formerly of Château Giscours in Margaux, it is a wine made for aging. Drink from 2020.                                                   |La Brûlade                          |95    |66.0 |Provence          |Bandol                   |Provence red blend|Domaine de la Bégude   |[this, is, the, top, wine, from, la, bégude,, named, after, the, highest, point, in, the, vineyard, at, 1200, feet., it, has, structure,, density, and, considerable, acidity, that, is, still, calming, down., with, 18, months, in, wood,, the, wine, has, developing, an, extra, richness, and, concentration., produced, by, the, tari, family,, formerly, of, château, giscours, in, margaux,, it, is, a, wine, made, for, aging., drink, from, 2020.]                                                     |66    |[top, wine, la, bégude,, named, highest, point, vineyard, 1200, feet., structure,, density, considerable, acidity, still, calming, down., 18, months, wood,, wine, developing, extra, richness, concentration., produced, tari, family,, formerly, château, giscours, margaux,, wine, made, aging., drink, 2020.]                                                                   |37             |(262144,[1546,17161,18176,31536,33140,48479,49526,65848,88378,90392,93114,103473,115192,119201,137039,140762,140784,148880,160897,179287,198725,208852,212413,213305,221427,222710,223329,226521,233705,234654,243381,247310,252498,256112,257452],[1.0,1.0,1.0,1.0,1.0,1.0,1.0,1.0,1.0,1.0,1.0,1.0,1.0,1.0,1.0,1.0,1.0,1.0,1.0,1.0,1.0,1.0,1.0,1.0,1.0,1.0,3.0,1.0,1.0,1.0,1.0,1.0,1.0,1.0,1.0])                                                                                  |\n",
            "|5  |Spain  |Deep, dense and pure from the opening bell, this Toro is a winner. Aromas of dark ripe black fruits are cool and moderately oaked. This feels massive on the palate but sensationally balanced. Flavors of blackberry, coffee, mocha and toasty oak finish spicy, smooth and heady. Drink this exemplary Toro through 2023.                                                                                                                |Numanthia                           |95    |73.0 |Northern Spain    |Toro                     |Tinta de Toro     |Numanthia              |[deep,, dense, and, pure, from, the, opening, bell,, this, toro, is, a, winner., aromas, of, dark, ripe, black, fruits, are, cool, and, moderately, oaked., this, feels, massive, on, the, palate, but, sensationally, balanced., flavors, of, blackberry,, coffee,, mocha, and, toasty, oak, finish, spicy,, smooth, and, heady., drink, this, exemplary, toro, through, 2023.]                                                                                                                                |52    |[deep,, dense, pure, opening, bell,, toro, winner., aromas, dark, ripe, black, fruits, cool, moderately, oaked., feels, massive, palate, sensationally, balanced., flavors, blackberry,, coffee,, mocha, toasty, oak, finish, spicy,, smooth, heady., drink, exemplary, toro, 2023.]                                                                                                |34             |(262144,[8408,18133,33140,38911,41643,42113,46758,48534,51029,55709,63617,69650,79709,100762,120295,123598,134272,141827,150283,154828,162111,172167,192968,206577,206877,211509,212295,223619,229305,229850,248192,249848,256103],[1.0,1.0,1.0,1.0,1.0,1.0,1.0,1.0,2.0,1.0,1.0,1.0,1.0,1.0,1.0,1.0,1.0,1.0,1.0,1.0,1.0,1.0,1.0,1.0,1.0,1.0,1.0,1.0,1.0,1.0,1.0,1.0,1.0])                                                                                                          |\n",
            "|6  |Spain  |Slightly gritty black-fruit aromas include a sweet note of pastry along with a hint of prune. Wall-to-wall saturation ensures that all corners of one's mouth are covered. Flavors of blackberry, mocha and chocolate are highly impressive and expressive, while this settles nicely on a long finish. Drink now through 2024.                                                                                                            |San Román                           |95    |65.0 |Northern Spain    |Toro                     |Tinta de Toro     |Maurodos               |[slightly, gritty, black-fruit, aromas, include, a, sweet, note, of, pastry, along, with, a, hint, of, prune., wall-to-wall, saturation, ensures, that, all, corners, of, one's, mouth, are, covered., flavors, of, blackberry,, mocha, and, chocolate, are, highly, impressive, and, expressive,, while, this, settles, nicely, on, a, long, finish., drink, now, through, 2024.]                                                                                                                              |50    |[slightly, gritty, black-fruit, aromas, include, sweet, note, pastry, along, hint, prune., wall-to-wall, saturation, ensures, corners, one's, mouth, covered., flavors, blackberry,, mocha, chocolate, highly, impressive, expressive,, settles, nicely, long, finish., drink, 2024.]                                                                                               |31             |(262144,[5561,19633,26431,32680,33140,43157,46758,50925,77501,86577,87257,98942,99570,100762,109388,134272,138905,152688,155288,156550,158931,162146,166936,178448,187233,190120,206312,206877,211400,229114,236895],[1.0,1.0,1.0,1.0,1.0,1.0,1.0,1.0,1.0,1.0,1.0,1.0,1.0,1.0,1.0,1.0,1.0,1.0,1.0,1.0,1.0,1.0,1.0,1.0,1.0,1.0,1.0,1.0,1.0,1.0,1.0])                                                                                                                                |\n",
            "|7  |Spain  |Lush cedary black-fruit aromas are luxe and offer notes of marzipan and vanilla. This bruiser is massive and tannic on the palate, but still lush and friendly. Chocolate is a key flavor, while baked berry and cassis flavors are hardly wallflowers. On the finish, this is tannic and deep as a sea trench. Drink this saturated black-colored Toro through 2023.                                                                      |Carodorum Único Crianza             |95    |110.0|Northern Spain    |Toro                     |Tinta de Toro     |Bodega Carmen Rodríguez|[lush, cedary, black-fruit, aromas, are, luxe, and, offer, notes, of, marzipan, and, vanilla., this, bruiser, is, massive, and, tannic, on, the, palate,, but, still, lush, and, friendly., chocolate, is, a, key, flavor,, while, baked, berry, and, cassis, flavors, are, hardly, wallflowers., on, the, finish,, this, is, tannic, and, deep, as, a, sea, trench., drink, this, saturated, black-colored, toro, through, 2023.]                                                                              |60    |[lush, cedary, black-fruit, aromas, luxe, offer, notes, marzipan, vanilla., bruiser, massive, tannic, palate,, still, lush, friendly., chocolate, key, flavor,, baked, berry, cassis, flavors, hardly, wallflowers., finish,, tannic, deep, sea, trench., drink, saturated, black-colored, toro, 2023.]                                                                             |35             |(262144,[4235,31536,33140,35418,46758,51029,60234,60776,67009,67662,72014,79653,87623,89540,96644,105938,108094,118315,126566,134272,141911,143776,161607,162146,162155,185573,190120,202566,211509,212295,212445,219145,228767],[1.0,1.0,1.0,1.0,1.0,1.0,1.0,1.0,1.0,1.0,1.0,1.0,1.0,1.0,1.0,1.0,1.0,1.0,2.0,1.0,1.0,1.0,2.0,1.0,1.0,1.0,1.0,1.0,1.0,1.0,1.0,1.0,1.0])                                                                                                            |\n",
            "|8  |US     |This re-named vineyard was formerly bottled as deLancellotti. You'll find striking minerality underscoring chunky black fruits. Accents of citrus and graphite comingle, with exceptional midpalate concentration. This is a wine to cellar, though it is already quite enjoyable. Drink now through 2030.                                                                                                                                 |Silice                              |95    |65.0 |Oregon            |Chehalem Mountains       |Pinot Noir        |Bergström              |[this, re-named, vineyard, was, formerly, bottled, as, delancellotti., you'll, find, striking, minerality, underscoring, chunky, black, fruits., accents, of, citrus, and, graphite, comingle,, with, exceptional, midpalate, concentration., this, is, a, wine, to, cellar,, though, it, is, already, quite, enjoyable., drink, now, through, 2030.]                                                                                                                                                           |42    |[re-named, vineyard, formerly, bottled, delancellotti., find, striking, minerality, underscoring, chunky, black, fruits., accents, citrus, graphite, comingle,, exceptional, midpalate, concentration., wine, cellar,, though, already, quite, enjoyable., drink, 2030.]                                                                                                            |27             |(262144,[2306,3167,9902,33140,52300,69299,70152,72008,73156,91878,103223,113528,140430,153504,154828,179287,186237,188581,198426,204175,213305,217740,222710,223329,234233,249672,262009],[1.0,1.0,1.0,1.0,1.0,1.0,1.0,1.0,1.0,1.0,1.0,1.0,1.0,1.0,1.0,1.0,1.0,1.0,1.0,1.0,1.0,1.0,1.0,1.0,1.0,1.0,1.0])                                                                                                                                                                           |\n",
            "|9  |US     |The producer sources from two blocks of the vineyard for this wine—one at a high elevation, which contributes bright acidity. Crunchy cranberry, pomegranate and orange peel flavors surround silky, succulent layers of texture that present as fleshy fruit. That delicately lush flavor has considerable length.                                                                                                                        |Gap's Crown Vineyard                |95    |60.0 |California        |Sonoma Coast             |Pinot Noir        |Blue Farm              |[the, producer, sources, from, two, blocks, of, the, vineyard, for, this, wine—one, at, a, high, elevation,, which, contributes, bright, acidity., crunchy, cranberry,, pomegranate, and, orange, peel, flavors, surround, silky,, succulent, layers, of, texture, that, present, as, fleshy, fruit., that, delicately, lush, flavor, has, considerable, length.]                                                                                                                                               |45    |[producer, sources, two, blocks, vineyard, wine—one, high, elevation,, contributes, bright, acidity., crunchy, cranberry,, pomegranate, orange, peel, flavors, surround, silky,, succulent, layers, texture, present, fleshy, fruit., delicately, lush, flavor, considerable, length.]                                                                                              |30             |(262144,[3354,41502,59986,81604,84221,88676,90392,99749,100036,126566,130635,131169,132323,134272,136020,141702,152451,153612,155665,162976,163509,180419,195154,200588,217608,217940,222710,225667,245522,258728],[1.0,1.0,1.0,1.0,1.0,1.0,1.0,1.0,1.0,1.0,1.0,1.0,1.0,1.0,1.0,1.0,1.0,1.0,1.0,1.0,1.0,1.0,1.0,1.0,1.0,1.0,1.0,1.0,1.0,1.0])                                                                                                                                      |\n",
            "|10 |Italy  |Elegance, complexity and structure come together in this drop-dead gorgeous winethat ranks among Italy's greatest whites. It opens with sublime yellow spring flower, aromatic herb and orchard fruit scents. The creamy, delicious palate seamlessly combines juicy white peach, ripe pear and citrus flavors while white almond and savory mineral notes grace the lingering finish.                                                     |Ronco della Chiesa                  |95    |80.0 |Northeastern Italy|Collio                   |Friulano          |Borgo del Tiglio       |[elegance,, complexity, and, structure, come, together, in, this, drop-dead, gorgeous, winethat, ranks, among, italy's, greatest, whites., it, opens, with, sublime, yellow, spring, flower,, aromatic, herb, and, orchard, fruit, scents., the, creamy,, delicious, palate, seamlessly, combines, juicy, white, peach,, ripe, pear, and, citrus, flavors, while, white, almond, and, savory, mineral, notes, grace, the, lingering, finish.]                                                                   |54    |[elegance,, complexity, structure, come, together, drop-dead, gorgeous, winethat, ranks, among, italy's, greatest, whites., opens, sublime, yellow, spring, flower,, aromatic, herb, orchard, fruit, scents., creamy,, delicious, palate, seamlessly, combines, juicy, white, peach,, ripe, pear, citrus, flavors, white, almond, savory, mineral, notes, grace, lingering, finish.]|43             |(262144,[3848,9394,9492,11076,11396,18911,23975,28363,29456,33079,34919,42737,49151,55709,56494,60776,75571,93710,94563,101336,134272,143299,147224,155288,155298,157757,172196,181750,188581,189996,194353,204380,204552,208742,209860,210093,216850,219706,236947,238819,256103,256289],[1.0,1.0,1.0,1.0,1.0,1.0,1.0,1.0,1.0,1.0,1.0,1.0,1.0,1.0,1.0,1.0,2.0,1.0,1.0,1.0,1.0,1.0,1.0,1.0,1.0,1.0,1.0,1.0,1.0,1.0,1.0,1.0,1.0,1.0,1.0,1.0,1.0,1.0,1.0,1.0,1.0,1.0])               |\n",
            "|11 |US     |From 18-year-old vines, this supple well-balanced effort blends flavors of mocha, cherry, vanilla and breakfast tea. Superbly integrated and delicious even at this early stage, this wine seems destined for a long and savory cellar life. Drink now through 2028.                                                                                                                                                                       |Estate Vineyard Wadensvil Block     |95    |48.0 |Oregon            |Ribbon Ridge             |Pinot Noir        |Patricia Green Cellars |[from, 18-year-old, vines,, this, supple, well-balanced, effort, blends, flavors, of, mocha,, cherry,, vanilla, and, breakfast, tea., superbly, integrated, and, delicious, even, at, this, early, stage,, this, wine, seems, destined, for, a, long, and, savory, cellar, life., drink, now, through, 2028.]                                                                                                                                                                                                   |40    |[18-year-old, vines,, supple, well-balanced, effort, blends, flavors, mocha,, cherry,, vanilla, breakfast, tea., superbly, integrated, delicious, even, early, stage,, wine, seems, destined, long, savory, cellar, life., drink, 2028.]                                                                                                                                            |27             |(262144,[3456,21534,33140,56211,56501,58559,77682,84417,90058,93436,103839,112747,128113,134272,143268,163441,174966,181763,187436,206312,207436,208742,223329,228682,230252,231396,256289],[1.0,1.0,1.0,1.0,1.0,1.0,1.0,1.0,1.0,1.0,1.0,1.0,1.0,1.0,1.0,1.0,1.0,1.0,1.0,1.0,1.0,1.0,1.0,1.0,1.0,1.0,1.0])                                                                                                                                                                         |\n",
            "|12 |US     |A standout even in this terrific lineup of 2015 releases from Patricia Green, the Weber opens with a burst of cola and tobacco scents and accents. It continues, subtle and detailed, with flavors of oranges, vanilla, tea and milk chocolate discreetly threaded through ripe blackberry fruit.                                                                                                                                          |Weber Vineyard                      |95    |48.0 |Oregon            |Dundee Hills             |Pinot Noir        |Patricia Green Cellars |[a, standout, even, in, this, terrific, lineup, of, 2015, releases, from, patricia, green,, the, weber, opens, with, a, burst, of, cola, and, tobacco, scents, and, accents., it, continues,, subtle, and, detailed,, with, flavors, of, oranges,, vanilla,, tea, and, milk, chocolate, discreetly, threaded, through, ripe, blackberry, fruit.]                                                                                                                                                                |46    |[standout, even, terrific, lineup, 2015, releases, patricia, green,, weber, opens, burst, cola, tobacco, scents, accents., continues,, subtle, detailed,, flavors, oranges,, vanilla,, tea, milk, chocolate, discreetly, threaded, ripe, blackberry, fruit.]                                                                                                                        |29             |(262144,[4176,8940,18911,23514,36797,55709,62235,73262,75368,105358,109132,134272,140381,155496,160429,164837,172530,174888,174966,179186,180419,190120,212646,213005,213580,217462,227894,228313,233696],[1.0,1.0,1.0,1.0,1.0,1.0,1.0,1.0,1.0,1.0,1.0,1.0,1.0,1.0,1.0,1.0,1.0,1.0,1.0,1.0,1.0,1.0,1.0,1.0,1.0,1.0,1.0,1.0,1.0])                                                                                                                                                   |\n",
            "|13 |France |This wine is in peak condition. The tannins and the secondary flavors dominate this ripe leather-textured wine. The fruit is all there as well: dried berries and hints of black-plum skins. It is a major wine right at the point of drinking with both the mature flavors and the fruit in the right balance.                                                                                                                            |Château Montus Prestige             |95    |90.0 |Southwest France  |Madiran                  |Tannat            |Vignobles Brumont      |[this, wine, is, in, peak, condition., the, tannins, and, the, secondary, flavors, dominate, this, ripe, leather-textured, wine., the, fruit, is, all, there, as, well:, dried, berries, and, hints, of, black-plum, skins., it, is, a, major, wine, right, at, the, point, of, drinking, with, both, the, mature, flavors, and, the, fruit, in, the, right, balance.]                                                                                                                                          |54    |[wine, peak, condition., tannins, secondary, flavors, dominate, ripe, leather-textured, wine., fruit, well:, dried, berries, hints, black-plum, skins., major, wine, right, point, drinking, mature, flavors, fruit, right, balance.]                                                                                                                                               |27             |(262144,[8297,12024,55709,75611,78269,93293,93356,125919,134272,143299,148880,151058,169296,206885,210032,211996,223329,229166,235089,242716,255174,255766,256565],[1.0,1.0,1.0,1.0,1.0,1.0,1.0,1.0,2.0,2.0,1.0,1.0,1.0,1.0,1.0,1.0,2.0,2.0,1.0,1.0,1.0,1.0,1.0])                                                                                                                                                                                                                  |\n",
            "|14 |US     |With its sophisticated mix of mineral, acid and tart fruits, this seductive effort pleases from start to finish. Supple and dense, it's got strawberry, blueberry, plum and black cherry, a touch of chocolate, and that underlying streak of mineral. All these elements are in good proportion and finish with an appealing silky texture. It's delicious already, but give it another decade for full enjoyment. Drink now through 2028.|Grace Vineyard                      |95    |185.0|Oregon            |Dundee Hills             |Pinot Noir        |Domaine Serene         |[with, its, sophisticated, mix, of, mineral,, acid, and, tart, fruits,, this, seductive, effort, pleases, from, start, to, finish., supple, and, dense,, it's, got, strawberry,, blueberry,, plum, and, black, cherry,, a, touch, of, chocolate,, and, that, underlying, streak, of, mineral., all, these, elements, are, in, good, proportion, and, finish, with, an, appealing, silky, texture., it's, delicious, already,, but, give, it, another, decade, for, full, enjoyment., drink, now, through, 2028.]|68    |[sophisticated, mix, mineral,, acid, tart, fruits,, seductive, effort, pleases, start, finish., supple, dense,, got, strawberry,, blueberry,, plum, black, cherry,, touch, chocolate,, underlying, streak, mineral., elements, good, proportion, finish, appealing, silky, texture., delicious, already,, give, another, decade, full, enjoyment., drink, 2028.]                    |40             |(262144,[5847,16004,21534,33140,43333,49148,56302,56501,64346,69650,74981,84417,93156,97058,99715,107367,110620,113432,117372,141485,151393,152610,154828,155288,161509,166929,167127,169232,169706,169947,180394,181763,183787,208742,217873,223998,225898,239323,253382,258259],[1.0,1.0,1.0,1.0,1.0,1.0,1.0,1.0,1.0,1.0,1.0,1.0,1.0,1.0,1.0,1.0,1.0,1.0,1.0,1.0,1.0,1.0,1.0,1.0,1.0,1.0,1.0,1.0,1.0,1.0,1.0,1.0,1.0,1.0,1.0,1.0,1.0,1.0,1.0,1.0])                               |\n",
            "|15 |US     |First made in 2006, this succulent luscious Chardonnay is all about minerality. It's got a rich core of butterscotch and the seemingly endless layers of subtle flavors that biodynamic farming can bring. It spends 18 months on the lees prior to bottling. Drink now through 2028.                                                                                                                                                      |Sigrid                              |95    |90.0 |Oregon            |Willamette Valley        |Chardonnay        |Bergström              |[first, made, in, 2006,, this, succulent, luscious, chardonnay, is, all, about, minerality., it's, got, a, rich, core, of, butterscotch, and, the, seemingly, endless, layers, of, subtle, flavors, that, biodynamic, farming, can, bring., it, spends, 18, months, on, the, lees, prior, to, bottling., drink, now, through, 2028.]                                                                                                                                                                            |46    |[first, made, 2006,, succulent, luscious, chardonnay, minerality., got, rich, core, butterscotch, seemingly, endless, layers, subtle, flavors, biodynamic, farming, bring., spends, 18, months, lees, prior, bottling., drink, 2028.]                                                                                                                                               |27             |(262144,[1546,4398,5373,11846,33140,49118,52774,56501,57467,62804,80423,81604,85939,87878,99749,110592,134272,140784,149300,164837,177053,180547,188835,203516,225898,243381,243938],[1.0,1.0,1.0,1.0,1.0,1.0,1.0,1.0,1.0,1.0,1.0,1.0,1.0,1.0,1.0,1.0,1.0,1.0,1.0,1.0,1.0,1.0,1.0,1.0,1.0,1.0,1.0])                                                                                                                                                                                |\n",
            "|16 |US     |This blockbuster, powerhouse of a wine suggests blueberry pie and chocolate as it opens in the glass. On the palate, it's smooth and seductively silky, offering complex cedar, peppercorn and peppery oak seasonings amidst its dense richness. It finishes with finesse and spice.                                                                                                                                                       |Rainin Vineyard                     |95    |325.0|California        |Diamond Mountain District|Cabernet Sauvignon|Hall                   |[this, blockbuster,, powerhouse, of, a, wine, suggests, blueberry, pie, and, chocolate, as, it, opens, in, the, glass., on, the, palate,, it's, smooth, and, seductively, silky,, offering, complex, cedar,, peppercorn, and, peppery, oak, seasonings, amidst, its, dense, richness., it, finishes, with, finesse, and, spice.]                                                                                                                                                                                |43    |[blockbuster,, powerhouse, wine, suggests, blueberry, pie, chocolate, opens, glass., palate,, smooth, seductively, silky,, offering, complex, cedar,, peppercorn, peppery, oak, seasonings, amidst, dense, richness., finishes, finesse, spice.]                                                                                                                                    |26             |(262144,[18911,55687,61904,61955,69149,74257,79709,81373,98640,121026,121041,123598,127944,156216,166444,187721,190120,217608,219145,223329,229850,231216,233153,251493,256740,261142],[1.0,1.0,1.0,1.0,1.0,1.0,1.0,1.0,1.0,1.0,1.0,1.0,1.0,1.0,1.0,1.0,1.0,1.0,1.0,1.0,1.0,1.0,1.0,1.0,1.0,1.0])                                                                                                                                                                                  |\n",
            "|17 |Spain  |Nicely oaked blackberry, licorice, vanilla and charred aromas are smooth and sultry. This is an outstanding wine from an excellent year. Forward barrel-spice and mocha flavors adorn core blackberry and raspberry fruit, while this runs long and tastes vaguely chocolaty on the velvety finish. Enjoy this top-notch Tempranillo through 2030.                                                                                         |6 Años Reserva Premium              |95    |80.0 |Northern Spain    |Ribera del Duero         |Tempranillo       |Valduero               |[nicely, oaked, blackberry,, licorice,, vanilla, and, charred, aromas, are, smooth, and, sultry., this, is, an, outstanding, wine, from, an, excellent, year., forward, barrel-spice, and, mocha, flavors, adorn, core, blackberry, and, raspberry, fruit,, while, this, runs, long, and, tastes, vaguely, chocolaty, on, the, velvety, finish., enjoy, this, top-notch, tempranillo, through, 2030.]                                                                                                           |50    |[nicely, oaked, blackberry,, licorice,, vanilla, charred, aromas, smooth, sultry., outstanding, wine, excellent, year., forward, barrel-spice, mocha, flavors, adorn, core, blackberry, raspberry, fruit,, runs, long, tastes, vaguely, chocolaty, velvety, finish., enjoy, top-notch, tempranillo, 2030.]                                                                          |33             |(262144,[2701,10404,13198,25453,32680,46758,50349,52300,58534,78745,79709,82322,100762,106973,119667,134272,143268,143531,144973,154583,155288,166955,172530,203516,206312,206877,216086,218098,220908,223329,227800,228121,232205],[1.0,1.0,1.0,1.0,1.0,1.0,1.0,1.0,1.0,1.0,1.0,1.0,1.0,1.0,1.0,1.0,1.0,1.0,1.0,1.0,1.0,1.0,1.0,1.0,1.0,1.0,1.0,1.0,1.0,1.0,1.0,1.0,1.0])                                                                                                         |\n",
            "|18 |France |Coming from a seven-acre vineyard named after the dovecote on the property, this is a magnificent wine. Powered by both fruit tannins and the 28 months of new wood aging, it is darkly rich and with great concentration. As a sign of its pedigree, there is also elegance here, a restraint which is new to this wine. That makes it a wine for long-term aging. Drink from 2022.                                                       |Le Pigeonnier                       |95    |290.0|Southwest France  |Cahors                   |Malbec            |Château Lagrézette     |[coming, from, a, seven-acre, vineyard, named, after, the, dovecote, on, the, property,, this, is, a, magnificent, wine., powered, by, both, fruit, tannins, and, the, 28, months, of, new, wood, aging,, it, is, darkly, rich, and, with, great, concentration., as, a, sign, of, its, pedigree,, there, is, also, elegance, here,, a, restraint, which, is, new, to, this, wine., that, makes, it, a, wine, for, long-term, aging., drink, from, 2022.]                                                       |68    |[coming, seven-acre, vineyard, named, dovecote, property,, magnificent, wine., powered, fruit, tannins, 28, months, new, wood, aging,, darkly, rich, great, concentration., sign, pedigree,, also, elegance, here,, restraint, new, wine., makes, wine, long-term, aging., drink, 2022.]                                                                                            |34             |(262144,[1546,5441,12409,15544,33140,53484,69415,74644,89833,102935,112409,115192,125919,131707,143040,143299,147136,149300,199581,201329,211996,213305,220354,222710,223329,229987,233705,238696,244142,252138,260452,261870],[1.0,1.0,1.0,1.0,1.0,1.0,1.0,1.0,2.0,1.0,1.0,1.0,1.0,1.0,1.0,1.0,1.0,1.0,1.0,1.0,2.0,1.0,1.0,1.0,1.0,1.0,1.0,1.0,1.0,1.0,1.0,1.0])                                                                                                                  |\n",
            "|19 |US     |This fresh and lively medium-bodied wine is beautifully crafted, with cherry blossom aromas and tangy acidity. Layered and seductive, it offers a crisp mix of orange peel, cherry, pomegranate and baking spice flavors that are ready for the table or the cellar.                                                                                                                                                                       |Gap's Crown Vineyard                |95    |75.0 |California        |Sonoma Coast             |Pinot Noir        |Gary Farrell           |[this, fresh, and, lively, medium-bodied, wine, is, beautifully, crafted,, with, cherry, blossom, aromas, and, tangy, acidity., layered, and, seductive,, it, offers, a, crisp, mix, of, orange, peel,, cherry,, pomegranate, and, baking, spice, flavors, that, are, ready, for, the, table, or, the, cellar.]                                                                                                                                                                                                 |42    |[fresh, lively, medium-bodied, wine, beautifully, crafted,, cherry, blossom, aromas, tangy, acidity., layered, seductive,, offers, crisp, mix, orange, peel,, cherry,, pomegranate, baking, spice, flavors, ready, table, cellar.]                                                                                                                                                  |26             |(262144,[3572,19026,31129,41049,41502,46758,52226,59455,60716,62208,72073,77101,78495,84221,84417,103544,114395,116529,134272,148638,153612,158088,166929,219709,223329,250434],[1.0,1.0,1.0,1.0,1.0,1.0,1.0,1.0,1.0,1.0,1.0,1.0,1.0,1.0,1.0,1.0,1.0,1.0,1.0,1.0,1.0,1.0,1.0,1.0,1.0,1.0])                                                                                                                                                                                         |\n",
            "+---+-------+-------------------------------------------------------------------------------------------------------------------------------------------------------------------------------------------------------------------------------------------------------------------------------------------------------------------------------------------------------------------------------------------------------------------------------------------+------------------------------------+------+-----+------------------+-------------------------+------------------+-----------------------+----------------------------------------------------------------------------------------------------------------------------------------------------------------------------------------------------------------------------------------------------------------------------------------------------------------------------------------------------------------------------------------------------------------------------------------------------------------------------------------------------------------+------+------------------------------------------------------------------------------------------------------------------------------------------------------------------------------------------------------------------------------------------------------------------------------------------------------------------------------------------------------------------------------------+---------------+-----------------------------------------------------------------------------------------------------------------------------------------------------------------------------------------------------------------------------------------------------------------------------------------------------------------------------------------------------------------------------------------------------------------------------------------------------------------------------------+\n",
            "only showing top 20 rows\n",
            "\n"
          ],
          "name": "stdout"
        }
      ]
    },
    {
      "cell_type": "code",
      "metadata": {
        "colab": {
          "base_uri": "https://localhost:8080/"
        },
        "id": "yCXIL2f78l41",
        "outputId": "25214202-8677-4d4e-bc64-5f7e886b7218"
      },
      "source": [
        "# Fit the IDF on the data set\n",
        "idf = IDF(inputCol=\"hashedValues\", outputCol=\"features\")\n",
        "idfModel = idf.fit(hashed_df)\n",
        "rescaledData = idfModel.transform(hashed_df)\n",
        "\n",
        "# Display the DataFrame\n",
        "rescaledData.show(truncate=True)"
      ],
      "execution_count": null,
      "outputs": [
        {
          "output_type": "stream",
          "text": [
            "+---+-------+--------------------+--------------------+------+-----+------------------+--------------------+------------------+--------------------+--------------------+------+--------------------+---------------+--------------------+--------------------+\n",
            "|_c0|country|         description|         designation|points|price|          province|            region_1|           variety|              winery|               words|tokens|            filtered|filtered_tokens|        hashedValues|            features|\n",
            "+---+-------+--------------------+--------------------+------+-----+------------------+--------------------+------------------+--------------------+--------------------+------+--------------------+---------------+--------------------+--------------------+\n",
            "|  0|     US|This tremendous 1...|   Martha's Vineyard|    96|235.0|        California|         Napa Valley|Cabernet Sauvignon|               Heitz|[this, tremendous...|    60|[tremendous, 100%...|             36|(262144,[2701,160...|(262144,[2701,160...|\n",
            "|  1|  Spain|Ripe aromas of fi...|Carodorum Selecci...|    96|110.0|    Northern Spain|                Toro|     Tinta de Toro|Bodega Carmen Rod...|[ripe, aromas, of...|    51|[ripe, aromas, fi...|             31|(262144,[11481,33...|(262144,[11481,33...|\n",
            "|  2|     US|Mac Watson honors...|Special Selected ...|    96| 90.0|        California|      Knights Valley|   Sauvignon Blanc|            Macauley|[mac, watson, hon...|    47|[mac, watson, hon...|             30|(262144,[10077,26...|(262144,[10077,26...|\n",
            "|  3|     US|This spent 20 mon...|             Reserve|    96| 65.0|            Oregon|   Willamette Valley|        Pinot Noir|               Ponzi|[this, spent, 20,...|    62|[spent, 20, month...|             43|(262144,[1546,423...|(262144,[1546,423...|\n",
            "|  4| France|This is the top w...|          La Brûlade|    95| 66.0|          Provence|              Bandol|Provence red blend|Domaine de la Bégude|[this, is, the, t...|    66|[top, wine, la, b...|             37|(262144,[1546,171...|(262144,[1546,171...|\n",
            "|  5|  Spain|Deep, dense and p...|           Numanthia|    95| 73.0|    Northern Spain|                Toro|     Tinta de Toro|           Numanthia|[deep,, dense, an...|    52|[deep,, dense, pu...|             34|(262144,[8408,181...|(262144,[8408,181...|\n",
            "|  6|  Spain|Slightly gritty b...|           San Román|    95| 65.0|    Northern Spain|                Toro|     Tinta de Toro|            Maurodos|[slightly, gritty...|    50|[slightly, gritty...|             31|(262144,[5561,196...|(262144,[5561,196...|\n",
            "|  7|  Spain|Lush cedary black...|Carodorum Único C...|    95|110.0|    Northern Spain|                Toro|     Tinta de Toro|Bodega Carmen Rod...|[lush, cedary, bl...|    60|[lush, cedary, bl...|             35|(262144,[4235,315...|(262144,[4235,315...|\n",
            "|  8|     US|This re-named vin...|              Silice|    95| 65.0|            Oregon|  Chehalem Mountains|        Pinot Noir|           Bergström|[this, re-named, ...|    42|[re-named, vineya...|             27|(262144,[2306,316...|(262144,[2306,316...|\n",
            "|  9|     US|The producer sour...|Gap's Crown Vineyard|    95| 60.0|        California|        Sonoma Coast|        Pinot Noir|           Blue Farm|[the, producer, s...|    45|[producer, source...|             30|(262144,[3354,415...|(262144,[3354,415...|\n",
            "| 10|  Italy|Elegance, complex...|  Ronco della Chiesa|    95| 80.0|Northeastern Italy|              Collio|          Friulano|    Borgo del Tiglio|[elegance,, compl...|    54|[elegance,, compl...|             43|(262144,[3848,939...|(262144,[3848,939...|\n",
            "| 11|     US|From 18-year-old ...|Estate Vineyard W...|    95| 48.0|            Oregon|        Ribbon Ridge|        Pinot Noir|Patricia Green Ce...|[from, 18-year-ol...|    40|[18-year-old, vin...|             27|(262144,[3456,215...|(262144,[3456,215...|\n",
            "| 12|     US|A standout even i...|      Weber Vineyard|    95| 48.0|            Oregon|        Dundee Hills|        Pinot Noir|Patricia Green Ce...|[a, standout, eve...|    46|[standout, even, ...|             29|(262144,[4176,894...|(262144,[4176,894...|\n",
            "| 13| France|This wine is in p...|Château Montus Pr...|    95| 90.0|  Southwest France|             Madiran|            Tannat|   Vignobles Brumont|[this, wine, is, ...|    54|[wine, peak, cond...|             27|(262144,[8297,120...|(262144,[8297,120...|\n",
            "| 14|     US|With its sophisti...|      Grace Vineyard|    95|185.0|            Oregon|        Dundee Hills|        Pinot Noir|      Domaine Serene|[with, its, sophi...|    68|[sophisticated, m...|             40|(262144,[5847,160...|(262144,[5847,160...|\n",
            "| 15|     US|First made in 200...|              Sigrid|    95| 90.0|            Oregon|   Willamette Valley|        Chardonnay|           Bergström|[first, made, in,...|    46|[first, made, 200...|             27|(262144,[1546,439...|(262144,[1546,439...|\n",
            "| 16|     US|This blockbuster,...|     Rainin Vineyard|    95|325.0|        California|Diamond Mountain ...|Cabernet Sauvignon|                Hall|[this, blockbuste...|    43|[blockbuster,, po...|             26|(262144,[18911,55...|(262144,[18911,55...|\n",
            "| 17|  Spain|Nicely oaked blac...|6 Años Reserva Pr...|    95| 80.0|    Northern Spain|    Ribera del Duero|       Tempranillo|            Valduero|[nicely, oaked, b...|    50|[nicely, oaked, b...|             33|(262144,[2701,104...|(262144,[2701,104...|\n",
            "| 18| France|Coming from a sev...|       Le Pigeonnier|    95|290.0|  Southwest France|              Cahors|            Malbec|  Château Lagrézette|[coming, from, a,...|    68|[coming, seven-ac...|             34|(262144,[1546,544...|(262144,[1546,544...|\n",
            "| 19|     US|This fresh and li...|Gap's Crown Vineyard|    95| 75.0|        California|        Sonoma Coast|        Pinot Noir|        Gary Farrell|[this, fresh, and...|    42|[fresh, lively, m...|             26|(262144,[3572,190...|(262144,[3572,190...|\n",
            "+---+-------+--------------------+--------------------+------+-----+------------------+--------------------+------------------+--------------------+--------------------+------+--------------------+---------------+--------------------+--------------------+\n",
            "only showing top 20 rows\n",
            "\n"
          ],
          "name": "stdout"
        }
      ]
    },
    {
      "cell_type": "code",
      "metadata": {
        "colab": {
          "base_uri": "https://localhost:8080/"
        },
        "id": "LoxdarW3-wUa",
        "outputId": "fc70475b-a833-4e67-ef41-215559c1aa0a"
      },
      "source": [
        "# Create a dataframe from with only description nlp information\n",
        "descriptionNLP = rescaledData[['description','words','tokens','filtered','filtered_tokens','hashedValues','features']]\n",
        "descriptionNLP.show()"
      ],
      "execution_count": null,
      "outputs": [
        {
          "output_type": "stream",
          "text": [
            "+--------------------+--------------------+------+--------------------+---------------+--------------------+--------------------+\n",
            "|         description|               words|tokens|            filtered|filtered_tokens|        hashedValues|            features|\n",
            "+--------------------+--------------------+------+--------------------+---------------+--------------------+--------------------+\n",
            "|This tremendous 1...|[this, tremendous...|    60|[tremendous, 100%...|             36|(262144,[2701,160...|(262144,[2701,160...|\n",
            "|Ripe aromas of fi...|[ripe, aromas, of...|    51|[ripe, aromas, fi...|             31|(262144,[11481,33...|(262144,[11481,33...|\n",
            "|Mac Watson honors...|[mac, watson, hon...|    47|[mac, watson, hon...|             30|(262144,[10077,26...|(262144,[10077,26...|\n",
            "|This spent 20 mon...|[this, spent, 20,...|    62|[spent, 20, month...|             43|(262144,[1546,423...|(262144,[1546,423...|\n",
            "|This is the top w...|[this, is, the, t...|    66|[top, wine, la, b...|             37|(262144,[1546,171...|(262144,[1546,171...|\n",
            "|Deep, dense and p...|[deep,, dense, an...|    52|[deep,, dense, pu...|             34|(262144,[8408,181...|(262144,[8408,181...|\n",
            "|Slightly gritty b...|[slightly, gritty...|    50|[slightly, gritty...|             31|(262144,[5561,196...|(262144,[5561,196...|\n",
            "|Lush cedary black...|[lush, cedary, bl...|    60|[lush, cedary, bl...|             35|(262144,[4235,315...|(262144,[4235,315...|\n",
            "|This re-named vin...|[this, re-named, ...|    42|[re-named, vineya...|             27|(262144,[2306,316...|(262144,[2306,316...|\n",
            "|The producer sour...|[the, producer, s...|    45|[producer, source...|             30|(262144,[3354,415...|(262144,[3354,415...|\n",
            "|Elegance, complex...|[elegance,, compl...|    54|[elegance,, compl...|             43|(262144,[3848,939...|(262144,[3848,939...|\n",
            "|From 18-year-old ...|[from, 18-year-ol...|    40|[18-year-old, vin...|             27|(262144,[3456,215...|(262144,[3456,215...|\n",
            "|A standout even i...|[a, standout, eve...|    46|[standout, even, ...|             29|(262144,[4176,894...|(262144,[4176,894...|\n",
            "|This wine is in p...|[this, wine, is, ...|    54|[wine, peak, cond...|             27|(262144,[8297,120...|(262144,[8297,120...|\n",
            "|With its sophisti...|[with, its, sophi...|    68|[sophisticated, m...|             40|(262144,[5847,160...|(262144,[5847,160...|\n",
            "|First made in 200...|[first, made, in,...|    46|[first, made, 200...|             27|(262144,[1546,439...|(262144,[1546,439...|\n",
            "|This blockbuster,...|[this, blockbuste...|    43|[blockbuster,, po...|             26|(262144,[18911,55...|(262144,[18911,55...|\n",
            "|Nicely oaked blac...|[nicely, oaked, b...|    50|[nicely, oaked, b...|             33|(262144,[2701,104...|(262144,[2701,104...|\n",
            "|Coming from a sev...|[coming, from, a,...|    68|[coming, seven-ac...|             34|(262144,[1546,544...|(262144,[1546,544...|\n",
            "|This fresh and li...|[this, fresh, and...|    42|[fresh, lively, m...|             26|(262144,[3572,190...|(262144,[3572,190...|\n",
            "+--------------------+--------------------+------+--------------------+---------------+--------------------+--------------------+\n",
            "only showing top 20 rows\n",
            "\n"
          ],
          "name": "stdout"
        }
      ]
    },
    {
      "cell_type": "code",
      "metadata": {
        "colab": {
          "base_uri": "https://localhost:8080/",
          "height": 552
        },
        "id": "j-wglgIqBJo0",
        "outputId": "ff704e3b-3e92-40ed-8473-82e338c36f8e"
      },
      "source": [
        "'''\n",
        "# Convert the descriptionNLP to pandas and export\n",
        "description_df = descriptionNLP.toPandas()\n",
        "description_df.head()\n",
        "'''"
      ],
      "execution_count": null,
      "outputs": [
        {
          "output_type": "execute_result",
          "data": {
            "text/html": [
              "<div>\n",
              "<style scoped>\n",
              "    .dataframe tbody tr th:only-of-type {\n",
              "        vertical-align: middle;\n",
              "    }\n",
              "\n",
              "    .dataframe tbody tr th {\n",
              "        vertical-align: top;\n",
              "    }\n",
              "\n",
              "    .dataframe thead th {\n",
              "        text-align: right;\n",
              "    }\n",
              "</style>\n",
              "<table border=\"1\" class=\"dataframe\">\n",
              "  <thead>\n",
              "    <tr style=\"text-align: right;\">\n",
              "      <th></th>\n",
              "      <th>_c0</th>\n",
              "      <th>description</th>\n",
              "      <th>words</th>\n",
              "      <th>tokens</th>\n",
              "      <th>filtered</th>\n",
              "      <th>filtered_tokens</th>\n",
              "      <th>hashedValues</th>\n",
              "      <th>features</th>\n",
              "    </tr>\n",
              "  </thead>\n",
              "  <tbody>\n",
              "    <tr>\n",
              "      <th>0</th>\n",
              "      <td>0</td>\n",
              "      <td>This tremendous 100% varietal wine hails from ...</td>\n",
              "      <td>[this, tremendous, 100%, varietal, wine, hails...</td>\n",
              "      <td>60</td>\n",
              "      <td>[tremendous, 100%, varietal, wine, hails, oakv...</td>\n",
              "      <td>36</td>\n",
              "      <td>(0.0, 0.0, 0.0, 0.0, 0.0, 0.0, 0.0, 0.0, 0.0, ...</td>\n",
              "      <td>(0.0, 0.0, 0.0, 0.0, 0.0, 0.0, 0.0, 0.0, 0.0, ...</td>\n",
              "    </tr>\n",
              "    <tr>\n",
              "      <th>1</th>\n",
              "      <td>1</td>\n",
              "      <td>Ripe aromas of fig, blackberry and cassis are ...</td>\n",
              "      <td>[ripe, aromas, of, fig,, blackberry, and, cass...</td>\n",
              "      <td>51</td>\n",
              "      <td>[ripe, aromas, fig,, blackberry, cassis, softe...</td>\n",
              "      <td>31</td>\n",
              "      <td>(0.0, 0.0, 0.0, 0.0, 0.0, 0.0, 0.0, 0.0, 0.0, ...</td>\n",
              "      <td>(0.0, 0.0, 0.0, 0.0, 0.0, 0.0, 0.0, 0.0, 0.0, ...</td>\n",
              "    </tr>\n",
              "    <tr>\n",
              "      <th>2</th>\n",
              "      <td>2</td>\n",
              "      <td>Mac Watson honors the memory of a wine once ma...</td>\n",
              "      <td>[mac, watson, honors, the, memory, of, a, wine...</td>\n",
              "      <td>47</td>\n",
              "      <td>[mac, watson, honors, memory, wine, made, moth...</td>\n",
              "      <td>30</td>\n",
              "      <td>(0.0, 0.0, 0.0, 0.0, 0.0, 0.0, 0.0, 0.0, 0.0, ...</td>\n",
              "      <td>(0.0, 0.0, 0.0, 0.0, 0.0, 0.0, 0.0, 0.0, 0.0, ...</td>\n",
              "    </tr>\n",
              "    <tr>\n",
              "      <th>3</th>\n",
              "      <td>3</td>\n",
              "      <td>This spent 20 months in 30% new French oak, an...</td>\n",
              "      <td>[this, spent, 20, months, in, 30%, new, french...</td>\n",
              "      <td>62</td>\n",
              "      <td>[spent, 20, months, 30%, new, french, oak,, in...</td>\n",
              "      <td>43</td>\n",
              "      <td>(0.0, 0.0, 0.0, 0.0, 0.0, 0.0, 0.0, 0.0, 0.0, ...</td>\n",
              "      <td>(0.0, 0.0, 0.0, 0.0, 0.0, 0.0, 0.0, 0.0, 0.0, ...</td>\n",
              "    </tr>\n",
              "    <tr>\n",
              "      <th>4</th>\n",
              "      <td>4</td>\n",
              "      <td>This is the top wine from La Bégude, named aft...</td>\n",
              "      <td>[this, is, the, top, wine, from, la, bégude,, ...</td>\n",
              "      <td>66</td>\n",
              "      <td>[top, wine, la, bégude,, named, highest, point...</td>\n",
              "      <td>37</td>\n",
              "      <td>(0.0, 0.0, 0.0, 0.0, 0.0, 0.0, 0.0, 0.0, 0.0, ...</td>\n",
              "      <td>(0.0, 0.0, 0.0, 0.0, 0.0, 0.0, 0.0, 0.0, 0.0, ...</td>\n",
              "    </tr>\n",
              "  </tbody>\n",
              "</table>\n",
              "</div>"
            ],
            "text/plain": [
              "  _c0  ...                                           features\n",
              "0   0  ...  (0.0, 0.0, 0.0, 0.0, 0.0, 0.0, 0.0, 0.0, 0.0, ...\n",
              "1   1  ...  (0.0, 0.0, 0.0, 0.0, 0.0, 0.0, 0.0, 0.0, 0.0, ...\n",
              "2   2  ...  (0.0, 0.0, 0.0, 0.0, 0.0, 0.0, 0.0, 0.0, 0.0, ...\n",
              "3   3  ...  (0.0, 0.0, 0.0, 0.0, 0.0, 0.0, 0.0, 0.0, 0.0, ...\n",
              "4   4  ...  (0.0, 0.0, 0.0, 0.0, 0.0, 0.0, 0.0, 0.0, 0.0, ...\n",
              "\n",
              "[5 rows x 8 columns]"
            ]
          },
          "metadata": {
            "tags": []
          },
          "execution_count": 32
        }
      ]
    },
    {
      "cell_type": "code",
      "metadata": {
        "id": "1oVrKxxSB6_v",
        "colab": {
          "base_uri": "https://localhost:8080/",
          "height": 67
        },
        "outputId": "b69cee5d-cac2-4d70-d8aa-9d400b8aca9c"
      },
      "source": [
        "'''\n",
        "# Write description_df to s3\n",
        "dataframe = description_df\n",
        "filename = \"winemag-data_descriptionNLP.csv\"\n",
        "DESTINATION = 'whats-in-a-bottle'\n",
        "\n",
        "_write_dataframe_to_csv_on_s3(dataframe, filename)\n",
        "\n",
        "# Make file public from s3 loading into next cell\n",
        "'''"
      ],
      "execution_count": null,
      "outputs": [
        {
          "output_type": "execute_result",
          "data": {
            "application/vnd.google.colaboratory.intrinsic+json": {
              "type": "string"
            },
            "text/plain": [
              "'\\n# Write description_df to s3\\ndataframe = description_df\\nfilename = \"winemag-data_descriptionNLP.csv\"\\nDESTINATION = \\'whats-in-a-bottle\\'\\n\\n_write_dataframe_to_csv_on_s3(dataframe, filename)\\n\\n# Make file public from s3 loading into next cell\\n'"
            ]
          },
          "metadata": {
            "tags": []
          },
          "execution_count": 39
        }
      ]
    },
    {
      "cell_type": "code",
      "metadata": {
        "colab": {
          "base_uri": "https://localhost:8080/"
        },
        "id": "4hmTEnZjZE36",
        "outputId": "02a5a1d1-084b-4554-c4fb-1a969ac679a2"
      },
      "source": [
        "# Drop the words and filtered columns since this throws errors when loading the file from s3\n",
        "rescaledData = rescaledData.drop('words','filtered','hashedValues')\n",
        "rescaledData.show()"
      ],
      "execution_count": null,
      "outputs": [
        {
          "output_type": "stream",
          "text": [
            "+---+-------+--------------------+--------------------+------+-----+------------------+--------------------+------------------+--------------------+------+---------------+--------------------+\n",
            "|_c0|country|         description|         designation|points|price|          province|            region_1|           variety|              winery|tokens|filtered_tokens|            features|\n",
            "+---+-------+--------------------+--------------------+------+-----+------------------+--------------------+------------------+--------------------+------+---------------+--------------------+\n",
            "|  0|     US|This tremendous 1...|   Martha's Vineyard|    96|235.0|        California|         Napa Valley|Cabernet Sauvignon|               Heitz|    60|             36|(262144,[2701,160...|\n",
            "|  1|  Spain|Ripe aromas of fi...|Carodorum Selecci...|    96|110.0|    Northern Spain|                Toro|     Tinta de Toro|Bodega Carmen Rod...|    51|             31|(262144,[11481,33...|\n",
            "|  2|     US|Mac Watson honors...|Special Selected ...|    96| 90.0|        California|      Knights Valley|   Sauvignon Blanc|            Macauley|    47|             30|(262144,[10077,26...|\n",
            "|  3|     US|This spent 20 mon...|             Reserve|    96| 65.0|            Oregon|   Willamette Valley|        Pinot Noir|               Ponzi|    62|             43|(262144,[1546,423...|\n",
            "|  4| France|This is the top w...|          La Brûlade|    95| 66.0|          Provence|              Bandol|Provence red blend|Domaine de la Bégude|    66|             37|(262144,[1546,171...|\n",
            "|  5|  Spain|Deep, dense and p...|           Numanthia|    95| 73.0|    Northern Spain|                Toro|     Tinta de Toro|           Numanthia|    52|             34|(262144,[8408,181...|\n",
            "|  6|  Spain|Slightly gritty b...|           San Román|    95| 65.0|    Northern Spain|                Toro|     Tinta de Toro|            Maurodos|    50|             31|(262144,[5561,196...|\n",
            "|  7|  Spain|Lush cedary black...|Carodorum Único C...|    95|110.0|    Northern Spain|                Toro|     Tinta de Toro|Bodega Carmen Rod...|    60|             35|(262144,[4235,315...|\n",
            "|  8|     US|This re-named vin...|              Silice|    95| 65.0|            Oregon|  Chehalem Mountains|        Pinot Noir|           Bergström|    42|             27|(262144,[2306,316...|\n",
            "|  9|     US|The producer sour...|Gap's Crown Vineyard|    95| 60.0|        California|        Sonoma Coast|        Pinot Noir|           Blue Farm|    45|             30|(262144,[3354,415...|\n",
            "| 10|  Italy|Elegance, complex...|  Ronco della Chiesa|    95| 80.0|Northeastern Italy|              Collio|          Friulano|    Borgo del Tiglio|    54|             43|(262144,[3848,939...|\n",
            "| 11|     US|From 18-year-old ...|Estate Vineyard W...|    95| 48.0|            Oregon|        Ribbon Ridge|        Pinot Noir|Patricia Green Ce...|    40|             27|(262144,[3456,215...|\n",
            "| 12|     US|A standout even i...|      Weber Vineyard|    95| 48.0|            Oregon|        Dundee Hills|        Pinot Noir|Patricia Green Ce...|    46|             29|(262144,[4176,894...|\n",
            "| 13| France|This wine is in p...|Château Montus Pr...|    95| 90.0|  Southwest France|             Madiran|            Tannat|   Vignobles Brumont|    54|             27|(262144,[8297,120...|\n",
            "| 14|     US|With its sophisti...|      Grace Vineyard|    95|185.0|            Oregon|        Dundee Hills|        Pinot Noir|      Domaine Serene|    68|             40|(262144,[5847,160...|\n",
            "| 15|     US|First made in 200...|              Sigrid|    95| 90.0|            Oregon|   Willamette Valley|        Chardonnay|           Bergström|    46|             27|(262144,[1546,439...|\n",
            "| 16|     US|This blockbuster,...|     Rainin Vineyard|    95|325.0|        California|Diamond Mountain ...|Cabernet Sauvignon|                Hall|    43|             26|(262144,[18911,55...|\n",
            "| 17|  Spain|Nicely oaked blac...|6 Años Reserva Pr...|    95| 80.0|    Northern Spain|    Ribera del Duero|       Tempranillo|            Valduero|    50|             33|(262144,[2701,104...|\n",
            "| 18| France|Coming from a sev...|       Le Pigeonnier|    95|290.0|  Southwest France|              Cahors|            Malbec|  Château Lagrézette|    68|             34|(262144,[1546,544...|\n",
            "| 19|     US|This fresh and li...|Gap's Crown Vineyard|    95| 75.0|        California|        Sonoma Coast|        Pinot Noir|        Gary Farrell|    42|             26|(262144,[3572,190...|\n",
            "+---+-------+--------------------+--------------------+------+-----+------------------+--------------------+------------------+--------------------+------+---------------+--------------------+\n",
            "only showing top 20 rows\n",
            "\n"
          ],
          "name": "stdout"
        }
      ]
    },
    {
      "cell_type": "code",
      "metadata": {
        "colab": {
          "base_uri": "https://localhost:8080/",
          "height": 35
        },
        "id": "7cZ1EI4vFmeT",
        "outputId": "d9131771-8638-4ecb-9a40-8c06db84a1a9"
      },
      "source": [
        "'''\n",
        "# Convert to Pandas df\n",
        "rescaledExport = rescaledData.toPandas()\n",
        "rescaledExport.head(10)\n",
        "'''"
      ],
      "execution_count": null,
      "outputs": [
        {
          "output_type": "execute_result",
          "data": {
            "application/vnd.google.colaboratory.intrinsic+json": {
              "type": "string"
            },
            "text/plain": [
              "'\\n# Convert to Pandas df\\nrescaledExport = rescaledData.toPandas()\\nrescaledExport.head(10)\\n'"
            ]
          },
          "metadata": {
            "tags": []
          },
          "execution_count": 62
        }
      ]
    },
    {
      "cell_type": "code",
      "metadata": {
        "id": "KaiJTXS2iO_O",
        "colab": {
          "base_uri": "https://localhost:8080/",
          "height": 53
        },
        "outputId": "290bdd35-2c2b-4bbc-f6f3-77c8ff7a194c"
      },
      "source": [
        "'''\n",
        "# Save dataframe to google drive\n",
        "# Export dataframe to csv in GDrive\n",
        "rescaledExport.to_csv('winemag-data_rescaled.csv', index=False)\n",
        "\n",
        "# Path = \"drive/My Drive/destination folder\"\n",
        "!cp winemag-data_rescaled.csv \"drive/My Drive/Bootcamp/Whats_In_A_Bottle\"\n",
        "'''"
      ],
      "execution_count": null,
      "outputs": [
        {
          "output_type": "execute_result",
          "data": {
            "application/vnd.google.colaboratory.intrinsic+json": {
              "type": "string"
            },
            "text/plain": [
              "'\\n# Save dataframe to google drive\\n# Export dataframe to csv in GDrive\\nrescaledExport.to_csv(\\'winemag-data_rescaled.csv\\', index=False)\\n\\n# Path = \"drive/My Drive/destination folder\"\\n!cp winemag-data_rescaled.csv \"drive/My Drive/Bootcamp/Whats_In_A_Bottle\"\\n'"
            ]
          },
          "metadata": {
            "tags": []
          },
          "execution_count": 63
        }
      ]
    },
    {
      "cell_type": "code",
      "metadata": {
        "id": "avSQC2EeCkV1",
        "colab": {
          "base_uri": "https://localhost:8080/",
          "height": 53
        },
        "outputId": "7b8a0c9a-bab3-4540-81ca-d27b779691ce"
      },
      "source": [
        "'''\n",
        "# Write rescaledData to s3\n",
        "dataframe = rescaledExport\n",
        "filename = \"winemag-data_rescaled.csv\"\n",
        "DESTINATION = 'whats-in-a-bottle'\n",
        "\n",
        "_write_dataframe_to_csv_on_s3(dataframe, filename)\n",
        "\n",
        "# Make file public from s3 loading into next cell\n",
        "'''"
      ],
      "execution_count": null,
      "outputs": [
        {
          "output_type": "execute_result",
          "data": {
            "application/vnd.google.colaboratory.intrinsic+json": {
              "type": "string"
            },
            "text/plain": [
              "'\\n# Write rescaledData to s3\\ndataframe = rescaledExport\\nfilename = \"winemag-data_rescaled.csv\"\\nDESTINATION = \\'whats-in-a-bottle\\'\\n\\n_write_dataframe_to_csv_on_s3(dataframe, filename)\\n\\n# Make file public from s3 loading into next cell\\n'"
            ]
          },
          "metadata": {
            "tags": []
          },
          "execution_count": 64
        }
      ]
    },
    {
      "cell_type": "markdown",
      "metadata": {
        "id": "96htdi5UTQFX"
      },
      "source": [
        "### **4. Bin data in categorical columns with more than X unique values**"
      ]
    },
    {
      "cell_type": "markdown",
      "metadata": {
        "id": "gevkmcHImZuF"
      },
      "source": [
        "Checkpoint (Rescaled DF)"
      ]
    },
    {
      "cell_type": "code",
      "metadata": {
        "colab": {
          "base_uri": "https://localhost:8080/"
        },
        "id": "1E_x7AQhFnIZ",
        "outputId": "e68a8081-1fd7-4eb6-f4e5-8d4c7de4de02"
      },
      "source": [
        "# Import rescaled Data from s3 bucket\n",
        "# Read in data from S3 Buckets\n",
        "url2 =\"https://whats-in-a-bottle.s3-us-west-1.amazonaws.com/winemag-data_rescaled.csv\"\n",
        "spark.sparkContext.addFile(url2)\n",
        "rescaledData_df = spark.read.csv(SparkFiles.get(\"winemag-data_rescaled.csv\"), sep=\",\", header=True)\n",
        "rescaledData_df.show()"
      ],
      "execution_count": null,
      "outputs": [
        {
          "output_type": "stream",
          "text": [
            "+---+-------+--------------------+--------------------+------+-----+------------------+--------------------+------------------+--------------------+------+---------------+--------------------+\n",
            "|_c0|country|         description|         designation|points|price|          province|            region_1|           variety|              winery|tokens|filtered_tokens|            features|\n",
            "+---+-------+--------------------+--------------------+------+-----+------------------+--------------------+------------------+--------------------+------+---------------+--------------------+\n",
            "|  0|     US|This tremendous 1...|   Martha's Vineyard|    96|235.0|        California|         Napa Valley|Cabernet Sauvignon|               Heitz|    60|             36|(262144,[2701,160...|\n",
            "|  1|  Spain|Ripe aromas of fi...|Carodorum Selecci...|    96|110.0|    Northern Spain|                Toro|     Tinta de Toro|Bodega Carmen Rod...|    51|             31|(262144,[11481,33...|\n",
            "|  2|     US|Mac Watson honors...|Special Selected ...|    96| 90.0|        California|      Knights Valley|   Sauvignon Blanc|            Macauley|    47|             30|(262144,[10077,26...|\n",
            "|  3|     US|This spent 20 mon...|             Reserve|    96| 65.0|            Oregon|   Willamette Valley|        Pinot Noir|               Ponzi|    62|             43|(262144,[1546,423...|\n",
            "|  4| France|This is the top w...|          La Brûlade|    95| 66.0|          Provence|              Bandol|Provence red blend|Domaine de la Bégude|    66|             37|(262144,[1546,171...|\n",
            "|  5|  Spain|Deep, dense and p...|           Numanthia|    95| 73.0|    Northern Spain|                Toro|     Tinta de Toro|           Numanthia|    52|             34|(262144,[8408,181...|\n",
            "|  6|  Spain|Slightly gritty b...|           San Román|    95| 65.0|    Northern Spain|                Toro|     Tinta de Toro|            Maurodos|    50|             31|(262144,[5561,196...|\n",
            "|  7|  Spain|Lush cedary black...|Carodorum Único C...|    95|110.0|    Northern Spain|                Toro|     Tinta de Toro|Bodega Carmen Rod...|    60|             35|(262144,[4235,315...|\n",
            "|  8|     US|This re-named vin...|              Silice|    95| 65.0|            Oregon|  Chehalem Mountains|        Pinot Noir|           Bergström|    42|             27|(262144,[2306,316...|\n",
            "|  9|     US|The producer sour...|Gap's Crown Vineyard|    95| 60.0|        California|        Sonoma Coast|        Pinot Noir|           Blue Farm|    45|             30|(262144,[3354,415...|\n",
            "| 10|  Italy|Elegance, complex...|  Ronco della Chiesa|    95| 80.0|Northeastern Italy|              Collio|          Friulano|    Borgo del Tiglio|    54|             43|(262144,[3848,939...|\n",
            "| 11|     US|From 18-year-old ...|Estate Vineyard W...|    95| 48.0|            Oregon|        Ribbon Ridge|        Pinot Noir|Patricia Green Ce...|    40|             27|(262144,[3456,215...|\n",
            "| 12|     US|A standout even i...|      Weber Vineyard|    95| 48.0|            Oregon|        Dundee Hills|        Pinot Noir|Patricia Green Ce...|    46|             29|(262144,[4176,894...|\n",
            "| 13| France|This wine is in p...|Château Montus Pr...|    95| 90.0|  Southwest France|             Madiran|            Tannat|   Vignobles Brumont|    54|             27|(262144,[8297,120...|\n",
            "| 14|     US|With its sophisti...|      Grace Vineyard|    95|185.0|            Oregon|        Dundee Hills|        Pinot Noir|      Domaine Serene|    68|             40|(262144,[5847,160...|\n",
            "| 15|     US|First made in 200...|              Sigrid|    95| 90.0|            Oregon|   Willamette Valley|        Chardonnay|           Bergström|    46|             27|(262144,[1546,439...|\n",
            "| 16|     US|This blockbuster,...|     Rainin Vineyard|    95|325.0|        California|Diamond Mountain ...|Cabernet Sauvignon|                Hall|    43|             26|(262144,[18911,55...|\n",
            "| 17|  Spain|Nicely oaked blac...|6 Años Reserva Pr...|    95| 80.0|    Northern Spain|    Ribera del Duero|       Tempranillo|            Valduero|    50|             33|(262144,[2701,104...|\n",
            "| 18| France|Coming from a sev...|       Le Pigeonnier|    95|290.0|  Southwest France|              Cahors|            Malbec|  Château Lagrézette|    68|             34|(262144,[1546,544...|\n",
            "| 19|     US|This fresh and li...|Gap's Crown Vineyard|    95| 75.0|        California|        Sonoma Coast|        Pinot Noir|        Gary Farrell|    42|             26|(262144,[3572,190...|\n",
            "+---+-------+--------------------+--------------------+------+-----+------------------+--------------------+------------------+--------------------+------+---------------+--------------------+\n",
            "only showing top 20 rows\n",
            "\n"
          ],
          "name": "stdout"
        }
      ]
    },
    {
      "cell_type": "code",
      "metadata": {
        "id": "hqy-s4N8Vvps"
      },
      "source": [
        "# Convert to pandas dataframe\n",
        "rescaledData_pd = rescaledData_df.toPandas()"
      ],
      "execution_count": null,
      "outputs": []
    },
    {
      "cell_type": "code",
      "metadata": {
        "colab": {
          "base_uri": "https://localhost:8080/",
          "height": 501
        },
        "id": "6I5S_HEETx4v",
        "outputId": "af85efa6-8540-4e26-e29d-bf364505211b"
      },
      "source": [
        "# Drop the description column for binning\n",
        "#rescaledData_pd = rescaledData_pd.drop(['description'], axis=1)\n",
        "rescaledData_pd.head()"
      ],
      "execution_count": null,
      "outputs": [
        {
          "output_type": "execute_result",
          "data": {
            "text/html": [
              "<div>\n",
              "<style scoped>\n",
              "    .dataframe tbody tr th:only-of-type {\n",
              "        vertical-align: middle;\n",
              "    }\n",
              "\n",
              "    .dataframe tbody tr th {\n",
              "        vertical-align: top;\n",
              "    }\n",
              "\n",
              "    .dataframe thead th {\n",
              "        text-align: right;\n",
              "    }\n",
              "</style>\n",
              "<table border=\"1\" class=\"dataframe\">\n",
              "  <thead>\n",
              "    <tr style=\"text-align: right;\">\n",
              "      <th></th>\n",
              "      <th>_c0</th>\n",
              "      <th>country</th>\n",
              "      <th>description</th>\n",
              "      <th>designation</th>\n",
              "      <th>points</th>\n",
              "      <th>price</th>\n",
              "      <th>province</th>\n",
              "      <th>region_1</th>\n",
              "      <th>variety</th>\n",
              "      <th>winery</th>\n",
              "      <th>tokens</th>\n",
              "      <th>filtered_tokens</th>\n",
              "      <th>features</th>\n",
              "    </tr>\n",
              "  </thead>\n",
              "  <tbody>\n",
              "    <tr>\n",
              "      <th>0</th>\n",
              "      <td>0</td>\n",
              "      <td>US</td>\n",
              "      <td>This tremendous 100% varietal wine hails from ...</td>\n",
              "      <td>Martha's Vineyard</td>\n",
              "      <td>96</td>\n",
              "      <td>235.0</td>\n",
              "      <td>California</td>\n",
              "      <td>Napa Valley</td>\n",
              "      <td>Cabernet Sauvignon</td>\n",
              "      <td>Heitz</td>\n",
              "      <td>60</td>\n",
              "      <td>36</td>\n",
              "      <td>(262144,[2701,16004,23236,28401,33079,39068,45...</td>\n",
              "    </tr>\n",
              "    <tr>\n",
              "      <th>1</th>\n",
              "      <td>1</td>\n",
              "      <td>Spain</td>\n",
              "      <td>Ripe aromas of fig, blackberry and cassis are ...</td>\n",
              "      <td>Carodorum Selección Especial Reserva</td>\n",
              "      <td>96</td>\n",
              "      <td>110.0</td>\n",
              "      <td>Northern Spain</td>\n",
              "      <td>Toro</td>\n",
              "      <td>Tinta de Toro</td>\n",
              "      <td>Bodega Carmen Rodríguez</td>\n",
              "      <td>51</td>\n",
              "      <td>31</td>\n",
              "      <td>(262144,[11481,33140,41643,46758,55709,59455,6...</td>\n",
              "    </tr>\n",
              "    <tr>\n",
              "      <th>2</th>\n",
              "      <td>2</td>\n",
              "      <td>US</td>\n",
              "      <td>Mac Watson honors the memory of a wine once ma...</td>\n",
              "      <td>Special Selected Late Harvest</td>\n",
              "      <td>96</td>\n",
              "      <td>90.0</td>\n",
              "      <td>California</td>\n",
              "      <td>Knights Valley</td>\n",
              "      <td>Sauvignon Blanc</td>\n",
              "      <td>Macauley</td>\n",
              "      <td>47</td>\n",
              "      <td>30</td>\n",
              "      <td>(262144,[10077,26468,32151,49402,61157,64289,7...</td>\n",
              "    </tr>\n",
              "    <tr>\n",
              "      <th>3</th>\n",
              "      <td>3</td>\n",
              "      <td>US</td>\n",
              "      <td>This spent 20 months in 30% new French oak, an...</td>\n",
              "      <td>Reserve</td>\n",
              "      <td>96</td>\n",
              "      <td>65.0</td>\n",
              "      <td>Oregon</td>\n",
              "      <td>Willamette Valley</td>\n",
              "      <td>Pinot Noir</td>\n",
              "      <td>Ponzi</td>\n",
              "      <td>62</td>\n",
              "      <td>43</td>\n",
              "      <td>(262144,[1546,4238,13171,15324,16356,25381,331...</td>\n",
              "    </tr>\n",
              "    <tr>\n",
              "      <th>4</th>\n",
              "      <td>4</td>\n",
              "      <td>France</td>\n",
              "      <td>This is the top wine from La Bégude, named aft...</td>\n",
              "      <td>La Brûlade</td>\n",
              "      <td>95</td>\n",
              "      <td>66.0</td>\n",
              "      <td>Provence</td>\n",
              "      <td>Bandol</td>\n",
              "      <td>Provence red blend</td>\n",
              "      <td>Domaine de la Bégude</td>\n",
              "      <td>66</td>\n",
              "      <td>37</td>\n",
              "      <td>(262144,[1546,17161,18176,31536,33140,48479,49...</td>\n",
              "    </tr>\n",
              "  </tbody>\n",
              "</table>\n",
              "</div>"
            ],
            "text/plain": [
              "  _c0  ...                                           features\n",
              "0   0  ...  (262144,[2701,16004,23236,28401,33079,39068,45...\n",
              "1   1  ...  (262144,[11481,33140,41643,46758,55709,59455,6...\n",
              "2   2  ...  (262144,[10077,26468,32151,49402,61157,64289,7...\n",
              "3   3  ...  (262144,[1546,4238,13171,15324,16356,25381,331...\n",
              "4   4  ...  (262144,[1546,17161,18176,31536,33140,48479,49...\n",
              "\n",
              "[5 rows x 13 columns]"
            ]
          },
          "metadata": {
            "tags": []
          },
          "execution_count": 67
        }
      ]
    },
    {
      "cell_type": "code",
      "metadata": {
        "colab": {
          "base_uri": "https://localhost:8080/"
        },
        "id": "GjmVvlR3UK4W",
        "outputId": "197cee68-0b65-4523-8d1d-c8932cf837eb"
      },
      "source": [
        "# Look at the country value counts for binning\n",
        "country_counts = rescaledData_pd.country.value_counts()\n",
        "country_counts"
      ],
      "execution_count": null,
      "outputs": [
        {
          "output_type": "execute_result",
          "data": {
            "text/plain": [
              "US                         62135\n",
              "Italy                      18781\n",
              "France                     14783\n",
              "Spain                       8160\n",
              "Chile                       5766\n",
              "Argentina                   5587\n",
              "Australia                   4891\n",
              "Portugal                    4176\n",
              "New Zealand                 3073\n",
              "Austria                     2483\n",
              "Germany                     2347\n",
              "South Africa                2237\n",
              "Greece                       872\n",
              "Israel                       610\n",
              "Hungary                      230\n",
              "Canada                       194\n",
              "Romania                      139\n",
              "Uruguay                       85\n",
              "Croatia                       83\n",
              "Slovenia                      81\n",
              "Bulgaria                      77\n",
              "Moldova                       71\n",
              "Mexico                        63\n",
              "Turkey                        50\n",
              "Georgia                       43\n",
              "Lebanon                       37\n",
              "Cyprus                        31\n",
              "Brazil                        25\n",
              "Macedonia                     16\n",
              "Serbia                        14\n",
              "Morocco                       12\n",
              "Luxembourg                     9\n",
              "England                        8\n",
              "India                          8\n",
              "Lithuania                      8\n",
              "Czech Republic                 6\n",
              "Ukraine                        5\n",
              "Bosnia and Herzegovina         4\n",
              "South Korea                    4\n",
              "Switzerland                    4\n",
              "China                          3\n",
              "Slovakia                       3\n",
              "Montenegro                     2\n",
              "Japan                          2\n",
              "Albania                        2\n",
              " which is rich in sweet        1\n",
              "US-France                      1\n",
              "Name: country, dtype: int64"
            ]
          },
          "metadata": {
            "tags": []
          },
          "execution_count": 68
        }
      ]
    },
    {
      "cell_type": "code",
      "metadata": {
        "colab": {
          "base_uri": "https://localhost:8080/"
        },
        "id": "BBbVt_M_ak4H",
        "outputId": "391971a0-8c6d-4053-abc5-bb66310f97fa"
      },
      "source": [
        "# Replace country values for binning\n",
        "\n",
        "# Determine which values to replace if counts are less than X\n",
        "replace_country = list(country_counts[country_counts < 1000].index)\n",
        "\n",
        "# Replace in dataframe\n",
        "for i in replace_country:\n",
        "  rescaledData_pd.country = rescaledData_pd.country.replace(i, \"Other\")\n",
        "\n",
        "# Check to make sure binning was successful\n",
        "rescaledData_pd.country.value_counts()"
      ],
      "execution_count": null,
      "outputs": [
        {
          "output_type": "execute_result",
          "data": {
            "text/plain": [
              "US              62135\n",
              "Italy           18781\n",
              "France          14783\n",
              "Spain            8160\n",
              "Chile            5766\n",
              "Argentina        5587\n",
              "Australia        4891\n",
              "Portugal         4176\n",
              "New Zealand      3073\n",
              "Other            2803\n",
              "Austria          2483\n",
              "Germany          2347\n",
              "South Africa     2237\n",
              "Name: country, dtype: int64"
            ]
          },
          "metadata": {
            "tags": []
          },
          "execution_count": 69
        }
      ]
    },
    {
      "cell_type": "code",
      "metadata": {
        "colab": {
          "base_uri": "https://localhost:8080/"
        },
        "id": "_SpyjeoQd8vH",
        "outputId": "f787e248-ae76-41da-af1b-2e439890d0d2"
      },
      "source": [
        "# Look at the designation value counts for binning\n",
        "designation_counts = rescaledData_pd.designation.value_counts()\n",
        "designation_counts.tail(50000)"
      ],
      "execution_count": null,
      "outputs": [
        {
          "output_type": "execute_result",
          "data": {
            "text/plain": [
              "N/A                                  42304\n",
              "Reserve                               2704\n",
              "Reserva                               1755\n",
              "Estate                                1561\n",
              "Riserva                                607\n",
              "                                     ...  \n",
              "Lawrence Vineyards Don Isidro Red        1\n",
              "Le Rabault Rouge                         1\n",
              "Bin 60A                                  1\n",
              "Mason Vineyard                           1\n",
              "Héloïse                                  1\n",
              "Name: designation, Length: 28359, dtype: int64"
            ]
          },
          "metadata": {
            "tags": []
          },
          "execution_count": 70
        }
      ]
    },
    {
      "cell_type": "code",
      "metadata": {
        "colab": {
          "base_uri": "https://localhost:8080/",
          "height": 282
        },
        "id": "I5yywvYmCZxp",
        "outputId": "beba2aa2-6a26-40db-c25c-6b43ef56065f"
      },
      "source": [
        "# Visualize the value counts of designation\n",
        "designation_counts.plot.density()"
      ],
      "execution_count": null,
      "outputs": [
        {
          "output_type": "execute_result",
          "data": {
            "text/plain": [
              "<matplotlib.axes._subplots.AxesSubplot at 0x7f84e780b850>"
            ]
          },
          "metadata": {
            "tags": []
          },
          "execution_count": 71
        },
        {
          "output_type": "display_data",
          "data": {
            "image/png": "[encoded data removed]",
            "text/plain": [
              "<Figure size 432x288 with 1 Axes>"
            ]
          },
          "metadata": {
            "tags": [],
            "needs_background": "light"
          }
        }
      ]
    },
    {
      "cell_type": "code",
      "metadata": {
        "colab": {
          "base_uri": "https://localhost:8080/"
        },
        "id": "FlwAu7mKeOPp",
        "outputId": "354139ec-9390-4564-8dab-e0d0046bbec0"
      },
      "source": [
        "# Replace the designation values for binning\n",
        "\n",
        "# Determine which values to replace if counts are less than X\n",
        "replace_designation = list(designation_counts[designation_counts < 100].index)\n",
        "\n",
        "# Replace in dataframe\n",
        "for i in replace_designation:\n",
        "  rescaledData_pd.designation = rescaledData_pd.designation.replace(i, \"Other\")\n",
        "\n",
        "# Check to make sure binning was successful\n",
        "rescaledData_pd.designation.value_counts()"
      ],
      "execution_count": null,
      "outputs": [
        {
          "output_type": "execute_result",
          "data": {
            "text/plain": [
              "Other                   82649\n",
              "N/A                     42304\n",
              "Reserve                  2704\n",
              "Reserva                  1755\n",
              "Estate                   1561\n",
              "Riserva                   607\n",
              "Brut                      556\n",
              "Crianza                   494\n",
              "Estate Grown              448\n",
              "Estate Bottled            395\n",
              "Dry                       364\n",
              "Old Vine                  330\n",
              "Gran Reserva              319\n",
              "Brut Rosé                 227\n",
              "Bien Nacido Vineyard      195\n",
              "Extra Dry                 193\n",
              "Vieilles Vignes           177\n",
              "Rosé                      171\n",
              "Late Harvest              161\n",
              "Unoaked                   156\n",
              "Barrel Select             145\n",
              "Grand Reserve             138\n",
              "Réserve                   137\n",
              "Single Vineyard           137\n",
              "Old Vines                 127\n",
              "Estate Reserve            121\n",
              "Late Bottled Vintage      118\n",
              "Classic                   115\n",
              "Tinto                     112\n",
              "Vintage                   103\n",
              "Special Reserve           102\n",
              "Kosher                    101\n",
              "Name: designation, dtype: int64"
            ]
          },
          "metadata": {
            "tags": []
          },
          "execution_count": 72
        }
      ]
    },
    {
      "cell_type": "code",
      "metadata": {
        "colab": {
          "base_uri": "https://localhost:8080/"
        },
        "id": "7N2MSlgUezvG",
        "outputId": "bf08cf90-9b84-4c40-d4ff-af8ed3505936"
      },
      "source": [
        "# Look at the province value counts for binning\n",
        "province_counts = rescaledData_pd.province.value_counts()\n",
        "province_counts.tail(400)"
      ],
      "execution_count": null,
      "outputs": [
        {
          "output_type": "execute_result",
          "data": {
            "text/plain": [
              "Dão                                                                              219\n",
              "Cachapoal Valley                                                                 214\n",
              "Limarí Valley                                                                    202\n",
              "Andalucia                                                                        194\n",
              "Aconcagua Valley                                                                 194\n",
              "                                                                                ... \n",
              "Limnos                                                                             1\n",
              " sweet beet                                                                        1\n",
              "Cape South Coast                                                                   1\n",
              "Vino da Tavola della Svizzera Italiana                                             1\n",
              " smoky flavors pop up again midpalate. Medium-sized; appropriate with food.\"\"      1\n",
              "Name: province, Length: 400, dtype: int64"
            ]
          },
          "metadata": {
            "tags": []
          },
          "execution_count": 73
        }
      ]
    },
    {
      "cell_type": "code",
      "metadata": {
        "colab": {
          "base_uri": "https://localhost:8080/"
        },
        "id": "hq5SSnkaXlDL",
        "outputId": "091cd181-a088-40b8-bacb-f3913575cbdc"
      },
      "source": [
        "# Replace the province values for binning\n",
        "\n",
        "# Determine which values to replace if counts are less than X\n",
        "replace_province = list(province_counts[province_counts < 500].index)\n",
        "\n",
        "# Replace in dataframe\n",
        "for i in replace_province:\n",
        "  rescaledData_pd.province = rescaledData_pd.province.replace(i, \"Other\")\n",
        "\n",
        "# Check to make sure binning was successful\n",
        "rescaledData_pd.province.value_counts()"
      ],
      "execution_count": null,
      "outputs": [
        {
          "output_type": "execute_result",
          "data": {
            "text/plain": [
              "California              44342\n",
              "Other                   16138\n",
              "Washington               9682\n",
              "Tuscany                  5961\n",
              "Northern Spain           4823\n",
              "Mendoza Province         4706\n",
              "Oregon                   4571\n",
              "Burgundy                 3340\n",
              "Veneto                   3103\n",
              "South Australia          2949\n",
              "Piedmont                 2908\n",
              "Bordeaux                 2658\n",
              "New York                 2413\n",
              "Sicily & Sardinia        2031\n",
              "Northeastern Italy       1851\n",
              "Marlborough              1595\n",
              "Loire Valley             1391\n",
              "Alsace                   1359\n",
              "Catalonia                1331\n",
              "Southwest France         1318\n",
              "Central Italy            1257\n",
              "Rhône Valley             1231\n",
              "Colchagua Valley         1192\n",
              "Southern Italy           1167\n",
              "Champagne                1089\n",
              "Languedoc-Roussillon     1023\n",
              "Maipo Valley              888\n",
              "Douro                     859\n",
              "Provence                  828\n",
              "Casablanca Valley         773\n",
              "Mosel                     760\n",
              "Central Spain             743\n",
              "Alentejano                700\n",
              "Stellenbosch              678\n",
              "Burgenland                648\n",
              "Port                      635\n",
              "Victoria                  609\n",
              "Australia Other           551\n",
              "Galicia                   541\n",
              "Maule Valley              522\n",
              "Central Valley            521\n",
              "Mosel-Saar-Ruwer          518\n",
              "Western Cape              511\n",
              "Virginia                  508\n",
              "Name: province, dtype: int64"
            ]
          },
          "metadata": {
            "tags": []
          },
          "execution_count": 74
        }
      ]
    },
    {
      "cell_type": "code",
      "metadata": {
        "colab": {
          "base_uri": "https://localhost:8080/"
        },
        "id": "v5JWXHpYfFCO",
        "outputId": "66048795-e2f9-44e3-8098-b30db9423af6"
      },
      "source": [
        "# Look at the region_1 counts for binning\n",
        "region_counts = rescaledData_pd.region_1.value_counts()\n",
        "region_counts.tail(1000)"
      ],
      "execution_count": null,
      "outputs": [
        {
          "output_type": "execute_result",
          "data": {
            "text/plain": [
              "Gaillac                                  83\n",
              "Chianti Rufina                           83\n",
              "Calistoga                                82\n",
              "Valpolicella Classico Superiore          82\n",
              "Valdepeñas                               82\n",
              "                                         ..\n",
              "Clos de Tart                              1\n",
              "Gard                                      1\n",
              "Côtes du Roussillon Villages Tautavel     1\n",
              "Strevi                                    1\n",
              "Erbaluce di Caluso                        1\n",
              "Name: region_1, Length: 1000, dtype: int64"
            ]
          },
          "metadata": {
            "tags": []
          },
          "execution_count": 75
        }
      ]
    },
    {
      "cell_type": "code",
      "metadata": {
        "colab": {
          "base_uri": "https://localhost:8080/"
        },
        "id": "lp273It5hsLQ",
        "outputId": "ddd4b7f0-3231-4d0f-858b-615db84a8ec6"
      },
      "source": [
        "# Replace the region values for binning\n",
        "\n",
        "# Determine which values to replace if counts are less than X\n",
        "replace_region = list(region_counts[region_counts < 500].index)\n",
        "\n",
        "# Replace in dataframe\n",
        "for i in replace_region:\n",
        "  rescaledData_pd.region_1 = rescaledData_pd.region_1.replace(i, \"Other\")\n",
        "\n",
        "# Check to make sure binning was successful\n",
        "rescaledData_pd.region_1.value_counts()"
      ],
      "execution_count": null,
      "outputs": [
        {
          "output_type": "execute_result",
          "data": {
            "text/plain": [
              "Other                                  49452\n",
              "N/A                                    22830\n",
              "Napa Valley                             6187\n",
              "Columbia Valley (WA)                    4940\n",
              "Mendoza                                 3556\n",
              "Russian River Valley                    3537\n",
              "California                              3458\n",
              "Paso Robles                             3039\n",
              "Willamette Valley                       2085\n",
              "Rioja                                   1884\n",
              "Sonoma County                           1852\n",
              "Toscana                                 1660\n",
              "Sonoma Coast                            1473\n",
              "Carneros                                1456\n",
              "Dry Creek Valley                        1396\n",
              "Finger Lakes                            1365\n",
              "Sicilia                                 1364\n",
              "Santa Barbara County                    1313\n",
              "Brunello di Montalcino                  1305\n",
              "Alsace                                  1261\n",
              "Walla Walla Valley (WA)                 1207\n",
              "Yakima Valley                           1157\n",
              "Alexander Valley                        1138\n",
              "Champagne                               1088\n",
              "Sta. Rita Hills                          982\n",
              "Sonoma Valley                            964\n",
              "Santa Lucia Highlands                    954\n",
              "Central Coast                            944\n",
              "Barolo                                   924\n",
              "Santa Ynez Valley                        887\n",
              "Lodi                                     868\n",
              "Ribera del Duero                         865\n",
              "Chianti Classico                         835\n",
              "Santa Maria Valley                       824\n",
              "Anderson Valley                          664\n",
              "McLaren Vale                             663\n",
              "Red Mountain                             638\n",
              "North Fork of Long Island                634\n",
              "Cava                                     593\n",
              "Edna Valley                              592\n",
              "Rutherford                               578\n",
              "Côtes de Provence                        573\n",
              "Monterey                                 559\n",
              "Horse Heaven Hills                       552\n",
              "Amarone della Valpolicella Classico      551\n",
              "Washington                               528\n",
              "Chablis                                  525\n",
              "Santa Cruz Mountains                     522\n",
              "Name: region_1, dtype: int64"
            ]
          },
          "metadata": {
            "tags": []
          },
          "execution_count": 76
        }
      ]
    },
    {
      "cell_type": "code",
      "metadata": {
        "colab": {
          "base_uri": "https://localhost:8080/"
        },
        "id": "exXiE56sfNCg",
        "outputId": "e87bee57-c41b-41e8-c6ef-faa4e668c346"
      },
      "source": [
        "# Look at the variety counts for binning\n",
        "variety_counts = rescaledData_pd.variety.value_counts()\n",
        "variety_counts.tail(80)"
      ],
      "execution_count": null,
      "outputs": [
        {
          "output_type": "execute_result",
          "data": {
            "text/plain": [
              "Rufete              1\n",
              "Sauvignon Musqué    1\n",
              "Colorino            1\n",
              "Cabernet Moravia    1\n",
              "Carnelian           1\n",
              "                   ..\n",
              "Syrah-Malbec        1\n",
              "Albarossa           1\n",
              "Groppello           1\n",
              "Altesse             1\n",
              "Carignan-Syrah      1\n",
              "Name: variety, Length: 80, dtype: int64"
            ]
          },
          "metadata": {
            "tags": []
          },
          "execution_count": 77
        }
      ]
    },
    {
      "cell_type": "code",
      "metadata": {
        "colab": {
          "base_uri": "https://localhost:8080/"
        },
        "id": "B_f15W02ifXI",
        "outputId": "cd28c049-fcd6-4763-8cb1-b964d0fd9742"
      },
      "source": [
        "# Replace the variety values for binning\n",
        "\n",
        "# Determine which values to replace if counts are less than X\n",
        "replace_variety = list(variety_counts[variety_counts < 1000].index)\n",
        "\n",
        "# Replace in dataframe\n",
        "for i in replace_variety:\n",
        "  rescaledData_pd.variety = rescaledData_pd.variety.replace(i, \"Other\")\n",
        "\n",
        "# Check to make sure binning was successful\n",
        "rescaledData_pd.variety.value_counts()"
      ],
      "execution_count": null,
      "outputs": [
        {
          "output_type": "execute_result",
          "data": {
            "text/plain": [
              "Other                            28078\n",
              "Chardonnay                       13773\n",
              "Pinot Noir                       13622\n",
              "Cabernet Sauvignon               12662\n",
              "Red Blend                         9377\n",
              "Sauvignon Blanc                   6054\n",
              "Syrah                             5667\n",
              "Riesling                          5210\n",
              "Merlot                            4985\n",
              "Bordeaux-style Red Blend          4544\n",
              "Zinfandel                         3792\n",
              "Malbec                            3085\n",
              "Sangiovese                        2879\n",
              "White Blend                       2552\n",
              "Tempranillo                       2525\n",
              "Rosé                              2461\n",
              "Shiraz                            1941\n",
              "Sparkling Blend                   1818\n",
              "Portuguese Red                    1811\n",
              "Nebbiolo                          1528\n",
              "Rhône-style Red Blend             1455\n",
              "Cabernet Franc                    1310\n",
              "Corvina, Rondinella, Molinara     1292\n",
              "Pinot Gris                        1275\n",
              "Pinot Grigio                      1268\n",
              "Viognier                          1255\n",
              "Champagne Blend                   1003\n",
              "Name: variety, dtype: int64"
            ]
          },
          "metadata": {
            "tags": []
          },
          "execution_count": 78
        }
      ]
    },
    {
      "cell_type": "code",
      "metadata": {
        "colab": {
          "base_uri": "https://localhost:8080/"
        },
        "id": "ZH0bsmS8fPBc",
        "outputId": "5cbf7aa6-011e-4982-a68a-e00f4f4dcd15"
      },
      "source": [
        "# Look at the winery counts for binning\n",
        "winery_counts = rescaledData_pd.winery.value_counts()\n",
        "winery_counts.tail(10000)"
      ],
      "execution_count": null,
      "outputs": [
        {
          "output_type": "execute_result",
          "data": {
            "text/plain": [
              "Barão de Vilar      9\n",
              "Lammershoek         9\n",
              "Château K           9\n",
              "Toasted Head        9\n",
              "Chateau de Pizay    9\n",
              "                   ..\n",
              "Blue Reef           1\n",
              "Château Piron       1\n",
              "Münzenrieder        1\n",
              "Casa Viva           1\n",
              "Unparalleled        1\n",
              "Name: winery, Length: 10000, dtype: int64"
            ]
          },
          "metadata": {
            "tags": []
          },
          "execution_count": 79
        }
      ]
    },
    {
      "cell_type": "code",
      "metadata": {
        "colab": {
          "base_uri": "https://localhost:8080/",
          "height": 282
        },
        "id": "9ZYn6zjbqAPz",
        "outputId": "4cfa778d-ed35-4dee-f8ca-98b18608cd3d"
      },
      "source": [
        "# Visualize the value counts of winery\n",
        "winery_counts.plot.density()"
      ],
      "execution_count": null,
      "outputs": [
        {
          "output_type": "execute_result",
          "data": {
            "text/plain": [
              "<matplotlib.axes._subplots.AxesSubplot at 0x7f84ebd78290>"
            ]
          },
          "metadata": {
            "tags": []
          },
          "execution_count": 80
        },
        {
          "output_type": "display_data",
          "data": {
            "image/png": "[encoded data removed]",
            "text/plain": [
              "<Figure size 432x288 with 1 Axes>"
            ]
          },
          "metadata": {
            "tags": [],
            "needs_background": "light"
          }
        }
      ]
    },
    {
      "cell_type": "code",
      "metadata": {
        "colab": {
          "base_uri": "https://localhost:8080/"
        },
        "id": "5p0ljEwwjGXM",
        "outputId": "2e4b124f-f79f-42cc-a676-ce432da7a2f3"
      },
      "source": [
        "# Replace the winery values for binning\n",
        "\n",
        "# Determine which values to replace if counts are less than X\n",
        "replace_winery = list(winery_counts[winery_counts < 150].index)\n",
        "\n",
        "# Replace in dataframe\n",
        "for i in replace_winery:\n",
        "  rescaledData_pd.winery = rescaledData_pd.winery.replace(i, \"Other\")\n",
        "\n",
        "# Check to make sure binning was successful\n",
        "rescaledData_pd.winery.value_counts()"
      ],
      "execution_count": null,
      "outputs": [
        {
          "output_type": "execute_result",
          "data": {
            "text/plain": [
              "Other                    133423\n",
              "Williams Selyem             371\n",
              "Testarossa                  274\n",
              "DFJ Vinhos                  249\n",
              "Chateau Ste. Michelle       225\n",
              "Columbia Crest              216\n",
              "Kendall-Jackson             215\n",
              "Concha y Toro               214\n",
              "Trapiche                    201\n",
              "Bouchard Père & Fils        192\n",
              "De Loach                    189\n",
              "Joseph Drouhin              185\n",
              "Kenwood                     182\n",
              "Cameron Hughes              172\n",
              "D'Arenberg                  153\n",
              "Morgan                      153\n",
              "Louis Latour                153\n",
              "Dry Creek Vineyard          153\n",
              "Robert Mondavi              151\n",
              "Concannon                   151\n",
              "Name: winery, dtype: int64"
            ]
          },
          "metadata": {
            "tags": []
          },
          "execution_count": 81
        }
      ]
    },
    {
      "cell_type": "code",
      "metadata": {
        "colab": {
          "base_uri": "https://localhost:8080/",
          "height": 501
        },
        "id": "dQHAYTc8fQ8h",
        "outputId": "06eff745-d255-45fd-813d-8af9f12d2fc3"
      },
      "source": [
        "# Check successful binning before export\n",
        "rescaledData_pd.head()"
      ],
      "execution_count": null,
      "outputs": [
        {
          "output_type": "execute_result",
          "data": {
            "text/html": [
              "<div>\n",
              "<style scoped>\n",
              "    .dataframe tbody tr th:only-of-type {\n",
              "        vertical-align: middle;\n",
              "    }\n",
              "\n",
              "    .dataframe tbody tr th {\n",
              "        vertical-align: top;\n",
              "    }\n",
              "\n",
              "    .dataframe thead th {\n",
              "        text-align: right;\n",
              "    }\n",
              "</style>\n",
              "<table border=\"1\" class=\"dataframe\">\n",
              "  <thead>\n",
              "    <tr style=\"text-align: right;\">\n",
              "      <th></th>\n",
              "      <th>_c0</th>\n",
              "      <th>country</th>\n",
              "      <th>description</th>\n",
              "      <th>designation</th>\n",
              "      <th>points</th>\n",
              "      <th>price</th>\n",
              "      <th>province</th>\n",
              "      <th>region_1</th>\n",
              "      <th>variety</th>\n",
              "      <th>winery</th>\n",
              "      <th>tokens</th>\n",
              "      <th>filtered_tokens</th>\n",
              "      <th>features</th>\n",
              "    </tr>\n",
              "  </thead>\n",
              "  <tbody>\n",
              "    <tr>\n",
              "      <th>0</th>\n",
              "      <td>0</td>\n",
              "      <td>US</td>\n",
              "      <td>This tremendous 100% varietal wine hails from ...</td>\n",
              "      <td>Other</td>\n",
              "      <td>96</td>\n",
              "      <td>235.0</td>\n",
              "      <td>California</td>\n",
              "      <td>Napa Valley</td>\n",
              "      <td>Cabernet Sauvignon</td>\n",
              "      <td>Other</td>\n",
              "      <td>60</td>\n",
              "      <td>36</td>\n",
              "      <td>(262144,[2701,16004,23236,28401,33079,39068,45...</td>\n",
              "    </tr>\n",
              "    <tr>\n",
              "      <th>1</th>\n",
              "      <td>1</td>\n",
              "      <td>Spain</td>\n",
              "      <td>Ripe aromas of fig, blackberry and cassis are ...</td>\n",
              "      <td>Other</td>\n",
              "      <td>96</td>\n",
              "      <td>110.0</td>\n",
              "      <td>Northern Spain</td>\n",
              "      <td>Other</td>\n",
              "      <td>Other</td>\n",
              "      <td>Other</td>\n",
              "      <td>51</td>\n",
              "      <td>31</td>\n",
              "      <td>(262144,[11481,33140,41643,46758,55709,59455,6...</td>\n",
              "    </tr>\n",
              "    <tr>\n",
              "      <th>2</th>\n",
              "      <td>2</td>\n",
              "      <td>US</td>\n",
              "      <td>Mac Watson honors the memory of a wine once ma...</td>\n",
              "      <td>Other</td>\n",
              "      <td>96</td>\n",
              "      <td>90.0</td>\n",
              "      <td>California</td>\n",
              "      <td>Other</td>\n",
              "      <td>Sauvignon Blanc</td>\n",
              "      <td>Other</td>\n",
              "      <td>47</td>\n",
              "      <td>30</td>\n",
              "      <td>(262144,[10077,26468,32151,49402,61157,64289,7...</td>\n",
              "    </tr>\n",
              "    <tr>\n",
              "      <th>3</th>\n",
              "      <td>3</td>\n",
              "      <td>US</td>\n",
              "      <td>This spent 20 months in 30% new French oak, an...</td>\n",
              "      <td>Reserve</td>\n",
              "      <td>96</td>\n",
              "      <td>65.0</td>\n",
              "      <td>Oregon</td>\n",
              "      <td>Willamette Valley</td>\n",
              "      <td>Pinot Noir</td>\n",
              "      <td>Other</td>\n",
              "      <td>62</td>\n",
              "      <td>43</td>\n",
              "      <td>(262144,[1546,4238,13171,15324,16356,25381,331...</td>\n",
              "    </tr>\n",
              "    <tr>\n",
              "      <th>4</th>\n",
              "      <td>4</td>\n",
              "      <td>France</td>\n",
              "      <td>This is the top wine from La Bégude, named aft...</td>\n",
              "      <td>Other</td>\n",
              "      <td>95</td>\n",
              "      <td>66.0</td>\n",
              "      <td>Provence</td>\n",
              "      <td>Other</td>\n",
              "      <td>Other</td>\n",
              "      <td>Other</td>\n",
              "      <td>66</td>\n",
              "      <td>37</td>\n",
              "      <td>(262144,[1546,17161,18176,31536,33140,48479,49...</td>\n",
              "    </tr>\n",
              "  </tbody>\n",
              "</table>\n",
              "</div>"
            ],
            "text/plain": [
              "  _c0  ...                                           features\n",
              "0   0  ...  (262144,[2701,16004,23236,28401,33079,39068,45...\n",
              "1   1  ...  (262144,[11481,33140,41643,46758,55709,59455,6...\n",
              "2   2  ...  (262144,[10077,26468,32151,49402,61157,64289,7...\n",
              "3   3  ...  (262144,[1546,4238,13171,15324,16356,25381,331...\n",
              "4   4  ...  (262144,[1546,17161,18176,31536,33140,48479,49...\n",
              "\n",
              "[5 rows x 13 columns]"
            ]
          },
          "metadata": {
            "tags": []
          },
          "execution_count": 82
        }
      ]
    },
    {
      "cell_type": "code",
      "metadata": {
        "colab": {
          "base_uri": "https://localhost:8080/",
          "height": 53
        },
        "id": "3FmlR9c3Wbhd",
        "outputId": "6c55f863-c171-4799-9657-5601f2cebe40"
      },
      "source": [
        "'''\n",
        "# Write binned_df to s3\n",
        "dataframe = rescaledData_pd\n",
        "filename = \"winemag-data_binned.csv\"\n",
        "DESTINATION = 'whats-in-a-bottle'\n",
        "\n",
        "_write_dataframe_to_csv_on_s3(dataframe, filename)\n",
        "\n",
        "# Make file public from s3 loading into next cell\n",
        "'''"
      ],
      "execution_count": null,
      "outputs": [
        {
          "output_type": "execute_result",
          "data": {
            "application/vnd.google.colaboratory.intrinsic+json": {
              "type": "string"
            },
            "text/plain": [
              "'\\n# Write binned_df to s3\\ndataframe = rescaledData_pd\\nfilename = \"winemag-data_binned.csv\"\\nDESTINATION = \\'whats-in-a-bottle\\'\\n\\n_write_dataframe_to_csv_on_s3(dataframe, filename)\\n\\n# Make file public from s3 loading into next cell\\n'"
            ]
          },
          "metadata": {
            "tags": []
          },
          "execution_count": 83
        }
      ]
    },
    {
      "cell_type": "code",
      "metadata": {
        "colab": {
          "base_uri": "https://localhost:8080/",
          "height": 53
        },
        "id": "mSyW7n2CdujD",
        "outputId": "b619de0a-3fd1-4412-9fa5-552e76a2f89e"
      },
      "source": [
        "'''\n",
        "# Save the binned dataframe to GDrive\n",
        "rescaledData_pd.to_csv('winemag-data_binned.csv', index=False)\n",
        "\n",
        "# Path = \"drive/My Drive/destination folder\"\n",
        "!cp winemag-data_binned.csv \"drive/My Drive/Bootcamp/Whats_In_A_Bottle\"\n",
        "'''"
      ],
      "execution_count": null,
      "outputs": [
        {
          "output_type": "execute_result",
          "data": {
            "application/vnd.google.colaboratory.intrinsic+json": {
              "type": "string"
            },
            "text/plain": [
              "'\\n# Save the binned dataframe to GDrive\\nrescaledData_pd.to_csv(\\'winemag-data_binned.csv\\', index=False)\\n\\n# Path = \"drive/My Drive/destination folder\"\\n!cp winemag-data_binned.csv \"drive/My Drive/Bootcamp/Whats_In_A_Bottle\"\\n'"
            ]
          },
          "metadata": {
            "tags": []
          },
          "execution_count": 84
        }
      ]
    },
    {
      "cell_type": "markdown",
      "metadata": {
        "id": "VqRXWUmgdPgA"
      },
      "source": [
        "#### *Additional Cleaning Step: Remove string values from the price and points column*\n",
        "\n",
        "When changing the column types of price and points, an error was thrown indicating that some values in these columns were non numeric. "
      ]
    },
    {
      "cell_type": "markdown",
      "metadata": {
        "id": "Whn3SsE-mpm9"
      },
      "source": [
        "Checkpoint (Binned DF)"
      ]
    },
    {
      "cell_type": "code",
      "metadata": {
        "colab": {
          "base_uri": "https://localhost:8080/"
        },
        "id": "N42SVi8KeI2_",
        "outputId": "4c245059-c961-4e34-b511-e095eb9e855c"
      },
      "source": [
        "# Load the binned dataframe from s3\n",
        "# Read in data from S3 Buckets\n",
        "url3 =\"https://whats-in-a-bottle.s3-us-west-1.amazonaws.com/winemag-data_binned.csv\"\n",
        "spark.sparkContext.addFile(url3)\n",
        "binned_df = spark.read.csv(SparkFiles.get(\"winemag-data_binned.csv\"), sep=\",\", header=True)\n",
        "binned_df.show()"
      ],
      "execution_count": null,
      "outputs": [
        {
          "output_type": "stream",
          "text": [
            "+---+-------+--------------------+-----------+------+-----+------------------+-----------------+------------------+------+------+---------------+--------------------+\n",
            "|_c0|country|         description|designation|points|price|          province|         region_1|           variety|winery|tokens|filtered_tokens|            features|\n",
            "+---+-------+--------------------+-----------+------+-----+------------------+-----------------+------------------+------+------+---------------+--------------------+\n",
            "|  0|     US|This tremendous 1...|      Other|    96|235.0|        California|      Napa Valley|Cabernet Sauvignon| Other|    60|             36|(262144,[2701,160...|\n",
            "|  1|  Spain|Ripe aromas of fi...|      Other|    96|110.0|    Northern Spain|            Other|             Other| Other|    51|             31|(262144,[11481,33...|\n",
            "|  2|     US|Mac Watson honors...|      Other|    96| 90.0|        California|            Other|   Sauvignon Blanc| Other|    47|             30|(262144,[10077,26...|\n",
            "|  3|     US|This spent 20 mon...|    Reserve|    96| 65.0|            Oregon|Willamette Valley|        Pinot Noir| Other|    62|             43|(262144,[1546,423...|\n",
            "|  4| France|This is the top w...|      Other|    95| 66.0|          Provence|            Other|             Other| Other|    66|             37|(262144,[1546,171...|\n",
            "|  5|  Spain|Deep, dense and p...|      Other|    95| 73.0|    Northern Spain|            Other|             Other| Other|    52|             34|(262144,[8408,181...|\n",
            "|  6|  Spain|Slightly gritty b...|      Other|    95| 65.0|    Northern Spain|            Other|             Other| Other|    50|             31|(262144,[5561,196...|\n",
            "|  7|  Spain|Lush cedary black...|      Other|    95|110.0|    Northern Spain|            Other|             Other| Other|    60|             35|(262144,[4235,315...|\n",
            "|  8|     US|This re-named vin...|      Other|    95| 65.0|            Oregon|            Other|        Pinot Noir| Other|    42|             27|(262144,[2306,316...|\n",
            "|  9|     US|The producer sour...|      Other|    95| 60.0|        California|     Sonoma Coast|        Pinot Noir| Other|    45|             30|(262144,[3354,415...|\n",
            "| 10|  Italy|Elegance, complex...|      Other|    95| 80.0|Northeastern Italy|            Other|             Other| Other|    54|             43|(262144,[3848,939...|\n",
            "| 11|     US|From 18-year-old ...|      Other|    95| 48.0|            Oregon|            Other|        Pinot Noir| Other|    40|             27|(262144,[3456,215...|\n",
            "| 12|     US|A standout even i...|      Other|    95| 48.0|            Oregon|            Other|        Pinot Noir| Other|    46|             29|(262144,[4176,894...|\n",
            "| 13| France|This wine is in p...|      Other|    95| 90.0|  Southwest France|            Other|             Other| Other|    54|             27|(262144,[8297,120...|\n",
            "| 14|     US|With its sophisti...|      Other|    95|185.0|            Oregon|            Other|        Pinot Noir| Other|    68|             40|(262144,[5847,160...|\n",
            "| 15|     US|First made in 200...|      Other|    95| 90.0|            Oregon|Willamette Valley|        Chardonnay| Other|    46|             27|(262144,[1546,439...|\n",
            "| 16|     US|This blockbuster,...|      Other|    95|325.0|        California|            Other|Cabernet Sauvignon| Other|    43|             26|(262144,[18911,55...|\n",
            "| 17|  Spain|Nicely oaked blac...|      Other|    95| 80.0|    Northern Spain| Ribera del Duero|       Tempranillo| Other|    50|             33|(262144,[2701,104...|\n",
            "| 18| France|Coming from a sev...|      Other|    95|290.0|  Southwest France|            Other|            Malbec| Other|    68|             34|(262144,[1546,544...|\n",
            "| 19|     US|This fresh and li...|      Other|    95| 75.0|        California|     Sonoma Coast|        Pinot Noir| Other|    42|             26|(262144,[3572,190...|\n",
            "+---+-------+--------------------+-----------+------+-----+------------------+-----------------+------------------+------+------+---------------+--------------------+\n",
            "only showing top 20 rows\n",
            "\n"
          ],
          "name": "stdout"
        }
      ]
    },
    {
      "cell_type": "code",
      "metadata": {
        "colab": {
          "base_uri": "https://localhost:8080/",
          "height": 501
        },
        "id": "Nkmpv92Bek1g",
        "outputId": "73057711-95f2-4eef-80a1-1415244eeaca"
      },
      "source": [
        "# Check column datatypes\n",
        "binned_df = binned_df.toPandas()\n",
        "binned_df.head()"
      ],
      "execution_count": null,
      "outputs": [
        {
          "output_type": "execute_result",
          "data": {
            "text/html": [
              "<div>\n",
              "<style scoped>\n",
              "    .dataframe tbody tr th:only-of-type {\n",
              "        vertical-align: middle;\n",
              "    }\n",
              "\n",
              "    .dataframe tbody tr th {\n",
              "        vertical-align: top;\n",
              "    }\n",
              "\n",
              "    .dataframe thead th {\n",
              "        text-align: right;\n",
              "    }\n",
              "</style>\n",
              "<table border=\"1\" class=\"dataframe\">\n",
              "  <thead>\n",
              "    <tr style=\"text-align: right;\">\n",
              "      <th></th>\n",
              "      <th>_c0</th>\n",
              "      <th>country</th>\n",
              "      <th>description</th>\n",
              "      <th>designation</th>\n",
              "      <th>points</th>\n",
              "      <th>price</th>\n",
              "      <th>province</th>\n",
              "      <th>region_1</th>\n",
              "      <th>variety</th>\n",
              "      <th>winery</th>\n",
              "      <th>tokens</th>\n",
              "      <th>filtered_tokens</th>\n",
              "      <th>features</th>\n",
              "    </tr>\n",
              "  </thead>\n",
              "  <tbody>\n",
              "    <tr>\n",
              "      <th>0</th>\n",
              "      <td>0</td>\n",
              "      <td>US</td>\n",
              "      <td>This tremendous 100% varietal wine hails from ...</td>\n",
              "      <td>Other</td>\n",
              "      <td>96</td>\n",
              "      <td>235.0</td>\n",
              "      <td>California</td>\n",
              "      <td>Napa Valley</td>\n",
              "      <td>Cabernet Sauvignon</td>\n",
              "      <td>Other</td>\n",
              "      <td>60</td>\n",
              "      <td>36</td>\n",
              "      <td>(262144,[2701,16004,23236,28401,33079,39068,45...</td>\n",
              "    </tr>\n",
              "    <tr>\n",
              "      <th>1</th>\n",
              "      <td>1</td>\n",
              "      <td>Spain</td>\n",
              "      <td>Ripe aromas of fig, blackberry and cassis are ...</td>\n",
              "      <td>Other</td>\n",
              "      <td>96</td>\n",
              "      <td>110.0</td>\n",
              "      <td>Northern Spain</td>\n",
              "      <td>Other</td>\n",
              "      <td>Other</td>\n",
              "      <td>Other</td>\n",
              "      <td>51</td>\n",
              "      <td>31</td>\n",
              "      <td>(262144,[11481,33140,41643,46758,55709,59455,6...</td>\n",
              "    </tr>\n",
              "    <tr>\n",
              "      <th>2</th>\n",
              "      <td>2</td>\n",
              "      <td>US</td>\n",
              "      <td>Mac Watson honors the memory of a wine once ma...</td>\n",
              "      <td>Other</td>\n",
              "      <td>96</td>\n",
              "      <td>90.0</td>\n",
              "      <td>California</td>\n",
              "      <td>Other</td>\n",
              "      <td>Sauvignon Blanc</td>\n",
              "      <td>Other</td>\n",
              "      <td>47</td>\n",
              "      <td>30</td>\n",
              "      <td>(262144,[10077,26468,32151,49402,61157,64289,7...</td>\n",
              "    </tr>\n",
              "    <tr>\n",
              "      <th>3</th>\n",
              "      <td>3</td>\n",
              "      <td>US</td>\n",
              "      <td>This spent 20 months in 30% new French oak, an...</td>\n",
              "      <td>Reserve</td>\n",
              "      <td>96</td>\n",
              "      <td>65.0</td>\n",
              "      <td>Oregon</td>\n",
              "      <td>Willamette Valley</td>\n",
              "      <td>Pinot Noir</td>\n",
              "      <td>Other</td>\n",
              "      <td>62</td>\n",
              "      <td>43</td>\n",
              "      <td>(262144,[1546,4238,13171,15324,16356,25381,331...</td>\n",
              "    </tr>\n",
              "    <tr>\n",
              "      <th>4</th>\n",
              "      <td>4</td>\n",
              "      <td>France</td>\n",
              "      <td>This is the top wine from La Bégude, named aft...</td>\n",
              "      <td>Other</td>\n",
              "      <td>95</td>\n",
              "      <td>66.0</td>\n",
              "      <td>Provence</td>\n",
              "      <td>Other</td>\n",
              "      <td>Other</td>\n",
              "      <td>Other</td>\n",
              "      <td>66</td>\n",
              "      <td>37</td>\n",
              "      <td>(262144,[1546,17161,18176,31536,33140,48479,49...</td>\n",
              "    </tr>\n",
              "  </tbody>\n",
              "</table>\n",
              "</div>"
            ],
            "text/plain": [
              "  _c0  ...                                           features\n",
              "0   0  ...  (262144,[2701,16004,23236,28401,33079,39068,45...\n",
              "1   1  ...  (262144,[11481,33140,41643,46758,55709,59455,6...\n",
              "2   2  ...  (262144,[10077,26468,32151,49402,61157,64289,7...\n",
              "3   3  ...  (262144,[1546,4238,13171,15324,16356,25381,331...\n",
              "4   4  ...  (262144,[1546,17161,18176,31536,33140,48479,49...\n",
              "\n",
              "[5 rows x 13 columns]"
            ]
          },
          "metadata": {
            "tags": []
          },
          "execution_count": 86
        }
      ]
    },
    {
      "cell_type": "code",
      "metadata": {
        "colab": {
          "base_uri": "https://localhost:8080/"
        },
        "id": "QnT9E4CG3HlY",
        "outputId": "d9a912a2-516b-4d2e-8257-7f3c2451c80a"
      },
      "source": [
        "# Check the data types\n",
        "binned_df.dtypes"
      ],
      "execution_count": null,
      "outputs": [
        {
          "output_type": "execute_result",
          "data": {
            "text/plain": [
              "_c0                object\n",
              "country            object\n",
              "description        object\n",
              "designation        object\n",
              "points             object\n",
              "price              object\n",
              "province           object\n",
              "region_1           object\n",
              "variety            object\n",
              "winery             object\n",
              "tokens             object\n",
              "filtered_tokens    object\n",
              "features           object\n",
              "dtype: object"
            ]
          },
          "metadata": {
            "tags": []
          },
          "execution_count": 87
        }
      ]
    },
    {
      "cell_type": "code",
      "metadata": {
        "colab": {
          "base_uri": "https://localhost:8080/"
        },
        "id": "aV8MiopVnEsN",
        "outputId": "48eafe32-8da8-42f8-aec9-0e08d9e56e89"
      },
      "source": [
        "# Filter out non-numeric rows in c0 column\n",
        "binned_df = binned_df[binned_df._c0.apply(lambda x: x.isdigit())]\n",
        "# Convert _c0 to int\n",
        "binned_df['_c0'] = binned_df['_c0'].astype('int')\n",
        "\n",
        "len(binned_df)"
      ],
      "execution_count": null,
      "outputs": [
        {
          "output_type": "execute_result",
          "data": {
            "text/plain": [
              "137221"
            ]
          },
          "metadata": {
            "tags": []
          },
          "execution_count": 88
        }
      ]
    },
    {
      "cell_type": "code",
      "metadata": {
        "colab": {
          "base_uri": "https://localhost:8080/"
        },
        "id": "JnlCHFCl31Vs",
        "outputId": "d7f69583-c674-4ffe-86d2-487c2dac6730"
      },
      "source": [
        "# Convert tokens, filtered_tokens, and features to numeric\n",
        "binned_df[['tokens','filtered_tokens']] = binned_df[['tokens','filtered_tokens']].apply(pd.to_numeric, errors = 'coerce')\n",
        "binned_df.dtypes"
      ],
      "execution_count": null,
      "outputs": [
        {
          "output_type": "execute_result",
          "data": {
            "text/plain": [
              "_c0                  int64\n",
              "country             object\n",
              "description         object\n",
              "designation         object\n",
              "points              object\n",
              "price               object\n",
              "province            object\n",
              "region_1            object\n",
              "variety             object\n",
              "winery              object\n",
              "tokens             float64\n",
              "filtered_tokens    float64\n",
              "features            object\n",
              "dtype: object"
            ]
          },
          "metadata": {
            "tags": []
          },
          "execution_count": 89
        }
      ]
    },
    {
      "cell_type": "code",
      "metadata": {
        "colab": {
          "base_uri": "https://localhost:8080/"
        },
        "id": "QgNcHSvh3qVQ",
        "outputId": "5be3d5f6-b4bd-4b57-b39c-412499c11206"
      },
      "source": [
        "# Look at the price counts\n",
        "price_counts = binned_df.price.value_counts()\n",
        "price_counts.tail(10)"
      ],
      "execution_count": null,
      "outputs": [
        {
          "output_type": "execute_result",
          "data": {
            "text/plain": [
              "1300.0                                                              1\n",
              "266.0                                                               1\n",
              "426.0                                                               1\n",
              "217.0                                                               1\n",
              "231.0                                                               1\n",
              "1000.0                                                              1\n",
              "323.0                                                               1\n",
              "580.0                                                               1\n",
              "520.0                                                               1\n",
              "\"\"\"\"\"\"\"\"\"\"\" as Australians like to say. Scents of raspberries\"\"\"    1\n",
              "Name: price, dtype: int64"
            ]
          },
          "metadata": {
            "tags": []
          },
          "execution_count": 90
        }
      ]
    },
    {
      "cell_type": "code",
      "metadata": {
        "colab": {
          "base_uri": "https://localhost:8080/"
        },
        "id": "WzOPod04bqPl",
        "outputId": "9d86bc28-f0fc-4c36-e01a-d94f767fec30"
      },
      "source": [
        "# Replace strings with digits in price column\n",
        "binned_df['price'] = pd.to_numeric(binned_df['price'], errors = 'coerce')\n",
        "binned_df.price.dropna(inplace = True, axis=0)\n",
        "print(binned_df['price'])"
      ],
      "execution_count": null,
      "outputs": [
        {
          "output_type": "stream",
          "text": [
            "0         235.0\n",
            "1         110.0\n",
            "2          90.0\n",
            "3          65.0\n",
            "4          66.0\n",
            "          ...  \n",
            "137217     20.0\n",
            "137218     27.0\n",
            "137219     20.0\n",
            "137220     52.0\n",
            "137221     15.0\n",
            "Name: price, Length: 137221, dtype: float64\n"
          ],
          "name": "stdout"
        }
      ]
    },
    {
      "cell_type": "code",
      "metadata": {
        "colab": {
          "base_uri": "https://localhost:8080/"
        },
        "id": "EpFDubttZcFI",
        "outputId": "4a482dbb-6c2e-48d5-b304-7947eaa3f5e6"
      },
      "source": [
        "# Check to make sure strings in price column were replaced\n",
        "updated_price_counts = binned_df.price.value_counts()\n",
        "updated_price_counts.tail(10)"
      ],
      "execution_count": null,
      "outputs": [
        {
          "output_type": "execute_result",
          "data": {
            "text/plain": [
              "415.0    1\n",
              "271.0    1\n",
              "335.0    1\n",
              "398.0    1\n",
              "319.0    1\n",
              "740.0    1\n",
              "545.0    1\n",
              "351.0    1\n",
              "698.0    1\n",
              "588.0    1\n",
              "Name: price, dtype: int64"
            ]
          },
          "metadata": {
            "tags": []
          },
          "execution_count": 92
        }
      ]
    },
    {
      "cell_type": "code",
      "metadata": {
        "colab": {
          "base_uri": "https://localhost:8080/"
        },
        "id": "e_BtVHb4ZpSA",
        "outputId": "aa416c30-4f67-43f7-df4c-f1038703623c"
      },
      "source": [
        "# Look at the points counts\n",
        "points_counts = binned_df.points.value_counts()\n",
        "points_counts.tail(10)"
      ],
      "execution_count": null,
      "outputs": [
        {
          "output_type": "execute_result",
          "data": {
            "text/plain": [
              " which dates back to the 1860s and which the winery says may be the oldest producing Zin vineyard in the world. The wine is classic old-vine                       1\n",
              " and who should care? Deep black fruit with perfect oak makes for the ultimate in integration. A long cocoa and spice finish closes the show. Wonderfully sweet    1\n",
              " this wine is still quite tannic with good structure to age. The Sonoma-based Robledo family is making more and more wine from Red Hills                           1\n",
              " concentrated aromas of tangerine                                                                                                                                  1\n",
              " spicy finish                                                                                                                                                      1\n",
              "\" it' would be a good base for \"\"\"\"\"\"\"\"Champagne\"\"\"\"\"\"\"\" cocktails.\"\"\"\"\"\"\"                                                                                         1\n",
              " and perhaps a little salty                                                                                                                                        1\n",
              " cloudy with sediment. Rich red cherry aroma                                                                                                                       1\n",
              "\" richly textured Shiraz \"\"\"\"\"\"\"\"overdelivers\"\"\"                                                                                                                   1\n",
              " very textured                                                                                                                                                     1\n",
              "Name: points, dtype: int64"
            ]
          },
          "metadata": {
            "tags": []
          },
          "execution_count": 93
        }
      ]
    },
    {
      "cell_type": "code",
      "metadata": {
        "colab": {
          "base_uri": "https://localhost:8080/"
        },
        "id": "HIQju79a8DZC",
        "outputId": "9acdb61e-1046-4b84-e2d4-bf054fb4add6"
      },
      "source": [
        "# Replace strings with digits in points column\n",
        "binned_df['points'] = pd.to_numeric(binned_df['points'], errors = 'coerce')\n",
        "binned_df.points.dropna(inplace = True, axis=0)\n",
        "print(binned_df['points'])"
      ],
      "execution_count": null,
      "outputs": [
        {
          "output_type": "stream",
          "text": [
            "0         96.0\n",
            "1         96.0\n",
            "2         96.0\n",
            "3         96.0\n",
            "4         95.0\n",
            "          ... \n",
            "137217    91.0\n",
            "137218    91.0\n",
            "137219    91.0\n",
            "137220    90.0\n",
            "137221    90.0\n",
            "Name: points, Length: 137221, dtype: float64\n"
          ],
          "name": "stdout"
        }
      ]
    },
    {
      "cell_type": "code",
      "metadata": {
        "colab": {
          "base_uri": "https://localhost:8080/",
          "height": 501
        },
        "id": "mKPp5_wHLNNT",
        "outputId": "b88213ed-b781-41cc-c14b-ce9c3fab357d"
      },
      "source": [
        "binned_df.head()"
      ],
      "execution_count": null,
      "outputs": [
        {
          "output_type": "execute_result",
          "data": {
            "text/html": [
              "<div>\n",
              "<style scoped>\n",
              "    .dataframe tbody tr th:only-of-type {\n",
              "        vertical-align: middle;\n",
              "    }\n",
              "\n",
              "    .dataframe tbody tr th {\n",
              "        vertical-align: top;\n",
              "    }\n",
              "\n",
              "    .dataframe thead th {\n",
              "        text-align: right;\n",
              "    }\n",
              "</style>\n",
              "<table border=\"1\" class=\"dataframe\">\n",
              "  <thead>\n",
              "    <tr style=\"text-align: right;\">\n",
              "      <th></th>\n",
              "      <th>_c0</th>\n",
              "      <th>country</th>\n",
              "      <th>description</th>\n",
              "      <th>designation</th>\n",
              "      <th>points</th>\n",
              "      <th>price</th>\n",
              "      <th>province</th>\n",
              "      <th>region_1</th>\n",
              "      <th>variety</th>\n",
              "      <th>winery</th>\n",
              "      <th>tokens</th>\n",
              "      <th>filtered_tokens</th>\n",
              "      <th>features</th>\n",
              "    </tr>\n",
              "  </thead>\n",
              "  <tbody>\n",
              "    <tr>\n",
              "      <th>0</th>\n",
              "      <td>0</td>\n",
              "      <td>US</td>\n",
              "      <td>This tremendous 100% varietal wine hails from ...</td>\n",
              "      <td>Other</td>\n",
              "      <td>96.0</td>\n",
              "      <td>235.0</td>\n",
              "      <td>California</td>\n",
              "      <td>Napa Valley</td>\n",
              "      <td>Cabernet Sauvignon</td>\n",
              "      <td>Other</td>\n",
              "      <td>60.0</td>\n",
              "      <td>36.0</td>\n",
              "      <td>(262144,[2701,16004,23236,28401,33079,39068,45...</td>\n",
              "    </tr>\n",
              "    <tr>\n",
              "      <th>1</th>\n",
              "      <td>1</td>\n",
              "      <td>Spain</td>\n",
              "      <td>Ripe aromas of fig, blackberry and cassis are ...</td>\n",
              "      <td>Other</td>\n",
              "      <td>96.0</td>\n",
              "      <td>110.0</td>\n",
              "      <td>Northern Spain</td>\n",
              "      <td>Other</td>\n",
              "      <td>Other</td>\n",
              "      <td>Other</td>\n",
              "      <td>51.0</td>\n",
              "      <td>31.0</td>\n",
              "      <td>(262144,[11481,33140,41643,46758,55709,59455,6...</td>\n",
              "    </tr>\n",
              "    <tr>\n",
              "      <th>2</th>\n",
              "      <td>2</td>\n",
              "      <td>US</td>\n",
              "      <td>Mac Watson honors the memory of a wine once ma...</td>\n",
              "      <td>Other</td>\n",
              "      <td>96.0</td>\n",
              "      <td>90.0</td>\n",
              "      <td>California</td>\n",
              "      <td>Other</td>\n",
              "      <td>Sauvignon Blanc</td>\n",
              "      <td>Other</td>\n",
              "      <td>47.0</td>\n",
              "      <td>30.0</td>\n",
              "      <td>(262144,[10077,26468,32151,49402,61157,64289,7...</td>\n",
              "    </tr>\n",
              "    <tr>\n",
              "      <th>3</th>\n",
              "      <td>3</td>\n",
              "      <td>US</td>\n",
              "      <td>This spent 20 months in 30% new French oak, an...</td>\n",
              "      <td>Reserve</td>\n",
              "      <td>96.0</td>\n",
              "      <td>65.0</td>\n",
              "      <td>Oregon</td>\n",
              "      <td>Willamette Valley</td>\n",
              "      <td>Pinot Noir</td>\n",
              "      <td>Other</td>\n",
              "      <td>62.0</td>\n",
              "      <td>43.0</td>\n",
              "      <td>(262144,[1546,4238,13171,15324,16356,25381,331...</td>\n",
              "    </tr>\n",
              "    <tr>\n",
              "      <th>4</th>\n",
              "      <td>4</td>\n",
              "      <td>France</td>\n",
              "      <td>This is the top wine from La Bégude, named aft...</td>\n",
              "      <td>Other</td>\n",
              "      <td>95.0</td>\n",
              "      <td>66.0</td>\n",
              "      <td>Provence</td>\n",
              "      <td>Other</td>\n",
              "      <td>Other</td>\n",
              "      <td>Other</td>\n",
              "      <td>66.0</td>\n",
              "      <td>37.0</td>\n",
              "      <td>(262144,[1546,17161,18176,31536,33140,48479,49...</td>\n",
              "    </tr>\n",
              "  </tbody>\n",
              "</table>\n",
              "</div>"
            ],
            "text/plain": [
              "   _c0  ...                                           features\n",
              "0    0  ...  (262144,[2701,16004,23236,28401,33079,39068,45...\n",
              "1    1  ...  (262144,[11481,33140,41643,46758,55709,59455,6...\n",
              "2    2  ...  (262144,[10077,26468,32151,49402,61157,64289,7...\n",
              "3    3  ...  (262144,[1546,4238,13171,15324,16356,25381,331...\n",
              "4    4  ...  (262144,[1546,17161,18176,31536,33140,48479,49...\n",
              "\n",
              "[5 rows x 13 columns]"
            ]
          },
          "metadata": {
            "tags": []
          },
          "execution_count": 95
        }
      ]
    },
    {
      "cell_type": "code",
      "metadata": {
        "colab": {
          "base_uri": "https://localhost:8080/",
          "height": 53
        },
        "id": "JxhK3ztP49hu",
        "outputId": "c1b86dcf-fd99-4ff9-bddb-407fc2680b39"
      },
      "source": [
        "'''\n",
        "# Write binned_df to s3\n",
        "dataframe = binned_df\n",
        "filename = \"winemag-data_cleaned_ReadyToEncode.csv\"\n",
        "DESTINATION = 'whats-in-a-bottle'\n",
        "\n",
        "_write_dataframe_to_csv_on_s3(dataframe, filename)\n",
        "\n",
        "# Make file public from s3 loading into next cell\n",
        "'''"
      ],
      "execution_count": null,
      "outputs": [
        {
          "output_type": "execute_result",
          "data": {
            "application/vnd.google.colaboratory.intrinsic+json": {
              "type": "string"
            },
            "text/plain": [
              "'\\n# Write binned_df to s3\\ndataframe = binned_df\\nfilename = \"winemag-data_cleaned_ReadyToEncode.csv\"\\nDESTINATION = \\'whats-in-a-bottle\\'\\n\\n_write_dataframe_to_csv_on_s3(dataframe, filename)\\n\\n# Make file public from s3 loading into next cell\\n'"
            ]
          },
          "metadata": {
            "tags": []
          },
          "execution_count": 96
        }
      ]
    },
    {
      "cell_type": "markdown",
      "metadata": {
        "id": "sJHSKYT3fTmB"
      },
      "source": [
        "### **5. Encode the categorical columns with the Label Encoder**"
      ]
    },
    {
      "cell_type": "markdown",
      "metadata": {
        "id": "svu_bAn_Ko6l"
      },
      "source": [
        "Convert the features column to a list of lists that can generate a new DF that has a separate column for each number in the list of features"
      ]
    },
    {
      "cell_type": "code",
      "metadata": {
        "colab": {
          "base_uri": "https://localhost:8080/"
        },
        "id": "EFSXuqqmYVAT",
        "outputId": "593f97ea-9491-4c0f-f18d-250be13542f5"
      },
      "source": [
        "# Convert the features column to a single list per row\n",
        "arrays = binned_df['features'].tolist()\n",
        "#print(arrays)\n",
        "new_array = []\n",
        "new_list = {}\n",
        "\n",
        "for index,row in binned_df.iterrows():\n",
        "  #if index > 3:\n",
        "    #break\n",
        "  new_array = []\n",
        "  feature = row['features']\n",
        "  feats = feature.split(',')\n",
        "  #print(feats)\n",
        "  for val in feats:\n",
        "    #print(val)\n",
        "    vals = val.split(',')\n",
        "    for val2 in vals:\n",
        "      vals2 = val2.split(',')\n",
        "      for val3 in vals2:\n",
        "        val3 = val3.strip('([])')\n",
        "        try:\n",
        "          new_array.append(float(val3))\n",
        "        except Exception:\n",
        "          pass\n",
        "  #print(len(new_array))\n",
        "  new_list[index]=new_array\n",
        "  \n",
        "\n",
        "print(new_list[2])\n",
        "\n",
        "new_array = np.array(new_list).reshape(1,-1)\n",
        "#print(new_array)"
      ],
      "execution_count": null,
      "outputs": [
        {
          "output_type": "stream",
          "text": [
            "[262144.0, 10077.0, 26468.0, 32151.0, 49402.0, 61157.0, 64289.0, 76272.0, 88398.0, 99749.0, 119775.0, 123974.0, 140784.0, 153612.0, 156125.0, 171516.0, 172455.0, 172814.0, 174799.0, 188828.0, 203214.0, 215060.0, 217441.0, 223329.0, 225667.0, 229305.0, 238819.0, 245426.0, 251052.0, 256740.0, 261845.0, 9.26441326124659, 10.730750330040017, 10.730750330040017, 3.9031210955371645, 9.632138041371906, 4.824480628995267, 7.485557196854443, 7.422643371443874, 4.046138602372089, 4.034539466528737, 4.791456655260944, 3.1991979486327278, 3.6440123955294395, 6.169880402948506, 9.121312417605916, 7.00908105310309, 2.656724113915955, 7.498629278421795, 6.336301175367578, 3.204571416693871, 5.647277711991495, 8.784840180984704, 1.0707791186260356, 5.132328371041642, 2.817351241671715, 3.421314874552687, 8.833630345154136, 4.376960167484488, 3.4941710352749236, 6.201741505017489]\n"
          ],
          "name": "stdout"
        }
      ]
    },
    {
      "cell_type": "code",
      "metadata": {
        "colab": {
          "base_uri": "https://localhost:8080/",
          "height": 396
        },
        "id": "homhv4zwp6iz",
        "outputId": "6be398ed-634c-4c21-e7a2-985113256161"
      },
      "source": [
        "# Create a dataframe from the new list dictionary\n",
        "features_df = pd.DataFrame.from_dict(new_list, orient='index')\n",
        "features_df.sample(10)"
      ],
      "execution_count": null,
      "outputs": [
        {
          "output_type": "execute_result",
          "data": {
            "text/html": [
              "<div>\n",
              "<style scoped>\n",
              "    .dataframe tbody tr th:only-of-type {\n",
              "        vertical-align: middle;\n",
              "    }\n",
              "\n",
              "    .dataframe tbody tr th {\n",
              "        vertical-align: top;\n",
              "    }\n",
              "\n",
              "    .dataframe thead th {\n",
              "        text-align: right;\n",
              "    }\n",
              "</style>\n",
              "<table border=\"1\" class=\"dataframe\">\n",
              "  <thead>\n",
              "    <tr style=\"text-align: right;\">\n",
              "      <th></th>\n",
              "      <th>0</th>\n",
              "      <th>1</th>\n",
              "      <th>2</th>\n",
              "      <th>3</th>\n",
              "      <th>4</th>\n",
              "      <th>5</th>\n",
              "      <th>6</th>\n",
              "      <th>7</th>\n",
              "      <th>8</th>\n",
              "      <th>9</th>\n",
              "      <th>10</th>\n",
              "      <th>11</th>\n",
              "      <th>12</th>\n",
              "      <th>13</th>\n",
              "      <th>14</th>\n",
              "      <th>15</th>\n",
              "      <th>16</th>\n",
              "      <th>17</th>\n",
              "      <th>18</th>\n",
              "      <th>19</th>\n",
              "      <th>20</th>\n",
              "      <th>21</th>\n",
              "      <th>22</th>\n",
              "      <th>23</th>\n",
              "      <th>24</th>\n",
              "      <th>25</th>\n",
              "      <th>26</th>\n",
              "      <th>27</th>\n",
              "      <th>28</th>\n",
              "      <th>29</th>\n",
              "      <th>30</th>\n",
              "      <th>31</th>\n",
              "      <th>32</th>\n",
              "      <th>33</th>\n",
              "      <th>34</th>\n",
              "      <th>35</th>\n",
              "      <th>36</th>\n",
              "      <th>37</th>\n",
              "      <th>38</th>\n",
              "      <th>39</th>\n",
              "      <th>...</th>\n",
              "      <th>95</th>\n",
              "      <th>96</th>\n",
              "      <th>97</th>\n",
              "      <th>98</th>\n",
              "      <th>99</th>\n",
              "      <th>100</th>\n",
              "      <th>101</th>\n",
              "      <th>102</th>\n",
              "      <th>103</th>\n",
              "      <th>104</th>\n",
              "      <th>105</th>\n",
              "      <th>106</th>\n",
              "      <th>107</th>\n",
              "      <th>108</th>\n",
              "      <th>109</th>\n",
              "      <th>110</th>\n",
              "      <th>111</th>\n",
              "      <th>112</th>\n",
              "      <th>113</th>\n",
              "      <th>114</th>\n",
              "      <th>115</th>\n",
              "      <th>116</th>\n",
              "      <th>117</th>\n",
              "      <th>118</th>\n",
              "      <th>119</th>\n",
              "      <th>120</th>\n",
              "      <th>121</th>\n",
              "      <th>122</th>\n",
              "      <th>123</th>\n",
              "      <th>124</th>\n",
              "      <th>125</th>\n",
              "      <th>126</th>\n",
              "      <th>127</th>\n",
              "      <th>128</th>\n",
              "      <th>129</th>\n",
              "      <th>130</th>\n",
              "      <th>131</th>\n",
              "      <th>132</th>\n",
              "      <th>133</th>\n",
              "      <th>134</th>\n",
              "    </tr>\n",
              "  </thead>\n",
              "  <tbody>\n",
              "    <tr>\n",
              "      <th>41794</th>\n",
              "      <td>262144.0</td>\n",
              "      <td>4185.0</td>\n",
              "      <td>10044.0</td>\n",
              "      <td>10049.0</td>\n",
              "      <td>16620.0</td>\n",
              "      <td>25882.0</td>\n",
              "      <td>45315.0</td>\n",
              "      <td>86577.0</td>\n",
              "      <td>113432.0</td>\n",
              "      <td>155288.0</td>\n",
              "      <td>189720.0</td>\n",
              "      <td>207327.0</td>\n",
              "      <td>212413.0</td>\n",
              "      <td>221693.000000</td>\n",
              "      <td>226718.000000</td>\n",
              "      <td>259966.000000</td>\n",
              "      <td>6.859549</td>\n",
              "      <td>2.541043</td>\n",
              "      <td>3.686717</td>\n",
              "      <td>5.186876</td>\n",
              "      <td>3.985906</td>\n",
              "      <td>7.244395</td>\n",
              "      <td>3.101098</td>\n",
              "      <td>2.329043</td>\n",
              "      <td>1.956489</td>\n",
              "      <td>6.773117</td>\n",
              "      <td>5.968576</td>\n",
              "      <td>2.201629</td>\n",
              "      <td>6.653213</td>\n",
              "      <td>6.413262</td>\n",
              "      <td>8.996149</td>\n",
              "      <td>NaN</td>\n",
              "      <td>NaN</td>\n",
              "      <td>NaN</td>\n",
              "      <td>NaN</td>\n",
              "      <td>NaN</td>\n",
              "      <td>NaN</td>\n",
              "      <td>NaN</td>\n",
              "      <td>NaN</td>\n",
              "      <td>NaN</td>\n",
              "      <td>...</td>\n",
              "      <td>NaN</td>\n",
              "      <td>NaN</td>\n",
              "      <td>NaN</td>\n",
              "      <td>NaN</td>\n",
              "      <td>NaN</td>\n",
              "      <td>NaN</td>\n",
              "      <td>NaN</td>\n",
              "      <td>NaN</td>\n",
              "      <td>NaN</td>\n",
              "      <td>NaN</td>\n",
              "      <td>NaN</td>\n",
              "      <td>NaN</td>\n",
              "      <td>NaN</td>\n",
              "      <td>NaN</td>\n",
              "      <td>NaN</td>\n",
              "      <td>NaN</td>\n",
              "      <td>NaN</td>\n",
              "      <td>NaN</td>\n",
              "      <td>NaN</td>\n",
              "      <td>NaN</td>\n",
              "      <td>NaN</td>\n",
              "      <td>NaN</td>\n",
              "      <td>NaN</td>\n",
              "      <td>NaN</td>\n",
              "      <td>NaN</td>\n",
              "      <td>NaN</td>\n",
              "      <td>NaN</td>\n",
              "      <td>NaN</td>\n",
              "      <td>NaN</td>\n",
              "      <td>NaN</td>\n",
              "      <td>NaN</td>\n",
              "      <td>NaN</td>\n",
              "      <td>NaN</td>\n",
              "      <td>NaN</td>\n",
              "      <td>NaN</td>\n",
              "      <td>NaN</td>\n",
              "      <td>NaN</td>\n",
              "      <td>NaN</td>\n",
              "      <td>NaN</td>\n",
              "      <td>NaN</td>\n",
              "    </tr>\n",
              "    <tr>\n",
              "      <th>7056</th>\n",
              "      <td>262144.0</td>\n",
              "      <td>10044.0</td>\n",
              "      <td>12702.0</td>\n",
              "      <td>16704.0</td>\n",
              "      <td>33140.0</td>\n",
              "      <td>55709.0</td>\n",
              "      <td>58534.0</td>\n",
              "      <td>97880.0</td>\n",
              "      <td>102682.0</td>\n",
              "      <td>153504.0</td>\n",
              "      <td>155665.0</td>\n",
              "      <td>161081.0</td>\n",
              "      <td>162976.0</td>\n",
              "      <td>166936.000000</td>\n",
              "      <td>172196.000000</td>\n",
              "      <td>186925.000000</td>\n",
              "      <td>190266.000000</td>\n",
              "      <td>197010.000000</td>\n",
              "      <td>205896.000000</td>\n",
              "      <td>223329.000000</td>\n",
              "      <td>2.541043</td>\n",
              "      <td>3.723451</td>\n",
              "      <td>3.315575</td>\n",
              "      <td>1.924876</td>\n",
              "      <td>2.081360</td>\n",
              "      <td>3.043212</td>\n",
              "      <td>3.980039</td>\n",
              "      <td>3.483907</td>\n",
              "      <td>8.366018</td>\n",
              "      <td>3.347797</td>\n",
              "      <td>3.359680</td>\n",
              "      <td>3.034841</td>\n",
              "      <td>3.521903</td>\n",
              "      <td>3.491057</td>\n",
              "      <td>2.934692</td>\n",
              "      <td>2.761739</td>\n",
              "      <td>8.533526</td>\n",
              "      <td>7.511875</td>\n",
              "      <td>3.212337</td>\n",
              "      <td>NaN</td>\n",
              "      <td>...</td>\n",
              "      <td>NaN</td>\n",
              "      <td>NaN</td>\n",
              "      <td>NaN</td>\n",
              "      <td>NaN</td>\n",
              "      <td>NaN</td>\n",
              "      <td>NaN</td>\n",
              "      <td>NaN</td>\n",
              "      <td>NaN</td>\n",
              "      <td>NaN</td>\n",
              "      <td>NaN</td>\n",
              "      <td>NaN</td>\n",
              "      <td>NaN</td>\n",
              "      <td>NaN</td>\n",
              "      <td>NaN</td>\n",
              "      <td>NaN</td>\n",
              "      <td>NaN</td>\n",
              "      <td>NaN</td>\n",
              "      <td>NaN</td>\n",
              "      <td>NaN</td>\n",
              "      <td>NaN</td>\n",
              "      <td>NaN</td>\n",
              "      <td>NaN</td>\n",
              "      <td>NaN</td>\n",
              "      <td>NaN</td>\n",
              "      <td>NaN</td>\n",
              "      <td>NaN</td>\n",
              "      <td>NaN</td>\n",
              "      <td>NaN</td>\n",
              "      <td>NaN</td>\n",
              "      <td>NaN</td>\n",
              "      <td>NaN</td>\n",
              "      <td>NaN</td>\n",
              "      <td>NaN</td>\n",
              "      <td>NaN</td>\n",
              "      <td>NaN</td>\n",
              "      <td>NaN</td>\n",
              "      <td>NaN</td>\n",
              "      <td>NaN</td>\n",
              "      <td>NaN</td>\n",
              "      <td>NaN</td>\n",
              "    </tr>\n",
              "    <tr>\n",
              "      <th>75784</th>\n",
              "      <td>262144.0</td>\n",
              "      <td>1765.0</td>\n",
              "      <td>25582.0</td>\n",
              "      <td>25692.0</td>\n",
              "      <td>28808.0</td>\n",
              "      <td>69650.0</td>\n",
              "      <td>84221.0</td>\n",
              "      <td>127005.0</td>\n",
              "      <td>154193.0</td>\n",
              "      <td>205687.0</td>\n",
              "      <td>218214.0</td>\n",
              "      <td>223329.0</td>\n",
              "      <td>235089.0</td>\n",
              "      <td>6.587616</td>\n",
              "      <td>4.734298</td>\n",
              "      <td>6.112335</td>\n",
              "      <td>3.639563</td>\n",
              "      <td>2.432626</td>\n",
              "      <td>2.793971</td>\n",
              "      <td>9.883452</td>\n",
              "      <td>4.304262</td>\n",
              "      <td>4.817247</td>\n",
              "      <td>2.442132</td>\n",
              "      <td>1.070779</td>\n",
              "      <td>4.451604</td>\n",
              "      <td>NaN</td>\n",
              "      <td>NaN</td>\n",
              "      <td>NaN</td>\n",
              "      <td>NaN</td>\n",
              "      <td>NaN</td>\n",
              "      <td>NaN</td>\n",
              "      <td>NaN</td>\n",
              "      <td>NaN</td>\n",
              "      <td>NaN</td>\n",
              "      <td>NaN</td>\n",
              "      <td>NaN</td>\n",
              "      <td>NaN</td>\n",
              "      <td>NaN</td>\n",
              "      <td>NaN</td>\n",
              "      <td>NaN</td>\n",
              "      <td>...</td>\n",
              "      <td>NaN</td>\n",
              "      <td>NaN</td>\n",
              "      <td>NaN</td>\n",
              "      <td>NaN</td>\n",
              "      <td>NaN</td>\n",
              "      <td>NaN</td>\n",
              "      <td>NaN</td>\n",
              "      <td>NaN</td>\n",
              "      <td>NaN</td>\n",
              "      <td>NaN</td>\n",
              "      <td>NaN</td>\n",
              "      <td>NaN</td>\n",
              "      <td>NaN</td>\n",
              "      <td>NaN</td>\n",
              "      <td>NaN</td>\n",
              "      <td>NaN</td>\n",
              "      <td>NaN</td>\n",
              "      <td>NaN</td>\n",
              "      <td>NaN</td>\n",
              "      <td>NaN</td>\n",
              "      <td>NaN</td>\n",
              "      <td>NaN</td>\n",
              "      <td>NaN</td>\n",
              "      <td>NaN</td>\n",
              "      <td>NaN</td>\n",
              "      <td>NaN</td>\n",
              "      <td>NaN</td>\n",
              "      <td>NaN</td>\n",
              "      <td>NaN</td>\n",
              "      <td>NaN</td>\n",
              "      <td>NaN</td>\n",
              "      <td>NaN</td>\n",
              "      <td>NaN</td>\n",
              "      <td>NaN</td>\n",
              "      <td>NaN</td>\n",
              "      <td>NaN</td>\n",
              "      <td>NaN</td>\n",
              "      <td>NaN</td>\n",
              "      <td>NaN</td>\n",
              "      <td>NaN</td>\n",
              "    </tr>\n",
              "    <tr>\n",
              "      <th>114422</th>\n",
              "      <td>262144.0</td>\n",
              "      <td>4765.0</td>\n",
              "      <td>5847.0</td>\n",
              "      <td>41333.0</td>\n",
              "      <td>46758.0</td>\n",
              "      <td>50554.0</td>\n",
              "      <td>55687.0</td>\n",
              "      <td>57058.0</td>\n",
              "      <td>77524.0</td>\n",
              "      <td>79709.0</td>\n",
              "      <td>82806.0</td>\n",
              "      <td>86617.0</td>\n",
              "      <td>87623.0</td>\n",
              "      <td>113456.000000</td>\n",
              "      <td>127501.000000</td>\n",
              "      <td>134272.000000</td>\n",
              "      <td>135130.000000</td>\n",
              "      <td>143299.000000</td>\n",
              "      <td>155288.000000</td>\n",
              "      <td>161509.000000</td>\n",
              "      <td>175434.000000</td>\n",
              "      <td>186977.000000</td>\n",
              "      <td>208258.000000</td>\n",
              "      <td>222465.000000</td>\n",
              "      <td>223329.000000</td>\n",
              "      <td>243643.000000</td>\n",
              "      <td>259602.000000</td>\n",
              "      <td>5.791492</td>\n",
              "      <td>3.816351</td>\n",
              "      <td>5.957245</td>\n",
              "      <td>1.638743</td>\n",
              "      <td>2.421484</td>\n",
              "      <td>5.103129</td>\n",
              "      <td>5.065478</td>\n",
              "      <td>7.410522</td>\n",
              "      <td>3.325660</td>\n",
              "      <td>5.622787</td>\n",
              "      <td>3.681785</td>\n",
              "      <td>2.504534</td>\n",
              "      <td>5.765577</td>\n",
              "      <td>...</td>\n",
              "      <td>NaN</td>\n",
              "      <td>NaN</td>\n",
              "      <td>NaN</td>\n",
              "      <td>NaN</td>\n",
              "      <td>NaN</td>\n",
              "      <td>NaN</td>\n",
              "      <td>NaN</td>\n",
              "      <td>NaN</td>\n",
              "      <td>NaN</td>\n",
              "      <td>NaN</td>\n",
              "      <td>NaN</td>\n",
              "      <td>NaN</td>\n",
              "      <td>NaN</td>\n",
              "      <td>NaN</td>\n",
              "      <td>NaN</td>\n",
              "      <td>NaN</td>\n",
              "      <td>NaN</td>\n",
              "      <td>NaN</td>\n",
              "      <td>NaN</td>\n",
              "      <td>NaN</td>\n",
              "      <td>NaN</td>\n",
              "      <td>NaN</td>\n",
              "      <td>NaN</td>\n",
              "      <td>NaN</td>\n",
              "      <td>NaN</td>\n",
              "      <td>NaN</td>\n",
              "      <td>NaN</td>\n",
              "      <td>NaN</td>\n",
              "      <td>NaN</td>\n",
              "      <td>NaN</td>\n",
              "      <td>NaN</td>\n",
              "      <td>NaN</td>\n",
              "      <td>NaN</td>\n",
              "      <td>NaN</td>\n",
              "      <td>NaN</td>\n",
              "      <td>NaN</td>\n",
              "      <td>NaN</td>\n",
              "      <td>NaN</td>\n",
              "      <td>NaN</td>\n",
              "      <td>NaN</td>\n",
              "    </tr>\n",
              "    <tr>\n",
              "      <th>115490</th>\n",
              "      <td>262144.0</td>\n",
              "      <td>31925.0</td>\n",
              "      <td>46758.0</td>\n",
              "      <td>78495.0</td>\n",
              "      <td>120069.0</td>\n",
              "      <td>123935.0</td>\n",
              "      <td>125169.0</td>\n",
              "      <td>129299.0</td>\n",
              "      <td>150278.0</td>\n",
              "      <td>165226.0</td>\n",
              "      <td>192648.0</td>\n",
              "      <td>194358.0</td>\n",
              "      <td>220452.0</td>\n",
              "      <td>223329.000000</td>\n",
              "      <td>229543.000000</td>\n",
              "      <td>231992.000000</td>\n",
              "      <td>237775.000000</td>\n",
              "      <td>251391.000000</td>\n",
              "      <td>6.440291</td>\n",
              "      <td>1.638743</td>\n",
              "      <td>2.007411</td>\n",
              "      <td>6.261018</td>\n",
              "      <td>9.749921</td>\n",
              "      <td>6.614427</td>\n",
              "      <td>6.145783</td>\n",
              "      <td>5.827948</td>\n",
              "      <td>9.632138</td>\n",
              "      <td>4.166895</td>\n",
              "      <td>8.651309</td>\n",
              "      <td>7.375015</td>\n",
              "      <td>1.070779</td>\n",
              "      <td>8.332855</td>\n",
              "      <td>7.156534</td>\n",
              "      <td>4.913639</td>\n",
              "      <td>11.136215</td>\n",
              "      <td>NaN</td>\n",
              "      <td>NaN</td>\n",
              "      <td>NaN</td>\n",
              "      <td>NaN</td>\n",
              "      <td>NaN</td>\n",
              "      <td>...</td>\n",
              "      <td>NaN</td>\n",
              "      <td>NaN</td>\n",
              "      <td>NaN</td>\n",
              "      <td>NaN</td>\n",
              "      <td>NaN</td>\n",
              "      <td>NaN</td>\n",
              "      <td>NaN</td>\n",
              "      <td>NaN</td>\n",
              "      <td>NaN</td>\n",
              "      <td>NaN</td>\n",
              "      <td>NaN</td>\n",
              "      <td>NaN</td>\n",
              "      <td>NaN</td>\n",
              "      <td>NaN</td>\n",
              "      <td>NaN</td>\n",
              "      <td>NaN</td>\n",
              "      <td>NaN</td>\n",
              "      <td>NaN</td>\n",
              "      <td>NaN</td>\n",
              "      <td>NaN</td>\n",
              "      <td>NaN</td>\n",
              "      <td>NaN</td>\n",
              "      <td>NaN</td>\n",
              "      <td>NaN</td>\n",
              "      <td>NaN</td>\n",
              "      <td>NaN</td>\n",
              "      <td>NaN</td>\n",
              "      <td>NaN</td>\n",
              "      <td>NaN</td>\n",
              "      <td>NaN</td>\n",
              "      <td>NaN</td>\n",
              "      <td>NaN</td>\n",
              "      <td>NaN</td>\n",
              "      <td>NaN</td>\n",
              "      <td>NaN</td>\n",
              "      <td>NaN</td>\n",
              "      <td>NaN</td>\n",
              "      <td>NaN</td>\n",
              "      <td>NaN</td>\n",
              "      <td>NaN</td>\n",
              "    </tr>\n",
              "    <tr>\n",
              "      <th>91014</th>\n",
              "      <td>262144.0</td>\n",
              "      <td>10564.0</td>\n",
              "      <td>12531.0</td>\n",
              "      <td>57058.0</td>\n",
              "      <td>58227.0</td>\n",
              "      <td>72082.0</td>\n",
              "      <td>77506.0</td>\n",
              "      <td>134272.0</td>\n",
              "      <td>143501.0</td>\n",
              "      <td>146405.0</td>\n",
              "      <td>153612.0</td>\n",
              "      <td>181885.0</td>\n",
              "      <td>185931.0</td>\n",
              "      <td>212761.000000</td>\n",
              "      <td>223329.000000</td>\n",
              "      <td>256565.000000</td>\n",
              "      <td>2.212757</td>\n",
              "      <td>2.643520</td>\n",
              "      <td>5.065478</td>\n",
              "      <td>3.766930</td>\n",
              "      <td>7.138015</td>\n",
              "      <td>2.903642</td>\n",
              "      <td>1.130487</td>\n",
              "      <td>4.543171</td>\n",
              "      <td>6.369777</td>\n",
              "      <td>3.644012</td>\n",
              "      <td>4.656171</td>\n",
              "      <td>6.477504</td>\n",
              "      <td>4.871865</td>\n",
              "      <td>1.070779</td>\n",
              "      <td>3.315977</td>\n",
              "      <td>NaN</td>\n",
              "      <td>NaN</td>\n",
              "      <td>NaN</td>\n",
              "      <td>NaN</td>\n",
              "      <td>NaN</td>\n",
              "      <td>NaN</td>\n",
              "      <td>NaN</td>\n",
              "      <td>NaN</td>\n",
              "      <td>NaN</td>\n",
              "      <td>...</td>\n",
              "      <td>NaN</td>\n",
              "      <td>NaN</td>\n",
              "      <td>NaN</td>\n",
              "      <td>NaN</td>\n",
              "      <td>NaN</td>\n",
              "      <td>NaN</td>\n",
              "      <td>NaN</td>\n",
              "      <td>NaN</td>\n",
              "      <td>NaN</td>\n",
              "      <td>NaN</td>\n",
              "      <td>NaN</td>\n",
              "      <td>NaN</td>\n",
              "      <td>NaN</td>\n",
              "      <td>NaN</td>\n",
              "      <td>NaN</td>\n",
              "      <td>NaN</td>\n",
              "      <td>NaN</td>\n",
              "      <td>NaN</td>\n",
              "      <td>NaN</td>\n",
              "      <td>NaN</td>\n",
              "      <td>NaN</td>\n",
              "      <td>NaN</td>\n",
              "      <td>NaN</td>\n",
              "      <td>NaN</td>\n",
              "      <td>NaN</td>\n",
              "      <td>NaN</td>\n",
              "      <td>NaN</td>\n",
              "      <td>NaN</td>\n",
              "      <td>NaN</td>\n",
              "      <td>NaN</td>\n",
              "      <td>NaN</td>\n",
              "      <td>NaN</td>\n",
              "      <td>NaN</td>\n",
              "      <td>NaN</td>\n",
              "      <td>NaN</td>\n",
              "      <td>NaN</td>\n",
              "      <td>NaN</td>\n",
              "      <td>NaN</td>\n",
              "      <td>NaN</td>\n",
              "      <td>NaN</td>\n",
              "    </tr>\n",
              "    <tr>\n",
              "      <th>63344</th>\n",
              "      <td>262144.0</td>\n",
              "      <td>12109.0</td>\n",
              "      <td>14079.0</td>\n",
              "      <td>33140.0</td>\n",
              "      <td>36225.0</td>\n",
              "      <td>39286.0</td>\n",
              "      <td>49402.0</td>\n",
              "      <td>50415.0</td>\n",
              "      <td>55209.0</td>\n",
              "      <td>55709.0</td>\n",
              "      <td>58227.0</td>\n",
              "      <td>88398.0</td>\n",
              "      <td>95607.0</td>\n",
              "      <td>101336.000000</td>\n",
              "      <td>101940.000000</td>\n",
              "      <td>105672.000000</td>\n",
              "      <td>136071.000000</td>\n",
              "      <td>138954.000000</td>\n",
              "      <td>148921.000000</td>\n",
              "      <td>151150.000000</td>\n",
              "      <td>156550.000000</td>\n",
              "      <td>185559.000000</td>\n",
              "      <td>190120.000000</td>\n",
              "      <td>195642.000000</td>\n",
              "      <td>203802.000000</td>\n",
              "      <td>206312.000000</td>\n",
              "      <td>210802.000000</td>\n",
              "      <td>224718.000000</td>\n",
              "      <td>248069.000000</td>\n",
              "      <td>254027.000000</td>\n",
              "      <td>6.664577</td>\n",
              "      <td>5.897117</td>\n",
              "      <td>1.924876</td>\n",
              "      <td>3.774522</td>\n",
              "      <td>4.078748</td>\n",
              "      <td>3.903121</td>\n",
              "      <td>8.533526</td>\n",
              "      <td>8.022700</td>\n",
              "      <td>2.081360</td>\n",
              "      <td>3.766930</td>\n",
              "      <td>...</td>\n",
              "      <td>NaN</td>\n",
              "      <td>NaN</td>\n",
              "      <td>NaN</td>\n",
              "      <td>NaN</td>\n",
              "      <td>NaN</td>\n",
              "      <td>NaN</td>\n",
              "      <td>NaN</td>\n",
              "      <td>NaN</td>\n",
              "      <td>NaN</td>\n",
              "      <td>NaN</td>\n",
              "      <td>NaN</td>\n",
              "      <td>NaN</td>\n",
              "      <td>NaN</td>\n",
              "      <td>NaN</td>\n",
              "      <td>NaN</td>\n",
              "      <td>NaN</td>\n",
              "      <td>NaN</td>\n",
              "      <td>NaN</td>\n",
              "      <td>NaN</td>\n",
              "      <td>NaN</td>\n",
              "      <td>NaN</td>\n",
              "      <td>NaN</td>\n",
              "      <td>NaN</td>\n",
              "      <td>NaN</td>\n",
              "      <td>NaN</td>\n",
              "      <td>NaN</td>\n",
              "      <td>NaN</td>\n",
              "      <td>NaN</td>\n",
              "      <td>NaN</td>\n",
              "      <td>NaN</td>\n",
              "      <td>NaN</td>\n",
              "      <td>NaN</td>\n",
              "      <td>NaN</td>\n",
              "      <td>NaN</td>\n",
              "      <td>NaN</td>\n",
              "      <td>NaN</td>\n",
              "      <td>NaN</td>\n",
              "      <td>NaN</td>\n",
              "      <td>NaN</td>\n",
              "      <td>NaN</td>\n",
              "    </tr>\n",
              "    <tr>\n",
              "      <th>33782</th>\n",
              "      <td>262144.0</td>\n",
              "      <td>5847.0</td>\n",
              "      <td>15132.0</td>\n",
              "      <td>28669.0</td>\n",
              "      <td>58534.0</td>\n",
              "      <td>78072.0</td>\n",
              "      <td>78495.0</td>\n",
              "      <td>87384.0</td>\n",
              "      <td>111361.0</td>\n",
              "      <td>130063.0</td>\n",
              "      <td>140562.0</td>\n",
              "      <td>142312.0</td>\n",
              "      <td>144564.0</td>\n",
              "      <td>152332.000000</td>\n",
              "      <td>152655.000000</td>\n",
              "      <td>158421.000000</td>\n",
              "      <td>167308.000000</td>\n",
              "      <td>168342.000000</td>\n",
              "      <td>169329.000000</td>\n",
              "      <td>180147.000000</td>\n",
              "      <td>186979.000000</td>\n",
              "      <td>193711.000000</td>\n",
              "      <td>222674.000000</td>\n",
              "      <td>229166.000000</td>\n",
              "      <td>233276.000000</td>\n",
              "      <td>237546.000000</td>\n",
              "      <td>244614.000000</td>\n",
              "      <td>253382.000000</td>\n",
              "      <td>3.816351</td>\n",
              "      <td>6.408828</td>\n",
              "      <td>8.045173</td>\n",
              "      <td>3.043212</td>\n",
              "      <td>2.875076</td>\n",
              "      <td>2.007411</td>\n",
              "      <td>4.101828</td>\n",
              "      <td>11.136215</td>\n",
              "      <td>3.239663</td>\n",
              "      <td>9.121312</td>\n",
              "      <td>4.595907</td>\n",
              "      <td>5.772579</td>\n",
              "      <td>...</td>\n",
              "      <td>NaN</td>\n",
              "      <td>NaN</td>\n",
              "      <td>NaN</td>\n",
              "      <td>NaN</td>\n",
              "      <td>NaN</td>\n",
              "      <td>NaN</td>\n",
              "      <td>NaN</td>\n",
              "      <td>NaN</td>\n",
              "      <td>NaN</td>\n",
              "      <td>NaN</td>\n",
              "      <td>NaN</td>\n",
              "      <td>NaN</td>\n",
              "      <td>NaN</td>\n",
              "      <td>NaN</td>\n",
              "      <td>NaN</td>\n",
              "      <td>NaN</td>\n",
              "      <td>NaN</td>\n",
              "      <td>NaN</td>\n",
              "      <td>NaN</td>\n",
              "      <td>NaN</td>\n",
              "      <td>NaN</td>\n",
              "      <td>NaN</td>\n",
              "      <td>NaN</td>\n",
              "      <td>NaN</td>\n",
              "      <td>NaN</td>\n",
              "      <td>NaN</td>\n",
              "      <td>NaN</td>\n",
              "      <td>NaN</td>\n",
              "      <td>NaN</td>\n",
              "      <td>NaN</td>\n",
              "      <td>NaN</td>\n",
              "      <td>NaN</td>\n",
              "      <td>NaN</td>\n",
              "      <td>NaN</td>\n",
              "      <td>NaN</td>\n",
              "      <td>NaN</td>\n",
              "      <td>NaN</td>\n",
              "      <td>NaN</td>\n",
              "      <td>NaN</td>\n",
              "      <td>NaN</td>\n",
              "    </tr>\n",
              "    <tr>\n",
              "      <th>72047</th>\n",
              "      <td>262144.0</td>\n",
              "      <td>60417.0</td>\n",
              "      <td>69650.0</td>\n",
              "      <td>72073.0</td>\n",
              "      <td>74441.0</td>\n",
              "      <td>78495.0</td>\n",
              "      <td>79653.0</td>\n",
              "      <td>115189.0</td>\n",
              "      <td>125919.0</td>\n",
              "      <td>134081.0</td>\n",
              "      <td>143299.0</td>\n",
              "      <td>154828.0</td>\n",
              "      <td>174966.0</td>\n",
              "      <td>180297.000000</td>\n",
              "      <td>203516.000000</td>\n",
              "      <td>213580.000000</td>\n",
              "      <td>217608.000000</td>\n",
              "      <td>223526.000000</td>\n",
              "      <td>229305.000000</td>\n",
              "      <td>257471.000000</td>\n",
              "      <td>261870.000000</td>\n",
              "      <td>2.010671</td>\n",
              "      <td>2.432626</td>\n",
              "      <td>2.709056</td>\n",
              "      <td>6.369777</td>\n",
              "      <td>2.007411</td>\n",
              "      <td>3.622233</td>\n",
              "      <td>5.514005</td>\n",
              "      <td>2.140307</td>\n",
              "      <td>7.566683</td>\n",
              "      <td>1.502537</td>\n",
              "      <td>1.945721</td>\n",
              "      <td>3.745417</td>\n",
              "      <td>7.214242</td>\n",
              "      <td>4.046555</td>\n",
              "      <td>5.434101</td>\n",
              "      <td>5.048305</td>\n",
              "      <td>3.985514</td>\n",
              "      <td>2.817351</td>\n",
              "      <td>4.074452</td>\n",
              "      <td>...</td>\n",
              "      <td>NaN</td>\n",
              "      <td>NaN</td>\n",
              "      <td>NaN</td>\n",
              "      <td>NaN</td>\n",
              "      <td>NaN</td>\n",
              "      <td>NaN</td>\n",
              "      <td>NaN</td>\n",
              "      <td>NaN</td>\n",
              "      <td>NaN</td>\n",
              "      <td>NaN</td>\n",
              "      <td>NaN</td>\n",
              "      <td>NaN</td>\n",
              "      <td>NaN</td>\n",
              "      <td>NaN</td>\n",
              "      <td>NaN</td>\n",
              "      <td>NaN</td>\n",
              "      <td>NaN</td>\n",
              "      <td>NaN</td>\n",
              "      <td>NaN</td>\n",
              "      <td>NaN</td>\n",
              "      <td>NaN</td>\n",
              "      <td>NaN</td>\n",
              "      <td>NaN</td>\n",
              "      <td>NaN</td>\n",
              "      <td>NaN</td>\n",
              "      <td>NaN</td>\n",
              "      <td>NaN</td>\n",
              "      <td>NaN</td>\n",
              "      <td>NaN</td>\n",
              "      <td>NaN</td>\n",
              "      <td>NaN</td>\n",
              "      <td>NaN</td>\n",
              "      <td>NaN</td>\n",
              "      <td>NaN</td>\n",
              "      <td>NaN</td>\n",
              "      <td>NaN</td>\n",
              "      <td>NaN</td>\n",
              "      <td>NaN</td>\n",
              "      <td>NaN</td>\n",
              "      <td>NaN</td>\n",
              "    </tr>\n",
              "    <tr>\n",
              "      <th>135947</th>\n",
              "      <td>262144.0</td>\n",
              "      <td>551.0</td>\n",
              "      <td>4176.0</td>\n",
              "      <td>10533.0</td>\n",
              "      <td>15775.0</td>\n",
              "      <td>46758.0</td>\n",
              "      <td>62807.0</td>\n",
              "      <td>86309.0</td>\n",
              "      <td>93676.0</td>\n",
              "      <td>104220.0</td>\n",
              "      <td>105938.0</td>\n",
              "      <td>125919.0</td>\n",
              "      <td>134272.0</td>\n",
              "      <td>143299.000000</td>\n",
              "      <td>155288.000000</td>\n",
              "      <td>161677.000000</td>\n",
              "      <td>164116.000000</td>\n",
              "      <td>164837.000000</td>\n",
              "      <td>190120.000000</td>\n",
              "      <td>204380.000000</td>\n",
              "      <td>248759.000000</td>\n",
              "      <td>4.372331</td>\n",
              "      <td>3.689047</td>\n",
              "      <td>3.444330</td>\n",
              "      <td>5.483726</td>\n",
              "      <td>1.638743</td>\n",
              "      <td>3.926505</td>\n",
              "      <td>3.809092</td>\n",
              "      <td>3.549919</td>\n",
              "      <td>6.183916</td>\n",
              "      <td>4.085226</td>\n",
              "      <td>2.140307</td>\n",
              "      <td>1.130487</td>\n",
              "      <td>1.502537</td>\n",
              "      <td>1.956489</td>\n",
              "      <td>5.876119</td>\n",
              "      <td>8.462067</td>\n",
              "      <td>4.358000</td>\n",
              "      <td>3.034235</td>\n",
              "      <td>3.822662</td>\n",
              "      <td>...</td>\n",
              "      <td>NaN</td>\n",
              "      <td>NaN</td>\n",
              "      <td>NaN</td>\n",
              "      <td>NaN</td>\n",
              "      <td>NaN</td>\n",
              "      <td>NaN</td>\n",
              "      <td>NaN</td>\n",
              "      <td>NaN</td>\n",
              "      <td>NaN</td>\n",
              "      <td>NaN</td>\n",
              "      <td>NaN</td>\n",
              "      <td>NaN</td>\n",
              "      <td>NaN</td>\n",
              "      <td>NaN</td>\n",
              "      <td>NaN</td>\n",
              "      <td>NaN</td>\n",
              "      <td>NaN</td>\n",
              "      <td>NaN</td>\n",
              "      <td>NaN</td>\n",
              "      <td>NaN</td>\n",
              "      <td>NaN</td>\n",
              "      <td>NaN</td>\n",
              "      <td>NaN</td>\n",
              "      <td>NaN</td>\n",
              "      <td>NaN</td>\n",
              "      <td>NaN</td>\n",
              "      <td>NaN</td>\n",
              "      <td>NaN</td>\n",
              "      <td>NaN</td>\n",
              "      <td>NaN</td>\n",
              "      <td>NaN</td>\n",
              "      <td>NaN</td>\n",
              "      <td>NaN</td>\n",
              "      <td>NaN</td>\n",
              "      <td>NaN</td>\n",
              "      <td>NaN</td>\n",
              "      <td>NaN</td>\n",
              "      <td>NaN</td>\n",
              "      <td>NaN</td>\n",
              "      <td>NaN</td>\n",
              "    </tr>\n",
              "  </tbody>\n",
              "</table>\n",
              "<p>10 rows × 135 columns</p>\n",
              "</div>"
            ],
            "text/plain": [
              "             0        1        2        3         4    ...  130  131  132  133  134\n",
              "41794   262144.0   4185.0  10044.0  10049.0   16620.0  ...  NaN  NaN  NaN  NaN  NaN\n",
              "7056    262144.0  10044.0  12702.0  16704.0   33140.0  ...  NaN  NaN  NaN  NaN  NaN\n",
              "75784   262144.0   1765.0  25582.0  25692.0   28808.0  ...  NaN  NaN  NaN  NaN  NaN\n",
              "114422  262144.0   4765.0   5847.0  41333.0   46758.0  ...  NaN  NaN  NaN  NaN  NaN\n",
              "115490  262144.0  31925.0  46758.0  78495.0  120069.0  ...  NaN  NaN  NaN  NaN  NaN\n",
              "91014   262144.0  10564.0  12531.0  57058.0   58227.0  ...  NaN  NaN  NaN  NaN  NaN\n",
              "63344   262144.0  12109.0  14079.0  33140.0   36225.0  ...  NaN  NaN  NaN  NaN  NaN\n",
              "33782   262144.0   5847.0  15132.0  28669.0   58534.0  ...  NaN  NaN  NaN  NaN  NaN\n",
              "72047   262144.0  60417.0  69650.0  72073.0   74441.0  ...  NaN  NaN  NaN  NaN  NaN\n",
              "135947  262144.0    551.0   4176.0  10533.0   15775.0  ...  NaN  NaN  NaN  NaN  NaN\n",
              "\n",
              "[10 rows x 135 columns]"
            ]
          },
          "metadata": {
            "tags": []
          },
          "execution_count": 98
        }
      ]
    },
    {
      "cell_type": "code",
      "metadata": {
        "id": "n2vojoqiuQ0X"
      },
      "source": [
        "# Drop column 0 since it's all the same number\n",
        "features_df = features_df.drop([0],axis=1)"
      ],
      "execution_count": null,
      "outputs": []
    },
    {
      "cell_type": "code",
      "metadata": {
        "colab": {
          "base_uri": "https://localhost:8080/"
        },
        "id": "uZz_x65jqhp3",
        "outputId": "43a5a94c-1214-466d-f965-6efadf17d534"
      },
      "source": [
        "# Check length of features_df\n",
        "len(features_df)"
      ],
      "execution_count": null,
      "outputs": [
        {
          "output_type": "execute_result",
          "data": {
            "text/plain": [
              "137221"
            ]
          },
          "metadata": {
            "tags": []
          },
          "execution_count": 100
        }
      ]
    },
    {
      "cell_type": "code",
      "metadata": {
        "colab": {
          "base_uri": "https://localhost:8080/"
        },
        "id": "vA8H4e9wrA_f",
        "outputId": "63137431-f2bd-4992-e93c-1be42c3d1c13"
      },
      "source": [
        "# Check the length of the binned_df\n",
        "len(binned_df)"
      ],
      "execution_count": null,
      "outputs": [
        {
          "output_type": "execute_result",
          "data": {
            "text/plain": [
              "137221"
            ]
          },
          "metadata": {
            "tags": []
          },
          "execution_count": 101
        }
      ]
    },
    {
      "cell_type": "code",
      "metadata": {
        "colab": {
          "base_uri": "https://localhost:8080/",
          "height": 330
        },
        "id": "iLwlNmDLsTsv",
        "outputId": "c30c4bdc-3227-4740-c1a4-420838fda733"
      },
      "source": [
        "# Merge the dataframes\n",
        "merged_df = pd.merge(binned_df, features_df, left_index=True, right_index=True)\n",
        "merged_df = merged_df.drop(['description'], axis=1)\n",
        "merged_df.head(5)"
      ],
      "execution_count": null,
      "outputs": [
        {
          "output_type": "execute_result",
          "data": {
            "text/html": [
              "<div>\n",
              "<style scoped>\n",
              "    .dataframe tbody tr th:only-of-type {\n",
              "        vertical-align: middle;\n",
              "    }\n",
              "\n",
              "    .dataframe tbody tr th {\n",
              "        vertical-align: top;\n",
              "    }\n",
              "\n",
              "    .dataframe thead th {\n",
              "        text-align: right;\n",
              "    }\n",
              "</style>\n",
              "<table border=\"1\" class=\"dataframe\">\n",
              "  <thead>\n",
              "    <tr style=\"text-align: right;\">\n",
              "      <th></th>\n",
              "      <th>_c0</th>\n",
              "      <th>country</th>\n",
              "      <th>designation</th>\n",
              "      <th>points</th>\n",
              "      <th>price</th>\n",
              "      <th>province</th>\n",
              "      <th>region_1</th>\n",
              "      <th>variety</th>\n",
              "      <th>winery</th>\n",
              "      <th>tokens</th>\n",
              "      <th>filtered_tokens</th>\n",
              "      <th>features</th>\n",
              "      <th>1</th>\n",
              "      <th>2</th>\n",
              "      <th>3</th>\n",
              "      <th>4</th>\n",
              "      <th>5</th>\n",
              "      <th>6</th>\n",
              "      <th>7</th>\n",
              "      <th>8</th>\n",
              "      <th>9</th>\n",
              "      <th>10</th>\n",
              "      <th>11</th>\n",
              "      <th>12</th>\n",
              "      <th>13</th>\n",
              "      <th>14</th>\n",
              "      <th>15</th>\n",
              "      <th>16</th>\n",
              "      <th>17</th>\n",
              "      <th>18</th>\n",
              "      <th>19</th>\n",
              "      <th>20</th>\n",
              "      <th>21</th>\n",
              "      <th>22</th>\n",
              "      <th>23</th>\n",
              "      <th>24</th>\n",
              "      <th>25</th>\n",
              "      <th>26</th>\n",
              "      <th>27</th>\n",
              "      <th>28</th>\n",
              "      <th>...</th>\n",
              "      <th>95</th>\n",
              "      <th>96</th>\n",
              "      <th>97</th>\n",
              "      <th>98</th>\n",
              "      <th>99</th>\n",
              "      <th>100</th>\n",
              "      <th>101</th>\n",
              "      <th>102</th>\n",
              "      <th>103</th>\n",
              "      <th>104</th>\n",
              "      <th>105</th>\n",
              "      <th>106</th>\n",
              "      <th>107</th>\n",
              "      <th>108</th>\n",
              "      <th>109</th>\n",
              "      <th>110</th>\n",
              "      <th>111</th>\n",
              "      <th>112</th>\n",
              "      <th>113</th>\n",
              "      <th>114</th>\n",
              "      <th>115</th>\n",
              "      <th>116</th>\n",
              "      <th>117</th>\n",
              "      <th>118</th>\n",
              "      <th>119</th>\n",
              "      <th>120</th>\n",
              "      <th>121</th>\n",
              "      <th>122</th>\n",
              "      <th>123</th>\n",
              "      <th>124</th>\n",
              "      <th>125</th>\n",
              "      <th>126</th>\n",
              "      <th>127</th>\n",
              "      <th>128</th>\n",
              "      <th>129</th>\n",
              "      <th>130</th>\n",
              "      <th>131</th>\n",
              "      <th>132</th>\n",
              "      <th>133</th>\n",
              "      <th>134</th>\n",
              "    </tr>\n",
              "  </thead>\n",
              "  <tbody>\n",
              "    <tr>\n",
              "      <th>0</th>\n",
              "      <td>0</td>\n",
              "      <td>US</td>\n",
              "      <td>Other</td>\n",
              "      <td>96.0</td>\n",
              "      <td>235.0</td>\n",
              "      <td>California</td>\n",
              "      <td>Napa Valley</td>\n",
              "      <td>Cabernet Sauvignon</td>\n",
              "      <td>Other</td>\n",
              "      <td>60.0</td>\n",
              "      <td>36.0</td>\n",
              "      <td>(262144,[2701,16004,23236,28401,33079,39068,45...</td>\n",
              "      <td>2701.0</td>\n",
              "      <td>16004.0</td>\n",
              "      <td>23236.0</td>\n",
              "      <td>28401.0</td>\n",
              "      <td>33079.0</td>\n",
              "      <td>39068.0</td>\n",
              "      <td>45330.0</td>\n",
              "      <td>46582.0</td>\n",
              "      <td>63420.0</td>\n",
              "      <td>66669.0</td>\n",
              "      <td>75898.0</td>\n",
              "      <td>76106.0</td>\n",
              "      <td>87005.0</td>\n",
              "      <td>96005.0</td>\n",
              "      <td>100312.0</td>\n",
              "      <td>125177.0</td>\n",
              "      <td>125919.0</td>\n",
              "      <td>135627.0</td>\n",
              "      <td>141911.0</td>\n",
              "      <td>143299.0</td>\n",
              "      <td>146696.0</td>\n",
              "      <td>158571.0</td>\n",
              "      <td>158931.0</td>\n",
              "      <td>163760.0</td>\n",
              "      <td>164837.0</td>\n",
              "      <td>171917.0</td>\n",
              "      <td>185760.0</td>\n",
              "      <td>200144.0</td>\n",
              "      <td>...</td>\n",
              "      <td>NaN</td>\n",
              "      <td>NaN</td>\n",
              "      <td>NaN</td>\n",
              "      <td>NaN</td>\n",
              "      <td>NaN</td>\n",
              "      <td>NaN</td>\n",
              "      <td>NaN</td>\n",
              "      <td>NaN</td>\n",
              "      <td>NaN</td>\n",
              "      <td>NaN</td>\n",
              "      <td>NaN</td>\n",
              "      <td>NaN</td>\n",
              "      <td>NaN</td>\n",
              "      <td>NaN</td>\n",
              "      <td>NaN</td>\n",
              "      <td>NaN</td>\n",
              "      <td>NaN</td>\n",
              "      <td>NaN</td>\n",
              "      <td>NaN</td>\n",
              "      <td>NaN</td>\n",
              "      <td>NaN</td>\n",
              "      <td>NaN</td>\n",
              "      <td>NaN</td>\n",
              "      <td>NaN</td>\n",
              "      <td>NaN</td>\n",
              "      <td>NaN</td>\n",
              "      <td>NaN</td>\n",
              "      <td>NaN</td>\n",
              "      <td>NaN</td>\n",
              "      <td>NaN</td>\n",
              "      <td>NaN</td>\n",
              "      <td>NaN</td>\n",
              "      <td>NaN</td>\n",
              "      <td>NaN</td>\n",
              "      <td>NaN</td>\n",
              "      <td>NaN</td>\n",
              "      <td>NaN</td>\n",
              "      <td>NaN</td>\n",
              "      <td>NaN</td>\n",
              "      <td>NaN</td>\n",
              "    </tr>\n",
              "    <tr>\n",
              "      <th>1</th>\n",
              "      <td>1</td>\n",
              "      <td>Spain</td>\n",
              "      <td>Other</td>\n",
              "      <td>96.0</td>\n",
              "      <td>110.0</td>\n",
              "      <td>Northern Spain</td>\n",
              "      <td>Other</td>\n",
              "      <td>Other</td>\n",
              "      <td>Other</td>\n",
              "      <td>51.0</td>\n",
              "      <td>31.0</td>\n",
              "      <td>(262144,[11481,33140,41643,46758,55709,59455,6...</td>\n",
              "      <td>11481.0</td>\n",
              "      <td>33140.0</td>\n",
              "      <td>41643.0</td>\n",
              "      <td>46758.0</td>\n",
              "      <td>55709.0</td>\n",
              "      <td>59455.0</td>\n",
              "      <td>69650.0</td>\n",
              "      <td>79653.0</td>\n",
              "      <td>104662.0</td>\n",
              "      <td>106432.0</td>\n",
              "      <td>119670.0</td>\n",
              "      <td>134272.0</td>\n",
              "      <td>143776.0</td>\n",
              "      <td>149300.0</td>\n",
              "      <td>149583.0</td>\n",
              "      <td>154828.0</td>\n",
              "      <td>160195.0</td>\n",
              "      <td>161469.0</td>\n",
              "      <td>168341.0</td>\n",
              "      <td>172530.0</td>\n",
              "      <td>186037.0</td>\n",
              "      <td>190120.0</td>\n",
              "      <td>206577.0</td>\n",
              "      <td>208892.0</td>\n",
              "      <td>212295.0</td>\n",
              "      <td>213835.0</td>\n",
              "      <td>216086.0</td>\n",
              "      <td>217078.0</td>\n",
              "      <td>...</td>\n",
              "      <td>NaN</td>\n",
              "      <td>NaN</td>\n",
              "      <td>NaN</td>\n",
              "      <td>NaN</td>\n",
              "      <td>NaN</td>\n",
              "      <td>NaN</td>\n",
              "      <td>NaN</td>\n",
              "      <td>NaN</td>\n",
              "      <td>NaN</td>\n",
              "      <td>NaN</td>\n",
              "      <td>NaN</td>\n",
              "      <td>NaN</td>\n",
              "      <td>NaN</td>\n",
              "      <td>NaN</td>\n",
              "      <td>NaN</td>\n",
              "      <td>NaN</td>\n",
              "      <td>NaN</td>\n",
              "      <td>NaN</td>\n",
              "      <td>NaN</td>\n",
              "      <td>NaN</td>\n",
              "      <td>NaN</td>\n",
              "      <td>NaN</td>\n",
              "      <td>NaN</td>\n",
              "      <td>NaN</td>\n",
              "      <td>NaN</td>\n",
              "      <td>NaN</td>\n",
              "      <td>NaN</td>\n",
              "      <td>NaN</td>\n",
              "      <td>NaN</td>\n",
              "      <td>NaN</td>\n",
              "      <td>NaN</td>\n",
              "      <td>NaN</td>\n",
              "      <td>NaN</td>\n",
              "      <td>NaN</td>\n",
              "      <td>NaN</td>\n",
              "      <td>NaN</td>\n",
              "      <td>NaN</td>\n",
              "      <td>NaN</td>\n",
              "      <td>NaN</td>\n",
              "      <td>NaN</td>\n",
              "    </tr>\n",
              "    <tr>\n",
              "      <th>2</th>\n",
              "      <td>2</td>\n",
              "      <td>US</td>\n",
              "      <td>Other</td>\n",
              "      <td>96.0</td>\n",
              "      <td>90.0</td>\n",
              "      <td>California</td>\n",
              "      <td>Other</td>\n",
              "      <td>Sauvignon Blanc</td>\n",
              "      <td>Other</td>\n",
              "      <td>47.0</td>\n",
              "      <td>30.0</td>\n",
              "      <td>(262144,[10077,26468,32151,49402,61157,64289,7...</td>\n",
              "      <td>10077.0</td>\n",
              "      <td>26468.0</td>\n",
              "      <td>32151.0</td>\n",
              "      <td>49402.0</td>\n",
              "      <td>61157.0</td>\n",
              "      <td>64289.0</td>\n",
              "      <td>76272.0</td>\n",
              "      <td>88398.0</td>\n",
              "      <td>99749.0</td>\n",
              "      <td>119775.0</td>\n",
              "      <td>123974.0</td>\n",
              "      <td>140784.0</td>\n",
              "      <td>153612.0</td>\n",
              "      <td>156125.0</td>\n",
              "      <td>171516.0</td>\n",
              "      <td>172455.0</td>\n",
              "      <td>172814.0</td>\n",
              "      <td>174799.0</td>\n",
              "      <td>188828.0</td>\n",
              "      <td>203214.0</td>\n",
              "      <td>215060.0</td>\n",
              "      <td>217441.0</td>\n",
              "      <td>223329.0</td>\n",
              "      <td>225667.0</td>\n",
              "      <td>229305.0</td>\n",
              "      <td>238819.0</td>\n",
              "      <td>245426.0</td>\n",
              "      <td>251052.0</td>\n",
              "      <td>...</td>\n",
              "      <td>NaN</td>\n",
              "      <td>NaN</td>\n",
              "      <td>NaN</td>\n",
              "      <td>NaN</td>\n",
              "      <td>NaN</td>\n",
              "      <td>NaN</td>\n",
              "      <td>NaN</td>\n",
              "      <td>NaN</td>\n",
              "      <td>NaN</td>\n",
              "      <td>NaN</td>\n",
              "      <td>NaN</td>\n",
              "      <td>NaN</td>\n",
              "      <td>NaN</td>\n",
              "      <td>NaN</td>\n",
              "      <td>NaN</td>\n",
              "      <td>NaN</td>\n",
              "      <td>NaN</td>\n",
              "      <td>NaN</td>\n",
              "      <td>NaN</td>\n",
              "      <td>NaN</td>\n",
              "      <td>NaN</td>\n",
              "      <td>NaN</td>\n",
              "      <td>NaN</td>\n",
              "      <td>NaN</td>\n",
              "      <td>NaN</td>\n",
              "      <td>NaN</td>\n",
              "      <td>NaN</td>\n",
              "      <td>NaN</td>\n",
              "      <td>NaN</td>\n",
              "      <td>NaN</td>\n",
              "      <td>NaN</td>\n",
              "      <td>NaN</td>\n",
              "      <td>NaN</td>\n",
              "      <td>NaN</td>\n",
              "      <td>NaN</td>\n",
              "      <td>NaN</td>\n",
              "      <td>NaN</td>\n",
              "      <td>NaN</td>\n",
              "      <td>NaN</td>\n",
              "      <td>NaN</td>\n",
              "    </tr>\n",
              "    <tr>\n",
              "      <th>3</th>\n",
              "      <td>3</td>\n",
              "      <td>US</td>\n",
              "      <td>Reserve</td>\n",
              "      <td>96.0</td>\n",
              "      <td>65.0</td>\n",
              "      <td>Oregon</td>\n",
              "      <td>Willamette Valley</td>\n",
              "      <td>Pinot Noir</td>\n",
              "      <td>Other</td>\n",
              "      <td>62.0</td>\n",
              "      <td>43.0</td>\n",
              "      <td>(262144,[1546,4238,13171,15324,16356,25381,331...</td>\n",
              "      <td>1546.0</td>\n",
              "      <td>4238.0</td>\n",
              "      <td>13171.0</td>\n",
              "      <td>15324.0</td>\n",
              "      <td>16356.0</td>\n",
              "      <td>25381.0</td>\n",
              "      <td>33140.0</td>\n",
              "      <td>46758.0</td>\n",
              "      <td>56257.0</td>\n",
              "      <td>67144.0</td>\n",
              "      <td>69650.0</td>\n",
              "      <td>78329.0</td>\n",
              "      <td>84417.0</td>\n",
              "      <td>89833.0</td>\n",
              "      <td>90804.0</td>\n",
              "      <td>93436.0</td>\n",
              "      <td>100762.0</td>\n",
              "      <td>105672.0</td>\n",
              "      <td>123598.0</td>\n",
              "      <td>125919.0</td>\n",
              "      <td>127791.0</td>\n",
              "      <td>134272.0</td>\n",
              "      <td>143299.0</td>\n",
              "      <td>145689.0</td>\n",
              "      <td>154213.0</td>\n",
              "      <td>154828.0</td>\n",
              "      <td>159212.0</td>\n",
              "      <td>170657.0</td>\n",
              "      <td>...</td>\n",
              "      <td>NaN</td>\n",
              "      <td>NaN</td>\n",
              "      <td>NaN</td>\n",
              "      <td>NaN</td>\n",
              "      <td>NaN</td>\n",
              "      <td>NaN</td>\n",
              "      <td>NaN</td>\n",
              "      <td>NaN</td>\n",
              "      <td>NaN</td>\n",
              "      <td>NaN</td>\n",
              "      <td>NaN</td>\n",
              "      <td>NaN</td>\n",
              "      <td>NaN</td>\n",
              "      <td>NaN</td>\n",
              "      <td>NaN</td>\n",
              "      <td>NaN</td>\n",
              "      <td>NaN</td>\n",
              "      <td>NaN</td>\n",
              "      <td>NaN</td>\n",
              "      <td>NaN</td>\n",
              "      <td>NaN</td>\n",
              "      <td>NaN</td>\n",
              "      <td>NaN</td>\n",
              "      <td>NaN</td>\n",
              "      <td>NaN</td>\n",
              "      <td>NaN</td>\n",
              "      <td>NaN</td>\n",
              "      <td>NaN</td>\n",
              "      <td>NaN</td>\n",
              "      <td>NaN</td>\n",
              "      <td>NaN</td>\n",
              "      <td>NaN</td>\n",
              "      <td>NaN</td>\n",
              "      <td>NaN</td>\n",
              "      <td>NaN</td>\n",
              "      <td>NaN</td>\n",
              "      <td>NaN</td>\n",
              "      <td>NaN</td>\n",
              "      <td>NaN</td>\n",
              "      <td>NaN</td>\n",
              "    </tr>\n",
              "    <tr>\n",
              "      <th>4</th>\n",
              "      <td>4</td>\n",
              "      <td>France</td>\n",
              "      <td>Other</td>\n",
              "      <td>95.0</td>\n",
              "      <td>66.0</td>\n",
              "      <td>Provence</td>\n",
              "      <td>Other</td>\n",
              "      <td>Other</td>\n",
              "      <td>Other</td>\n",
              "      <td>66.0</td>\n",
              "      <td>37.0</td>\n",
              "      <td>(262144,[1546,17161,18176,31536,33140,48479,49...</td>\n",
              "      <td>1546.0</td>\n",
              "      <td>17161.0</td>\n",
              "      <td>18176.0</td>\n",
              "      <td>31536.0</td>\n",
              "      <td>33140.0</td>\n",
              "      <td>48479.0</td>\n",
              "      <td>49526.0</td>\n",
              "      <td>65848.0</td>\n",
              "      <td>88378.0</td>\n",
              "      <td>90392.0</td>\n",
              "      <td>93114.0</td>\n",
              "      <td>103473.0</td>\n",
              "      <td>115192.0</td>\n",
              "      <td>119201.0</td>\n",
              "      <td>137039.0</td>\n",
              "      <td>140762.0</td>\n",
              "      <td>140784.0</td>\n",
              "      <td>148880.0</td>\n",
              "      <td>160897.0</td>\n",
              "      <td>179287.0</td>\n",
              "      <td>198725.0</td>\n",
              "      <td>208852.0</td>\n",
              "      <td>212413.0</td>\n",
              "      <td>213305.0</td>\n",
              "      <td>221427.0</td>\n",
              "      <td>222710.0</td>\n",
              "      <td>223329.0</td>\n",
              "      <td>226521.0</td>\n",
              "      <td>...</td>\n",
              "      <td>NaN</td>\n",
              "      <td>NaN</td>\n",
              "      <td>NaN</td>\n",
              "      <td>NaN</td>\n",
              "      <td>NaN</td>\n",
              "      <td>NaN</td>\n",
              "      <td>NaN</td>\n",
              "      <td>NaN</td>\n",
              "      <td>NaN</td>\n",
              "      <td>NaN</td>\n",
              "      <td>NaN</td>\n",
              "      <td>NaN</td>\n",
              "      <td>NaN</td>\n",
              "      <td>NaN</td>\n",
              "      <td>NaN</td>\n",
              "      <td>NaN</td>\n",
              "      <td>NaN</td>\n",
              "      <td>NaN</td>\n",
              "      <td>NaN</td>\n",
              "      <td>NaN</td>\n",
              "      <td>NaN</td>\n",
              "      <td>NaN</td>\n",
              "      <td>NaN</td>\n",
              "      <td>NaN</td>\n",
              "      <td>NaN</td>\n",
              "      <td>NaN</td>\n",
              "      <td>NaN</td>\n",
              "      <td>NaN</td>\n",
              "      <td>NaN</td>\n",
              "      <td>NaN</td>\n",
              "      <td>NaN</td>\n",
              "      <td>NaN</td>\n",
              "      <td>NaN</td>\n",
              "      <td>NaN</td>\n",
              "      <td>NaN</td>\n",
              "      <td>NaN</td>\n",
              "      <td>NaN</td>\n",
              "      <td>NaN</td>\n",
              "      <td>NaN</td>\n",
              "      <td>NaN</td>\n",
              "    </tr>\n",
              "  </tbody>\n",
              "</table>\n",
              "<p>5 rows × 146 columns</p>\n",
              "</div>"
            ],
            "text/plain": [
              "   _c0 country designation  points  price  ... 130 131 132 133  134\n",
              "0    0      US       Other    96.0  235.0  ... NaN NaN NaN NaN  NaN\n",
              "1    1   Spain       Other    96.0  110.0  ... NaN NaN NaN NaN  NaN\n",
              "2    2      US       Other    96.0   90.0  ... NaN NaN NaN NaN  NaN\n",
              "3    3      US     Reserve    96.0   65.0  ... NaN NaN NaN NaN  NaN\n",
              "4    4  France       Other    95.0   66.0  ... NaN NaN NaN NaN  NaN\n",
              "\n",
              "[5 rows x 146 columns]"
            ]
          },
          "metadata": {
            "tags": []
          },
          "execution_count": 102
        }
      ]
    },
    {
      "cell_type": "code",
      "metadata": {
        "colab": {
          "base_uri": "https://localhost:8080/"
        },
        "id": "1_DKzfAfsqwY",
        "outputId": "36730b0a-7c04-4b42-e087-326c1042e2f9"
      },
      "source": [
        "# Drop the features column\n",
        "merged_df = merged_df.drop(['features'], axis=1)\n",
        "merged_df.dtypes"
      ],
      "execution_count": null,
      "outputs": [
        {
          "output_type": "execute_result",
          "data": {
            "text/plain": [
              "_c0              int64\n",
              "country         object\n",
              "designation     object\n",
              "points         float64\n",
              "price          float64\n",
              "                ...   \n",
              "130            float64\n",
              "131            float64\n",
              "132            float64\n",
              "133            float64\n",
              "134            float64\n",
              "Length: 145, dtype: object"
            ]
          },
          "metadata": {
            "tags": []
          },
          "execution_count": 103
        }
      ]
    },
    {
      "cell_type": "markdown",
      "metadata": {
        "id": "fwMAsmQ3Rm7v"
      },
      "source": [
        "#### 5.1 Label Encode Category Columns"
      ]
    },
    {
      "cell_type": "code",
      "metadata": {
        "colab": {
          "base_uri": "https://localhost:8080/",
          "height": 197
        },
        "id": "P6jbRY5XRmif",
        "outputId": "80f68f78-5586-4712-db47-873c0e5aa271"
      },
      "source": [
        "from sklearn.preprocessing import LabelEncoder\n",
        "le = LabelEncoder()\n",
        "categories = merged_df.dtypes[merged_df.dtypes == 'object'].index.tolist()\n",
        "\n",
        "le_df = merged_df[categories]\n",
        "\n",
        "le_df = le_df.apply(le.fit_transform)\n",
        "le_df.head()"
      ],
      "execution_count": null,
      "outputs": [
        {
          "output_type": "execute_result",
          "data": {
            "text/html": [
              "<div>\n",
              "<style scoped>\n",
              "    .dataframe tbody tr th:only-of-type {\n",
              "        vertical-align: middle;\n",
              "    }\n",
              "\n",
              "    .dataframe tbody tr th {\n",
              "        vertical-align: top;\n",
              "    }\n",
              "\n",
              "    .dataframe thead th {\n",
              "        text-align: right;\n",
              "    }\n",
              "</style>\n",
              "<table border=\"1\" class=\"dataframe\">\n",
              "  <thead>\n",
              "    <tr style=\"text-align: right;\">\n",
              "      <th></th>\n",
              "      <th>country</th>\n",
              "      <th>designation</th>\n",
              "      <th>province</th>\n",
              "      <th>region_1</th>\n",
              "      <th>variety</th>\n",
              "      <th>winery</th>\n",
              "    </tr>\n",
              "  </thead>\n",
              "  <tbody>\n",
              "    <tr>\n",
              "      <th>0</th>\n",
              "      <td>12</td>\n",
              "      <td>20</td>\n",
              "      <td>6</td>\n",
              "      <td>24</td>\n",
              "      <td>2</td>\n",
              "      <td>15</td>\n",
              "    </tr>\n",
              "    <tr>\n",
              "      <th>1</th>\n",
              "      <td>11</td>\n",
              "      <td>20</td>\n",
              "      <td>26</td>\n",
              "      <td>26</td>\n",
              "      <td>9</td>\n",
              "      <td>15</td>\n",
              "    </tr>\n",
              "    <tr>\n",
              "      <th>2</th>\n",
              "      <td>12</td>\n",
              "      <td>20</td>\n",
              "      <td>6</td>\n",
              "      <td>26</td>\n",
              "      <td>19</td>\n",
              "      <td>15</td>\n",
              "    </tr>\n",
              "    <tr>\n",
              "      <th>3</th>\n",
              "      <td>12</td>\n",
              "      <td>22</td>\n",
              "      <td>27</td>\n",
              "      <td>46</td>\n",
              "      <td>12</td>\n",
              "      <td>15</td>\n",
              "    </tr>\n",
              "    <tr>\n",
              "      <th>4</th>\n",
              "      <td>4</td>\n",
              "      <td>20</td>\n",
              "      <td>31</td>\n",
              "      <td>26</td>\n",
              "      <td>9</td>\n",
              "      <td>15</td>\n",
              "    </tr>\n",
              "  </tbody>\n",
              "</table>\n",
              "</div>"
            ],
            "text/plain": [
              "   country  designation  province  region_1  variety  winery\n",
              "0       12           20         6        24        2      15\n",
              "1       11           20        26        26        9      15\n",
              "2       12           20         6        26       19      15\n",
              "3       12           22        27        46       12      15\n",
              "4        4           20        31        26        9      15"
            ]
          },
          "metadata": {
            "tags": []
          },
          "execution_count": 104
        }
      ]
    },
    {
      "cell_type": "markdown",
      "metadata": {
        "id": "tH2fyo5vkbVK"
      },
      "source": [
        "#### 5.2 Track which labels correspond to original values:"
      ]
    },
    {
      "cell_type": "code",
      "metadata": {
        "colab": {
          "base_uri": "https://localhost:8080/"
        },
        "id": "c5rBpVw2TN-i",
        "outputId": "213c9a17-08dc-4e8b-f2fe-daec2c38b6e2"
      },
      "source": [
        "# Print out the encoded values\n",
        "\n",
        "#var = list(le.classes_)\n",
        "#list(le.classes_)\n",
        "\n",
        "country = list(merged_df['country'].unique())\n",
        "designation = list(merged_df['designation'].unique())\n",
        "province = list(merged_df['province'].unique())\n",
        "region = list(merged_df['region_1'].unique())\n",
        "variety = list(merged_df['variety'].unique())\n",
        "winery = list(merged_df['winery'].unique())\n",
        "\n",
        "#print(type(var))\n",
        "\n",
        "country_num = list(le.fit_transform(country))\n",
        "designation_num = list(le.fit_transform(designation))\n",
        "province_num = list(le.fit_transform(province))\n",
        "region_num = list(le.fit_transform(region))\n",
        "variety_num = list(le.fit_transform(variety))\n",
        "winery_num = list(le.fit_transform(winery))\n",
        "\n",
        "print(designation)\n",
        "print(designation_num)\n",
        "print(len(region))"
      ],
      "execution_count": null,
      "outputs": [
        {
          "output_type": "stream",
          "text": [
            "['Other', 'Reserve', 'Riserva', 'N/A', 'Estate Grown', 'Barrel Select', 'Reserva', 'Estate', 'Crianza', 'Estate Reserve', 'Réserve', 'Estate Bottled', 'Brut Rosé', 'Dry', 'Vieilles Vignes', 'Unoaked', 'Brut', 'Bien Nacido Vineyard', 'Late Harvest', 'Special Reserve', 'Rosé', 'Single Vineyard', 'Gran Reserva', 'Vintage', 'Classic', 'Tinto', 'Late Bottled Vintage', 'Old Vine', 'Grand Reserve', 'Old Vines', 'Kosher', 'Extra Dry']\n",
            "[20, 22, 23, 17, 9, 0, 21, 7, 5, 10, 25, 8, 3, 6, 30, 29, 2, 1, 16, 27, 24, 26, 12, 31, 4, 28, 15, 18, 13, 19, 14, 11]\n",
            "48\n"
          ],
          "name": "stdout"
        }
      ]
    },
    {
      "cell_type": "code",
      "metadata": {
        "id": "gJhcmOn3aHlZ"
      },
      "source": [
        "# Create a country df for encoded labels\n",
        "country_df = pd.DataFrame(list(zip(country_num, country)),\n",
        "               columns =['number','country'])\n",
        "country_df = country_df.sort_values(by=['number'])\n",
        "\n",
        "# Create a designation df for encoded labels\n",
        "designation_df = pd.DataFrame(list(zip(designation_num, designation)),\n",
        "               columns =['number','designation'])\n",
        "designation_df = designation_df.sort_values(by=['number'])\n",
        "\n",
        "# Create a province df for encoded labels\n",
        "province_df = pd.DataFrame(list(zip(province_num, province)),\n",
        "               columns =['number','province'])\n",
        "province_df = province_df.sort_values(by=['number'])\n",
        "\n",
        "# Create a region df for encoded labels\n",
        "region_df = pd.DataFrame(list(zip(region_num, region)),\n",
        "               columns =['number','region'])\n",
        "region_df = region_df.sort_values(by=['number'])\n",
        "\n",
        "# Create a variety df for encoded labels\n",
        "variety_df = pd.DataFrame(list(zip(variety_num, variety)),\n",
        "               columns =['number','variety'])\n",
        "variety_df = variety_df.sort_values(by=['number'])\n",
        "\n",
        "# Create a winery df for encoded labels\n",
        "winery_df = pd.DataFrame(list(zip(winery_num, winery)),\n",
        "               columns =['number','winery'])\n",
        "winery_df = winery_df.sort_values(by=['number'])\n",
        "\n",
        "#province_df.head()"
      ],
      "execution_count": null,
      "outputs": []
    },
    {
      "cell_type": "code",
      "metadata": {
        "colab": {
          "base_uri": "https://localhost:8080/",
          "height": 197
        },
        "id": "F5e_K30RgLMO",
        "outputId": "7be239fe-46c7-4fd6-a836-5dc85a215537"
      },
      "source": [
        "# Merge the dataframe\n",
        "from functools import reduce\n",
        "\n",
        "dfs = [country_df, designation_df, province_df, region_df, variety_df, winery_df]\n",
        "labels = reduce(lambda left,right: pd.merge(left,right,on='number',how='outer'), dfs)\n",
        "\n",
        "labels.head()"
      ],
      "execution_count": null,
      "outputs": [
        {
          "output_type": "execute_result",
          "data": {
            "text/html": [
              "<div>\n",
              "<style scoped>\n",
              "    .dataframe tbody tr th:only-of-type {\n",
              "        vertical-align: middle;\n",
              "    }\n",
              "\n",
              "    .dataframe tbody tr th {\n",
              "        vertical-align: top;\n",
              "    }\n",
              "\n",
              "    .dataframe thead th {\n",
              "        text-align: right;\n",
              "    }\n",
              "</style>\n",
              "<table border=\"1\" class=\"dataframe\">\n",
              "  <thead>\n",
              "    <tr style=\"text-align: right;\">\n",
              "      <th></th>\n",
              "      <th>number</th>\n",
              "      <th>country</th>\n",
              "      <th>designation</th>\n",
              "      <th>province</th>\n",
              "      <th>region</th>\n",
              "      <th>variety</th>\n",
              "      <th>winery</th>\n",
              "    </tr>\n",
              "  </thead>\n",
              "  <tbody>\n",
              "    <tr>\n",
              "      <th>0</th>\n",
              "      <td>0</td>\n",
              "      <td>Argentina</td>\n",
              "      <td>Barrel Select</td>\n",
              "      <td>Alentejano</td>\n",
              "      <td>Alexander Valley</td>\n",
              "      <td>Bordeaux-style Red Blend</td>\n",
              "      <td>Bouchard Père &amp; Fils</td>\n",
              "    </tr>\n",
              "    <tr>\n",
              "      <th>1</th>\n",
              "      <td>1</td>\n",
              "      <td>Australia</td>\n",
              "      <td>Bien Nacido Vineyard</td>\n",
              "      <td>Alsace</td>\n",
              "      <td>Alsace</td>\n",
              "      <td>Cabernet Franc</td>\n",
              "      <td>Cameron Hughes</td>\n",
              "    </tr>\n",
              "    <tr>\n",
              "      <th>2</th>\n",
              "      <td>2</td>\n",
              "      <td>Austria</td>\n",
              "      <td>Brut</td>\n",
              "      <td>Australia Other</td>\n",
              "      <td>Amarone della Valpolicella Classico</td>\n",
              "      <td>Cabernet Sauvignon</td>\n",
              "      <td>Chateau Ste. Michelle</td>\n",
              "    </tr>\n",
              "    <tr>\n",
              "      <th>3</th>\n",
              "      <td>3</td>\n",
              "      <td>Chile</td>\n",
              "      <td>Brut Rosé</td>\n",
              "      <td>Bordeaux</td>\n",
              "      <td>Anderson Valley</td>\n",
              "      <td>Champagne Blend</td>\n",
              "      <td>Columbia Crest</td>\n",
              "    </tr>\n",
              "    <tr>\n",
              "      <th>4</th>\n",
              "      <td>4</td>\n",
              "      <td>France</td>\n",
              "      <td>Classic</td>\n",
              "      <td>Burgenland</td>\n",
              "      <td>Barolo</td>\n",
              "      <td>Chardonnay</td>\n",
              "      <td>Concannon</td>\n",
              "    </tr>\n",
              "  </tbody>\n",
              "</table>\n",
              "</div>"
            ],
            "text/plain": [
              "   number    country  ...                   variety                 winery\n",
              "0       0  Argentina  ...  Bordeaux-style Red Blend   Bouchard Père & Fils\n",
              "1       1  Australia  ...            Cabernet Franc         Cameron Hughes\n",
              "2       2    Austria  ...        Cabernet Sauvignon  Chateau Ste. Michelle\n",
              "3       3      Chile  ...           Champagne Blend         Columbia Crest\n",
              "4       4     France  ...                Chardonnay              Concannon\n",
              "\n",
              "[5 rows x 7 columns]"
            ]
          },
          "metadata": {
            "tags": []
          },
          "execution_count": 107
        }
      ]
    },
    {
      "cell_type": "code",
      "metadata": {
        "colab": {
          "base_uri": "https://localhost:8080/",
          "height": 53
        },
        "id": "--L7CaTqkqjV",
        "outputId": "1a6ee2b7-ebfc-4be0-bb5d-3108b665dd3a"
      },
      "source": [
        "'''\n",
        "# Write labels to s3\n",
        "dataframe = labels\n",
        "filename = \"winemag-data_encodingLabels.csv\"\n",
        "DESTINATION = 'whats-in-a-bottle'\n",
        "\n",
        "_write_dataframe_to_csv_on_s3(dataframe, filename)\n",
        "'''"
      ],
      "execution_count": null,
      "outputs": [
        {
          "output_type": "execute_result",
          "data": {
            "application/vnd.google.colaboratory.intrinsic+json": {
              "type": "string"
            },
            "text/plain": [
              "'\\n# Write labels to s3\\ndataframe = labels\\nfilename = \"winemag-data_encodingLabels.csv\"\\nDESTINATION = \\'whats-in-a-bottle\\'\\n\\n_write_dataframe_to_csv_on_s3(dataframe, filename)\\n'"
            ]
          },
          "metadata": {
            "tags": []
          },
          "execution_count": 108
        }
      ]
    },
    {
      "cell_type": "code",
      "metadata": {
        "colab": {
          "base_uri": "https://localhost:8080/",
          "height": 246
        },
        "id": "ckZMga4aUpHa",
        "outputId": "c3878d16-ad92-4831-c670-6d9706475a4e"
      },
      "source": [
        "# Drop the category columns from merged_df\n",
        "encoded_df = merged_df.drop(categories, axis=1)\n",
        "encoded_df.head()\n",
        "\n",
        "# Merge le encoded features and drop the originals\n",
        "cleaned_df = le_df.merge(encoded_df, left_index=True, right_index=True)\n",
        "cleaned_df.head()"
      ],
      "execution_count": null,
      "outputs": [
        {
          "output_type": "execute_result",
          "data": {
            "text/html": [
              "<div>\n",
              "<style scoped>\n",
              "    .dataframe tbody tr th:only-of-type {\n",
              "        vertical-align: middle;\n",
              "    }\n",
              "\n",
              "    .dataframe tbody tr th {\n",
              "        vertical-align: top;\n",
              "    }\n",
              "\n",
              "    .dataframe thead th {\n",
              "        text-align: right;\n",
              "    }\n",
              "</style>\n",
              "<table border=\"1\" class=\"dataframe\">\n",
              "  <thead>\n",
              "    <tr style=\"text-align: right;\">\n",
              "      <th></th>\n",
              "      <th>country</th>\n",
              "      <th>designation</th>\n",
              "      <th>province</th>\n",
              "      <th>region_1</th>\n",
              "      <th>variety</th>\n",
              "      <th>winery</th>\n",
              "      <th>_c0</th>\n",
              "      <th>points</th>\n",
              "      <th>price</th>\n",
              "      <th>tokens</th>\n",
              "      <th>filtered_tokens</th>\n",
              "      <th>1</th>\n",
              "      <th>2</th>\n",
              "      <th>3</th>\n",
              "      <th>4</th>\n",
              "      <th>5</th>\n",
              "      <th>6</th>\n",
              "      <th>7</th>\n",
              "      <th>8</th>\n",
              "      <th>9</th>\n",
              "      <th>10</th>\n",
              "      <th>11</th>\n",
              "      <th>12</th>\n",
              "      <th>13</th>\n",
              "      <th>14</th>\n",
              "      <th>15</th>\n",
              "      <th>16</th>\n",
              "      <th>17</th>\n",
              "      <th>18</th>\n",
              "      <th>19</th>\n",
              "      <th>20</th>\n",
              "      <th>21</th>\n",
              "      <th>22</th>\n",
              "      <th>23</th>\n",
              "      <th>24</th>\n",
              "      <th>25</th>\n",
              "      <th>26</th>\n",
              "      <th>27</th>\n",
              "      <th>28</th>\n",
              "      <th>29</th>\n",
              "      <th>...</th>\n",
              "      <th>95</th>\n",
              "      <th>96</th>\n",
              "      <th>97</th>\n",
              "      <th>98</th>\n",
              "      <th>99</th>\n",
              "      <th>100</th>\n",
              "      <th>101</th>\n",
              "      <th>102</th>\n",
              "      <th>103</th>\n",
              "      <th>104</th>\n",
              "      <th>105</th>\n",
              "      <th>106</th>\n",
              "      <th>107</th>\n",
              "      <th>108</th>\n",
              "      <th>109</th>\n",
              "      <th>110</th>\n",
              "      <th>111</th>\n",
              "      <th>112</th>\n",
              "      <th>113</th>\n",
              "      <th>114</th>\n",
              "      <th>115</th>\n",
              "      <th>116</th>\n",
              "      <th>117</th>\n",
              "      <th>118</th>\n",
              "      <th>119</th>\n",
              "      <th>120</th>\n",
              "      <th>121</th>\n",
              "      <th>122</th>\n",
              "      <th>123</th>\n",
              "      <th>124</th>\n",
              "      <th>125</th>\n",
              "      <th>126</th>\n",
              "      <th>127</th>\n",
              "      <th>128</th>\n",
              "      <th>129</th>\n",
              "      <th>130</th>\n",
              "      <th>131</th>\n",
              "      <th>132</th>\n",
              "      <th>133</th>\n",
              "      <th>134</th>\n",
              "    </tr>\n",
              "  </thead>\n",
              "  <tbody>\n",
              "    <tr>\n",
              "      <th>0</th>\n",
              "      <td>12</td>\n",
              "      <td>20</td>\n",
              "      <td>6</td>\n",
              "      <td>24</td>\n",
              "      <td>2</td>\n",
              "      <td>15</td>\n",
              "      <td>0</td>\n",
              "      <td>96.0</td>\n",
              "      <td>235.0</td>\n",
              "      <td>60.0</td>\n",
              "      <td>36.0</td>\n",
              "      <td>2701.0</td>\n",
              "      <td>16004.0</td>\n",
              "      <td>23236.0</td>\n",
              "      <td>28401.0</td>\n",
              "      <td>33079.0</td>\n",
              "      <td>39068.0</td>\n",
              "      <td>45330.0</td>\n",
              "      <td>46582.0</td>\n",
              "      <td>63420.0</td>\n",
              "      <td>66669.0</td>\n",
              "      <td>75898.0</td>\n",
              "      <td>76106.0</td>\n",
              "      <td>87005.0</td>\n",
              "      <td>96005.0</td>\n",
              "      <td>100312.0</td>\n",
              "      <td>125177.0</td>\n",
              "      <td>125919.0</td>\n",
              "      <td>135627.0</td>\n",
              "      <td>141911.0</td>\n",
              "      <td>143299.0</td>\n",
              "      <td>146696.0</td>\n",
              "      <td>158571.0</td>\n",
              "      <td>158931.0</td>\n",
              "      <td>163760.0</td>\n",
              "      <td>164837.0</td>\n",
              "      <td>171917.0</td>\n",
              "      <td>185760.0</td>\n",
              "      <td>200144.0</td>\n",
              "      <td>203214.0</td>\n",
              "      <td>...</td>\n",
              "      <td>NaN</td>\n",
              "      <td>NaN</td>\n",
              "      <td>NaN</td>\n",
              "      <td>NaN</td>\n",
              "      <td>NaN</td>\n",
              "      <td>NaN</td>\n",
              "      <td>NaN</td>\n",
              "      <td>NaN</td>\n",
              "      <td>NaN</td>\n",
              "      <td>NaN</td>\n",
              "      <td>NaN</td>\n",
              "      <td>NaN</td>\n",
              "      <td>NaN</td>\n",
              "      <td>NaN</td>\n",
              "      <td>NaN</td>\n",
              "      <td>NaN</td>\n",
              "      <td>NaN</td>\n",
              "      <td>NaN</td>\n",
              "      <td>NaN</td>\n",
              "      <td>NaN</td>\n",
              "      <td>NaN</td>\n",
              "      <td>NaN</td>\n",
              "      <td>NaN</td>\n",
              "      <td>NaN</td>\n",
              "      <td>NaN</td>\n",
              "      <td>NaN</td>\n",
              "      <td>NaN</td>\n",
              "      <td>NaN</td>\n",
              "      <td>NaN</td>\n",
              "      <td>NaN</td>\n",
              "      <td>NaN</td>\n",
              "      <td>NaN</td>\n",
              "      <td>NaN</td>\n",
              "      <td>NaN</td>\n",
              "      <td>NaN</td>\n",
              "      <td>NaN</td>\n",
              "      <td>NaN</td>\n",
              "      <td>NaN</td>\n",
              "      <td>NaN</td>\n",
              "      <td>NaN</td>\n",
              "    </tr>\n",
              "    <tr>\n",
              "      <th>1</th>\n",
              "      <td>11</td>\n",
              "      <td>20</td>\n",
              "      <td>26</td>\n",
              "      <td>26</td>\n",
              "      <td>9</td>\n",
              "      <td>15</td>\n",
              "      <td>1</td>\n",
              "      <td>96.0</td>\n",
              "      <td>110.0</td>\n",
              "      <td>51.0</td>\n",
              "      <td>31.0</td>\n",
              "      <td>11481.0</td>\n",
              "      <td>33140.0</td>\n",
              "      <td>41643.0</td>\n",
              "      <td>46758.0</td>\n",
              "      <td>55709.0</td>\n",
              "      <td>59455.0</td>\n",
              "      <td>69650.0</td>\n",
              "      <td>79653.0</td>\n",
              "      <td>104662.0</td>\n",
              "      <td>106432.0</td>\n",
              "      <td>119670.0</td>\n",
              "      <td>134272.0</td>\n",
              "      <td>143776.0</td>\n",
              "      <td>149300.0</td>\n",
              "      <td>149583.0</td>\n",
              "      <td>154828.0</td>\n",
              "      <td>160195.0</td>\n",
              "      <td>161469.0</td>\n",
              "      <td>168341.0</td>\n",
              "      <td>172530.0</td>\n",
              "      <td>186037.0</td>\n",
              "      <td>190120.0</td>\n",
              "      <td>206577.0</td>\n",
              "      <td>208892.0</td>\n",
              "      <td>212295.0</td>\n",
              "      <td>213835.0</td>\n",
              "      <td>216086.0</td>\n",
              "      <td>217078.0</td>\n",
              "      <td>219145.0</td>\n",
              "      <td>...</td>\n",
              "      <td>NaN</td>\n",
              "      <td>NaN</td>\n",
              "      <td>NaN</td>\n",
              "      <td>NaN</td>\n",
              "      <td>NaN</td>\n",
              "      <td>NaN</td>\n",
              "      <td>NaN</td>\n",
              "      <td>NaN</td>\n",
              "      <td>NaN</td>\n",
              "      <td>NaN</td>\n",
              "      <td>NaN</td>\n",
              "      <td>NaN</td>\n",
              "      <td>NaN</td>\n",
              "      <td>NaN</td>\n",
              "      <td>NaN</td>\n",
              "      <td>NaN</td>\n",
              "      <td>NaN</td>\n",
              "      <td>NaN</td>\n",
              "      <td>NaN</td>\n",
              "      <td>NaN</td>\n",
              "      <td>NaN</td>\n",
              "      <td>NaN</td>\n",
              "      <td>NaN</td>\n",
              "      <td>NaN</td>\n",
              "      <td>NaN</td>\n",
              "      <td>NaN</td>\n",
              "      <td>NaN</td>\n",
              "      <td>NaN</td>\n",
              "      <td>NaN</td>\n",
              "      <td>NaN</td>\n",
              "      <td>NaN</td>\n",
              "      <td>NaN</td>\n",
              "      <td>NaN</td>\n",
              "      <td>NaN</td>\n",
              "      <td>NaN</td>\n",
              "      <td>NaN</td>\n",
              "      <td>NaN</td>\n",
              "      <td>NaN</td>\n",
              "      <td>NaN</td>\n",
              "      <td>NaN</td>\n",
              "    </tr>\n",
              "    <tr>\n",
              "      <th>2</th>\n",
              "      <td>12</td>\n",
              "      <td>20</td>\n",
              "      <td>6</td>\n",
              "      <td>26</td>\n",
              "      <td>19</td>\n",
              "      <td>15</td>\n",
              "      <td>2</td>\n",
              "      <td>96.0</td>\n",
              "      <td>90.0</td>\n",
              "      <td>47.0</td>\n",
              "      <td>30.0</td>\n",
              "      <td>10077.0</td>\n",
              "      <td>26468.0</td>\n",
              "      <td>32151.0</td>\n",
              "      <td>49402.0</td>\n",
              "      <td>61157.0</td>\n",
              "      <td>64289.0</td>\n",
              "      <td>76272.0</td>\n",
              "      <td>88398.0</td>\n",
              "      <td>99749.0</td>\n",
              "      <td>119775.0</td>\n",
              "      <td>123974.0</td>\n",
              "      <td>140784.0</td>\n",
              "      <td>153612.0</td>\n",
              "      <td>156125.0</td>\n",
              "      <td>171516.0</td>\n",
              "      <td>172455.0</td>\n",
              "      <td>172814.0</td>\n",
              "      <td>174799.0</td>\n",
              "      <td>188828.0</td>\n",
              "      <td>203214.0</td>\n",
              "      <td>215060.0</td>\n",
              "      <td>217441.0</td>\n",
              "      <td>223329.0</td>\n",
              "      <td>225667.0</td>\n",
              "      <td>229305.0</td>\n",
              "      <td>238819.0</td>\n",
              "      <td>245426.0</td>\n",
              "      <td>251052.0</td>\n",
              "      <td>256740.0</td>\n",
              "      <td>...</td>\n",
              "      <td>NaN</td>\n",
              "      <td>NaN</td>\n",
              "      <td>NaN</td>\n",
              "      <td>NaN</td>\n",
              "      <td>NaN</td>\n",
              "      <td>NaN</td>\n",
              "      <td>NaN</td>\n",
              "      <td>NaN</td>\n",
              "      <td>NaN</td>\n",
              "      <td>NaN</td>\n",
              "      <td>NaN</td>\n",
              "      <td>NaN</td>\n",
              "      <td>NaN</td>\n",
              "      <td>NaN</td>\n",
              "      <td>NaN</td>\n",
              "      <td>NaN</td>\n",
              "      <td>NaN</td>\n",
              "      <td>NaN</td>\n",
              "      <td>NaN</td>\n",
              "      <td>NaN</td>\n",
              "      <td>NaN</td>\n",
              "      <td>NaN</td>\n",
              "      <td>NaN</td>\n",
              "      <td>NaN</td>\n",
              "      <td>NaN</td>\n",
              "      <td>NaN</td>\n",
              "      <td>NaN</td>\n",
              "      <td>NaN</td>\n",
              "      <td>NaN</td>\n",
              "      <td>NaN</td>\n",
              "      <td>NaN</td>\n",
              "      <td>NaN</td>\n",
              "      <td>NaN</td>\n",
              "      <td>NaN</td>\n",
              "      <td>NaN</td>\n",
              "      <td>NaN</td>\n",
              "      <td>NaN</td>\n",
              "      <td>NaN</td>\n",
              "      <td>NaN</td>\n",
              "      <td>NaN</td>\n",
              "    </tr>\n",
              "    <tr>\n",
              "      <th>3</th>\n",
              "      <td>12</td>\n",
              "      <td>22</td>\n",
              "      <td>27</td>\n",
              "      <td>46</td>\n",
              "      <td>12</td>\n",
              "      <td>15</td>\n",
              "      <td>3</td>\n",
              "      <td>96.0</td>\n",
              "      <td>65.0</td>\n",
              "      <td>62.0</td>\n",
              "      <td>43.0</td>\n",
              "      <td>1546.0</td>\n",
              "      <td>4238.0</td>\n",
              "      <td>13171.0</td>\n",
              "      <td>15324.0</td>\n",
              "      <td>16356.0</td>\n",
              "      <td>25381.0</td>\n",
              "      <td>33140.0</td>\n",
              "      <td>46758.0</td>\n",
              "      <td>56257.0</td>\n",
              "      <td>67144.0</td>\n",
              "      <td>69650.0</td>\n",
              "      <td>78329.0</td>\n",
              "      <td>84417.0</td>\n",
              "      <td>89833.0</td>\n",
              "      <td>90804.0</td>\n",
              "      <td>93436.0</td>\n",
              "      <td>100762.0</td>\n",
              "      <td>105672.0</td>\n",
              "      <td>123598.0</td>\n",
              "      <td>125919.0</td>\n",
              "      <td>127791.0</td>\n",
              "      <td>134272.0</td>\n",
              "      <td>143299.0</td>\n",
              "      <td>145689.0</td>\n",
              "      <td>154213.0</td>\n",
              "      <td>154828.0</td>\n",
              "      <td>159212.0</td>\n",
              "      <td>170657.0</td>\n",
              "      <td>176028.0</td>\n",
              "      <td>...</td>\n",
              "      <td>NaN</td>\n",
              "      <td>NaN</td>\n",
              "      <td>NaN</td>\n",
              "      <td>NaN</td>\n",
              "      <td>NaN</td>\n",
              "      <td>NaN</td>\n",
              "      <td>NaN</td>\n",
              "      <td>NaN</td>\n",
              "      <td>NaN</td>\n",
              "      <td>NaN</td>\n",
              "      <td>NaN</td>\n",
              "      <td>NaN</td>\n",
              "      <td>NaN</td>\n",
              "      <td>NaN</td>\n",
              "      <td>NaN</td>\n",
              "      <td>NaN</td>\n",
              "      <td>NaN</td>\n",
              "      <td>NaN</td>\n",
              "      <td>NaN</td>\n",
              "      <td>NaN</td>\n",
              "      <td>NaN</td>\n",
              "      <td>NaN</td>\n",
              "      <td>NaN</td>\n",
              "      <td>NaN</td>\n",
              "      <td>NaN</td>\n",
              "      <td>NaN</td>\n",
              "      <td>NaN</td>\n",
              "      <td>NaN</td>\n",
              "      <td>NaN</td>\n",
              "      <td>NaN</td>\n",
              "      <td>NaN</td>\n",
              "      <td>NaN</td>\n",
              "      <td>NaN</td>\n",
              "      <td>NaN</td>\n",
              "      <td>NaN</td>\n",
              "      <td>NaN</td>\n",
              "      <td>NaN</td>\n",
              "      <td>NaN</td>\n",
              "      <td>NaN</td>\n",
              "      <td>NaN</td>\n",
              "    </tr>\n",
              "    <tr>\n",
              "      <th>4</th>\n",
              "      <td>4</td>\n",
              "      <td>20</td>\n",
              "      <td>31</td>\n",
              "      <td>26</td>\n",
              "      <td>9</td>\n",
              "      <td>15</td>\n",
              "      <td>4</td>\n",
              "      <td>95.0</td>\n",
              "      <td>66.0</td>\n",
              "      <td>66.0</td>\n",
              "      <td>37.0</td>\n",
              "      <td>1546.0</td>\n",
              "      <td>17161.0</td>\n",
              "      <td>18176.0</td>\n",
              "      <td>31536.0</td>\n",
              "      <td>33140.0</td>\n",
              "      <td>48479.0</td>\n",
              "      <td>49526.0</td>\n",
              "      <td>65848.0</td>\n",
              "      <td>88378.0</td>\n",
              "      <td>90392.0</td>\n",
              "      <td>93114.0</td>\n",
              "      <td>103473.0</td>\n",
              "      <td>115192.0</td>\n",
              "      <td>119201.0</td>\n",
              "      <td>137039.0</td>\n",
              "      <td>140762.0</td>\n",
              "      <td>140784.0</td>\n",
              "      <td>148880.0</td>\n",
              "      <td>160897.0</td>\n",
              "      <td>179287.0</td>\n",
              "      <td>198725.0</td>\n",
              "      <td>208852.0</td>\n",
              "      <td>212413.0</td>\n",
              "      <td>213305.0</td>\n",
              "      <td>221427.0</td>\n",
              "      <td>222710.0</td>\n",
              "      <td>223329.0</td>\n",
              "      <td>226521.0</td>\n",
              "      <td>233705.0</td>\n",
              "      <td>...</td>\n",
              "      <td>NaN</td>\n",
              "      <td>NaN</td>\n",
              "      <td>NaN</td>\n",
              "      <td>NaN</td>\n",
              "      <td>NaN</td>\n",
              "      <td>NaN</td>\n",
              "      <td>NaN</td>\n",
              "      <td>NaN</td>\n",
              "      <td>NaN</td>\n",
              "      <td>NaN</td>\n",
              "      <td>NaN</td>\n",
              "      <td>NaN</td>\n",
              "      <td>NaN</td>\n",
              "      <td>NaN</td>\n",
              "      <td>NaN</td>\n",
              "      <td>NaN</td>\n",
              "      <td>NaN</td>\n",
              "      <td>NaN</td>\n",
              "      <td>NaN</td>\n",
              "      <td>NaN</td>\n",
              "      <td>NaN</td>\n",
              "      <td>NaN</td>\n",
              "      <td>NaN</td>\n",
              "      <td>NaN</td>\n",
              "      <td>NaN</td>\n",
              "      <td>NaN</td>\n",
              "      <td>NaN</td>\n",
              "      <td>NaN</td>\n",
              "      <td>NaN</td>\n",
              "      <td>NaN</td>\n",
              "      <td>NaN</td>\n",
              "      <td>NaN</td>\n",
              "      <td>NaN</td>\n",
              "      <td>NaN</td>\n",
              "      <td>NaN</td>\n",
              "      <td>NaN</td>\n",
              "      <td>NaN</td>\n",
              "      <td>NaN</td>\n",
              "      <td>NaN</td>\n",
              "      <td>NaN</td>\n",
              "    </tr>\n",
              "  </tbody>\n",
              "</table>\n",
              "<p>5 rows × 145 columns</p>\n",
              "</div>"
            ],
            "text/plain": [
              "   country  designation  province  region_1  variety  ...  130  131  132  133  134\n",
              "0       12           20         6        24        2  ...  NaN  NaN  NaN  NaN  NaN\n",
              "1       11           20        26        26        9  ...  NaN  NaN  NaN  NaN  NaN\n",
              "2       12           20         6        26       19  ...  NaN  NaN  NaN  NaN  NaN\n",
              "3       12           22        27        46       12  ...  NaN  NaN  NaN  NaN  NaN\n",
              "4        4           20        31        26        9  ...  NaN  NaN  NaN  NaN  NaN\n",
              "\n",
              "[5 rows x 145 columns]"
            ]
          },
          "metadata": {
            "tags": []
          },
          "execution_count": 109
        }
      ]
    },
    {
      "cell_type": "code",
      "metadata": {
        "colab": {
          "base_uri": "https://localhost:8080/",
          "height": 217
        },
        "id": "q7q7uVDKWgLc",
        "outputId": "2235ce61-f770-474e-cf4a-a0450b2ed470"
      },
      "source": [
        "# use ix to reorder the columns\n",
        "cleaned_df = cleaned_df[ ['price'] + [ col for col in cleaned_df.columns if col != 'price' ] ]\n",
        "cleaned_df = cleaned_df[ ['points'] + [ col for col in cleaned_df.columns if col != 'points' ] ]\n",
        "cleaned_df = cleaned_df[ ['_c0'] + [ col for col in cleaned_df.columns if col != '_c0' ] ]\n",
        "\n",
        "# Rename the _c0 as primary key\n",
        "#cleaned_df = cleaned_df.rename(columns={'_c0':'primary_key'})\n",
        "\n",
        "# Keep only the top ten words columns\n",
        "cleaned_df = cleaned_df.iloc[: , :-124]\n",
        "cleaned_df.head(5)"
      ],
      "execution_count": null,
      "outputs": [
        {
          "output_type": "execute_result",
          "data": {
            "text/html": [
              "<div>\n",
              "<style scoped>\n",
              "    .dataframe tbody tr th:only-of-type {\n",
              "        vertical-align: middle;\n",
              "    }\n",
              "\n",
              "    .dataframe tbody tr th {\n",
              "        vertical-align: top;\n",
              "    }\n",
              "\n",
              "    .dataframe thead th {\n",
              "        text-align: right;\n",
              "    }\n",
              "</style>\n",
              "<table border=\"1\" class=\"dataframe\">\n",
              "  <thead>\n",
              "    <tr style=\"text-align: right;\">\n",
              "      <th></th>\n",
              "      <th>_c0</th>\n",
              "      <th>points</th>\n",
              "      <th>price</th>\n",
              "      <th>country</th>\n",
              "      <th>designation</th>\n",
              "      <th>province</th>\n",
              "      <th>region_1</th>\n",
              "      <th>variety</th>\n",
              "      <th>winery</th>\n",
              "      <th>tokens</th>\n",
              "      <th>filtered_tokens</th>\n",
              "      <th>1</th>\n",
              "      <th>2</th>\n",
              "      <th>3</th>\n",
              "      <th>4</th>\n",
              "      <th>5</th>\n",
              "      <th>6</th>\n",
              "      <th>7</th>\n",
              "      <th>8</th>\n",
              "      <th>9</th>\n",
              "      <th>10</th>\n",
              "    </tr>\n",
              "  </thead>\n",
              "  <tbody>\n",
              "    <tr>\n",
              "      <th>0</th>\n",
              "      <td>0</td>\n",
              "      <td>96.0</td>\n",
              "      <td>235.0</td>\n",
              "      <td>12</td>\n",
              "      <td>20</td>\n",
              "      <td>6</td>\n",
              "      <td>24</td>\n",
              "      <td>2</td>\n",
              "      <td>15</td>\n",
              "      <td>60.0</td>\n",
              "      <td>36.0</td>\n",
              "      <td>2701.0</td>\n",
              "      <td>16004.0</td>\n",
              "      <td>23236.0</td>\n",
              "      <td>28401.0</td>\n",
              "      <td>33079.0</td>\n",
              "      <td>39068.0</td>\n",
              "      <td>45330.0</td>\n",
              "      <td>46582.0</td>\n",
              "      <td>63420.0</td>\n",
              "      <td>66669.0</td>\n",
              "    </tr>\n",
              "    <tr>\n",
              "      <th>1</th>\n",
              "      <td>1</td>\n",
              "      <td>96.0</td>\n",
              "      <td>110.0</td>\n",
              "      <td>11</td>\n",
              "      <td>20</td>\n",
              "      <td>26</td>\n",
              "      <td>26</td>\n",
              "      <td>9</td>\n",
              "      <td>15</td>\n",
              "      <td>51.0</td>\n",
              "      <td>31.0</td>\n",
              "      <td>11481.0</td>\n",
              "      <td>33140.0</td>\n",
              "      <td>41643.0</td>\n",
              "      <td>46758.0</td>\n",
              "      <td>55709.0</td>\n",
              "      <td>59455.0</td>\n",
              "      <td>69650.0</td>\n",
              "      <td>79653.0</td>\n",
              "      <td>104662.0</td>\n",
              "      <td>106432.0</td>\n",
              "    </tr>\n",
              "    <tr>\n",
              "      <th>2</th>\n",
              "      <td>2</td>\n",
              "      <td>96.0</td>\n",
              "      <td>90.0</td>\n",
              "      <td>12</td>\n",
              "      <td>20</td>\n",
              "      <td>6</td>\n",
              "      <td>26</td>\n",
              "      <td>19</td>\n",
              "      <td>15</td>\n",
              "      <td>47.0</td>\n",
              "      <td>30.0</td>\n",
              "      <td>10077.0</td>\n",
              "      <td>26468.0</td>\n",
              "      <td>32151.0</td>\n",
              "      <td>49402.0</td>\n",
              "      <td>61157.0</td>\n",
              "      <td>64289.0</td>\n",
              "      <td>76272.0</td>\n",
              "      <td>88398.0</td>\n",
              "      <td>99749.0</td>\n",
              "      <td>119775.0</td>\n",
              "    </tr>\n",
              "    <tr>\n",
              "      <th>3</th>\n",
              "      <td>3</td>\n",
              "      <td>96.0</td>\n",
              "      <td>65.0</td>\n",
              "      <td>12</td>\n",
              "      <td>22</td>\n",
              "      <td>27</td>\n",
              "      <td>46</td>\n",
              "      <td>12</td>\n",
              "      <td>15</td>\n",
              "      <td>62.0</td>\n",
              "      <td>43.0</td>\n",
              "      <td>1546.0</td>\n",
              "      <td>4238.0</td>\n",
              "      <td>13171.0</td>\n",
              "      <td>15324.0</td>\n",
              "      <td>16356.0</td>\n",
              "      <td>25381.0</td>\n",
              "      <td>33140.0</td>\n",
              "      <td>46758.0</td>\n",
              "      <td>56257.0</td>\n",
              "      <td>67144.0</td>\n",
              "    </tr>\n",
              "    <tr>\n",
              "      <th>4</th>\n",
              "      <td>4</td>\n",
              "      <td>95.0</td>\n",
              "      <td>66.0</td>\n",
              "      <td>4</td>\n",
              "      <td>20</td>\n",
              "      <td>31</td>\n",
              "      <td>26</td>\n",
              "      <td>9</td>\n",
              "      <td>15</td>\n",
              "      <td>66.0</td>\n",
              "      <td>37.0</td>\n",
              "      <td>1546.0</td>\n",
              "      <td>17161.0</td>\n",
              "      <td>18176.0</td>\n",
              "      <td>31536.0</td>\n",
              "      <td>33140.0</td>\n",
              "      <td>48479.0</td>\n",
              "      <td>49526.0</td>\n",
              "      <td>65848.0</td>\n",
              "      <td>88378.0</td>\n",
              "      <td>90392.0</td>\n",
              "    </tr>\n",
              "  </tbody>\n",
              "</table>\n",
              "</div>"
            ],
            "text/plain": [
              "   _c0  points  price  country  ...        7        8         9        10\n",
              "0    0    96.0  235.0       12  ...  45330.0  46582.0   63420.0   66669.0\n",
              "1    1    96.0  110.0       11  ...  69650.0  79653.0  104662.0  106432.0\n",
              "2    2    96.0   90.0       12  ...  76272.0  88398.0   99749.0  119775.0\n",
              "3    3    96.0   65.0       12  ...  33140.0  46758.0   56257.0   67144.0\n",
              "4    4    95.0   66.0        4  ...  49526.0  65848.0   88378.0   90392.0\n",
              "\n",
              "[5 rows x 21 columns]"
            ]
          },
          "metadata": {
            "tags": []
          },
          "execution_count": 110
        }
      ]
    },
    {
      "cell_type": "markdown",
      "metadata": {
        "id": "LDKcIzxmg0CM"
      },
      "source": [
        "### **6. Check the final cleaned dataframe for missing data or null values**"
      ]
    },
    {
      "cell_type": "code",
      "metadata": {
        "id": "0vvAVL03Up9O",
        "colab": {
          "base_uri": "https://localhost:8080/"
        },
        "outputId": "d9a4ed97-13c0-44ac-b95a-50489c7c0c4f"
      },
      "source": [
        "# Check the length of the cleaned df\n",
        "cleaned_df.isnull().sum()"
      ],
      "execution_count": null,
      "outputs": [
        {
          "output_type": "execute_result",
          "data": {
            "text/plain": [
              "_c0                 0\n",
              "points             27\n",
              "price              25\n",
              "country             0\n",
              "designation         0\n",
              "province            0\n",
              "region_1            0\n",
              "variety             0\n",
              "winery              0\n",
              "tokens              5\n",
              "filtered_tokens     3\n",
              "1                  12\n",
              "2                  12\n",
              "3                  13\n",
              "4                  13\n",
              "5                  19\n",
              "6                  19\n",
              "7                  32\n",
              "8                  32\n",
              "9                  44\n",
              "10                 44\n",
              "dtype: int64"
            ]
          },
          "metadata": {
            "tags": []
          },
          "execution_count": 111
        }
      ]
    },
    {
      "cell_type": "code",
      "metadata": {
        "id": "xYEr4xXybUlX",
        "colab": {
          "base_uri": "https://localhost:8080/"
        },
        "outputId": "11eefd91-f375-4fa3-a489-988c2002b9ce"
      },
      "source": [
        "# Drop the null values\n",
        "cleaned_df = cleaned_df.dropna(axis=0)\n",
        "cleaned_df.isnull().sum()"
      ],
      "execution_count": null,
      "outputs": [
        {
          "output_type": "execute_result",
          "data": {
            "text/plain": [
              "_c0                0\n",
              "points             0\n",
              "price              0\n",
              "country            0\n",
              "designation        0\n",
              "province           0\n",
              "region_1           0\n",
              "variety            0\n",
              "winery             0\n",
              "tokens             0\n",
              "filtered_tokens    0\n",
              "1                  0\n",
              "2                  0\n",
              "3                  0\n",
              "4                  0\n",
              "5                  0\n",
              "6                  0\n",
              "7                  0\n",
              "8                  0\n",
              "9                  0\n",
              "10                 0\n",
              "dtype: int64"
            ]
          },
          "metadata": {
            "tags": []
          },
          "execution_count": 112
        }
      ]
    },
    {
      "cell_type": "code",
      "metadata": {
        "colab": {
          "base_uri": "https://localhost:8080/",
          "height": 53
        },
        "id": "tyq08hm5rDl9",
        "outputId": "14fc1cc2-a108-40d9-b4d9-b2ddf37e8d0e"
      },
      "source": [
        "'''\n",
        "# Write binned_df to s3\n",
        "dataframe = cleaned_df\n",
        "filename = \"winemag-data_cleaned_primaryKey.csv\"\n",
        "DESTINATION = 'whats-in-a-bottle'\n",
        "\n",
        "_write_dataframe_to_csv_on_s3(dataframe, filename)\n",
        "'''"
      ],
      "execution_count": null,
      "outputs": [
        {
          "output_type": "execute_result",
          "data": {
            "application/vnd.google.colaboratory.intrinsic+json": {
              "type": "string"
            },
            "text/plain": [
              "'\\n# Write binned_df to s3\\ndataframe = cleaned_df\\nfilename = \"winemag-data_cleaned_primaryKey.csv\"\\nDESTINATION = \\'whats-in-a-bottle\\'\\n\\n_write_dataframe_to_csv_on_s3(dataframe, filename)\\n'"
            ]
          },
          "metadata": {
            "tags": []
          },
          "execution_count": 113
        }
      ]
    },
    {
      "cell_type": "markdown",
      "metadata": {
        "id": "OTQqvNVKsr3V"
      },
      "source": [
        "Checkpoint (cleaned data)"
      ]
    },
    {
      "cell_type": "code",
      "metadata": {
        "colab": {
          "base_uri": "https://localhost:8080/"
        },
        "id": "t1X_gC27shFi",
        "outputId": "3870e6ae-c533-462a-d647-cbf7748e820e"
      },
      "source": [
        "# Load the binned dataframe from s3\n",
        "# Read in data from S3 Buckets\n",
        "url4 =\"https://whats-in-a-bottle.s3-us-west-1.amazonaws.com/winemag-data_cleaned_primaryKey.csv\"\n",
        "spark.sparkContext.addFile(url4)\n",
        "cleaned_df = spark.read.csv(SparkFiles.get(\"winemag-data_cleaned_primaryKey.csv\"), sep=\",\", header=True)\n",
        "cleaned_df.show(50)"
      ],
      "execution_count": null,
      "outputs": [
        {
          "output_type": "stream",
          "text": [
            "+---+------+-----+-------+-----------+--------+--------+-------+------+------+---------------+-------+-------+-------+-------+--------+--------+--------+--------+--------+--------+\n",
            "|_c0|points|price|country|designation|province|region_1|variety|winery|tokens|filtered_tokens|      1|      2|      3|      4|       5|       6|       7|       8|       9|      10|\n",
            "+---+------+-----+-------+-----------+--------+--------+-------+------+------+---------------+-------+-------+-------+-------+--------+--------+--------+--------+--------+--------+\n",
            "|  0|  96.0|235.0|     12|         20|       6|      24|      2|    15|  60.0|           36.0| 2701.0|16004.0|23236.0|28401.0| 33079.0| 39068.0| 45330.0| 46582.0| 63420.0| 66669.0|\n",
            "|  1|  96.0|110.0|     11|         20|      26|      26|      9|    15|  51.0|           31.0|11481.0|33140.0|41643.0|46758.0| 55709.0| 59455.0| 69650.0| 79653.0|104662.0|106432.0|\n",
            "|  2|  96.0| 90.0|     12|         20|       6|      26|     19|    15|  47.0|           30.0|10077.0|26468.0|32151.0|49402.0| 61157.0| 64289.0| 76272.0| 88398.0| 99749.0|119775.0|\n",
            "|  3|  96.0| 65.0|     12|         22|      27|      46|     12|    15|  62.0|           43.0| 1546.0| 4238.0|13171.0|15324.0| 16356.0| 25381.0| 33140.0| 46758.0| 56257.0| 67144.0|\n",
            "|  4|  95.0| 66.0|      4|         20|      31|      26|      9|    15|  66.0|           37.0| 1546.0|17161.0|18176.0|31536.0| 33140.0| 48479.0| 49526.0| 65848.0| 88378.0| 90392.0|\n",
            "|  5|  95.0| 73.0|     11|         20|      26|      26|      9|    15|  52.0|           34.0| 8408.0|18133.0|33140.0|38911.0| 41643.0| 42113.0| 46758.0| 48534.0| 51029.0| 55709.0|\n",
            "|  6|  95.0| 65.0|     11|         20|      26|      26|      9|    15|  50.0|           31.0| 5561.0|19633.0|26431.0|32680.0| 33140.0| 43157.0| 46758.0| 50925.0| 77501.0| 86577.0|\n",
            "|  7|  95.0|110.0|     11|         20|      26|      26|      9|    15|  60.0|           35.0| 4235.0|31536.0|33140.0|35418.0| 46758.0| 51029.0| 60234.0| 60776.0| 67009.0| 67662.0|\n",
            "|  8|  95.0| 65.0|     12|         20|      27|      26|     12|    15|  42.0|           27.0| 2306.0| 3167.0| 9902.0|33140.0| 52300.0| 69299.0| 70152.0| 72008.0| 73156.0| 91878.0|\n",
            "|  9|  95.0| 60.0|     12|         20|       6|      39|     12|    15|  45.0|           30.0| 3354.0|41502.0|59986.0|81604.0| 84221.0| 88676.0| 90392.0| 99749.0|100036.0|126566.0|\n",
            "| 10|  95.0| 80.0|      6|         20|      25|      26|      9|    15|  54.0|           43.0| 3848.0| 9394.0| 9492.0|11076.0| 11396.0| 18911.0| 23975.0| 28363.0| 29456.0| 33079.0|\n",
            "| 11|  95.0| 48.0|     12|         20|      27|      26|     12|    15|  40.0|           27.0| 3456.0|21534.0|33140.0|56211.0| 56501.0| 58559.0| 77682.0| 84417.0| 90058.0| 93436.0|\n",
            "| 12|  95.0| 48.0|     12|         20|      27|      26|     12|    15|  46.0|           29.0| 4176.0| 8940.0|18911.0|23514.0| 36797.0| 55709.0| 62235.0| 73262.0| 75368.0|105358.0|\n",
            "| 13|  95.0| 90.0|      4|         20|      36|      26|      9|    15|  54.0|           27.0| 8297.0|12024.0|55709.0|75611.0| 78269.0| 93293.0| 93356.0|125919.0|134272.0|143299.0|\n",
            "| 14|  95.0|185.0|     12|         20|      27|      26|     12|    15|  68.0|           40.0| 5847.0|16004.0|21534.0|33140.0| 43333.0| 49148.0| 56302.0| 56501.0| 64346.0| 69650.0|\n",
            "| 15|  95.0| 90.0|     12|         20|      27|      46|      4|    15|  46.0|           27.0| 1546.0| 4398.0| 5373.0|11846.0| 33140.0| 49118.0| 52774.0| 56501.0| 57467.0| 62804.0|\n",
            "| 16|  95.0|325.0|     12|         20|       6|      26|      2|    15|  43.0|           26.0|18911.0|55687.0|61904.0|61955.0| 69149.0| 74257.0| 79709.0| 81373.0| 98640.0|121026.0|\n",
            "| 17|  95.0| 80.0|     11|         20|      26|      29|     23|    15|  50.0|           33.0| 2701.0|10404.0|13198.0|25453.0| 32680.0| 46758.0| 50349.0| 52300.0| 58534.0| 78745.0|\n",
            "| 18|  95.0|290.0|      4|         20|      36|      26|      6|    15|  68.0|           34.0| 1546.0| 5441.0|12409.0|15544.0| 33140.0| 53484.0| 69415.0| 74644.0| 89833.0|102935.0|\n",
            "| 19|  95.0| 75.0|     12|         20|       6|      39|     12|    15|  42.0|           26.0| 3572.0|19026.0|31129.0|41049.0| 41502.0| 46758.0| 52226.0| 59455.0| 60716.0| 62208.0|\n",
            "| 20|  95.0| 24.0|     12|         20|       6|      24|     17|    15|  31.0|           23.0| 8022.0|45326.0|49148.0|52672.0| 63548.0| 89540.0|104472.0|106509.0|112059.0|131436.0|\n",
            "| 21|  95.0| 79.0|     11|         20|      26|      30|      9|    15|  48.0|           36.0| 2053.0|20575.0|31536.0|33140.0| 37834.0| 46758.0| 69650.0| 78065.0| 97711.0|100762.0|\n",
            "| 22|  95.0|220.0|     11|         20|      26|      26|      9|    15|  64.0|           37.0| 2437.0|10533.0|20208.0|25732.0| 33140.0| 43265.0| 46758.0| 51029.0| 59455.0| 60776.0|\n",
            "| 23|  95.0| 60.0|     12|         20|       6|      16|      4|    15|  54.0|           33.0| 3848.0|38657.0|49277.0|60776.0| 62058.0| 69650.0| 75571.0| 94140.0| 95453.0|100700.0|\n",
            "| 24|  95.0| 45.0|     12|         20|       6|      34|     12|    15|  54.0|           37.0| 3007.0| 4757.0|23120.0|23273.0| 35631.0| 39524.0| 46582.0| 50554.0| 55709.0| 84417.0|\n",
            "| 25|  94.0| 57.0|      7|         20|      28|      23|      4|    15|  37.0|           23.0| 1819.0| 5847.0|33140.0|33235.0| 41165.0| 67138.0| 75571.0| 79551.0| 86641.0| 95453.0|\n",
            "| 26|  94.0| 62.0|     12|         20|      27|      46|     12|    15|  54.0|           31.0|10564.0|13971.0|15403.0|33416.0| 36296.0| 36565.0| 50790.0| 95733.0|100700.0|106059.0|\n",
            "| 27|  94.0|105.0|     12|         20|      27|      46|     12|    15|  55.0|           33.0|  614.0|28154.0|33140.0|55687.0| 55709.0| 60906.0| 67144.0| 73409.0| 85957.0| 89833.0|\n",
            "| 28|  94.0| 60.0|     12|         20|       6|      35|     12|    15|  42.0|           29.0|  551.0| 1411.0| 8195.0|28511.0| 46758.0| 57201.0| 58534.0| 71025.0| 74796.0| 91963.0|\n",
            "| 29|  94.0| 60.0|     12|         20|      42|      44|     22|    15|  49.0|           36.0| 1411.0| 5765.0| 7111.0|12860.0| 18067.0| 21749.0| 36196.0| 42991.0| 44518.0| 46578.0|\n",
            "| 30|  90.0| 15.0|      8|         20|      28|      23|      9|    15|  39.0|           25.0| 1909.0|12531.0|28511.0|37035.0| 59287.0| 75936.0| 79653.0| 84417.0| 85901.0| 87257.0|\n",
            "| 31|  90.0| 37.0|     12|         20|       6|      31|      4|    15|  35.0|           22.0| 1821.0|14250.0|19111.0|31069.0| 38613.0| 49670.0| 66947.0| 67144.0| 69650.0| 76068.0|\n",
            "| 33|  90.0| 22.0|      4|         20|      28|      26|     21|    15|  37.0|           19.0|10564.0|16733.0|31536.0|34996.0| 80028.0| 91457.0|130063.0|149987.0|152118.0|153504.0|\n",
            "| 34|  90.0| 42.0|     12|         20|      42|      13|      4|    15|  27.0|           17.0|16806.0|43104.0|46758.0|60776.0| 86617.0| 95082.0|100697.0|141702.0|147899.0|150490.0|\n",
            "| 35|  90.0|135.0|      6|         23|      38|       5|     18|    15|  37.0|           28.0| 8297.0|11076.0|33140.0|53701.0| 55310.0| 55709.0| 56163.0| 69650.0| 75543.0| 84417.0|\n",
            "| 36|  90.0| 60.0|      4|         17|      32|      26|      9|    15|  30.0|           19.0| 7219.0|13523.0|22832.0|33140.0| 60776.0|134353.0|143299.0|148638.0|155288.0|190266.0|\n",
            "| 37|  90.0| 29.0|      6|         17|      38|      26|     18|    15|  45.0|           31.0|10564.0|28808.0|33140.0|46758.0| 55310.0| 59455.0| 84417.0| 87005.0| 87623.0|101097.0|\n",
            "| 38|  90.0| 23.0|      6|         17|      38|      12|     18|    15|  47.0|           29.0| 7932.0|10564.0|28511.0|37019.0| 47158.0| 47464.0| 49127.0| 55709.0| 56494.0| 75571.0|\n",
            "| 39|  90.0| 29.0|      6|         23|      38|      12|     14|    15|  27.0|           21.0| 1763.0| 2701.0|23150.0|33079.0| 46758.0| 75571.0| 78329.0| 84417.0|102812.0|125919.0|\n",
            "| 40|  90.0| 17.0|     11|         20|      15|      26|      9|    15|  41.0|           25.0| 5765.0|28401.0|46758.0|71705.0| 78495.0| 79709.0| 90528.0|115658.0|116779.0|122452.0|\n",
            "| 41|  90.0| 26.0|     11|         20|      28|      26|      9|    15|  40.0|           25.0|24657.0|30930.0|46758.0|60417.0| 85424.0| 91028.0| 92611.0| 93676.0|106742.0|120454.0|\n",
            "| 42|  90.0| 55.0|     12|         20|      28|      23|      9|    15|  35.0|           23.0| 2203.0| 5986.0|29057.0|39444.0| 46758.0| 57582.0| 61899.0| 75750.0| 75936.0|112766.0|\n",
            "| 43|  90.0| 39.0|      6|         23|      38|      12|     14|    15|  37.0|           28.0| 1763.0| 2701.0|11076.0|33079.0| 43099.0| 46758.0| 55709.0| 62832.0| 75571.0| 78329.0|\n",
            "| 44|  90.0| 69.0|      4|         20|      32|      26|     22|    15|  30.0|           21.0|17312.0|33140.0|41049.0|46758.0| 47464.0| 50349.0| 63256.0| 87005.0|107174.0|130063.0|\n",
            "| 45|  90.0| 30.0|      6|         20|      38|      12|     14|    15|  44.0|           31.0| 8297.0|10044.0|18911.0|21080.0| 33140.0| 45227.0| 46758.0| 52378.0| 55310.0| 75936.0|\n",
            "| 46|  90.0| 90.0|      6|         20|      38|       5|     18|    15|  33.0|           24.0|10564.0|33079.0|39444.0|54939.0| 55709.0| 59455.0| 84417.0|103544.0|107174.0|121155.0|\n",
            "| 47|  90.0| 60.0|     12|          9|       6|      26|      2|    15|  51.0|           30.0|32967.0|33079.0|33140.0|41591.0| 48689.0| 69044.0| 74214.0| 75249.0| 78495.0| 79170.0|\n",
            "| 48|  90.0| 50.0|      6|         17|      38|       5|     18|    15|  54.0|           35.0| 1763.0| 2306.0|28511.0|30014.0| 42727.0| 43099.0| 46758.0| 55310.0| 55709.0| 57145.0|\n",
            "| 49|  90.0| 40.0|     12|         17|      42|      28|      2|    15|  29.0|           18.0|35839.0|46758.0|50349.0|62058.0|103048.0|110585.0|113432.0|113947.0|118026.0|125919.0|\n",
            "| 50|  90.0|100.0|      6|         23|      38|       5|     18|    15|  34.0|           26.0|10564.0|18911.0|26787.0|43157.0| 46758.0| 68172.0| 88827.0| 93676.0|103544.0|107174.0|\n",
            "+---+------+-----+-------+-----------+--------+--------+-------+------+------+---------------+-------+-------+-------+-------+--------+--------+--------+--------+--------+--------+\n",
            "only showing top 50 rows\n",
            "\n"
          ],
          "name": "stdout"
        }
      ]
    },
    {
      "cell_type": "markdown",
      "metadata": {
        "id": "B8hbyootopBJ"
      },
      "source": [
        "### **7. Export the cleaned data to the database (pgAdmin)**"
      ]
    },
    {
      "cell_type": "code",
      "metadata": {
        "colab": {
          "base_uri": "https://localhost:8080/"
        },
        "id": "2KAEoE7KnOON",
        "outputId": "907315c9-cf7a-42cd-c66a-72b266d68f7f"
      },
      "source": [
        "# Export cleaned-data to pgAdmin\n",
        "print(f'Writing {cleaned_df.count()} rows')\n",
        "cleaned_df.write.jdbc(url=jdbc_url, table='cleaned_data', mode=mode, properties=config)\n",
        "print('Done')"
      ],
      "execution_count": null,
      "outputs": [
        {
          "output_type": "stream",
          "text": [
            "Writing 137167 rows\n",
            "Done\n"
          ],
          "name": "stdout"
        }
      ]
    },
    {
      "cell_type": "markdown",
      "metadata": {
        "id": "78VISNU_Rz9p"
      },
      "source": [
        "### **Extra:** *Create a dataframe with encoded values and corresponding labels*\n",
        "We want to develop additional models to predict categorical variables (province, region, country etc) using the other columns in the dataset. To do so, we will merge the dataframe that containst the original columns with the categorical values with the cleaned dataframe that's been encoded."
      ]
    },
    {
      "cell_type": "code",
      "metadata": {
        "id": "Et2eDhcGncTl"
      },
      "source": [
        "print(len(merged_df))\n",
        "print(len(cleaned_df))"
      ],
      "execution_count": null,
      "outputs": []
    },
    {
      "cell_type": "code",
      "metadata": {
        "id": "OtrnawsynXQG"
      },
      "source": [
        "# Merge le encoded features and drop the originals\n",
        "withLabels = le_df.merge(merged_df, left_index=True, right_index=True)\n",
        "cleaned_withLabels  = withLabels.iloc[: , :-124]\n",
        "\n",
        "cleaned_withLabels.head()"
      ],
      "execution_count": null,
      "outputs": []
    },
    {
      "cell_type": "code",
      "metadata": {
        "id": "AVyjCLg9rDzD"
      },
      "source": [
        "# use ix to reorder the columns\n",
        "cleaned_withLabels = cleaned_withLabels[ ['price'] + [ col for col in cleaned_withLabels.columns if col != 'price' ] ]\n",
        "cleaned_withLabels = cleaned_withLabels[ ['points'] + [ col for col in cleaned_withLabels.columns if col != 'points' ] ]\n",
        "cleaned_withLabels = cleaned_withLabels[ ['_c0'] + [ col for col in cleaned_withLabels.columns if col != '_c0' ] ]\n",
        "cleaned_withLabels.head(10)"
      ],
      "execution_count": null,
      "outputs": []
    },
    {
      "cell_type": "code",
      "metadata": {
        "id": "jS6FJ9sRpBLe"
      },
      "source": [
        "# Export cleaned_withLabels to pgAdmin\n",
        "print(f'Writing {cleaned_df.count()} rows')\n",
        "cleaned_df.write.jdbc(url=jdbc_url, table='cleaned_data', mode=mode, properties=config)\n",
        "print('Done')"
      ],
      "execution_count": null,
      "outputs": []
    },
    {
      "cell_type": "code",
      "metadata": {
        "id": "OCO976QmrUNL"
      },
      "source": [
        "'''\n",
        "# Write cleaned with labels to s3\n",
        "dataframe = cleaned_withLabels\n",
        "filename = \"winemag-data_cleaned_withLabels.csv\"\n",
        "DESTINATION = 'whats-in-a-bottle'\n",
        "\n",
        "_write_dataframe_to_csv_on_s3(dataframe, filename)\n",
        "\n",
        "# Make file public from s3 loading into next cell\n",
        "'''"
      ],
      "execution_count": null,
      "outputs": []
    }
  ]
}